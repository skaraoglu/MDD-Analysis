{
 "cells": [
  {
   "cell_type": "markdown",
   "metadata": {},
   "source": [
    "# Major Depression Disorder analysis with Gene Expression and Demographic Symptom data\n",
    "\n",
    "In this experiment, we focus on the RNA-seq data provided by Le et al.'s research, \"Identification and replication of RNA-Seq gene network modules associated with depression severity\". The data used in this work is provided in two separate .csv files; the gene expression and demographic symptom data sets. The gene expression data is created by analyzing the DNA, quality control, sequencing with RNA-seq, normalizing the values and filtering with variance analysis. In this experiment, we recreate a similar scenario to understand the importance of different genes, in addition, developing AI models with high accuracies. Further, we examine the demographic symptom dataset to uncover the important features. Finally, we present the results of our experiments.\n",
    "\n",
    "## Libraries"
   ]
  },
  {
   "cell_type": "code",
   "execution_count": 377,
   "metadata": {},
   "outputs": [],
   "source": [
    "import pandas as pd\n",
    "import numpy as np\n",
    "import seaborn as sns\n",
    "import matplotlib.pyplot as plt\n",
    "\n",
    "from sklearn.preprocessing import StandardScaler\n",
    "from sklearn.preprocessing import Normalizer\n",
    "from sklearn.preprocessing import FunctionTransformer\n",
    "from sklearn.covariance import EmpiricalCovariance\n",
    "\n",
    "from sklearn.neighbors import KNeighborsClassifier\n",
    "from sklearn.svm import LinearSVC\n",
    "from sklearn.svm import SVC\n",
    "from sklearn.tree import DecisionTreeClassifier\n",
    "from sklearn.naive_bayes import BernoulliNB\n",
    "from sklearn.naive_bayes import GaussianNB\n",
    "from sklearn.ensemble import RandomForestClassifier, AdaBoostClassifier\n",
    "from sklearn.linear_model import LogisticRegression\n",
    "from sklearn.discriminant_analysis import QuadraticDiscriminantAnalysis\n",
    "from tensorflow.keras import Sequential\n",
    "from tensorflow.keras.layers import Dense\n",
    "\n",
    "from sklearn.feature_selection import chi2, f_classif, mutual_info_classif\n",
    "from sklearn.feature_selection import SelectKBest\n",
    "from sklearn.feature_selection import SelectPercentile\n",
    "from sklearn.feature_selection import SelectFpr\n",
    "from sklearn.feature_selection import SelectFdr\n",
    "from sklearn.feature_selection import SelectFwe\n",
    "from sklearn.feature_selection import RFECV\n",
    "from sklearn.feature_selection import SelectFromModel\n",
    "from sklearn.model_selection import train_test_split\n",
    "from sklearn.model_selection import cross_val_score\n",
    "from sklearn.model_selection import StratifiedKFold\n",
    "from sklearn.metrics import classification_report"
   ]
  },
  {
   "cell_type": "markdown",
   "metadata": {},
   "source": [
    "## Data\n",
    "\n",
    "The original data is presented in two different files. The \"sense.csv\" file contains the gene expression data and the \"Demographic_symptom.csv\" file contains the demographic symptom data. We applied pre-processing methods to the original gene expression data; first we applied quantile normalization, further we applied Log2 transform and lastly applied Coefficient of variation filter (CoV > 0.45). The original gene expression data contains 8923 different genes, after the pre-processing the number of genes decreased to 5587. This pre-processing step is applied with R and the processed data is stored as \"filtered.csv\"."
   ]
  },
  {
   "cell_type": "markdown",
   "metadata": {},
   "source": [
    "### Demographic Symptom Dataset\n",
    "\n",
    "In this dataset, the diagnosis (target of this dataset) is presented in the \"Diag\" column. This value is extracted from the demographic symptom dataset and binary encoded to represent Healthy Control (HC) with 0 and Major Depressive Disorder (MDD) with 1. The columns \"PrimaryDiagnosis\" and \"batch\" are also removed from the dataset. The spaces take place in the demographic symptom dataset are filled with mean of the corresponding feature. The resulting dataset has 157 rows and 36 columns."
   ]
  },
  {
   "cell_type": "code",
   "execution_count": 521,
   "metadata": {},
   "outputs": [
    {
     "data": {
      "text/html": [
       "<div>\n",
       "<style scoped>\n",
       "    .dataframe tbody tr th:only-of-type {\n",
       "        vertical-align: middle;\n",
       "    }\n",
       "\n",
       "    .dataframe tbody tr th {\n",
       "        vertical-align: top;\n",
       "    }\n",
       "\n",
       "    .dataframe thead th {\n",
       "        text-align: right;\n",
       "    }\n",
       "</style>\n",
       "<table border=\"1\" class=\"dataframe\">\n",
       "  <thead>\n",
       "    <tr style=\"text-align: right;\">\n",
       "      <th></th>\n",
       "      <th>age</th>\n",
       "      <th>sex</th>\n",
       "      <th>hs-CRP</th>\n",
       "      <th>shaps_score</th>\n",
       "      <th>psqi_score</th>\n",
       "      <th>ctq_denial_score</th>\n",
       "      <th>ctq_emoabuse_score</th>\n",
       "      <th>ctq_emoneglect_score</th>\n",
       "      <th>ctq_physabuse_score</th>\n",
       "      <th>ctq_physneglect_score</th>\n",
       "      <th>...</th>\n",
       "      <th>qids_psychomotor_score</th>\n",
       "      <th>qids_score</th>\n",
       "      <th>tci_coop_score</th>\n",
       "      <th>tci_harmavoid_score</th>\n",
       "      <th>tci_noveltyseek_score</th>\n",
       "      <th>tci_persistence_score</th>\n",
       "      <th>tci_rewarddep_score</th>\n",
       "      <th>tci_selfdirect_score</th>\n",
       "      <th>tci_selftranscend_score</th>\n",
       "      <th>tci_impulsivity_score</th>\n",
       "    </tr>\n",
       "    <tr>\n",
       "      <th>si</th>\n",
       "      <th></th>\n",
       "      <th></th>\n",
       "      <th></th>\n",
       "      <th></th>\n",
       "      <th></th>\n",
       "      <th></th>\n",
       "      <th></th>\n",
       "      <th></th>\n",
       "      <th></th>\n",
       "      <th></th>\n",
       "      <th></th>\n",
       "      <th></th>\n",
       "      <th></th>\n",
       "      <th></th>\n",
       "      <th></th>\n",
       "      <th></th>\n",
       "      <th></th>\n",
       "      <th></th>\n",
       "      <th></th>\n",
       "      <th></th>\n",
       "      <th></th>\n",
       "    </tr>\n",
       "  </thead>\n",
       "  <tbody>\n",
       "    <tr>\n",
       "      <th>AA003</th>\n",
       "      <td>45</td>\n",
       "      <td>1</td>\n",
       "      <td>0.4000</td>\n",
       "      <td>25.0</td>\n",
       "      <td>5.0</td>\n",
       "      <td>12.0</td>\n",
       "      <td>5.0</td>\n",
       "      <td>6.0</td>\n",
       "      <td>7.0</td>\n",
       "      <td>5.0</td>\n",
       "      <td>...</td>\n",
       "      <td>0.0</td>\n",
       "      <td>0.0</td>\n",
       "      <td>37.0</td>\n",
       "      <td>17.0</td>\n",
       "      <td>22.0</td>\n",
       "      <td>3.0</td>\n",
       "      <td>17.0</td>\n",
       "      <td>35.0</td>\n",
       "      <td>7.0</td>\n",
       "      <td>6.0</td>\n",
       "    </tr>\n",
       "    <tr>\n",
       "      <th>AA101</th>\n",
       "      <td>26</td>\n",
       "      <td>1</td>\n",
       "      <td>3.0436</td>\n",
       "      <td>15.0</td>\n",
       "      <td>5.0</td>\n",
       "      <td>15.0</td>\n",
       "      <td>5.0</td>\n",
       "      <td>5.0</td>\n",
       "      <td>9.0</td>\n",
       "      <td>5.0</td>\n",
       "      <td>...</td>\n",
       "      <td>0.0</td>\n",
       "      <td>3.0</td>\n",
       "      <td>38.0</td>\n",
       "      <td>6.0</td>\n",
       "      <td>10.0</td>\n",
       "      <td>7.0</td>\n",
       "      <td>18.0</td>\n",
       "      <td>36.0</td>\n",
       "      <td>12.0</td>\n",
       "      <td>0.0</td>\n",
       "    </tr>\n",
       "    <tr>\n",
       "      <th>AA115</th>\n",
       "      <td>44</td>\n",
       "      <td>1</td>\n",
       "      <td>6.9000</td>\n",
       "      <td>16.0</td>\n",
       "      <td>5.0</td>\n",
       "      <td>10.0</td>\n",
       "      <td>5.0</td>\n",
       "      <td>5.0</td>\n",
       "      <td>5.0</td>\n",
       "      <td>5.0</td>\n",
       "      <td>...</td>\n",
       "      <td>0.0</td>\n",
       "      <td>0.0</td>\n",
       "      <td>42.0</td>\n",
       "      <td>19.0</td>\n",
       "      <td>7.0</td>\n",
       "      <td>5.0</td>\n",
       "      <td>19.0</td>\n",
       "      <td>41.0</td>\n",
       "      <td>14.0</td>\n",
       "      <td>1.0</td>\n",
       "    </tr>\n",
       "    <tr>\n",
       "      <th>AA296</th>\n",
       "      <td>27</td>\n",
       "      <td>0</td>\n",
       "      <td>0.6000</td>\n",
       "      <td>14.0</td>\n",
       "      <td>5.0</td>\n",
       "      <td>12.0</td>\n",
       "      <td>5.0</td>\n",
       "      <td>6.0</td>\n",
       "      <td>5.0</td>\n",
       "      <td>5.0</td>\n",
       "      <td>...</td>\n",
       "      <td>0.0</td>\n",
       "      <td>0.0</td>\n",
       "      <td>36.0</td>\n",
       "      <td>8.0</td>\n",
       "      <td>14.0</td>\n",
       "      <td>3.0</td>\n",
       "      <td>13.0</td>\n",
       "      <td>40.0</td>\n",
       "      <td>5.0</td>\n",
       "      <td>3.0</td>\n",
       "    </tr>\n",
       "    <tr>\n",
       "      <th>AA328</th>\n",
       "      <td>51</td>\n",
       "      <td>0</td>\n",
       "      <td>1.6000</td>\n",
       "      <td>24.0</td>\n",
       "      <td>12.0</td>\n",
       "      <td>15.0</td>\n",
       "      <td>5.0</td>\n",
       "      <td>5.0</td>\n",
       "      <td>5.0</td>\n",
       "      <td>5.0</td>\n",
       "      <td>...</td>\n",
       "      <td>0.0</td>\n",
       "      <td>11.0</td>\n",
       "      <td>39.0</td>\n",
       "      <td>26.0</td>\n",
       "      <td>14.0</td>\n",
       "      <td>8.0</td>\n",
       "      <td>18.0</td>\n",
       "      <td>27.0</td>\n",
       "      <td>10.0</td>\n",
       "      <td>3.0</td>\n",
       "    </tr>\n",
       "  </tbody>\n",
       "</table>\n",
       "<p>5 rows × 36 columns</p>\n",
       "</div>"
      ],
      "text/plain": [
       "       age  sex  hs-CRP  shaps_score  psqi_score  ctq_denial_score  \\\n",
       "si                                                                   \n",
       "AA003   45    1  0.4000         25.0         5.0              12.0   \n",
       "AA101   26    1  3.0436         15.0         5.0              15.0   \n",
       "AA115   44    1  6.9000         16.0         5.0              10.0   \n",
       "AA296   27    0  0.6000         14.0         5.0              12.0   \n",
       "AA328   51    0  1.6000         24.0        12.0              15.0   \n",
       "\n",
       "       ctq_emoabuse_score  ctq_emoneglect_score  ctq_physabuse_score  \\\n",
       "si                                                                     \n",
       "AA003                 5.0                   6.0                  7.0   \n",
       "AA101                 5.0                   5.0                  9.0   \n",
       "AA115                 5.0                   5.0                  5.0   \n",
       "AA296                 5.0                   6.0                  5.0   \n",
       "AA328                 5.0                   5.0                  5.0   \n",
       "\n",
       "       ctq_physneglect_score  ...  qids_psychomotor_score  qids_score  \\\n",
       "si                            ...                                       \n",
       "AA003                    5.0  ...                     0.0         0.0   \n",
       "AA101                    5.0  ...                     0.0         3.0   \n",
       "AA115                    5.0  ...                     0.0         0.0   \n",
       "AA296                    5.0  ...                     0.0         0.0   \n",
       "AA328                    5.0  ...                     0.0        11.0   \n",
       "\n",
       "       tci_coop_score  tci_harmavoid_score  tci_noveltyseek_score  \\\n",
       "si                                                                  \n",
       "AA003            37.0                 17.0                   22.0   \n",
       "AA101            38.0                  6.0                   10.0   \n",
       "AA115            42.0                 19.0                    7.0   \n",
       "AA296            36.0                  8.0                   14.0   \n",
       "AA328            39.0                 26.0                   14.0   \n",
       "\n",
       "       tci_persistence_score  tci_rewarddep_score  tci_selfdirect_score  \\\n",
       "si                                                                        \n",
       "AA003                    3.0                 17.0                  35.0   \n",
       "AA101                    7.0                 18.0                  36.0   \n",
       "AA115                    5.0                 19.0                  41.0   \n",
       "AA296                    3.0                 13.0                  40.0   \n",
       "AA328                    8.0                 18.0                  27.0   \n",
       "\n",
       "       tci_selftranscend_score  tci_impulsivity_score  \n",
       "si                                                     \n",
       "AA003                      7.0                    6.0  \n",
       "AA101                     12.0                    0.0  \n",
       "AA115                     14.0                    1.0  \n",
       "AA296                      5.0                    3.0  \n",
       "AA328                     10.0                    3.0  \n",
       "\n",
       "[5 rows x 36 columns]"
      ]
     },
     "execution_count": 521,
     "metadata": {},
     "output_type": "execute_result"
    }
   ],
   "source": [
    "demog = pd.read_csv(\"Demographic_symptom.csv\")\n",
    "demog.rename(columns = {'Unnamed: 0':'si'}, inplace = True)\n",
    "Xd = demog\n",
    "yd = pd.get_dummies(demog[\"Diag\"])[\"MDD\"].tolist()\n",
    "Xd.index = Xd[\"si\"]\n",
    "del Xd[\"Diag\"]\n",
    "del Xd[\"batch\"]\n",
    "del Xd[\"PrimaryDiagnosis\"]\n",
    "del Xd[\"si\"]\n",
    "#One hot encoding feature \"sex\" 1 - Female and 0 - Male\n",
    "Xd[\"sex\"]=pd.get_dummies(Xd[\"sex\"])[\"Female\"]\n",
    "Xd = Xd.fillna(Xd.mean())\n",
    "Xd.head()"
   ]
  },
  {
   "cell_type": "code",
   "execution_count": 522,
   "metadata": {},
   "outputs": [
    {
     "data": {
      "text/plain": [
       "False"
      ]
     },
     "execution_count": 522,
     "metadata": {},
     "output_type": "execute_result"
    }
   ],
   "source": [
    "Xd.isnull().values.any()"
   ]
  },
  {
   "cell_type": "code",
   "execution_count": 763,
   "metadata": {},
   "outputs": [
    {
     "data": {
      "text/plain": [
       "[0, 0, 0, 0, 1]"
      ]
     },
     "execution_count": 763,
     "metadata": {},
     "output_type": "execute_result"
    }
   ],
   "source": [
    "yd[0:5]"
   ]
  },
  {
   "cell_type": "markdown",
   "metadata": {},
   "source": [
    "### Gene Expression Dataset\n",
    "\n",
    "The pre-processed dataset contains the diagnosis in the last column. We remove the last column from the dataset and assign as targets. The resulting dataset has 157 rows and 5587 columns."
   ]
  },
  {
   "cell_type": "code",
   "execution_count": 523,
   "metadata": {},
   "outputs": [],
   "source": [
    "filtered = pd.read_csv(\"filtered.csv\")\n",
    "filtered = filtered.transpose()\n",
    "filtered = filtered.rename(columns=filtered.iloc[0]).drop(filtered.index[0])\n",
    "X = X.iloc[: , :5587]\n",
    "y = filtered.iloc[:, -1]\n",
    "y = y.tolist()"
   ]
  },
  {
   "cell_type": "code",
   "execution_count": 524,
   "metadata": {},
   "outputs": [
    {
     "data": {
      "text/plain": [
       "False"
      ]
     },
     "execution_count": 524,
     "metadata": {},
     "output_type": "execute_result"
    }
   ],
   "source": [
    "X.isnull().values.any()"
   ]
  },
  {
   "cell_type": "code",
   "execution_count": 525,
   "metadata": {},
   "outputs": [],
   "source": [
    "X.index = Xd.index.values"
   ]
  },
  {
   "cell_type": "code",
   "execution_count": 764,
   "metadata": {},
   "outputs": [
    {
     "data": {
      "text/plain": [
       "(157, 5587)"
      ]
     },
     "execution_count": 764,
     "metadata": {},
     "output_type": "execute_result"
    }
   ],
   "source": [
    "X.shape"
   ]
  },
  {
   "cell_type": "code",
   "execution_count": 527,
   "metadata": {},
   "outputs": [
    {
     "data": {
      "text/html": [
       "<div>\n",
       "<style scoped>\n",
       "    .dataframe tbody tr th:only-of-type {\n",
       "        vertical-align: middle;\n",
       "    }\n",
       "\n",
       "    .dataframe tbody tr th {\n",
       "        vertical-align: top;\n",
       "    }\n",
       "\n",
       "    .dataframe thead th {\n",
       "        text-align: right;\n",
       "    }\n",
       "</style>\n",
       "<table border=\"1\" class=\"dataframe\">\n",
       "  <thead>\n",
       "    <tr style=\"text-align: right;\">\n",
       "      <th></th>\n",
       "      <th>AACS</th>\n",
       "      <th>AAK1</th>\n",
       "      <th>AAMDC</th>\n",
       "      <th>AANAT</th>\n",
       "      <th>AARD</th>\n",
       "      <th>AARS2</th>\n",
       "      <th>AARSD1</th>\n",
       "      <th>AASDHPPT</th>\n",
       "      <th>AASS</th>\n",
       "      <th>AATK</th>\n",
       "      <th>...</th>\n",
       "      <th>ZSCAN26</th>\n",
       "      <th>ZSCAN30</th>\n",
       "      <th>ZSCAN4</th>\n",
       "      <th>ZSWIM8</th>\n",
       "      <th>ZSWIM8-AS1</th>\n",
       "      <th>ZWILCH</th>\n",
       "      <th>ZYG11A</th>\n",
       "      <th>ZYX</th>\n",
       "      <th>ZZEF1</th>\n",
       "      <th>ZZZ3</th>\n",
       "    </tr>\n",
       "  </thead>\n",
       "  <tbody>\n",
       "    <tr>\n",
       "      <th>AA003</th>\n",
       "      <td>5.64288</td>\n",
       "      <td>5.49633</td>\n",
       "      <td>7.4418</td>\n",
       "      <td>6.75926</td>\n",
       "      <td>5.26923</td>\n",
       "      <td>5.99327</td>\n",
       "      <td>4.7652</td>\n",
       "      <td>4.64711</td>\n",
       "      <td>5.2622</td>\n",
       "      <td>6.29881</td>\n",
       "      <td>...</td>\n",
       "      <td>5.2875</td>\n",
       "      <td>5.65313</td>\n",
       "      <td>4.80185</td>\n",
       "      <td>4.63581</td>\n",
       "      <td>7.3341</td>\n",
       "      <td>4.36214</td>\n",
       "      <td>6.47859</td>\n",
       "      <td>5.2879</td>\n",
       "      <td>8.81543</td>\n",
       "      <td>7.71738</td>\n",
       "    </tr>\n",
       "    <tr>\n",
       "      <th>AA101</th>\n",
       "      <td>5.64591</td>\n",
       "      <td>5.38718</td>\n",
       "      <td>7.77937</td>\n",
       "      <td>6.70174</td>\n",
       "      <td>5.26176</td>\n",
       "      <td>6.34637</td>\n",
       "      <td>5.05789</td>\n",
       "      <td>4.46604</td>\n",
       "      <td>5.16713</td>\n",
       "      <td>6.40649</td>\n",
       "      <td>...</td>\n",
       "      <td>5.51464</td>\n",
       "      <td>5.49731</td>\n",
       "      <td>4.81168</td>\n",
       "      <td>4.38234</td>\n",
       "      <td>7.45239</td>\n",
       "      <td>4.44773</td>\n",
       "      <td>6.30947</td>\n",
       "      <td>5.16134</td>\n",
       "      <td>8.79826</td>\n",
       "      <td>7.98613</td>\n",
       "    </tr>\n",
       "    <tr>\n",
       "      <th>AA115</th>\n",
       "      <td>5.3293</td>\n",
       "      <td>5.43748</td>\n",
       "      <td>7.26366</td>\n",
       "      <td>6.61001</td>\n",
       "      <td>5.22449</td>\n",
       "      <td>6.06607</td>\n",
       "      <td>4.66614</td>\n",
       "      <td>4.79144</td>\n",
       "      <td>5.22848</td>\n",
       "      <td>6.09649</td>\n",
       "      <td>...</td>\n",
       "      <td>5.13445</td>\n",
       "      <td>5.7745</td>\n",
       "      <td>4.7364</td>\n",
       "      <td>4.58146</td>\n",
       "      <td>7.25967</td>\n",
       "      <td>4.3542</td>\n",
       "      <td>6.3964</td>\n",
       "      <td>5.59576</td>\n",
       "      <td>9.12823</td>\n",
       "      <td>7.79678</td>\n",
       "    </tr>\n",
       "    <tr>\n",
       "      <th>AA296</th>\n",
       "      <td>5.30012</td>\n",
       "      <td>5.69415</td>\n",
       "      <td>7.32919</td>\n",
       "      <td>6.89105</td>\n",
       "      <td>5.27701</td>\n",
       "      <td>5.93528</td>\n",
       "      <td>4.66073</td>\n",
       "      <td>4.55113</td>\n",
       "      <td>5.16668</td>\n",
       "      <td>6.42389</td>\n",
       "      <td>...</td>\n",
       "      <td>5.2329</td>\n",
       "      <td>5.43972</td>\n",
       "      <td>4.73382</td>\n",
       "      <td>4.57008</td>\n",
       "      <td>7.28511</td>\n",
       "      <td>4.32801</td>\n",
       "      <td>6.40649</td>\n",
       "      <td>5.45817</td>\n",
       "      <td>8.70631</td>\n",
       "      <td>7.75873</td>\n",
       "    </tr>\n",
       "    <tr>\n",
       "      <th>AA328</th>\n",
       "      <td>5.2591</td>\n",
       "      <td>5.57367</td>\n",
       "      <td>7.49888</td>\n",
       "      <td>6.61415</td>\n",
       "      <td>5.18453</td>\n",
       "      <td>5.66789</td>\n",
       "      <td>4.39394</td>\n",
       "      <td>4.49811</td>\n",
       "      <td>5.13999</td>\n",
       "      <td>6.3729</td>\n",
       "      <td>...</td>\n",
       "      <td>5.18135</td>\n",
       "      <td>5.71725</td>\n",
       "      <td>4.45784</td>\n",
       "      <td>4.51728</td>\n",
       "      <td>7.08301</td>\n",
       "      <td>4.14281</td>\n",
       "      <td>6.44268</td>\n",
       "      <td>5.79226</td>\n",
       "      <td>8.88766</td>\n",
       "      <td>7.61559</td>\n",
       "    </tr>\n",
       "  </tbody>\n",
       "</table>\n",
       "<p>5 rows × 5587 columns</p>\n",
       "</div>"
      ],
      "text/plain": [
       "          AACS     AAK1    AAMDC    AANAT     AARD    AARS2   AARSD1 AASDHPPT  \\\n",
       "AA003  5.64288  5.49633   7.4418  6.75926  5.26923  5.99327   4.7652  4.64711   \n",
       "AA101  5.64591  5.38718  7.77937  6.70174  5.26176  6.34637  5.05789  4.46604   \n",
       "AA115   5.3293  5.43748  7.26366  6.61001  5.22449  6.06607  4.66614  4.79144   \n",
       "AA296  5.30012  5.69415  7.32919  6.89105  5.27701  5.93528  4.66073  4.55113   \n",
       "AA328   5.2591  5.57367  7.49888  6.61415  5.18453  5.66789  4.39394  4.49811   \n",
       "\n",
       "          AASS     AATK  ...  ZSCAN26  ZSCAN30   ZSCAN4   ZSWIM8 ZSWIM8-AS1  \\\n",
       "AA003   5.2622  6.29881  ...   5.2875  5.65313  4.80185  4.63581     7.3341   \n",
       "AA101  5.16713  6.40649  ...  5.51464  5.49731  4.81168  4.38234    7.45239   \n",
       "AA115  5.22848  6.09649  ...  5.13445   5.7745   4.7364  4.58146    7.25967   \n",
       "AA296  5.16668  6.42389  ...   5.2329  5.43972  4.73382  4.57008    7.28511   \n",
       "AA328  5.13999   6.3729  ...  5.18135  5.71725  4.45784  4.51728    7.08301   \n",
       "\n",
       "        ZWILCH   ZYG11A      ZYX    ZZEF1     ZZZ3  \n",
       "AA003  4.36214  6.47859   5.2879  8.81543  7.71738  \n",
       "AA101  4.44773  6.30947  5.16134  8.79826  7.98613  \n",
       "AA115   4.3542   6.3964  5.59576  9.12823  7.79678  \n",
       "AA296  4.32801  6.40649  5.45817  8.70631  7.75873  \n",
       "AA328  4.14281  6.44268  5.79226  8.88766  7.61559  \n",
       "\n",
       "[5 rows x 5587 columns]"
      ]
     },
     "execution_count": 527,
     "metadata": {},
     "output_type": "execute_result"
    }
   ],
   "source": [
    "X.head()"
   ]
  },
  {
   "cell_type": "code",
   "execution_count": 528,
   "metadata": {},
   "outputs": [
    {
     "data": {
      "text/plain": [
       "(157, 5587)"
      ]
     },
     "execution_count": 528,
     "metadata": {},
     "output_type": "execute_result"
    }
   ],
   "source": [
    "X.shape"
   ]
  },
  {
   "cell_type": "code",
   "execution_count": 526,
   "metadata": {},
   "outputs": [
    {
     "data": {
      "text/plain": [
       "157"
      ]
     },
     "execution_count": 526,
     "metadata": {},
     "output_type": "execute_result"
    }
   ],
   "source": [
    "len(y)"
   ]
  },
  {
   "cell_type": "code",
   "execution_count": 207,
   "metadata": {},
   "outputs": [
    {
     "data": {
      "text/plain": [
       "<matplotlib.axes._subplots.AxesSubplot at 0x1cf06d1af98>"
      ]
     },
     "execution_count": 207,
     "metadata": {},
     "output_type": "execute_result"
    },
    {
     "data": {
      "image/png": "[encoded data removed]",
      "text/plain": [
       "<Figure size 1080x288 with 1 Axes>"
      ]
     },
     "metadata": {
      "needs_background": "light"
     },
     "output_type": "display_data"
    }
   ],
   "source": [
    "plt.figure(figsize=(15,4))\n",
    "sns.boxplot(data=X)"
   ]
  },
  {
   "cell_type": "code",
   "execution_count": 208,
   "metadata": {},
   "outputs": [
    {
     "data": {
      "image/png": "[encoded data removed]",
      "text/plain": [
       "<Figure size 1080x288 with 1 Axes>"
      ]
     },
     "metadata": {
      "needs_background": "light"
     },
     "output_type": "display_data"
    }
   ],
   "source": [
    "plt.figure(figsize=(15,4))\n",
    "plt.boxplot(X)\n",
    "plt.show()"
   ]
  },
  {
   "cell_type": "code",
   "execution_count": 209,
   "metadata": {},
   "outputs": [
    {
     "data": {
      "image/png": "[encoded data removed]",
      "text/plain": [
       "<Figure size 1080x288 with 1 Axes>"
      ]
     },
     "metadata": {
      "needs_background": "light"
     },
     "output_type": "display_data"
    }
   ],
   "source": [
    "plt.figure(figsize=(15,4))\n",
    "plt.plot(X.iloc[0])\n",
    "plt.show()"
   ]
  },
  {
   "cell_type": "code",
   "execution_count": 529,
   "metadata": {},
   "outputs": [
    {
     "data": {
      "text/plain": [
       "<matplotlib.axes._subplots.AxesSubplot at 0x1cf3b670208>"
      ]
     },
     "execution_count": 529,
     "metadata": {},
     "output_type": "execute_result"
    },
    {
     "data": {
      "image/png": "[encoded data removed]",
      "text/plain": [
       "<Figure size 1080x288 with 1 Axes>"
      ]
     },
     "metadata": {
      "needs_background": "light"
     },
     "output_type": "display_data"
    }
   ],
   "source": [
    "plt.figure(figsize=(15,4))\n",
    "sns.boxplot(data=Xd)"
   ]
  },
  {
   "cell_type": "code",
   "execution_count": 530,
   "metadata": {},
   "outputs": [
    {
     "data": {
      "image/png": "[encoded data removed]",
      "text/plain": [
       "<Figure size 1080x288 with 1 Axes>"
      ]
     },
     "metadata": {
      "needs_background": "light"
     },
     "output_type": "display_data"
    }
   ],
   "source": [
    "plt.figure(figsize=(15,4))\n",
    "plt.boxplot(Xd)\n",
    "plt.show()"
   ]
  },
  {
   "cell_type": "markdown",
   "metadata": {},
   "source": [
    "### Train - Test split\n",
    "\n",
    "Since the dataset is not too large, we kept the test size at %20."
   ]
  },
  {
   "cell_type": "code",
   "execution_count": 532,
   "metadata": {},
   "outputs": [
    {
     "name": "stdout",
     "output_type": "stream",
     "text": [
      "Length of the dataset, X: 125\n",
      "Length of the targets, y: 125\n",
      "Length of first row of X: 5587\n"
     ]
    }
   ],
   "source": [
    "X_train, X_test, y_train, y_test = train_test_split(X, y, test_size=0.2, random_state=42)\n",
    "Xd_train, Xd_test, yd_train, yd_test = train_test_split(Xd, yd, test_size=0.2, random_state=42)\n",
    "print(\"Length of the dataset, X: %d\" % len(X_train))\n",
    "print(\"Length of the targets, y: %d\" % len(y_train))\n",
    "print(\"Length of first row of X: %d\" % len(X_train.iloc[0]))"
   ]
  },
  {
   "cell_type": "code",
   "execution_count": 124,
   "metadata": {},
   "outputs": [
    {
     "data": {
      "text/html": [
       "<div>\n",
       "<style scoped>\n",
       "    .dataframe tbody tr th:only-of-type {\n",
       "        vertical-align: middle;\n",
       "    }\n",
       "\n",
       "    .dataframe tbody tr th {\n",
       "        vertical-align: top;\n",
       "    }\n",
       "\n",
       "    .dataframe thead th {\n",
       "        text-align: right;\n",
       "    }\n",
       "</style>\n",
       "<table border=\"1\" class=\"dataframe\">\n",
       "  <thead>\n",
       "    <tr style=\"text-align: right;\">\n",
       "      <th></th>\n",
       "      <th>AACS</th>\n",
       "      <th>AAK1</th>\n",
       "      <th>AAMDC</th>\n",
       "      <th>AANAT</th>\n",
       "      <th>AARD</th>\n",
       "      <th>AARS2</th>\n",
       "      <th>AARSD1</th>\n",
       "      <th>AASDHPPT</th>\n",
       "      <th>AASS</th>\n",
       "      <th>AATK</th>\n",
       "      <th>...</th>\n",
       "      <th>ZSCAN26</th>\n",
       "      <th>ZSCAN30</th>\n",
       "      <th>ZSCAN4</th>\n",
       "      <th>ZSWIM8</th>\n",
       "      <th>ZSWIM8-AS1</th>\n",
       "      <th>ZWILCH</th>\n",
       "      <th>ZYG11A</th>\n",
       "      <th>ZYX</th>\n",
       "      <th>ZZEF1</th>\n",
       "      <th>ZZZ3</th>\n",
       "    </tr>\n",
       "  </thead>\n",
       "  <tbody>\n",
       "    <tr>\n",
       "      <th>1.59</th>\n",
       "      <td>5.41091</td>\n",
       "      <td>5.38142</td>\n",
       "      <td>7.42114</td>\n",
       "      <td>6.82676</td>\n",
       "      <td>5.3361</td>\n",
       "      <td>5.97844</td>\n",
       "      <td>4.99085</td>\n",
       "      <td>4.33025</td>\n",
       "      <td>4.67144</td>\n",
       "      <td>6.30093</td>\n",
       "      <td>...</td>\n",
       "      <td>5.3549</td>\n",
       "      <td>5.58172</td>\n",
       "      <td>4.59327</td>\n",
       "      <td>4.32413</td>\n",
       "      <td>7.55047</td>\n",
       "      <td>3.77648</td>\n",
       "      <td>6.53708</td>\n",
       "      <td>5.31667</td>\n",
       "      <td>9.04544</td>\n",
       "      <td>7.8442</td>\n",
       "    </tr>\n",
       "    <tr>\n",
       "      <th>1.28</th>\n",
       "      <td>5.31147</td>\n",
       "      <td>5.61038</td>\n",
       "      <td>7.70352</td>\n",
       "      <td>6.74962</td>\n",
       "      <td>5.23202</td>\n",
       "      <td>5.96687</td>\n",
       "      <td>4.88277</td>\n",
       "      <td>4.56117</td>\n",
       "      <td>4.91479</td>\n",
       "      <td>6.19321</td>\n",
       "      <td>...</td>\n",
       "      <td>5.34273</td>\n",
       "      <td>5.49633</td>\n",
       "      <td>4.5978</td>\n",
       "      <td>4.50744</td>\n",
       "      <td>7.46635</td>\n",
       "      <td>4.25056</td>\n",
       "      <td>6.49782</td>\n",
       "      <td>5.47147</td>\n",
       "      <td>9.16267</td>\n",
       "      <td>8.08392</td>\n",
       "    </tr>\n",
       "    <tr>\n",
       "      <th>1.48</th>\n",
       "      <td>5.39771</td>\n",
       "      <td>5.44697</td>\n",
       "      <td>7.60473</td>\n",
       "      <td>6.85792</td>\n",
       "      <td>5.2622</td>\n",
       "      <td>5.66789</td>\n",
       "      <td>4.97783</td>\n",
       "      <td>4.12217</td>\n",
       "      <td>4.70214</td>\n",
       "      <td>6.26712</td>\n",
       "      <td>...</td>\n",
       "      <td>5.3361</td>\n",
       "      <td>5.49254</td>\n",
       "      <td>4.48022</td>\n",
       "      <td>4.34924</td>\n",
       "      <td>7.40191</td>\n",
       "      <td>4.02647</td>\n",
       "      <td>6.66427</td>\n",
       "      <td>5.37776</td>\n",
       "      <td>8.70963</td>\n",
       "      <td>7.96916</td>\n",
       "    </tr>\n",
       "    <tr>\n",
       "      <th>0.47</th>\n",
       "      <td>5.24127</td>\n",
       "      <td>5.5894</td>\n",
       "      <td>7.49207</td>\n",
       "      <td>6.69335</td>\n",
       "      <td>5.15422</td>\n",
       "      <td>5.86223</td>\n",
       "      <td>4.90096</td>\n",
       "      <td>4.44035</td>\n",
       "      <td>4.71467</td>\n",
       "      <td>6.39262</td>\n",
       "      <td>...</td>\n",
       "      <td>5.45624</td>\n",
       "      <td>5.56966</td>\n",
       "      <td>4.45467</td>\n",
       "      <td>4.34349</td>\n",
       "      <td>7.43908</td>\n",
       "      <td>4.21034</td>\n",
       "      <td>6.65607</td>\n",
       "      <td>5.44018</td>\n",
       "      <td>8.85288</td>\n",
       "      <td>7.91867</td>\n",
       "    </tr>\n",
       "    <tr>\n",
       "      <th>0.61</th>\n",
       "      <td>5.22449</td>\n",
       "      <td>5.62184</td>\n",
       "      <td>7.79561</td>\n",
       "      <td>6.5209</td>\n",
       "      <td>5.21097</td>\n",
       "      <td>6.01341</td>\n",
       "      <td>4.58554</td>\n",
       "      <td>5.16044</td>\n",
       "      <td>5.24653</td>\n",
       "      <td>6.42666</td>\n",
       "      <td>...</td>\n",
       "      <td>5.11408</td>\n",
       "      <td>5.51659</td>\n",
       "      <td>4.66465</td>\n",
       "      <td>4.24883</td>\n",
       "      <td>7.14956</td>\n",
       "      <td>4.33025</td>\n",
       "      <td>6.55358</td>\n",
       "      <td>5.64288</td>\n",
       "      <td>8.92526</td>\n",
       "      <td>8.0112</td>\n",
       "    </tr>\n",
       "  </tbody>\n",
       "</table>\n",
       "<p>5 rows × 5587 columns</p>\n",
       "</div>"
      ],
      "text/plain": [
       "         AACS     AAK1    AAMDC    AANAT     AARD    AARS2   AARSD1 AASDHPPT  \\\n",
       "1.59  5.41091  5.38142  7.42114  6.82676   5.3361  5.97844  4.99085  4.33025   \n",
       "1.28  5.31147  5.61038  7.70352  6.74962  5.23202  5.96687  4.88277  4.56117   \n",
       "1.48  5.39771  5.44697  7.60473  6.85792   5.2622  5.66789  4.97783  4.12217   \n",
       "0.47  5.24127   5.5894  7.49207  6.69335  5.15422  5.86223  4.90096  4.44035   \n",
       "0.61  5.22449  5.62184  7.79561   6.5209  5.21097  6.01341  4.58554  5.16044   \n",
       "\n",
       "         AASS     AATK  ...  ZSCAN26  ZSCAN30   ZSCAN4   ZSWIM8 ZSWIM8-AS1  \\\n",
       "1.59  4.67144  6.30093  ...   5.3549  5.58172  4.59327  4.32413    7.55047   \n",
       "1.28  4.91479  6.19321  ...  5.34273  5.49633   4.5978  4.50744    7.46635   \n",
       "1.48  4.70214  6.26712  ...   5.3361  5.49254  4.48022  4.34924    7.40191   \n",
       "0.47  4.71467  6.39262  ...  5.45624  5.56966  4.45467  4.34349    7.43908   \n",
       "0.61  5.24653  6.42666  ...  5.11408  5.51659  4.66465  4.24883    7.14956   \n",
       "\n",
       "       ZWILCH   ZYG11A      ZYX    ZZEF1     ZZZ3  \n",
       "1.59  3.77648  6.53708  5.31667  9.04544   7.8442  \n",
       "1.28  4.25056  6.49782  5.47147  9.16267  8.08392  \n",
       "1.48  4.02647  6.66427  5.37776  8.70963  7.96916  \n",
       "0.47  4.21034  6.65607  5.44018  8.85288  7.91867  \n",
       "0.61  4.33025  6.55358  5.64288  8.92526   8.0112  \n",
       "\n",
       "[5 rows x 5587 columns]"
      ]
     },
     "execution_count": 124,
     "metadata": {},
     "output_type": "execute_result"
    }
   ],
   "source": [
    "X_train.head()"
   ]
  },
  {
   "cell_type": "code",
   "execution_count": 126,
   "metadata": {},
   "outputs": [
    {
     "data": {
      "text/plain": [
       "[1.0, 1.0, 1.0, 0.0, 0.0]"
      ]
     },
     "execution_count": 126,
     "metadata": {},
     "output_type": "execute_result"
    }
   ],
   "source": [
    "y_train[0:5]"
   ]
  },
  {
   "cell_type": "code",
   "execution_count": 538,
   "metadata": {},
   "outputs": [
    {
     "data": {
      "text/html": [
       "<div>\n",
       "<style scoped>\n",
       "    .dataframe tbody tr th:only-of-type {\n",
       "        vertical-align: middle;\n",
       "    }\n",
       "\n",
       "    .dataframe tbody tr th {\n",
       "        vertical-align: top;\n",
       "    }\n",
       "\n",
       "    .dataframe thead th {\n",
       "        text-align: right;\n",
       "    }\n",
       "</style>\n",
       "<table border=\"1\" class=\"dataframe\">\n",
       "  <thead>\n",
       "    <tr style=\"text-align: right;\">\n",
       "      <th></th>\n",
       "      <th>age</th>\n",
       "      <th>sex</th>\n",
       "      <th>hs-CRP</th>\n",
       "      <th>shaps_score</th>\n",
       "      <th>psqi_score</th>\n",
       "      <th>ctq_denial_score</th>\n",
       "      <th>ctq_emoabuse_score</th>\n",
       "      <th>ctq_emoneglect_score</th>\n",
       "      <th>ctq_physabuse_score</th>\n",
       "      <th>ctq_physneglect_score</th>\n",
       "      <th>...</th>\n",
       "      <th>qids_psychomotor_score</th>\n",
       "      <th>qids_score</th>\n",
       "      <th>tci_coop_score</th>\n",
       "      <th>tci_harmavoid_score</th>\n",
       "      <th>tci_noveltyseek_score</th>\n",
       "      <th>tci_persistence_score</th>\n",
       "      <th>tci_rewarddep_score</th>\n",
       "      <th>tci_selfdirect_score</th>\n",
       "      <th>tci_selftranscend_score</th>\n",
       "      <th>tci_impulsivity_score</th>\n",
       "    </tr>\n",
       "    <tr>\n",
       "      <th>si</th>\n",
       "      <th></th>\n",
       "      <th></th>\n",
       "      <th></th>\n",
       "      <th></th>\n",
       "      <th></th>\n",
       "      <th></th>\n",
       "      <th></th>\n",
       "      <th></th>\n",
       "      <th></th>\n",
       "      <th></th>\n",
       "      <th></th>\n",
       "      <th></th>\n",
       "      <th></th>\n",
       "      <th></th>\n",
       "      <th></th>\n",
       "      <th></th>\n",
       "      <th></th>\n",
       "      <th></th>\n",
       "      <th></th>\n",
       "      <th></th>\n",
       "      <th></th>\n",
       "    </tr>\n",
       "  </thead>\n",
       "  <tbody>\n",
       "    <tr>\n",
       "      <th>AK683</th>\n",
       "      <td>27</td>\n",
       "      <td>1</td>\n",
       "      <td>3.0436</td>\n",
       "      <td>23.946667</td>\n",
       "      <td>7.281046</td>\n",
       "      <td>9.133333</td>\n",
       "      <td>9.226667</td>\n",
       "      <td>10.2</td>\n",
       "      <td>7.973333</td>\n",
       "      <td>7.226667</td>\n",
       "      <td>...</td>\n",
       "      <td>0.344371</td>\n",
       "      <td>6.138158</td>\n",
       "      <td>33.836601</td>\n",
       "      <td>14.490196</td>\n",
       "      <td>17.973856</td>\n",
       "      <td>5.541096</td>\n",
       "      <td>14.712418</td>\n",
       "      <td>29.535948</td>\n",
       "      <td>13.045752</td>\n",
       "      <td>3.938356</td>\n",
       "    </tr>\n",
       "    <tr>\n",
       "      <th>AE646</th>\n",
       "      <td>20</td>\n",
       "      <td>1</td>\n",
       "      <td>3.2000</td>\n",
       "      <td>33.000000</td>\n",
       "      <td>13.000000</td>\n",
       "      <td>13.000000</td>\n",
       "      <td>5.000000</td>\n",
       "      <td>6.0</td>\n",
       "      <td>7.000000</td>\n",
       "      <td>7.000000</td>\n",
       "      <td>...</td>\n",
       "      <td>0.000000</td>\n",
       "      <td>16.000000</td>\n",
       "      <td>36.000000</td>\n",
       "      <td>27.000000</td>\n",
       "      <td>21.000000</td>\n",
       "      <td>7.000000</td>\n",
       "      <td>14.000000</td>\n",
       "      <td>20.000000</td>\n",
       "      <td>18.000000</td>\n",
       "      <td>4.000000</td>\n",
       "    </tr>\n",
       "    <tr>\n",
       "      <th>AJ537</th>\n",
       "      <td>53</td>\n",
       "      <td>1</td>\n",
       "      <td>3.2000</td>\n",
       "      <td>41.000000</td>\n",
       "      <td>12.000000</td>\n",
       "      <td>5.000000</td>\n",
       "      <td>11.000000</td>\n",
       "      <td>18.0</td>\n",
       "      <td>7.000000</td>\n",
       "      <td>10.000000</td>\n",
       "      <td>...</td>\n",
       "      <td>1.000000</td>\n",
       "      <td>14.000000</td>\n",
       "      <td>28.000000</td>\n",
       "      <td>30.000000</td>\n",
       "      <td>10.000000</td>\n",
       "      <td>3.000000</td>\n",
       "      <td>12.000000</td>\n",
       "      <td>15.000000</td>\n",
       "      <td>4.000000</td>\n",
       "      <td>3.000000</td>\n",
       "    </tr>\n",
       "    <tr>\n",
       "      <th>AG245</th>\n",
       "      <td>33</td>\n",
       "      <td>1</td>\n",
       "      <td>2.0000</td>\n",
       "      <td>14.000000</td>\n",
       "      <td>1.000000</td>\n",
       "      <td>14.000000</td>\n",
       "      <td>5.000000</td>\n",
       "      <td>5.0</td>\n",
       "      <td>9.000000</td>\n",
       "      <td>5.000000</td>\n",
       "      <td>...</td>\n",
       "      <td>0.000000</td>\n",
       "      <td>2.000000</td>\n",
       "      <td>33.000000</td>\n",
       "      <td>10.000000</td>\n",
       "      <td>20.000000</td>\n",
       "      <td>6.000000</td>\n",
       "      <td>16.000000</td>\n",
       "      <td>34.000000</td>\n",
       "      <td>11.000000</td>\n",
       "      <td>4.000000</td>\n",
       "    </tr>\n",
       "    <tr>\n",
       "      <th>AH639</th>\n",
       "      <td>24</td>\n",
       "      <td>1</td>\n",
       "      <td>4.5000</td>\n",
       "      <td>20.000000</td>\n",
       "      <td>4.000000</td>\n",
       "      <td>14.000000</td>\n",
       "      <td>7.000000</td>\n",
       "      <td>5.0</td>\n",
       "      <td>5.000000</td>\n",
       "      <td>5.000000</td>\n",
       "      <td>...</td>\n",
       "      <td>0.000000</td>\n",
       "      <td>0.000000</td>\n",
       "      <td>41.000000</td>\n",
       "      <td>2.000000</td>\n",
       "      <td>28.000000</td>\n",
       "      <td>4.000000</td>\n",
       "      <td>21.000000</td>\n",
       "      <td>39.000000</td>\n",
       "      <td>22.000000</td>\n",
       "      <td>8.000000</td>\n",
       "    </tr>\n",
       "  </tbody>\n",
       "</table>\n",
       "<p>5 rows × 36 columns</p>\n",
       "</div>"
      ],
      "text/plain": [
       "       age  sex  hs-CRP  shaps_score  psqi_score  ctq_denial_score  \\\n",
       "si                                                                   \n",
       "AK683   27    1  3.0436    23.946667    7.281046          9.133333   \n",
       "AE646   20    1  3.2000    33.000000   13.000000         13.000000   \n",
       "AJ537   53    1  3.2000    41.000000   12.000000          5.000000   \n",
       "AG245   33    1  2.0000    14.000000    1.000000         14.000000   \n",
       "AH639   24    1  4.5000    20.000000    4.000000         14.000000   \n",
       "\n",
       "       ctq_emoabuse_score  ctq_emoneglect_score  ctq_physabuse_score  \\\n",
       "si                                                                     \n",
       "AK683            9.226667                  10.2             7.973333   \n",
       "AE646            5.000000                   6.0             7.000000   \n",
       "AJ537           11.000000                  18.0             7.000000   \n",
       "AG245            5.000000                   5.0             9.000000   \n",
       "AH639            7.000000                   5.0             5.000000   \n",
       "\n",
       "       ctq_physneglect_score  ...  qids_psychomotor_score  qids_score  \\\n",
       "si                            ...                                       \n",
       "AK683               7.226667  ...                0.344371    6.138158   \n",
       "AE646               7.000000  ...                0.000000   16.000000   \n",
       "AJ537              10.000000  ...                1.000000   14.000000   \n",
       "AG245               5.000000  ...                0.000000    2.000000   \n",
       "AH639               5.000000  ...                0.000000    0.000000   \n",
       "\n",
       "       tci_coop_score  tci_harmavoid_score  tci_noveltyseek_score  \\\n",
       "si                                                                  \n",
       "AK683       33.836601            14.490196              17.973856   \n",
       "AE646       36.000000            27.000000              21.000000   \n",
       "AJ537       28.000000            30.000000              10.000000   \n",
       "AG245       33.000000            10.000000              20.000000   \n",
       "AH639       41.000000             2.000000              28.000000   \n",
       "\n",
       "       tci_persistence_score  tci_rewarddep_score  tci_selfdirect_score  \\\n",
       "si                                                                        \n",
       "AK683               5.541096            14.712418             29.535948   \n",
       "AE646               7.000000            14.000000             20.000000   \n",
       "AJ537               3.000000            12.000000             15.000000   \n",
       "AG245               6.000000            16.000000             34.000000   \n",
       "AH639               4.000000            21.000000             39.000000   \n",
       "\n",
       "       tci_selftranscend_score  tci_impulsivity_score  \n",
       "si                                                     \n",
       "AK683                13.045752               3.938356  \n",
       "AE646                18.000000               4.000000  \n",
       "AJ537                 4.000000               3.000000  \n",
       "AG245                11.000000               4.000000  \n",
       "AH639                22.000000               8.000000  \n",
       "\n",
       "[5 rows x 36 columns]"
      ]
     },
     "execution_count": 538,
     "metadata": {},
     "output_type": "execute_result"
    }
   ],
   "source": [
    "Xd_train.head()"
   ]
  },
  {
   "cell_type": "markdown",
   "metadata": {},
   "source": [
    "## Feature Selection on Demographic Symptom\n",
    "\n",
    "### Select K Best\n",
    "    - ANOVA f-value\n",
    "    - Mutual information\n",
    "Chi square is not applicable due to negative values."
   ]
  },
  {
   "cell_type": "code",
   "execution_count": 541,
   "metadata": {},
   "outputs": [
    {
     "data": {
      "text/plain": [
       "(157, 10)"
      ]
     },
     "execution_count": 541,
     "metadata": {},
     "output_type": "execute_result"
    }
   ],
   "source": [
    "dsk10f = SelectKBest(f_classif, k=10)\n",
    "dsk10f.fit_transform(Xd, yd)\n",
    "Xd_k10f = Xd.iloc[:,dsk10f.get_support(indices=True)]\n",
    "Xd_k10f.shape"
   ]
  },
  {
   "cell_type": "code",
   "execution_count": 542,
   "metadata": {},
   "outputs": [
    {
     "data": {
      "text/plain": [
       "Index(['shaps_score', 'madrs_score', 'hamd_hamd17_score', 'hamd_hamd21_score',\n",
       "       'hama_score', 'poms_score_fatigue', 'poms_score_tmd',\n",
       "       'qids_sleep_score', 'qids_appetite_score', 'qids_score'],\n",
       "      dtype='object')"
      ]
     },
     "execution_count": 542,
     "metadata": {},
     "output_type": "execute_result"
    }
   ],
   "source": [
    "Xd_k10f.keys()"
   ]
  },
  {
   "cell_type": "code",
   "execution_count": 543,
   "metadata": {},
   "outputs": [
    {
     "data": {
      "text/plain": [
       "(157, 10)"
      ]
     },
     "execution_count": 543,
     "metadata": {},
     "output_type": "execute_result"
    }
   ],
   "source": [
    "dsk10m = SelectKBest(mutual_info_classif, k=10)\n",
    "dsk10m.fit_transform(Xd, yd)\n",
    "Xd_k10m = Xd.iloc[:,dsk10m.get_support(indices=True)]\n",
    "Xd_k10m.shape"
   ]
  },
  {
   "cell_type": "code",
   "execution_count": 545,
   "metadata": {},
   "outputs": [
    {
     "data": {
      "text/plain": [
       "Index(['shaps_score', 'psqi_score', 'madrs_score', 'hamd_hamd17_score',\n",
       "       'hamd_hamd21_score', 'hama_score', 'poms_score_depression',\n",
       "       'poms_score_tmd', 'qids_appetite_score', 'qids_score'],\n",
       "      dtype='object')"
      ]
     },
     "execution_count": 545,
     "metadata": {},
     "output_type": "execute_result"
    }
   ],
   "source": [
    "Xd_k10m.keys()"
   ]
  },
  {
   "cell_type": "markdown",
   "metadata": {},
   "source": [
    "### Select Percentile - %10\n",
    "    - ANOVA f-value\n",
    "    - Mutual information\n",
    "Chi square is not applicable due to negative values."
   ]
  },
  {
   "cell_type": "code",
   "execution_count": 551,
   "metadata": {},
   "outputs": [
    {
     "data": {
      "text/plain": [
       "(157, 4)"
      ]
     },
     "execution_count": 551,
     "metadata": {},
     "output_type": "execute_result"
    }
   ],
   "source": [
    "dsp1f = SelectPercentile(f_classif, percentile=10)\n",
    "dsp1f.fit_transform(Xd, yd)\n",
    "Xd_1pf = Xd.iloc[:,dsp1f.get_support(indices=True)]\n",
    "Xd_1pf.shape"
   ]
  },
  {
   "cell_type": "code",
   "execution_count": 552,
   "metadata": {},
   "outputs": [
    {
     "data": {
      "text/plain": [
       "Index(['madrs_score', 'hamd_hamd17_score', 'hamd_hamd21_score', 'hama_score'], dtype='object')"
      ]
     },
     "execution_count": 552,
     "metadata": {},
     "output_type": "execute_result"
    }
   ],
   "source": [
    "Xd_1pf.keys()"
   ]
  },
  {
   "cell_type": "code",
   "execution_count": 553,
   "metadata": {},
   "outputs": [
    {
     "data": {
      "text/plain": [
       "(157, 4)"
      ]
     },
     "execution_count": 553,
     "metadata": {},
     "output_type": "execute_result"
    }
   ],
   "source": [
    "dsp1m = SelectPercentile(mutual_info_classif, percentile=10)\n",
    "dsp1m.fit_transform(Xd, yd)\n",
    "Xd_1pm = Xd.iloc[:,dsp1m.get_support(indices=True)]\n",
    "Xd_1pm.shape"
   ]
  },
  {
   "cell_type": "code",
   "execution_count": 554,
   "metadata": {},
   "outputs": [
    {
     "data": {
      "text/plain": [
       "Index(['madrs_score', 'hamd_hamd17_score', 'hamd_hamd21_score', 'hama_score'], dtype='object')"
      ]
     },
     "execution_count": 554,
     "metadata": {},
     "output_type": "execute_result"
    }
   ],
   "source": [
    "Xd_1pm.keys()"
   ]
  },
  {
   "cell_type": "code",
   "execution_count": 768,
   "metadata": {},
   "outputs": [
    {
     "name": "stdout",
     "output_type": "stream",
     "text": [
      "Gaussian Naive Bayes Classifier report for RFECV: \n",
      "\n",
      "               precision    recall  f1-score   support\n",
      "\n",
      "           0       0.93      0.93      0.93        14\n",
      "           1       0.94      0.94      0.94        18\n",
      "\n",
      "   micro avg       0.94      0.94      0.94        32\n",
      "   macro avg       0.94      0.94      0.94        32\n",
      "weighted avg       0.94      0.94      0.94        32\n",
      "\n"
     ]
    }
   ],
   "source": [
    "Xd_train_1pm, Xd_test_1pm, yd_train_1pm, yd_test_1pm = train_test_split(Xd_1pm, yd, test_size=0.2, random_state=42)\n",
    "gnb_d1pm = GaussianNB()\n",
    "gnb_d1pm.fit(Xd_train_1pm, yd_train_1pm)\n",
    "gnb_p_d1pm = gnb_d1pm.predict(Xd_test_1pm)\n",
    "print(\"Gaussian Naive Bayes Classifier report for RFECV: \\n\\n\", classification_report(yd_test_1pm, gnb_p_d1pm))"
   ]
  },
  {
   "cell_type": "markdown",
   "metadata": {},
   "source": [
    "### Recursive Feature Elimination with Cross Validation (RFECV)"
   ]
  },
  {
   "cell_type": "code",
   "execution_count": 555,
   "metadata": {},
   "outputs": [
    {
     "name": "stdout",
     "output_type": "stream",
     "text": [
      "Optimal number of features : 2\n"
     ]
    },
    {
     "name": "stderr",
     "output_type": "stream",
     "text": [
      "C:\\Users\\slm\\Anaconda3\\lib\\site-packages\\sklearn\\model_selection\\_split.py:665: DeprecationWarning: `np.int` is a deprecated alias for the builtin `int`. To silence this warning, use `int` by itself. Doing this will not modify any behavior and is safe. When replacing `np.int`, you may wish to use e.g. `np.int64` or `np.int32` to specify the precision. If you wish to review your current use, check the release note link for additional information.\n",
      "Deprecated in NumPy 1.20; for more details and guidance: https://numpy.org/devdocs/release/1.20.0-notes.html#deprecations\n",
      "  test_folds = np.zeros(n_samples, dtype=np.int)\n",
      "C:\\Users\\slm\\Anaconda3\\lib\\site-packages\\sklearn\\model_selection\\_split.py:437: DeprecationWarning: `np.int` is a deprecated alias for the builtin `int`. To silence this warning, use `int` by itself. Doing this will not modify any behavior and is safe. When replacing `np.int`, you may wish to use e.g. `np.int64` or `np.int32` to specify the precision. If you wish to review your current use, check the release note link for additional information.\n",
      "Deprecated in NumPy 1.20; for more details and guidance: https://numpy.org/devdocs/release/1.20.0-notes.html#deprecations\n",
      "  fold_sizes = np.full(n_splits, n_samples // n_splits, dtype=np.int)\n",
      "C:\\Users\\slm\\Anaconda3\\lib\\site-packages\\sklearn\\model_selection\\_split.py:113: DeprecationWarning: `np.bool` is a deprecated alias for the builtin `bool`. To silence this warning, use `bool` by itself. Doing this will not modify any behavior and is safe. If you specifically wanted the numpy scalar type, use `np.bool_` here.\n",
      "Deprecated in NumPy 1.20; for more details and guidance: https://numpy.org/devdocs/release/1.20.0-notes.html#deprecations\n",
      "  test_mask = np.zeros(_num_samples(X), dtype=np.bool)\n",
      "C:\\Users\\slm\\Anaconda3\\lib\\site-packages\\sklearn\\model_selection\\_split.py:437: DeprecationWarning: `np.int` is a deprecated alias for the builtin `int`. To silence this warning, use `int` by itself. Doing this will not modify any behavior and is safe. When replacing `np.int`, you may wish to use e.g. `np.int64` or `np.int32` to specify the precision. If you wish to review your current use, check the release note link for additional information.\n",
      "Deprecated in NumPy 1.20; for more details and guidance: https://numpy.org/devdocs/release/1.20.0-notes.html#deprecations\n",
      "  fold_sizes = np.full(n_splits, n_samples // n_splits, dtype=np.int)\n",
      "C:\\Users\\slm\\Anaconda3\\lib\\site-packages\\sklearn\\model_selection\\_split.py:113: DeprecationWarning: `np.bool` is a deprecated alias for the builtin `bool`. To silence this warning, use `bool` by itself. Doing this will not modify any behavior and is safe. If you specifically wanted the numpy scalar type, use `np.bool_` here.\n",
      "Deprecated in NumPy 1.20; for more details and guidance: https://numpy.org/devdocs/release/1.20.0-notes.html#deprecations\n",
      "  test_mask = np.zeros(_num_samples(X), dtype=np.bool)\n",
      "C:\\Users\\slm\\Anaconda3\\lib\\site-packages\\sklearn\\model_selection\\_split.py:113: DeprecationWarning: `np.bool` is a deprecated alias for the builtin `bool`. To silence this warning, use `bool` by itself. Doing this will not modify any behavior and is safe. If you specifically wanted the numpy scalar type, use `np.bool_` here.\n",
      "Deprecated in NumPy 1.20; for more details and guidance: https://numpy.org/devdocs/release/1.20.0-notes.html#deprecations\n",
      "  test_mask = np.zeros(_num_samples(X), dtype=np.bool)\n",
      "C:\\Users\\slm\\Anaconda3\\lib\\site-packages\\sklearn\\model_selection\\_split.py:113: DeprecationWarning: `np.bool` is a deprecated alias for the builtin `bool`. To silence this warning, use `bool` by itself. Doing this will not modify any behavior and is safe. If you specifically wanted the numpy scalar type, use `np.bool_` here.\n",
      "Deprecated in NumPy 1.20; for more details and guidance: https://numpy.org/devdocs/release/1.20.0-notes.html#deprecations\n",
      "  test_mask = np.zeros(_num_samples(X), dtype=np.bool)\n",
      "C:\\Users\\slm\\Anaconda3\\lib\\site-packages\\sklearn\\feature_selection\\rfe.py:163: DeprecationWarning: `np.bool` is a deprecated alias for the builtin `bool`. To silence this warning, use `bool` by itself. Doing this will not modify any behavior and is safe. If you specifically wanted the numpy scalar type, use `np.bool_` here.\n",
      "Deprecated in NumPy 1.20; for more details and guidance: https://numpy.org/devdocs/release/1.20.0-notes.html#deprecations\n",
      "  support_ = np.ones(n_features, dtype=np.bool)\n",
      "C:\\Users\\slm\\Anaconda3\\lib\\site-packages\\sklearn\\feature_selection\\rfe.py:164: DeprecationWarning: `np.int` is a deprecated alias for the builtin `int`. To silence this warning, use `int` by itself. Doing this will not modify any behavior and is safe. When replacing `np.int`, you may wish to use e.g. `np.int64` or `np.int32` to specify the precision. If you wish to review your current use, check the release note link for additional information.\n",
      "Deprecated in NumPy 1.20; for more details and guidance: https://numpy.org/devdocs/release/1.20.0-notes.html#deprecations\n",
      "  ranking_ = np.ones(n_features, dtype=np.int)\n",
      "C:\\Users\\slm\\Anaconda3\\lib\\site-packages\\sklearn\\feature_selection\\rfe.py:163: DeprecationWarning: `np.bool` is a deprecated alias for the builtin `bool`. To silence this warning, use `bool` by itself. Doing this will not modify any behavior and is safe. If you specifically wanted the numpy scalar type, use `np.bool_` here.\n",
      "Deprecated in NumPy 1.20; for more details and guidance: https://numpy.org/devdocs/release/1.20.0-notes.html#deprecations\n",
      "  support_ = np.ones(n_features, dtype=np.bool)\n",
      "C:\\Users\\slm\\Anaconda3\\lib\\site-packages\\sklearn\\feature_selection\\rfe.py:164: DeprecationWarning: `np.int` is a deprecated alias for the builtin `int`. To silence this warning, use `int` by itself. Doing this will not modify any behavior and is safe. When replacing `np.int`, you may wish to use e.g. `np.int64` or `np.int32` to specify the precision. If you wish to review your current use, check the release note link for additional information.\n",
      "Deprecated in NumPy 1.20; for more details and guidance: https://numpy.org/devdocs/release/1.20.0-notes.html#deprecations\n",
      "  ranking_ = np.ones(n_features, dtype=np.int)\n",
      "C:\\Users\\slm\\Anaconda3\\lib\\site-packages\\sklearn\\feature_selection\\rfe.py:163: DeprecationWarning: `np.bool` is a deprecated alias for the builtin `bool`. To silence this warning, use `bool` by itself. Doing this will not modify any behavior and is safe. If you specifically wanted the numpy scalar type, use `np.bool_` here.\n",
      "Deprecated in NumPy 1.20; for more details and guidance: https://numpy.org/devdocs/release/1.20.0-notes.html#deprecations\n",
      "  support_ = np.ones(n_features, dtype=np.bool)\n",
      "C:\\Users\\slm\\Anaconda3\\lib\\site-packages\\sklearn\\feature_selection\\rfe.py:164: DeprecationWarning: `np.int` is a deprecated alias for the builtin `int`. To silence this warning, use `int` by itself. Doing this will not modify any behavior and is safe. When replacing `np.int`, you may wish to use e.g. `np.int64` or `np.int32` to specify the precision. If you wish to review your current use, check the release note link for additional information.\n",
      "Deprecated in NumPy 1.20; for more details and guidance: https://numpy.org/devdocs/release/1.20.0-notes.html#deprecations\n",
      "  ranking_ = np.ones(n_features, dtype=np.int)\n"
     ]
    }
   ],
   "source": [
    "gnb = GaussianNB()\n",
    "\n",
    "drfecv = RFECV(\n",
    "    estimator=svc,\n",
    "    step=1,\n",
    "    cv=StratifiedKFold(2),\n",
    "    scoring=\"accuracy\",\n",
    "    min_features_to_select=2,\n",
    ")\n",
    "drfecv.fit(Xd, yd)\n",
    "\n",
    "print(\"Optimal number of features : %d\" % drfecv.n_features_)"
   ]
  },
  {
   "cell_type": "code",
   "execution_count": 556,
   "metadata": {},
   "outputs": [
    {
     "data": {
      "image/png": "[encoded data removed]",
      "text/plain": [
       "<Figure size 432x288 with 1 Axes>"
      ]
     },
     "metadata": {
      "needs_background": "light"
     },
     "output_type": "display_data"
    }
   ],
   "source": [
    "plt.figure()\n",
    "plt.xlabel(\"Number of features selected\")\n",
    "plt.ylabel(\"Cross validation score (accuracy)\")\n",
    "plt.plot(\n",
    "    range(2, len(drfecv.grid_scores_) + 2),\n",
    "    drfecv.grid_scores_,\n",
    ")\n",
    "plt.show()"
   ]
  },
  {
   "cell_type": "code",
   "execution_count": 557,
   "metadata": {},
   "outputs": [
    {
     "data": {
      "text/plain": [
       "array([32, 34,  2,  5,  1,  6,  8, 33, 15, 22, 29, 28,  7,  4,  1,  3, 30,\n",
       "       10, 13, 23,  9, 16, 11, 35, 18, 21, 20, 17, 12, 24, 25, 26, 14, 31,\n",
       "       19, 27])"
      ]
     },
     "execution_count": 557,
     "metadata": {},
     "output_type": "execute_result"
    }
   ],
   "source": [
    "drfecv.ranking_"
   ]
  },
  {
   "cell_type": "code",
   "execution_count": 558,
   "metadata": {},
   "outputs": [
    {
     "data": {
      "text/plain": [
       "36"
      ]
     },
     "execution_count": 558,
     "metadata": {},
     "output_type": "execute_result"
    }
   ],
   "source": [
    "len(drfecv.support_)"
   ]
  },
  {
   "cell_type": "code",
   "execution_count": 559,
   "metadata": {},
   "outputs": [
    {
     "name": "stdout",
     "output_type": "stream",
     "text": [
      "psqi_score 4\n",
      "hamd_hamd21_score 14\n"
     ]
    }
   ],
   "source": [
    "drfefn = []\n",
    "for i in range(len(drfecv.support_)):\n",
    "    if drfecv.support_[i] == True:\n",
    "        print(Xd.keys().tolist()[i] + \" \"+ str(i))\n",
    "        drfefn.append(Xd.keys().tolist()[i])"
   ]
  },
  {
   "cell_type": "code",
   "execution_count": 561,
   "metadata": {},
   "outputs": [
    {
     "data": {
      "text/html": [
       "<div>\n",
       "<style scoped>\n",
       "    .dataframe tbody tr th:only-of-type {\n",
       "        vertical-align: middle;\n",
       "    }\n",
       "\n",
       "    .dataframe tbody tr th {\n",
       "        vertical-align: top;\n",
       "    }\n",
       "\n",
       "    .dataframe thead th {\n",
       "        text-align: right;\n",
       "    }\n",
       "</style>\n",
       "<table border=\"1\" class=\"dataframe\">\n",
       "  <thead>\n",
       "    <tr style=\"text-align: right;\">\n",
       "      <th></th>\n",
       "      <th>psqi_score</th>\n",
       "      <th>hamd_hamd21_score</th>\n",
       "    </tr>\n",
       "    <tr>\n",
       "      <th>si</th>\n",
       "      <th></th>\n",
       "      <th></th>\n",
       "    </tr>\n",
       "  </thead>\n",
       "  <tbody>\n",
       "    <tr>\n",
       "      <th>AA003</th>\n",
       "      <td>5.0</td>\n",
       "      <td>1.0</td>\n",
       "    </tr>\n",
       "    <tr>\n",
       "      <th>AA101</th>\n",
       "      <td>5.0</td>\n",
       "      <td>2.0</td>\n",
       "    </tr>\n",
       "    <tr>\n",
       "      <th>AA115</th>\n",
       "      <td>5.0</td>\n",
       "      <td>1.0</td>\n",
       "    </tr>\n",
       "    <tr>\n",
       "      <th>AA296</th>\n",
       "      <td>5.0</td>\n",
       "      <td>0.0</td>\n",
       "    </tr>\n",
       "    <tr>\n",
       "      <th>AA328</th>\n",
       "      <td>12.0</td>\n",
       "      <td>19.0</td>\n",
       "    </tr>\n",
       "  </tbody>\n",
       "</table>\n",
       "</div>"
      ],
      "text/plain": [
       "       psqi_score  hamd_hamd21_score\n",
       "si                                  \n",
       "AA003         5.0                1.0\n",
       "AA101         5.0                2.0\n",
       "AA115         5.0                1.0\n",
       "AA296         5.0                0.0\n",
       "AA328        12.0               19.0"
      ]
     },
     "execution_count": 561,
     "metadata": {},
     "output_type": "execute_result"
    }
   ],
   "source": [
    "Xd_rfe = Xd[drfefn]\n",
    "Xd_rfe.head()"
   ]
  },
  {
   "cell_type": "code",
   "execution_count": 562,
   "metadata": {},
   "outputs": [
    {
     "name": "stdout",
     "output_type": "stream",
     "text": [
      "Gaussian Naive Bayes Classifier report for RFECV: \n",
      "\n",
      "               precision    recall  f1-score   support\n",
      "\n",
      "           0       0.93      0.93      0.93        14\n",
      "           1       0.94      0.94      0.94        18\n",
      "\n",
      "   micro avg       0.94      0.94      0.94        32\n",
      "   macro avg       0.94      0.94      0.94        32\n",
      "weighted avg       0.94      0.94      0.94        32\n",
      "\n"
     ]
    }
   ],
   "source": [
    "Xd_train_rfe, Xd_test_rfe, yd_train_rfe, yd_test_rfe = train_test_split(Xd_rfe, yd, test_size=0.2, random_state=42)\n",
    "gnb_drfe = GaussianNB()\n",
    "gnb_drfe.fit(Xd_train_rfe, yd_train_rfe)\n",
    "gnb_p_drfe = gnb_drfe.predict(Xd_test_rfe)\n",
    "print(\"Gaussian Naive Bayes Classifier report for RFECV: \\n\\n\", classification_report(yd_test_rfe, gnb_p_drfe))"
   ]
  },
  {
   "cell_type": "markdown",
   "metadata": {},
   "source": [
    "## Feature Selection on Gene Expression\n",
    "\n",
    "### Select K Best\n",
    "    - Chi square\n",
    "    - ANOVA f-value\n",
    "    - Mutual information"
   ]
  },
  {
   "cell_type": "code",
   "execution_count": 201,
   "metadata": {},
   "outputs": [
    {
     "data": {
      "text/plain": [
       "(157, 10)"
      ]
     },
     "execution_count": 201,
     "metadata": {},
     "output_type": "execute_result"
    }
   ],
   "source": [
    "sk10 = SelectKBest(chi2, k=10)\n",
    "sk10.fit_transform(X, y)\n",
    "X_k10 = X.iloc[:,sk10.get_support(indices=True)]\n",
    "X_p.shape"
   ]
  },
  {
   "cell_type": "code",
   "execution_count": 202,
   "metadata": {},
   "outputs": [
    {
     "data": {
      "text/plain": [
       "Index(['CD83', 'DPEP3', 'FAM129B', 'HMGN2P46', 'MDGA1', 'NKX1-1', 'RARS2',\n",
       "       'TNC', 'UBD', 'ZDHHC20'],\n",
       "      dtype='object')"
      ]
     },
     "execution_count": 202,
     "metadata": {},
     "output_type": "execute_result"
    }
   ],
   "source": [
    "X_k10.keys()"
   ]
  },
  {
   "cell_type": "code",
   "execution_count": 203,
   "metadata": {},
   "outputs": [
    {
     "data": {
      "text/plain": [
       "(157, 10)"
      ]
     },
     "execution_count": 203,
     "metadata": {},
     "output_type": "execute_result"
    }
   ],
   "source": [
    "sk10f = SelectKBest(f_classif, k=10)\n",
    "sk10f.fit_transform(X, y)\n",
    "X_k10f = X.iloc[:,sk10f.get_support(indices=True)]\n",
    "X_k10f.shape"
   ]
  },
  {
   "cell_type": "code",
   "execution_count": 204,
   "metadata": {},
   "outputs": [
    {
     "data": {
      "text/plain": [
       "Index(['ARFGAP1', 'BCL2L12', 'CBL', 'FAM138A', 'IRF2BPL', 'KANTR', 'MDGA1',\n",
       "       'NPFF', 'UBD', 'ZDHHC20'],\n",
       "      dtype='object')"
      ]
     },
     "execution_count": 204,
     "metadata": {},
     "output_type": "execute_result"
    }
   ],
   "source": [
    "X_k10f.keys()"
   ]
  },
  {
   "cell_type": "code",
   "execution_count": 205,
   "metadata": {},
   "outputs": [
    {
     "data": {
      "text/plain": [
       "(157, 10)"
      ]
     },
     "execution_count": 205,
     "metadata": {},
     "output_type": "execute_result"
    }
   ],
   "source": [
    "sk10m = SelectKBest(mutual_info_classif, k=10)\n",
    "sk10m.fit_transform(X, y)\n",
    "X_k10m = X.iloc[:,sk10m.get_support(indices=True)]\n",
    "X_k10m.shape"
   ]
  },
  {
   "cell_type": "code",
   "execution_count": 206,
   "metadata": {},
   "outputs": [
    {
     "data": {
      "text/plain": [
       "Index(['AASS', 'ARPC4', 'BAZ2A', 'FUNDC1', 'MKNK1-AS1', 'RNASEH1-AS1', 'RPL15',\n",
       "       'SNX18', 'SRSF7', 'ZMYM6NB'],\n",
       "      dtype='object')"
      ]
     },
     "execution_count": 206,
     "metadata": {},
     "output_type": "execute_result"
    }
   ],
   "source": [
    "X_k10m.keys()"
   ]
  },
  {
   "cell_type": "code",
   "execution_count": 431,
   "metadata": {},
   "outputs": [
    {
     "name": "stdout",
     "output_type": "stream",
     "text": [
      "Gaussian Naive Bayes Classifier report for 10-best with chi square: \n",
      "\n",
      "               precision    recall  f1-score   support\n",
      "\n",
      "         0.0       0.70      0.50      0.58        14\n",
      "         1.0       0.68      0.83      0.75        18\n",
      "\n",
      "   micro avg       0.69      0.69      0.69        32\n",
      "   macro avg       0.69      0.67      0.67        32\n",
      "weighted avg       0.69      0.69      0.68        32\n",
      "\n",
      "Gaussian Naive Bayes Classifier report for 10-best with f-value: \n",
      "\n",
      "               precision    recall  f1-score   support\n",
      "\n",
      "         0.0       0.75      0.43      0.55        14\n",
      "         1.0       0.67      0.89      0.76        18\n",
      "\n",
      "   micro avg       0.69      0.69      0.69        32\n",
      "   macro avg       0.71      0.66      0.65        32\n",
      "weighted avg       0.70      0.69      0.67        32\n",
      "\n",
      "Gaussian Naive Bayes Classifier report for 10-best with mutual info: \n",
      "\n",
      "               precision    recall  f1-score   support\n",
      "\n",
      "         0.0       0.53      0.57      0.55        14\n",
      "         1.0       0.65      0.61      0.63        18\n",
      "\n",
      "   micro avg       0.59      0.59      0.59        32\n",
      "   macro avg       0.59      0.59      0.59        32\n",
      "weighted avg       0.60      0.59      0.59        32\n",
      "\n"
     ]
    }
   ],
   "source": [
    "X_train_k10, X_test_k10, y_train_k10, y_test_k10 = train_test_split(X_k10, y, test_size=0.2, random_state=42)\n",
    "X_train_k10f, X_test_k10f, y_train_k10f, y_test_k10f = train_test_split(X_k10f, y, test_size=0.2, random_state=42)\n",
    "X_train_k10m, X_test_k10m, y_train_k10m, y_test_k10m = train_test_split(X_k10m, y, test_size=0.2, random_state=42)\n",
    "\n",
    "gnb1,gnb2,gnb3 = GaussianNB(),GaussianNB(),GaussianNB()\n",
    "gnb1.fit(X_train_k10, y_train_k10)\n",
    "gnb2.fit(X_train_k10f, y_train_k10f)\n",
    "gnb3.fit(X_train_k10m, y_train_k10m)\n",
    "gnb_k10 = gnb1.predict(X_test_k10)\n",
    "print(\"Gaussian Naive Bayes Classifier report for 10-best with chi square: \\n\\n\", classification_report(y_test_k10, gnb_k10))\n",
    "gnb_k10f = gnb2.predict(X_test_k10f)\n",
    "print(\"Gaussian Naive Bayes Classifier report for 10-best with f-value: \\n\\n\", classification_report(y_test_k10f, gnb_k10f))\n",
    "gnb_k10m = gnb3.predict(X_test_k10m)\n",
    "print(\"Gaussian Naive Bayes Classifier report for 10-best with mutual info: \\n\\n\", classification_report(y_test_k10m, gnb_k10m))"
   ]
  },
  {
   "cell_type": "markdown",
   "metadata": {},
   "source": [
    "### Select Percentile - %1\n",
    "    - Chi square\n",
    "    - ANOVA f-value\n",
    "    - Mutual information"
   ]
  },
  {
   "cell_type": "code",
   "execution_count": 216,
   "metadata": {},
   "outputs": [
    {
     "data": {
      "text/plain": [
       "(157, 56)"
      ]
     },
     "execution_count": 216,
     "metadata": {},
     "output_type": "execute_result"
    }
   ],
   "source": [
    "sp1 = SelectPercentile(chi2, percentile=1)\n",
    "sp1.fit_transform(X, y)\n",
    "X_1p = X.iloc[:,sp1.get_support(indices=True)]\n",
    "X_1p.shape"
   ]
  },
  {
   "cell_type": "code",
   "execution_count": 217,
   "metadata": {},
   "outputs": [
    {
     "data": {
      "text/plain": [
       "Index(['ABCE1', 'AHCTF1P1', 'AHSG', 'AP4B1-AS1', 'BIRC5', 'C1orf35', 'CD83',\n",
       "       'CDC14B', 'CDC20', 'CHMP1B2P', 'CHP1', 'CHSY3', 'DDHD2', 'DDX26B-AS1',\n",
       "       'DDX58', 'DPEP3', 'EHF', 'ELK4', 'FAM129B', 'FLJ31356', 'FOXRED2',\n",
       "       'GSC', 'HMGN2P46', 'HNRNPA1P10', 'ICOS', 'IFI16', 'LINC01001', 'LUC7L2',\n",
       "       'MCTS2P', 'MDGA1', 'METTL4', 'MITF', 'MRPS26', 'MYO1A', 'NAA20',\n",
       "       'NKX1-1', 'NR1H2', 'OIP5', 'PAPL', 'POGZ', 'PPP2R5C', 'PTP4A2', 'RARS2',\n",
       "       'SS18L2', 'SUMO3', 'TAF1D', 'TNC', 'TOMM34', 'UBD', 'WDR76', 'ZDHHC20',\n",
       "       'ZFP36L2', 'ZMYM6NB', 'ZNF225', 'ZNF518B', 'ZNF549'],\n",
       "      dtype='object')"
      ]
     },
     "execution_count": 217,
     "metadata": {},
     "output_type": "execute_result"
    }
   ],
   "source": [
    "X_1p.keys()"
   ]
  },
  {
   "cell_type": "code",
   "execution_count": 191,
   "metadata": {},
   "outputs": [
    {
     "data": {
      "text/plain": [
       "(157, 56)"
      ]
     },
     "execution_count": 191,
     "metadata": {},
     "output_type": "execute_result"
    }
   ],
   "source": [
    "sp1f = SelectPercentile(f_classif, percentile=1)\n",
    "sp1f.fit_transform(X, y)\n",
    "X_1pf = X.iloc[:,sp1f.get_support(indices=True)]\n",
    "X_1pf.shape"
   ]
  },
  {
   "cell_type": "code",
   "execution_count": 192,
   "metadata": {},
   "outputs": [
    {
     "data": {
      "text/plain": [
       "Index(['ABCE1', 'AP1G2', 'ARFGAP1', 'ATXN7L2', 'BCL2L12', 'C16orf74',\n",
       "       'C1orf35', 'CBL', 'CCAR2', 'CD83', 'CDC20', 'CDK5RAP2', 'CSPG4',\n",
       "       'DPEP3', 'DYNLRB1', 'EIF2D', 'ELP3', 'EXOSC2', 'FAM129B', 'FAM138A',\n",
       "       'FAM193A', 'HMGN2P46', 'HNRNPUL2', 'ICOS', 'IRF2BPL', 'ISX', 'KANTR',\n",
       "       'KPNA2', 'LEUTX', 'LRRC37BP1', 'MCM3AP-AS1', 'MDGA1', 'METAP1D',\n",
       "       'NDUFB1', 'NGRN', 'NPFF', 'PANX1', 'POGZ', 'PRPF31', 'RARS2', 'RCSD1',\n",
       "       'SETDB2', 'SRSF5', 'SS18L2', 'STX16-NPEPL1', 'SUPT7L', 'TADA3',\n",
       "       'TOMM34', 'TRPC5', 'TSC2', 'TSR3', 'UBD', 'ZDHHC20', 'ZFP36L2',\n",
       "       'ZMYM6NB', 'ZNF658'],\n",
       "      dtype='object')"
      ]
     },
     "execution_count": 192,
     "metadata": {},
     "output_type": "execute_result"
    }
   ],
   "source": [
    "X_1pf.keys()"
   ]
  },
  {
   "cell_type": "code",
   "execution_count": 193,
   "metadata": {},
   "outputs": [
    {
     "data": {
      "text/plain": [
       "(157, 56)"
      ]
     },
     "execution_count": 193,
     "metadata": {},
     "output_type": "execute_result"
    }
   ],
   "source": [
    "sp1m = SelectPercentile(mutual_info_classif, percentile=1)\n",
    "sp1m.fit_transform(X, y)\n",
    "X_1pm = X.iloc[:,sp1m.get_support(indices=True)]\n",
    "X_1pm.shape"
   ]
  },
  {
   "cell_type": "code",
   "execution_count": 194,
   "metadata": {},
   "outputs": [
    {
     "data": {
      "text/plain": [
       "Index(['AASS', 'ANAPC4', 'ARPC4', 'BAZ2A', 'C9orf116', 'CASP10', 'CCAR2',\n",
       "       'COPB2', 'COPS6', 'DNAJC11', 'EIF3A', 'FCGBP', 'FOXN3-AS1', 'FUNDC1',\n",
       "       'GSC', 'HADH', 'HNRNPA1P10', 'HSPE1', 'IREB2', 'KBTBD3', 'KDM1B',\n",
       "       'LEUTX', 'LIMK2', '8-Mar', 'MIIP', 'MKNK1-AS1', 'MPO', 'MRPS31',\n",
       "       'N4BP2L1', 'NAB2', 'NUDT6', 'PCYT1A', 'PTCH1', 'RCSD1', 'RNASEH1-AS1',\n",
       "       'RNASEH2B-AS1', 'RPL15', 'RRP9', 'SEC61A2', 'SEPW1', 'SLC35A5', 'SNX18',\n",
       "       'SRSF7', 'STYXL1', 'SUPT7L', 'TAB3', 'TBCA', 'TRIM39', 'TYRP1', 'UBL4B',\n",
       "       'UBR4', 'VPS18', 'WSCD1', 'ZBTB11-AS1', 'ZFP91-CNTF', 'ZMYM6NB'],\n",
       "      dtype='object')"
      ]
     },
     "execution_count": 194,
     "metadata": {},
     "output_type": "execute_result"
    }
   ],
   "source": [
    "X_1pm.keys()"
   ]
  },
  {
   "cell_type": "code",
   "execution_count": 432,
   "metadata": {},
   "outputs": [
    {
     "name": "stdout",
     "output_type": "stream",
     "text": [
      "Gaussian Naive Bayes Classifier report for best %1 with chi square: \n",
      "\n",
      "               precision    recall  f1-score   support\n",
      "\n",
      "         0.0       0.60      0.43      0.50        14\n",
      "         1.0       0.64      0.78      0.70        18\n",
      "\n",
      "   micro avg       0.62      0.62      0.62        32\n",
      "   macro avg       0.62      0.60      0.60        32\n",
      "weighted avg       0.62      0.62      0.61        32\n",
      "\n",
      "Gaussian Naive Bayes Classifier report for best %1 with f-value: \n",
      "\n",
      "               precision    recall  f1-score   support\n",
      "\n",
      "         0.0       0.67      0.43      0.52        14\n",
      "         1.0       0.65      0.83      0.73        18\n",
      "\n",
      "   micro avg       0.66      0.66      0.66        32\n",
      "   macro avg       0.66      0.63      0.63        32\n",
      "weighted avg       0.66      0.66      0.64        32\n",
      "\n",
      "Gaussian Naive Bayes Classifier report for best %1 with mutual info: \n",
      "\n",
      "               precision    recall  f1-score   support\n",
      "\n",
      "         0.0       0.38      0.36      0.37        14\n",
      "         1.0       0.53      0.56      0.54        18\n",
      "\n",
      "   micro avg       0.47      0.47      0.47        32\n",
      "   macro avg       0.46      0.46      0.46        32\n",
      "weighted avg       0.46      0.47      0.47        32\n",
      "\n"
     ]
    }
   ],
   "source": [
    "X_train_1p, X_test_1p, y_train_1p, y_test_1p = train_test_split(X_1p, y, test_size=0.2, random_state=42)\n",
    "X_train_1pf, X_test_1pf, y_train_1pf, y_test_1pf = train_test_split(X_1pf, y, test_size=0.2, random_state=42)\n",
    "X_train_1pm, X_test_1pm, y_train_1pm, y_test_1pm = train_test_split(X_1pm, y, test_size=0.2, random_state=42)\n",
    "\n",
    "gnb4,gnb5,gnb6 = GaussianNB(),GaussianNB(),GaussianNB()\n",
    "gnb4.fit(X_train_1p, y_train_1p)\n",
    "gnb5.fit(X_train_1pf, y_train_1pf)\n",
    "gnb6.fit(X_train_1pm, y_train_1pm)\n",
    "gnb_1p = gnb4.predict(X_test_1p)\n",
    "print(\"Gaussian Naive Bayes Classifier report for best %1 with chi square: \\n\\n\", classification_report(y_test_1p, gnb_1p))\n",
    "gnb_1pf = gnb5.predict(X_test_1pf)\n",
    "print(\"Gaussian Naive Bayes Classifier report for best %1 with f-value: \\n\\n\", classification_report(y_test_1pf, gnb_1pf))\n",
    "gnb_1pm = gnb6.predict(X_test_1pm)\n",
    "print(\"Gaussian Naive Bayes Classifier report for best %1 with mutual info: \\n\\n\", classification_report(y_test_1pm, gnb_1pm))"
   ]
  },
  {
   "cell_type": "markdown",
   "metadata": {},
   "source": [
    "Select Percentile %0.1"
   ]
  },
  {
   "cell_type": "code",
   "execution_count": 221,
   "metadata": {},
   "outputs": [
    {
     "data": {
      "text/plain": [
       "(157, 6)"
      ]
     },
     "execution_count": 221,
     "metadata": {},
     "output_type": "execute_result"
    }
   ],
   "source": [
    "sp01f = SelectPercentile(f_classif, percentile=0.1)\n",
    "sp01f.fit_transform(X, y)\n",
    "X_01pf = X.iloc[:,sp01f.get_support(indices=True)]\n",
    "X_01pf.shape"
   ]
  },
  {
   "cell_type": "code",
   "execution_count": 222,
   "metadata": {},
   "outputs": [
    {
     "data": {
      "text/plain": [
       "Index(['ARFGAP1', 'FAM138A', 'IRF2BPL', 'MDGA1', 'NPFF', 'ZDHHC20'], dtype='object')"
      ]
     },
     "execution_count": 222,
     "metadata": {},
     "output_type": "execute_result"
    }
   ],
   "source": [
    "X_01pf.keys()"
   ]
  },
  {
   "cell_type": "code",
   "execution_count": 433,
   "metadata": {},
   "outputs": [
    {
     "name": "stdout",
     "output_type": "stream",
     "text": [
      "Gaussian Naive Bayes Classifier report for best %0.1 with f-value: \n",
      "\n",
      "               precision    recall  f1-score   support\n",
      "\n",
      "         0.0       0.70      0.50      0.58        14\n",
      "         1.0       0.68      0.83      0.75        18\n",
      "\n",
      "   micro avg       0.69      0.69      0.69        32\n",
      "   macro avg       0.69      0.67      0.67        32\n",
      "weighted avg       0.69      0.69      0.68        32\n",
      "\n"
     ]
    }
   ],
   "source": [
    "X_train_01pf, X_test_01pf, y_train_01pf, y_test_01pf = train_test_split(X_01pf, y, test_size=0.2, random_state=42)\n",
    "gnb7 = GaussianNB()\n",
    "gnb7.fit(X_train_01pf, y_train_01pf)\n",
    "gnb_p_01pf = gnb7.predict(X_test_01pf)\n",
    "print(\"Gaussian Naive Bayes Classifier report for best %0.1 with f-value: \\n\\n\", classification_report(y_test_01pf, gnb_p_01pf))"
   ]
  },
  {
   "cell_type": "markdown",
   "metadata": {},
   "source": [
    "### False Positive Rate\n",
    "    - Chi square\n",
    "    - ANOVA f-value\n",
    "Mutual information is not included for this method due to NoneType values"
   ]
  },
  {
   "cell_type": "code",
   "execution_count": 283,
   "metadata": {},
   "outputs": [],
   "source": [
    "fpr = SelectFpr(chi2, alpha=0.79)\n",
    "fpr.fit_transform(X, y)\n",
    "fprf = SelectFpr(f_classif, alpha=0.001)\n",
    "fprf.fit_transform(X, y)\n",
    "#fprm = SelectFpr(mutual_info_classif, alpha=1)\n",
    "#fprm.fit_transform(X, y)\n",
    "X_fpr = X.iloc[:,fpr.get_support(indices=True)]\n",
    "X_fprf = X.iloc[:,fprf.get_support(indices=True)]\n",
    "#X_fprm = X.iloc[:,fprm.get_support(indices=True)]"
   ]
  },
  {
   "cell_type": "code",
   "execution_count": 284,
   "metadata": {},
   "outputs": [
    {
     "data": {
      "text/plain": [
       "Index(['ABCE1', 'AHCTF1P1', 'AHSG', 'AP4B1-AS1', 'BIRC5', 'C1orf35', 'CD83',\n",
       "       'CDC14B', 'CDC20', 'DDHD2', 'DDX26B-AS1', 'DPEP3', 'EHF', 'FAM129B',\n",
       "       'FLJ31356', 'FOXRED2', 'GSC', 'HMGN2P46', 'HNRNPA1P10', 'ICOS', 'IFI16',\n",
       "       'LINC01001', 'LUC7L2', 'MDGA1', 'METTL4', 'MRPS26', 'NAA20', 'NKX1-1',\n",
       "       'NR1H2', 'OIP5', 'PAPL', 'POGZ', 'RARS2', 'SS18L2', 'SUMO3', 'TNC',\n",
       "       'UBD', 'WDR76', 'ZDHHC20', 'ZFP36L2', 'ZMYM6NB', 'ZNF225', 'ZNF518B',\n",
       "       'ZNF549'],\n",
       "      dtype='object')"
      ]
     },
     "execution_count": 284,
     "metadata": {},
     "output_type": "execute_result"
    }
   ],
   "source": [
    "X_fpr.keys()"
   ]
  },
  {
   "cell_type": "code",
   "execution_count": 285,
   "metadata": {},
   "outputs": [
    {
     "data": {
      "text/plain": [
       "Index(['ABCE1', 'ARFGAP1', 'ATXN7L2', 'BCL2L12', 'C16orf74', 'C1orf35', 'CBL',\n",
       "       'CCAR2', 'CD83', 'CDK5RAP2', 'CSPG4', 'DPEP3', 'DYNLRB1', 'EIF2D',\n",
       "       'ELP3', 'FAM138A', 'FAM193A', 'HMGN2P46', 'HNRNPUL2', 'ICOS', 'IRF2BPL',\n",
       "       'ISX', 'KANTR', 'LEUTX', 'MCM3AP-AS1', 'MDGA1', 'NDUFB1', 'NGRN',\n",
       "       'NPFF', 'PANX1', 'POGZ', 'RARS2', 'RCSD1', 'SETDB2', 'SRSF5', 'SS18L2',\n",
       "       'STX16-NPEPL1', 'SUPT7L', 'TADA3', 'TOMM34', 'TRPC5', 'TSC2', 'TSR3',\n",
       "       'UBD', 'ZDHHC20', 'ZFP36L2', 'ZMYM6NB', 'ZNF658'],\n",
       "      dtype='object')"
      ]
     },
     "execution_count": 285,
     "metadata": {},
     "output_type": "execute_result"
    }
   ],
   "source": [
    "X_fprf.keys()"
   ]
  },
  {
   "cell_type": "code",
   "execution_count": 765,
   "metadata": {},
   "outputs": [
    {
     "data": {
      "text/plain": [
       "48"
      ]
     },
     "execution_count": 765,
     "metadata": {},
     "output_type": "execute_result"
    }
   ],
   "source": [
    "len(X_fprf.keys())"
   ]
  },
  {
   "cell_type": "code",
   "execution_count": 434,
   "metadata": {},
   "outputs": [
    {
     "name": "stdout",
     "output_type": "stream",
     "text": [
      "Gaussian Naive Bayes Classifier report for FPR chi square: \n",
      "\n",
      "               precision    recall  f1-score   support\n",
      "\n",
      "         0.0       0.60      0.43      0.50        14\n",
      "         1.0       0.64      0.78      0.70        18\n",
      "\n",
      "   micro avg       0.62      0.62      0.62        32\n",
      "   macro avg       0.62      0.60      0.60        32\n",
      "weighted avg       0.62      0.62      0.61        32\n",
      "\n",
      "Gaussian Naive Bayes Classifier report for FPR f-value: \n",
      "\n",
      "               precision    recall  f1-score   support\n",
      "\n",
      "         0.0       0.67      0.43      0.52        14\n",
      "         1.0       0.65      0.83      0.73        18\n",
      "\n",
      "   micro avg       0.66      0.66      0.66        32\n",
      "   macro avg       0.66      0.63      0.63        32\n",
      "weighted avg       0.66      0.66      0.64        32\n",
      "\n"
     ]
    }
   ],
   "source": [
    "X_train_fpr, X_test_fpr, y_train_fpr, y_test_fpr = train_test_split(X_fpr, y, test_size=0.2, random_state=42)\n",
    "X_train_fprf, X_test_fprf, y_train_fprf, y_test_fprf = train_test_split(X_fprf, y, test_size=0.2, random_state=42)\n",
    "\n",
    "gnb_fpr,gnb_fprf = GaussianNB(),GaussianNB()\n",
    "gnb_fpr.fit(X_train_fpr, y_train_fpr)\n",
    "gnb_fprf.fit(X_train_fprf, y_train_fprf)\n",
    "gnb_p_fpr = gnb_fpr.predict(X_test_fpr)\n",
    "print(\"Gaussian Naive Bayes Classifier report for FPR chi square: \\n\\n\", classification_report(y_test_fpr, gnb_p_fpr))\n",
    "gnb_p_fprf = gnb_fprf.predict(X_test_fprf)\n",
    "print(\"Gaussian Naive Bayes Classifier report for FPR f-value: \\n\\n\", classification_report(y_test_fprf, gnb_p_fprf))"
   ]
  },
  {
   "cell_type": "markdown",
   "metadata": {},
   "source": [
    "### False Discovery Rate\n",
    "    - ANOVA f-value\n",
    "Chi square is excluded since there is no significance found in false discoveries with this method.\n",
    "\n",
    "Mutual information is not included for this method due to NoneType values"
   ]
  },
  {
   "cell_type": "code",
   "execution_count": 332,
   "metadata": {},
   "outputs": [
    {
     "name": "stderr",
     "output_type": "stream",
     "text": [
      "C:\\Users\\slm\\Anaconda3\\lib\\site-packages\\sklearn\\feature_selection\\base.py:80: UserWarning: No features were selected: either the data is too noisy or the selection test too strict.\n",
      "  UserWarning)\n"
     ]
    }
   ],
   "source": [
    "fdr = SelectFdr(chi2, alpha=0.99)\n",
    "fdr.fit_transform(X, y)\n",
    "fdrf = SelectFdr(f_classif, alpha=0.11)\n",
    "fdrf.fit_transform(X, y)\n",
    "#fdrm = SelectFdr(mutual_info_classif, alpha=1)\n",
    "#fdrm.fit_transform(X, y)\n",
    "X_fdr = X.iloc[:,fdr.get_support(indices=True)]\n",
    "X_fdrf = X.iloc[:,fdrf.get_support(indices=True)]\n",
    "#X_fdrm = X.iloc[:,fdrm.get_support(indices=True)]"
   ]
  },
  {
   "cell_type": "code",
   "execution_count": 314,
   "metadata": {},
   "outputs": [
    {
     "data": {
      "text/plain": [
       "Index([], dtype='object')"
      ]
     },
     "execution_count": 314,
     "metadata": {},
     "output_type": "execute_result"
    }
   ],
   "source": [
    "X_fdr.keys()"
   ]
  },
  {
   "cell_type": "code",
   "execution_count": 333,
   "metadata": {},
   "outputs": [
    {
     "data": {
      "text/plain": [
       "Index(['ABCE1', 'ARFGAP1', 'ATXN7L2', 'BCL2L12', 'C16orf74', 'CBL', 'CCAR2',\n",
       "       'CD83', 'CDK5RAP2', 'CSPG4', 'DPEP3', 'DYNLRB1', 'EIF2D', 'FAM138A',\n",
       "       'FAM193A', 'HMGN2P46', 'HNRNPUL2', 'ICOS', 'IRF2BPL', 'ISX', 'KANTR',\n",
       "       'MDGA1', 'NDUFB1', 'NGRN', 'NPFF', 'PANX1', 'POGZ', 'RARS2', 'RCSD1',\n",
       "       'SETDB2', 'SRSF5', 'SS18L2', 'STX16-NPEPL1', 'SUPT7L', 'TADA3',\n",
       "       'TOMM34', 'TRPC5', 'TSC2', 'TSR3', 'UBD', 'ZDHHC20', 'ZFP36L2',\n",
       "       'ZMYM6NB', 'ZNF658'],\n",
       "      dtype='object')"
      ]
     },
     "execution_count": 333,
     "metadata": {},
     "output_type": "execute_result"
    }
   ],
   "source": [
    "X_fdrf.keys()"
   ]
  },
  {
   "cell_type": "code",
   "execution_count": 766,
   "metadata": {},
   "outputs": [
    {
     "data": {
      "text/plain": [
       "44"
      ]
     },
     "execution_count": 766,
     "metadata": {},
     "output_type": "execute_result"
    }
   ],
   "source": [
    "len(X_fdrf.keys())"
   ]
  },
  {
   "cell_type": "code",
   "execution_count": 435,
   "metadata": {},
   "outputs": [
    {
     "name": "stdout",
     "output_type": "stream",
     "text": [
      "Gaussian Naive Bayes Classifier report for best FDR f-value: \n",
      "\n",
      "               precision    recall  f1-score   support\n",
      "\n",
      "         0.0       0.75      0.43      0.55        14\n",
      "         1.0       0.67      0.89      0.76        18\n",
      "\n",
      "   micro avg       0.69      0.69      0.69        32\n",
      "   macro avg       0.71      0.66      0.65        32\n",
      "weighted avg       0.70      0.69      0.67        32\n",
      "\n"
     ]
    }
   ],
   "source": [
    "X_train_fdrf, X_test_fdrf, y_train_fdrf, y_test_fdrf = train_test_split(X_fdrf, y, test_size=0.2, random_state=42)\n",
    "gnb_fdrf = GaussianNB()\n",
    "gnb_fdrf.fit(X_train_fdrf, y_train_fdrf)\n",
    "gnb_p_fdrf = gnb_fdrf.predict(X_test_fdrf)\n",
    "print(\"Gaussian Naive Bayes Classifier report for best FDR f-value: \\n\\n\", classification_report(y_test_fdrf, gnb_p_fdrf))"
   ]
  },
  {
   "cell_type": "markdown",
   "metadata": {},
   "source": [
    "### Family Wise Error\n",
    "    - ANOVA f-value\n",
    "Chi square is excluded since there is no significance found in false discoveries with this method.\n",
    "\n",
    "Mutual information is not included for this method due to NoneType values"
   ]
  },
  {
   "cell_type": "code",
   "execution_count": 350,
   "metadata": {},
   "outputs": [
    {
     "name": "stderr",
     "output_type": "stream",
     "text": [
      "C:\\Users\\slm\\Anaconda3\\lib\\site-packages\\sklearn\\feature_selection\\base.py:80: UserWarning: No features were selected: either the data is too noisy or the selection test too strict.\n",
      "  UserWarning)\n"
     ]
    }
   ],
   "source": [
    "fwe = SelectFwe(chi2, alpha=0.99)\n",
    "fwe.fit_transform(X, y)\n",
    "fwef = SelectFwe(f_classif, alpha=0.99)\n",
    "fwef.fit_transform(X, y)\n",
    "#fwem = SelectFwe(mutual_info_classif, alpha=1)\n",
    "#fwem.fit_transform(X, y)\n",
    "X_fwe = X.iloc[:,fwe.get_support(indices=True)]\n",
    "X_fwef = X.iloc[:,fwef.get_support(indices=True)]\n",
    "#X_fwem = X.iloc[:,fwem.get_support(indices=True)]"
   ]
  },
  {
   "cell_type": "code",
   "execution_count": 344,
   "metadata": {},
   "outputs": [
    {
     "data": {
      "text/plain": [
       "Index([], dtype='object')"
      ]
     },
     "execution_count": 344,
     "metadata": {},
     "output_type": "execute_result"
    }
   ],
   "source": [
    "X_fwe.keys()"
   ]
  },
  {
   "cell_type": "code",
   "execution_count": 351,
   "metadata": {},
   "outputs": [
    {
     "data": {
      "text/plain": [
       "Index(['ARFGAP1', 'MDGA1', 'NPFF', 'ZDHHC20'], dtype='object')"
      ]
     },
     "execution_count": 351,
     "metadata": {},
     "output_type": "execute_result"
    }
   ],
   "source": [
    "X_fwef.keys()"
   ]
  },
  {
   "cell_type": "code",
   "execution_count": 436,
   "metadata": {},
   "outputs": [
    {
     "name": "stdout",
     "output_type": "stream",
     "text": [
      "Gaussian Naive Bayes Classifier report for best FWE f-value: \n",
      "\n",
      "               precision    recall  f1-score   support\n",
      "\n",
      "         0.0       0.60      0.43      0.50        14\n",
      "         1.0       0.64      0.78      0.70        18\n",
      "\n",
      "   micro avg       0.62      0.62      0.62        32\n",
      "   macro avg       0.62      0.60      0.60        32\n",
      "weighted avg       0.62      0.62      0.61        32\n",
      "\n"
     ]
    }
   ],
   "source": [
    "X_train_fwef, X_test_fwef, y_train_fwef, y_test_fwef = train_test_split(X_fwef, y, test_size=0.2, random_state=42)\n",
    "gnb_fwef = GaussianNB()\n",
    "gnb_fwef.fit(X_train_fwef, y_train_fwef)\n",
    "gnb_p_fwef = gnb_fwef.predict(X_test_fwef)\n",
    "print(\"Gaussian Naive Bayes Classifier report for best FWE f-value: \\n\\n\", classification_report(y_test_fwef, gnb_p_fwef))"
   ]
  },
  {
   "cell_type": "markdown",
   "metadata": {},
   "source": [
    "### Recursive Feature Elimination with Cross Validation (RFECV)"
   ]
  },
  {
   "cell_type": "code",
   "execution_count": 196,
   "metadata": {},
   "outputs": [
    {
     "name": "stderr",
     "output_type": "stream",
     "text": [
      "C:\\Users\\slm\\Anaconda3\\lib\\site-packages\\sklearn\\model_selection\\_split.py:665: DeprecationWarning: `np.int` is a deprecated alias for the builtin `int`. To silence this warning, use `int` by itself. Doing this will not modify any behavior and is safe. When replacing `np.int`, you may wish to use e.g. `np.int64` or `np.int32` to specify the precision. If you wish to review your current use, check the release note link for additional information.\n",
      "Deprecated in NumPy 1.20; for more details and guidance: https://numpy.org/devdocs/release/1.20.0-notes.html#deprecations\n",
      "  test_folds = np.zeros(n_samples, dtype=np.int)\n",
      "C:\\Users\\slm\\Anaconda3\\lib\\site-packages\\sklearn\\model_selection\\_split.py:437: DeprecationWarning: `np.int` is a deprecated alias for the builtin `int`. To silence this warning, use `int` by itself. Doing this will not modify any behavior and is safe. When replacing `np.int`, you may wish to use e.g. `np.int64` or `np.int32` to specify the precision. If you wish to review your current use, check the release note link for additional information.\n",
      "Deprecated in NumPy 1.20; for more details and guidance: https://numpy.org/devdocs/release/1.20.0-notes.html#deprecations\n",
      "  fold_sizes = np.full(n_splits, n_samples // n_splits, dtype=np.int)\n",
      "C:\\Users\\slm\\Anaconda3\\lib\\site-packages\\sklearn\\model_selection\\_split.py:113: DeprecationWarning: `np.bool` is a deprecated alias for the builtin `bool`. To silence this warning, use `bool` by itself. Doing this will not modify any behavior and is safe. If you specifically wanted the numpy scalar type, use `np.bool_` here.\n",
      "Deprecated in NumPy 1.20; for more details and guidance: https://numpy.org/devdocs/release/1.20.0-notes.html#deprecations\n",
      "  test_mask = np.zeros(_num_samples(X), dtype=np.bool)\n",
      "C:\\Users\\slm\\Anaconda3\\lib\\site-packages\\sklearn\\model_selection\\_split.py:437: DeprecationWarning: `np.int` is a deprecated alias for the builtin `int`. To silence this warning, use `int` by itself. Doing this will not modify any behavior and is safe. When replacing `np.int`, you may wish to use e.g. `np.int64` or `np.int32` to specify the precision. If you wish to review your current use, check the release note link for additional information.\n",
      "Deprecated in NumPy 1.20; for more details and guidance: https://numpy.org/devdocs/release/1.20.0-notes.html#deprecations\n",
      "  fold_sizes = np.full(n_splits, n_samples // n_splits, dtype=np.int)\n",
      "C:\\Users\\slm\\Anaconda3\\lib\\site-packages\\sklearn\\model_selection\\_split.py:113: DeprecationWarning: `np.bool` is a deprecated alias for the builtin `bool`. To silence this warning, use `bool` by itself. Doing this will not modify any behavior and is safe. If you specifically wanted the numpy scalar type, use `np.bool_` here.\n",
      "Deprecated in NumPy 1.20; for more details and guidance: https://numpy.org/devdocs/release/1.20.0-notes.html#deprecations\n",
      "  test_mask = np.zeros(_num_samples(X), dtype=np.bool)\n",
      "C:\\Users\\slm\\Anaconda3\\lib\\site-packages\\sklearn\\model_selection\\_split.py:113: DeprecationWarning: `np.bool` is a deprecated alias for the builtin `bool`. To silence this warning, use `bool` by itself. Doing this will not modify any behavior and is safe. If you specifically wanted the numpy scalar type, use `np.bool_` here.\n",
      "Deprecated in NumPy 1.20; for more details and guidance: https://numpy.org/devdocs/release/1.20.0-notes.html#deprecations\n",
      "  test_mask = np.zeros(_num_samples(X), dtype=np.bool)\n",
      "C:\\Users\\slm\\Anaconda3\\lib\\site-packages\\sklearn\\model_selection\\_split.py:113: DeprecationWarning: `np.bool` is a deprecated alias for the builtin `bool`. To silence this warning, use `bool` by itself. Doing this will not modify any behavior and is safe. If you specifically wanted the numpy scalar type, use `np.bool_` here.\n",
      "Deprecated in NumPy 1.20; for more details and guidance: https://numpy.org/devdocs/release/1.20.0-notes.html#deprecations\n",
      "  test_mask = np.zeros(_num_samples(X), dtype=np.bool)\n",
      "C:\\Users\\slm\\Anaconda3\\lib\\site-packages\\sklearn\\feature_selection\\rfe.py:163: DeprecationWarning: `np.bool` is a deprecated alias for the builtin `bool`. To silence this warning, use `bool` by itself. Doing this will not modify any behavior and is safe. If you specifically wanted the numpy scalar type, use `np.bool_` here.\n",
      "Deprecated in NumPy 1.20; for more details and guidance: https://numpy.org/devdocs/release/1.20.0-notes.html#deprecations\n",
      "  support_ = np.ones(n_features, dtype=np.bool)\n",
      "C:\\Users\\slm\\Anaconda3\\lib\\site-packages\\sklearn\\feature_selection\\rfe.py:164: DeprecationWarning: `np.int` is a deprecated alias for the builtin `int`. To silence this warning, use `int` by itself. Doing this will not modify any behavior and is safe. When replacing `np.int`, you may wish to use e.g. `np.int64` or `np.int32` to specify the precision. If you wish to review your current use, check the release note link for additional information.\n",
      "Deprecated in NumPy 1.20; for more details and guidance: https://numpy.org/devdocs/release/1.20.0-notes.html#deprecations\n",
      "  ranking_ = np.ones(n_features, dtype=np.int)\n",
      "C:\\Users\\slm\\Anaconda3\\lib\\site-packages\\sklearn\\feature_selection\\rfe.py:163: DeprecationWarning: `np.bool` is a deprecated alias for the builtin `bool`. To silence this warning, use `bool` by itself. Doing this will not modify any behavior and is safe. If you specifically wanted the numpy scalar type, use `np.bool_` here.\n",
      "Deprecated in NumPy 1.20; for more details and guidance: https://numpy.org/devdocs/release/1.20.0-notes.html#deprecations\n",
      "  support_ = np.ones(n_features, dtype=np.bool)\n",
      "C:\\Users\\slm\\Anaconda3\\lib\\site-packages\\sklearn\\feature_selection\\rfe.py:164: DeprecationWarning: `np.int` is a deprecated alias for the builtin `int`. To silence this warning, use `int` by itself. Doing this will not modify any behavior and is safe. When replacing `np.int`, you may wish to use e.g. `np.int64` or `np.int32` to specify the precision. If you wish to review your current use, check the release note link for additional information.\n",
      "Deprecated in NumPy 1.20; for more details and guidance: https://numpy.org/devdocs/release/1.20.0-notes.html#deprecations\n",
      "  ranking_ = np.ones(n_features, dtype=np.int)\n",
      "C:\\Users\\slm\\Anaconda3\\lib\\site-packages\\sklearn\\feature_selection\\rfe.py:163: DeprecationWarning: `np.bool` is a deprecated alias for the builtin `bool`. To silence this warning, use `bool` by itself. Doing this will not modify any behavior and is safe. If you specifically wanted the numpy scalar type, use `np.bool_` here.\n",
      "Deprecated in NumPy 1.20; for more details and guidance: https://numpy.org/devdocs/release/1.20.0-notes.html#deprecations\n",
      "  support_ = np.ones(n_features, dtype=np.bool)\n",
      "C:\\Users\\slm\\Anaconda3\\lib\\site-packages\\sklearn\\feature_selection\\rfe.py:164: DeprecationWarning: `np.int` is a deprecated alias for the builtin `int`. To silence this warning, use `int` by itself. Doing this will not modify any behavior and is safe. When replacing `np.int`, you may wish to use e.g. `np.int64` or `np.int32` to specify the precision. If you wish to review your current use, check the release note link for additional information.\n",
      "Deprecated in NumPy 1.20; for more details and guidance: https://numpy.org/devdocs/release/1.20.0-notes.html#deprecations\n",
      "  ranking_ = np.ones(n_features, dtype=np.int)\n"
     ]
    },
    {
     "name": "stdout",
     "output_type": "stream",
     "text": [
      "Optimal number of features : 4\n"
     ]
    }
   ],
   "source": [
    "gnb = GaussianNB()\n",
    "\n",
    "rfecv = RFECV(\n",
    "    estimator=svc,\n",
    "    step=1,\n",
    "    cv=StratifiedKFold(2),\n",
    "    scoring=\"accuracy\",\n",
    "    min_features_to_select=2,\n",
    ")\n",
    "rfecv.fit(X, y)\n",
    "\n",
    "print(\"Optimal number of features : %d\" % rfecv.n_features_)"
   ]
  },
  {
   "cell_type": "code",
   "execution_count": 197,
   "metadata": {},
   "outputs": [
    {
     "data": {
      "image/png": "[encoded data removed]",
      "text/plain": [
       "<Figure size 432x288 with 1 Axes>"
      ]
     },
     "metadata": {
      "needs_background": "light"
     },
     "output_type": "display_data"
    }
   ],
   "source": [
    "plt.figure()\n",
    "plt.xlabel(\"Number of features selected\")\n",
    "plt.ylabel(\"Cross validation score (accuracy)\")\n",
    "plt.plot(\n",
    "    range(2, len(rfecv.grid_scores_) + 2),\n",
    "    rfecv.grid_scores_,\n",
    ")\n",
    "plt.show()"
   ]
  },
  {
   "cell_type": "code",
   "execution_count": 198,
   "metadata": {},
   "outputs": [
    {
     "data": {
      "text/plain": [
       "array([5251,  834, 5443, ..., 1538, 3434, 4062])"
      ]
     },
     "execution_count": 198,
     "metadata": {},
     "output_type": "execute_result"
    }
   ],
   "source": [
    "rfecv.ranking_"
   ]
  },
  {
   "cell_type": "code",
   "execution_count": 199,
   "metadata": {},
   "outputs": [
    {
     "data": {
      "text/plain": [
       "5587"
      ]
     },
     "execution_count": 199,
     "metadata": {},
     "output_type": "execute_result"
    }
   ],
   "source": [
    "len(rfecv.support_)"
   ]
  },
  {
   "cell_type": "code",
   "execution_count": 200,
   "metadata": {},
   "outputs": [
    {
     "name": "stdout",
     "output_type": "stream",
     "text": [
      "CDC14B 771\n",
      "ELP3 1445\n",
      "MICU1 2664\n",
      "TUSC3 5034\n"
     ]
    }
   ],
   "source": [
    "rfegn = []\n",
    "for i in range(len(rfecv.support_)):\n",
    "    if rfecv.support_[i] == True:\n",
    "        print(X.keys().tolist()[i] + \" \"+ str(i))\n",
    "        rfegn.append(X.keys().tolist()[i])"
   ]
  },
  {
   "cell_type": "code",
   "execution_count": 166,
   "metadata": {},
   "outputs": [
    {
     "data": {
      "text/html": [
       "<div>\n",
       "<style scoped>\n",
       "    .dataframe tbody tr th:only-of-type {\n",
       "        vertical-align: middle;\n",
       "    }\n",
       "\n",
       "    .dataframe tbody tr th {\n",
       "        vertical-align: top;\n",
       "    }\n",
       "\n",
       "    .dataframe thead th {\n",
       "        text-align: right;\n",
       "    }\n",
       "</style>\n",
       "<table border=\"1\" class=\"dataframe\">\n",
       "  <thead>\n",
       "    <tr style=\"text-align: right;\">\n",
       "      <th></th>\n",
       "      <th>CDC14B</th>\n",
       "      <th>ELP3</th>\n",
       "      <th>MICU1</th>\n",
       "      <th>TUSC3</th>\n",
       "    </tr>\n",
       "  </thead>\n",
       "  <tbody>\n",
       "    <tr>\n",
       "      <th>0</th>\n",
       "      <td>6.14148</td>\n",
       "      <td>6.02133</td>\n",
       "      <td>5.13999</td>\n",
       "      <td>4.69555</td>\n",
       "    </tr>\n",
       "    <tr>\n",
       "      <th>0.1</th>\n",
       "      <td>5.92282</td>\n",
       "      <td>6.2366</td>\n",
       "      <td>4.94526</td>\n",
       "      <td>4.75867</td>\n",
       "    </tr>\n",
       "    <tr>\n",
       "      <th>0.2</th>\n",
       "      <td>5.78886</td>\n",
       "      <td>5.8695</td>\n",
       "      <td>5.21779</td>\n",
       "      <td>4.79789</td>\n",
       "    </tr>\n",
       "    <tr>\n",
       "      <th>0.3</th>\n",
       "      <td>5.20258</td>\n",
       "      <td>5.88696</td>\n",
       "      <td>5.69822</td>\n",
       "      <td>4.96119</td>\n",
       "    </tr>\n",
       "    <tr>\n",
       "      <th>1</th>\n",
       "      <td>6.3265</td>\n",
       "      <td>6.05481</td>\n",
       "      <td>5.40493</td>\n",
       "      <td>4.6487</td>\n",
       "    </tr>\n",
       "  </tbody>\n",
       "</table>\n",
       "</div>"
      ],
      "text/plain": [
       "      CDC14B     ELP3    MICU1    TUSC3\n",
       "0    6.14148  6.02133  5.13999  4.69555\n",
       "0.1  5.92282   6.2366  4.94526  4.75867\n",
       "0.2  5.78886   5.8695  5.21779  4.79789\n",
       "0.3  5.20258  5.88696  5.69822  4.96119\n",
       "1     6.3265  6.05481  5.40493   4.6487"
      ]
     },
     "execution_count": 166,
     "metadata": {},
     "output_type": "execute_result"
    }
   ],
   "source": [
    "X_rfe = X[rfegn]\n",
    "X_rfe.head()"
   ]
  },
  {
   "cell_type": "code",
   "execution_count": 167,
   "metadata": {},
   "outputs": [
    {
     "name": "stdout",
     "output_type": "stream",
     "text": [
      "Length of the dataset, X: 125\n",
      "Length of the targets, y: 125\n"
     ]
    }
   ],
   "source": [
    "X_train_rfe, X_test_rfe, y_train_rfe, y_test_rfe = train_test_split(X_rfe, y, test_size=0.2, random_state=42)\n",
    "print(\"Length of the dataset, X: %d\" % len(X_train_rfe))\n",
    "print(\"Length of the targets, y: %d\" % len(y_train_rfe))"
   ]
  },
  {
   "cell_type": "code",
   "execution_count": 437,
   "metadata": {},
   "outputs": [
    {
     "name": "stdout",
     "output_type": "stream",
     "text": [
      "Gaussian Naive Bayes Classifier report for RFECV: \n",
      "\n",
      "               precision    recall  f1-score   support\n",
      "\n",
      "         0.0       0.60      0.64      0.62        14\n",
      "         1.0       0.71      0.67      0.69        18\n",
      "\n",
      "   micro avg       0.66      0.66      0.66        32\n",
      "   macro avg       0.65      0.65      0.65        32\n",
      "weighted avg       0.66      0.66      0.66        32\n",
      "\n"
     ]
    }
   ],
   "source": [
    "gnb_rfe = GaussianNB()\n",
    "gnb_rfe.fit(X_train_rfe, y_train_rfe)\n",
    "gnb_p_rfe = gnb_rfe.predict(X_test_rfe)\n",
    "print(\"Gaussian Naive Bayes Classifier report for RFECV: \\n\\n\", classification_report(y_test_rfe, gnb_p_rfe))"
   ]
  },
  {
   "cell_type": "markdown",
   "metadata": {},
   "source": [
    "### L-1 Based Feature Selection with SelectFromModel\n",
    "\n",
    "Threshold parameter selects features with greater \"mean\" than the given value. When set to 0.1, results with 5 features."
   ]
  },
  {
   "cell_type": "code",
   "execution_count": 263,
   "metadata": {},
   "outputs": [
    {
     "name": "stderr",
     "output_type": "stream",
     "text": [
      "C:\\Users\\slm\\Anaconda3\\lib\\site-packages\\sklearn\\svm\\base.py:931: ConvergenceWarning: Liblinear failed to converge, increase the number of iterations.\n",
      "  \"the number of iterations.\", ConvergenceWarning)\n"
     ]
    },
    {
     "data": {
      "text/plain": [
       "(157, 5)"
      ]
     },
     "execution_count": 263,
     "metadata": {},
     "output_type": "execute_result"
    }
   ],
   "source": [
    "sfm = SelectFromModel(estimator=LinearSVC(C=0.1, penalty=\"l1\", dual=False),threshold=0.1).fit(X, y)\n",
    "X_sfm = X.iloc[:,sfm.get_support(indices=True)]\n",
    "X_sfm.shape"
   ]
  },
  {
   "cell_type": "code",
   "execution_count": 260,
   "metadata": {},
   "outputs": [
    {
     "data": {
      "text/plain": [
       "Index(['GSC', 'HMGN2P46', 'MDGA1', 'PANX1', 'UBD'], dtype='object')"
      ]
     },
     "execution_count": 260,
     "metadata": {},
     "output_type": "execute_result"
    }
   ],
   "source": [
    "X_sfm"
   ]
  },
  {
   "cell_type": "code",
   "execution_count": 438,
   "metadata": {},
   "outputs": [
    {
     "name": "stdout",
     "output_type": "stream",
     "text": [
      "Gaussian Naive Bayes Classifier report for SFM L1: \n",
      "\n",
      "               precision    recall  f1-score   support\n",
      "\n",
      "         0.0       0.64      0.50      0.56        14\n",
      "         1.0       0.67      0.78      0.72        18\n",
      "\n",
      "   micro avg       0.66      0.66      0.66        32\n",
      "   macro avg       0.65      0.64      0.64        32\n",
      "weighted avg       0.65      0.66      0.65        32\n",
      "\n"
     ]
    }
   ],
   "source": [
    "X_train_sfm, X_test_sfm, y_train_sfm, y_test_sfm = train_test_split(X_sfm, y, test_size=0.2, random_state=42)\n",
    "gnb8 = GaussianNB()\n",
    "gnb8.fit(X_train_sfm, y_train_sfm)\n",
    "gnb_p_sfm = gnb8.predict(X_test_sfm)\n",
    "print(\"Gaussian Naive Bayes Classifier report for SFM L1: \\n\\n\", classification_report(y_test_sfm, gnb_p_sfm))"
   ]
  },
  {
   "cell_type": "markdown",
   "metadata": {},
   "source": [
    "### Random Tree Based Feature Selection with SelectFromModel\n",
    "\n",
    "Threshold parameter selects features with greater \"mean\" than the given value. When set to 0.015, results with 6 features."
   ]
  },
  {
   "cell_type": "code",
   "execution_count": 353,
   "metadata": {},
   "outputs": [
    {
     "name": "stderr",
     "output_type": "stream",
     "text": [
      "C:\\Users\\slm\\Anaconda3\\lib\\site-packages\\sklearn\\ensemble\\forest.py:246: FutureWarning: The default value of n_estimators will change from 10 in version 0.20 to 100 in 0.22.\n",
      "  \"10 in version 0.20 to 100 in 0.22.\", FutureWarning)\n",
      "C:\\Users\\slm\\Anaconda3\\lib\\site-packages\\sklearn\\ensemble\\forest.py:487: DeprecationWarning: `np.int` is a deprecated alias for the builtin `int`. To silence this warning, use `int` by itself. Doing this will not modify any behavior and is safe. When replacing `np.int`, you may wish to use e.g. `np.int64` or `np.int32` to specify the precision. If you wish to review your current use, check the release note link for additional information.\n",
      "Deprecated in NumPy 1.20; for more details and guidance: https://numpy.org/devdocs/release/1.20.0-notes.html#deprecations\n",
      "  y_store_unique_indices = np.zeros(y.shape, dtype=np.int)\n",
      "C:\\Users\\slm\\Anaconda3\\lib\\site-packages\\sklearn\\tree\\tree.py:149: DeprecationWarning: `np.int` is a deprecated alias for the builtin `int`. To silence this warning, use `int` by itself. Doing this will not modify any behavior and is safe. When replacing `np.int`, you may wish to use e.g. `np.int64` or `np.int32` to specify the precision. If you wish to review your current use, check the release note link for additional information.\n",
      "Deprecated in NumPy 1.20; for more details and guidance: https://numpy.org/devdocs/release/1.20.0-notes.html#deprecations\n",
      "  y_encoded = np.zeros(y.shape, dtype=np.int)\n",
      "C:\\Users\\slm\\Anaconda3\\lib\\site-packages\\sklearn\\tree\\tree.py:149: DeprecationWarning: `np.int` is a deprecated alias for the builtin `int`. To silence this warning, use `int` by itself. Doing this will not modify any behavior and is safe. When replacing `np.int`, you may wish to use e.g. `np.int64` or `np.int32` to specify the precision. If you wish to review your current use, check the release note link for additional information.\n",
      "Deprecated in NumPy 1.20; for more details and guidance: https://numpy.org/devdocs/release/1.20.0-notes.html#deprecations\n",
      "  y_encoded = np.zeros(y.shape, dtype=np.int)\n",
      "C:\\Users\\slm\\Anaconda3\\lib\\site-packages\\sklearn\\tree\\tree.py:149: DeprecationWarning: `np.int` is a deprecated alias for the builtin `int`. To silence this warning, use `int` by itself. Doing this will not modify any behavior and is safe. When replacing `np.int`, you may wish to use e.g. `np.int64` or `np.int32` to specify the precision. If you wish to review your current use, check the release note link for additional information.\n",
      "Deprecated in NumPy 1.20; for more details and guidance: https://numpy.org/devdocs/release/1.20.0-notes.html#deprecations\n",
      "  y_encoded = np.zeros(y.shape, dtype=np.int)\n",
      "C:\\Users\\slm\\Anaconda3\\lib\\site-packages\\sklearn\\tree\\tree.py:149: DeprecationWarning: `np.int` is a deprecated alias for the builtin `int`. To silence this warning, use `int` by itself. Doing this will not modify any behavior and is safe. When replacing `np.int`, you may wish to use e.g. `np.int64` or `np.int32` to specify the precision. If you wish to review your current use, check the release note link for additional information.\n",
      "Deprecated in NumPy 1.20; for more details and guidance: https://numpy.org/devdocs/release/1.20.0-notes.html#deprecations\n",
      "  y_encoded = np.zeros(y.shape, dtype=np.int)\n",
      "C:\\Users\\slm\\Anaconda3\\lib\\site-packages\\sklearn\\tree\\tree.py:149: DeprecationWarning: `np.int` is a deprecated alias for the builtin `int`. To silence this warning, use `int` by itself. Doing this will not modify any behavior and is safe. When replacing `np.int`, you may wish to use e.g. `np.int64` or `np.int32` to specify the precision. If you wish to review your current use, check the release note link for additional information.\n",
      "Deprecated in NumPy 1.20; for more details and guidance: https://numpy.org/devdocs/release/1.20.0-notes.html#deprecations\n",
      "  y_encoded = np.zeros(y.shape, dtype=np.int)\n",
      "C:\\Users\\slm\\Anaconda3\\lib\\site-packages\\sklearn\\tree\\tree.py:149: DeprecationWarning: `np.int` is a deprecated alias for the builtin `int`. To silence this warning, use `int` by itself. Doing this will not modify any behavior and is safe. When replacing `np.int`, you may wish to use e.g. `np.int64` or `np.int32` to specify the precision. If you wish to review your current use, check the release note link for additional information.\n",
      "Deprecated in NumPy 1.20; for more details and guidance: https://numpy.org/devdocs/release/1.20.0-notes.html#deprecations\n",
      "  y_encoded = np.zeros(y.shape, dtype=np.int)\n",
      "C:\\Users\\slm\\Anaconda3\\lib\\site-packages\\sklearn\\tree\\tree.py:149: DeprecationWarning: `np.int` is a deprecated alias for the builtin `int`. To silence this warning, use `int` by itself. Doing this will not modify any behavior and is safe. When replacing `np.int`, you may wish to use e.g. `np.int64` or `np.int32` to specify the precision. If you wish to review your current use, check the release note link for additional information.\n",
      "Deprecated in NumPy 1.20; for more details and guidance: https://numpy.org/devdocs/release/1.20.0-notes.html#deprecations\n",
      "  y_encoded = np.zeros(y.shape, dtype=np.int)\n",
      "C:\\Users\\slm\\Anaconda3\\lib\\site-packages\\sklearn\\tree\\tree.py:149: DeprecationWarning: `np.int` is a deprecated alias for the builtin `int`. To silence this warning, use `int` by itself. Doing this will not modify any behavior and is safe. When replacing `np.int`, you may wish to use e.g. `np.int64` or `np.int32` to specify the precision. If you wish to review your current use, check the release note link for additional information.\n",
      "Deprecated in NumPy 1.20; for more details and guidance: https://numpy.org/devdocs/release/1.20.0-notes.html#deprecations\n",
      "  y_encoded = np.zeros(y.shape, dtype=np.int)\n",
      "C:\\Users\\slm\\Anaconda3\\lib\\site-packages\\sklearn\\tree\\tree.py:149: DeprecationWarning: `np.int` is a deprecated alias for the builtin `int`. To silence this warning, use `int` by itself. Doing this will not modify any behavior and is safe. When replacing `np.int`, you may wish to use e.g. `np.int64` or `np.int32` to specify the precision. If you wish to review your current use, check the release note link for additional information.\n",
      "Deprecated in NumPy 1.20; for more details and guidance: https://numpy.org/devdocs/release/1.20.0-notes.html#deprecations\n",
      "  y_encoded = np.zeros(y.shape, dtype=np.int)\n",
      "C:\\Users\\slm\\Anaconda3\\lib\\site-packages\\sklearn\\tree\\tree.py:149: DeprecationWarning: `np.int` is a deprecated alias for the builtin `int`. To silence this warning, use `int` by itself. Doing this will not modify any behavior and is safe. When replacing `np.int`, you may wish to use e.g. `np.int64` or `np.int32` to specify the precision. If you wish to review your current use, check the release note link for additional information.\n",
      "Deprecated in NumPy 1.20; for more details and guidance: https://numpy.org/devdocs/release/1.20.0-notes.html#deprecations\n",
      "  y_encoded = np.zeros(y.shape, dtype=np.int)\n"
     ]
    },
    {
     "data": {
      "text/plain": [
       "(157, 8)"
      ]
     },
     "execution_count": 353,
     "metadata": {},
     "output_type": "execute_result"
    }
   ],
   "source": [
    "sfmt = SelectFromModel(estimator=RandomForestClassifier(),threshold=0.015).fit(X, y)\n",
    "X_sfmt = X.iloc[:,sfmt.get_support(indices=True)]\n",
    "X_sfmt.shape"
   ]
  },
  {
   "cell_type": "code",
   "execution_count": 354,
   "metadata": {},
   "outputs": [
    {
     "data": {
      "text/plain": [
       "Index(['C6orf118', 'ELK4', 'FAM109A', 'FOXL1', 'N4BP2', 'UBE2Q1', 'ZDHHC20',\n",
       "       'ZFYVE27'],\n",
       "      dtype='object')"
      ]
     },
     "execution_count": 354,
     "metadata": {},
     "output_type": "execute_result"
    }
   ],
   "source": [
    "X_sfmt.keys()"
   ]
  },
  {
   "cell_type": "code",
   "execution_count": 439,
   "metadata": {},
   "outputs": [
    {
     "name": "stdout",
     "output_type": "stream",
     "text": [
      "Gaussian Naive Bayes Classifier report for SFM Tree: \n",
      "\n",
      "               precision    recall  f1-score   support\n",
      "\n",
      "         0.0       0.67      0.57      0.62        14\n",
      "         1.0       0.70      0.78      0.74        18\n",
      "\n",
      "   micro avg       0.69      0.69      0.69        32\n",
      "   macro avg       0.68      0.67      0.68        32\n",
      "weighted avg       0.69      0.69      0.68        32\n",
      "\n"
     ]
    }
   ],
   "source": [
    "X_train_sfmt, X_test_sfmt, y_train_sfmt, y_test_sfmt = train_test_split(X_sfmt, y, test_size=0.2, random_state=42)\n",
    "gnb_sfmt = GaussianNB()\n",
    "gnb_sfmt.fit(X_train_sfmt, y_train_sfmt)\n",
    "gnb_p_sfmt = gnb_sfmt.predict(X_test_sfmt)\n",
    "print(\"Gaussian Naive Bayes Classifier report for SFM Tree: \\n\\n\", classification_report(y_test_sfmt, gnb_p_sfmt))"
   ]
  },
  {
   "cell_type": "markdown",
   "metadata": {},
   "source": [
    "### Finding most common genes from different feature selection methods"
   ]
  },
  {
   "cell_type": "code",
   "execution_count": 580,
   "metadata": {},
   "outputs": [
    {
     "name": "stdout",
     "output_type": "stream",
     "text": [
      "['MDGA1', 'ZDHHC20', 'UBD', 'HMGN2P46', 'ZMYM6NB', 'ARFGAP1', 'NPFF', 'CD83', 'DPEP3', 'RARS2']\n"
     ]
    }
   ],
   "source": [
    "keys = [X_01pf, X_1p, X_1pf, X_1pm, X_fdr, X_fdrf, X_fpr, X_fprf, X_fwe, X_fwef, X_k10, X_k10f, X_k10m, X_rfe, X_sfm, X_sfmt]\n",
    "nkeys = []\n",
    "for i in keys:\n",
    "    for j in i.keys().tolist():\n",
    "        nkeys.append(j)\n",
    "from collections import Counter\n",
    "c = Counter(nkeys)\n",
    "gns = np.asarray(c.most_common(10)).T[0].tolist()\n",
    "print(gns)"
   ]
  },
  {
   "cell_type": "code",
   "execution_count": 761,
   "metadata": {},
   "outputs": [
    {
     "data": {
      "text/plain": [
       "[('MDGA1', 10),\n",
       " ('ZDHHC20', 10),\n",
       " ('UBD', 8),\n",
       " ('HMGN2P46', 7),\n",
       " ('ZMYM6NB', 7),\n",
       " ('ARFGAP1', 6),\n",
       " ('NPFF', 6),\n",
       " ('CD83', 6),\n",
       " ('DPEP3', 6),\n",
       " ('RARS2', 6),\n",
       " ('FAM138A', 5),\n",
       " ('IRF2BPL', 5),\n",
       " ('ABCE1', 5),\n",
       " ('ICOS', 5),\n",
       " ('POGZ', 5)]"
      ]
     },
     "execution_count": 761,
     "metadata": {},
     "output_type": "execute_result"
    }
   ],
   "source": [
    "c.most_common(15)"
   ]
  },
  {
   "cell_type": "code",
   "execution_count": 582,
   "metadata": {},
   "outputs": [
    {
     "data": {
      "text/html": [
       "<div>\n",
       "<style scoped>\n",
       "    .dataframe tbody tr th:only-of-type {\n",
       "        vertical-align: middle;\n",
       "    }\n",
       "\n",
       "    .dataframe tbody tr th {\n",
       "        vertical-align: top;\n",
       "    }\n",
       "\n",
       "    .dataframe thead th {\n",
       "        text-align: right;\n",
       "    }\n",
       "</style>\n",
       "<table border=\"1\" class=\"dataframe\">\n",
       "  <thead>\n",
       "    <tr style=\"text-align: right;\">\n",
       "      <th></th>\n",
       "      <th>MDGA1</th>\n",
       "      <th>ZDHHC20</th>\n",
       "      <th>UBD</th>\n",
       "      <th>HMGN2P46</th>\n",
       "      <th>ZMYM6NB</th>\n",
       "      <th>ARFGAP1</th>\n",
       "      <th>NPFF</th>\n",
       "      <th>CD83</th>\n",
       "      <th>DPEP3</th>\n",
       "      <th>RARS2</th>\n",
       "    </tr>\n",
       "  </thead>\n",
       "  <tbody>\n",
       "    <tr>\n",
       "      <th>AA003</th>\n",
       "      <td>6.93689</td>\n",
       "      <td>5.46878</td>\n",
       "      <td>10.3297</td>\n",
       "      <td>7.18671</td>\n",
       "      <td>6.57007</td>\n",
       "      <td>7.96652</td>\n",
       "      <td>6.63618</td>\n",
       "      <td>5.72517</td>\n",
       "      <td>6.7784</td>\n",
       "      <td>5.29601</td>\n",
       "    </tr>\n",
       "    <tr>\n",
       "      <th>AA101</th>\n",
       "      <td>6.85034</td>\n",
       "      <td>5.58767</td>\n",
       "      <td>10.4978</td>\n",
       "      <td>7.23615</td>\n",
       "      <td>6.40964</td>\n",
       "      <td>7.81677</td>\n",
       "      <td>6.55868</td>\n",
       "      <td>5.51419</td>\n",
       "      <td>6.78086</td>\n",
       "      <td>5.1249</td>\n",
       "    </tr>\n",
       "    <tr>\n",
       "      <th>AA115</th>\n",
       "      <td>6.80861</td>\n",
       "      <td>5.84074</td>\n",
       "      <td>10.5517</td>\n",
       "      <td>6.89765</td>\n",
       "      <td>6.41542</td>\n",
       "      <td>7.90836</td>\n",
       "      <td>6.79757</td>\n",
       "      <td>5.50925</td>\n",
       "      <td>6.90754</td>\n",
       "      <td>5.09822</td>\n",
       "    </tr>\n",
       "    <tr>\n",
       "      <th>AA296</th>\n",
       "      <td>6.56737</td>\n",
       "      <td>5.78972</td>\n",
       "      <td>10.7572</td>\n",
       "      <td>6.97251</td>\n",
       "      <td>6.29413</td>\n",
       "      <td>8.10685</td>\n",
       "      <td>6.56952</td>\n",
       "      <td>5.4127</td>\n",
       "      <td>6.37762</td>\n",
       "      <td>5.34857</td>\n",
       "    </tr>\n",
       "    <tr>\n",
       "      <th>AA328</th>\n",
       "      <td>7.03226</td>\n",
       "      <td>5.78293</td>\n",
       "      <td>10.9429</td>\n",
       "      <td>6.90454</td>\n",
       "      <td>6.55422</td>\n",
       "      <td>7.86732</td>\n",
       "      <td>6.56504</td>\n",
       "      <td>5.75105</td>\n",
       "      <td>6.6797</td>\n",
       "      <td>5.17789</td>\n",
       "    </tr>\n",
       "  </tbody>\n",
       "</table>\n",
       "</div>"
      ],
      "text/plain": [
       "         MDGA1  ZDHHC20      UBD HMGN2P46  ZMYM6NB  ARFGAP1     NPFF     CD83  \\\n",
       "AA003  6.93689  5.46878  10.3297  7.18671  6.57007  7.96652  6.63618  5.72517   \n",
       "AA101  6.85034  5.58767  10.4978  7.23615  6.40964  7.81677  6.55868  5.51419   \n",
       "AA115  6.80861  5.84074  10.5517  6.89765  6.41542  7.90836  6.79757  5.50925   \n",
       "AA296  6.56737  5.78972  10.7572  6.97251  6.29413  8.10685  6.56952   5.4127   \n",
       "AA328  7.03226  5.78293  10.9429  6.90454  6.55422  7.86732  6.56504  5.75105   \n",
       "\n",
       "         DPEP3    RARS2  \n",
       "AA003   6.7784  5.29601  \n",
       "AA101  6.78086   5.1249  \n",
       "AA115  6.90754  5.09822  \n",
       "AA296  6.37762  5.34857  \n",
       "AA328   6.6797  5.17789  "
      ]
     },
     "execution_count": 582,
     "metadata": {},
     "output_type": "execute_result"
    }
   ],
   "source": [
    "Xn = X[gns]\n",
    "Xn.head()"
   ]
  },
  {
   "cell_type": "code",
   "execution_count": 758,
   "metadata": {},
   "outputs": [
    {
     "name": "stdout",
     "output_type": "stream",
     "text": [
      "Gaussian Naive Bayes Classifier report for selected genes: \n",
      "\n",
      "               precision    recall  f1-score   support\n",
      "\n",
      "         0.0       0.80      0.57      0.67        14\n",
      "         1.0       0.73      0.89      0.80        18\n",
      "\n",
      "   micro avg       0.75      0.75      0.75        32\n",
      "   macro avg       0.76      0.73      0.73        32\n",
      "weighted avg       0.76      0.75      0.74        32\n",
      "\n"
     ]
    }
   ],
   "source": [
    "Xn_train, Xn_test, yn_train, yn_test = train_test_split(Xn, y, test_size=0.2, random_state=42)\n",
    "ngnb = GaussianNB()\n",
    "ngnb.fit(Xn_train, y_train)\n",
    "ngnb_p = ngnb.predict(Xn_test)\n",
    "print(\"Gaussian Naive Bayes Classifier report for selected genes: \\n\\n\", classification_report(yn_test, ngnb_p))"
   ]
  },
  {
   "cell_type": "markdown",
   "metadata": {},
   "source": [
    "## Model Selection"
   ]
  },
  {
   "cell_type": "markdown",
   "metadata": {},
   "source": [
    "### Decision Tree"
   ]
  },
  {
   "cell_type": "code",
   "execution_count": 767,
   "metadata": {},
   "outputs": [
    {
     "name": "stderr",
     "output_type": "stream",
     "text": [
      "C:\\Users\\slm\\Anaconda3\\lib\\site-packages\\sklearn\\model_selection\\_split.py:665: DeprecationWarning: `np.int` is a deprecated alias for the builtin `int`. To silence this warning, use `int` by itself. Doing this will not modify any behavior and is safe. When replacing `np.int`, you may wish to use e.g. `np.int64` or `np.int32` to specify the precision. If you wish to review your current use, check the release note link for additional information.\n",
      "Deprecated in NumPy 1.20; for more details and guidance: https://numpy.org/devdocs/release/1.20.0-notes.html#deprecations\n",
      "  test_folds = np.zeros(n_samples, dtype=np.int)\n",
      "C:\\Users\\slm\\Anaconda3\\lib\\site-packages\\sklearn\\model_selection\\_split.py:437: DeprecationWarning: `np.int` is a deprecated alias for the builtin `int`. To silence this warning, use `int` by itself. Doing this will not modify any behavior and is safe. When replacing `np.int`, you may wish to use e.g. `np.int64` or `np.int32` to specify the precision. If you wish to review your current use, check the release note link for additional information.\n",
      "Deprecated in NumPy 1.20; for more details and guidance: https://numpy.org/devdocs/release/1.20.0-notes.html#deprecations\n",
      "  fold_sizes = np.full(n_splits, n_samples // n_splits, dtype=np.int)\n",
      "C:\\Users\\slm\\Anaconda3\\lib\\site-packages\\sklearn\\model_selection\\_split.py:113: DeprecationWarning: `np.bool` is a deprecated alias for the builtin `bool`. To silence this warning, use `bool` by itself. Doing this will not modify any behavior and is safe. If you specifically wanted the numpy scalar type, use `np.bool_` here.\n",
      "Deprecated in NumPy 1.20; for more details and guidance: https://numpy.org/devdocs/release/1.20.0-notes.html#deprecations\n",
      "  test_mask = np.zeros(_num_samples(X), dtype=np.bool)\n",
      "C:\\Users\\slm\\Anaconda3\\lib\\site-packages\\sklearn\\model_selection\\_split.py:437: DeprecationWarning: `np.int` is a deprecated alias for the builtin `int`. To silence this warning, use `int` by itself. Doing this will not modify any behavior and is safe. When replacing `np.int`, you may wish to use e.g. `np.int64` or `np.int32` to specify the precision. If you wish to review your current use, check the release note link for additional information.\n",
      "Deprecated in NumPy 1.20; for more details and guidance: https://numpy.org/devdocs/release/1.20.0-notes.html#deprecations\n",
      "  fold_sizes = np.full(n_splits, n_samples // n_splits, dtype=np.int)\n",
      "C:\\Users\\slm\\Anaconda3\\lib\\site-packages\\sklearn\\model_selection\\_split.py:113: DeprecationWarning: `np.bool` is a deprecated alias for the builtin `bool`. To silence this warning, use `bool` by itself. Doing this will not modify any behavior and is safe. If you specifically wanted the numpy scalar type, use `np.bool_` here.\n",
      "Deprecated in NumPy 1.20; for more details and guidance: https://numpy.org/devdocs/release/1.20.0-notes.html#deprecations\n",
      "  test_mask = np.zeros(_num_samples(X), dtype=np.bool)\n",
      "C:\\Users\\slm\\Anaconda3\\lib\\site-packages\\sklearn\\model_selection\\_split.py:113: DeprecationWarning: `np.bool` is a deprecated alias for the builtin `bool`. To silence this warning, use `bool` by itself. Doing this will not modify any behavior and is safe. If you specifically wanted the numpy scalar type, use `np.bool_` here.\n",
      "Deprecated in NumPy 1.20; for more details and guidance: https://numpy.org/devdocs/release/1.20.0-notes.html#deprecations\n",
      "  test_mask = np.zeros(_num_samples(X), dtype=np.bool)\n",
      "C:\\Users\\slm\\Anaconda3\\lib\\site-packages\\sklearn\\model_selection\\_split.py:113: DeprecationWarning: `np.bool` is a deprecated alias for the builtin `bool`. To silence this warning, use `bool` by itself. Doing this will not modify any behavior and is safe. If you specifically wanted the numpy scalar type, use `np.bool_` here.\n",
      "Deprecated in NumPy 1.20; for more details and guidance: https://numpy.org/devdocs/release/1.20.0-notes.html#deprecations\n",
      "  test_mask = np.zeros(_num_samples(X), dtype=np.bool)\n",
      "C:\\Users\\slm\\Anaconda3\\lib\\site-packages\\sklearn\\model_selection\\_split.py:113: DeprecationWarning: `np.bool` is a deprecated alias for the builtin `bool`. To silence this warning, use `bool` by itself. Doing this will not modify any behavior and is safe. If you specifically wanted the numpy scalar type, use `np.bool_` here.\n",
      "Deprecated in NumPy 1.20; for more details and guidance: https://numpy.org/devdocs/release/1.20.0-notes.html#deprecations\n",
      "  test_mask = np.zeros(_num_samples(X), dtype=np.bool)\n",
      "C:\\Users\\slm\\Anaconda3\\lib\\site-packages\\sklearn\\model_selection\\_split.py:113: DeprecationWarning: `np.bool` is a deprecated alias for the builtin `bool`. To silence this warning, use `bool` by itself. Doing this will not modify any behavior and is safe. If you specifically wanted the numpy scalar type, use `np.bool_` here.\n",
      "Deprecated in NumPy 1.20; for more details and guidance: https://numpy.org/devdocs/release/1.20.0-notes.html#deprecations\n",
      "  test_mask = np.zeros(_num_samples(X), dtype=np.bool)\n",
      "C:\\Users\\slm\\Anaconda3\\lib\\site-packages\\sklearn\\model_selection\\_split.py:113: DeprecationWarning: `np.bool` is a deprecated alias for the builtin `bool`. To silence this warning, use `bool` by itself. Doing this will not modify any behavior and is safe. If you specifically wanted the numpy scalar type, use `np.bool_` here.\n",
      "Deprecated in NumPy 1.20; for more details and guidance: https://numpy.org/devdocs/release/1.20.0-notes.html#deprecations\n",
      "  test_mask = np.zeros(_num_samples(X), dtype=np.bool)\n",
      "C:\\Users\\slm\\Anaconda3\\lib\\site-packages\\sklearn\\model_selection\\_split.py:113: DeprecationWarning: `np.bool` is a deprecated alias for the builtin `bool`. To silence this warning, use `bool` by itself. Doing this will not modify any behavior and is safe. If you specifically wanted the numpy scalar type, use `np.bool_` here.\n",
      "Deprecated in NumPy 1.20; for more details and guidance: https://numpy.org/devdocs/release/1.20.0-notes.html#deprecations\n",
      "  test_mask = np.zeros(_num_samples(X), dtype=np.bool)\n",
      "C:\\Users\\slm\\Anaconda3\\lib\\site-packages\\sklearn\\model_selection\\_split.py:113: DeprecationWarning: `np.bool` is a deprecated alias for the builtin `bool`. To silence this warning, use `bool` by itself. Doing this will not modify any behavior and is safe. If you specifically wanted the numpy scalar type, use `np.bool_` here.\n",
      "Deprecated in NumPy 1.20; for more details and guidance: https://numpy.org/devdocs/release/1.20.0-notes.html#deprecations\n",
      "  test_mask = np.zeros(_num_samples(X), dtype=np.bool)\n",
      "C:\\Users\\slm\\Anaconda3\\lib\\site-packages\\sklearn\\model_selection\\_split.py:113: DeprecationWarning: `np.bool` is a deprecated alias for the builtin `bool`. To silence this warning, use `bool` by itself. Doing this will not modify any behavior and is safe. If you specifically wanted the numpy scalar type, use `np.bool_` here.\n",
      "Deprecated in NumPy 1.20; for more details and guidance: https://numpy.org/devdocs/release/1.20.0-notes.html#deprecations\n",
      "  test_mask = np.zeros(_num_samples(X), dtype=np.bool)\n",
      "C:\\Users\\slm\\Anaconda3\\lib\\site-packages\\sklearn\\model_selection\\_split.py:113: DeprecationWarning: `np.bool` is a deprecated alias for the builtin `bool`. To silence this warning, use `bool` by itself. Doing this will not modify any behavior and is safe. If you specifically wanted the numpy scalar type, use `np.bool_` here.\n",
      "Deprecated in NumPy 1.20; for more details and guidance: https://numpy.org/devdocs/release/1.20.0-notes.html#deprecations\n",
      "  test_mask = np.zeros(_num_samples(X), dtype=np.bool)\n",
      "C:\\Users\\slm\\Anaconda3\\lib\\site-packages\\sklearn\\model_selection\\_split.py:113: DeprecationWarning: `np.bool` is a deprecated alias for the builtin `bool`. To silence this warning, use `bool` by itself. Doing this will not modify any behavior and is safe. If you specifically wanted the numpy scalar type, use `np.bool_` here.\n",
      "Deprecated in NumPy 1.20; for more details and guidance: https://numpy.org/devdocs/release/1.20.0-notes.html#deprecations\n",
      "  test_mask = np.zeros(_num_samples(X), dtype=np.bool)\n",
      "C:\\Users\\slm\\Anaconda3\\lib\\site-packages\\sklearn\\model_selection\\_split.py:113: DeprecationWarning: `np.bool` is a deprecated alias for the builtin `bool`. To silence this warning, use `bool` by itself. Doing this will not modify any behavior and is safe. If you specifically wanted the numpy scalar type, use `np.bool_` here.\n",
      "Deprecated in NumPy 1.20; for more details and guidance: https://numpy.org/devdocs/release/1.20.0-notes.html#deprecations\n",
      "  test_mask = np.zeros(_num_samples(X), dtype=np.bool)\n",
      "C:\\Users\\slm\\Anaconda3\\lib\\site-packages\\sklearn\\model_selection\\_split.py:113: DeprecationWarning: `np.bool` is a deprecated alias for the builtin `bool`. To silence this warning, use `bool` by itself. Doing this will not modify any behavior and is safe. If you specifically wanted the numpy scalar type, use `np.bool_` here.\n",
      "Deprecated in NumPy 1.20; for more details and guidance: https://numpy.org/devdocs/release/1.20.0-notes.html#deprecations\n",
      "  test_mask = np.zeros(_num_samples(X), dtype=np.bool)\n",
      "C:\\Users\\slm\\Anaconda3\\lib\\site-packages\\sklearn\\model_selection\\_split.py:113: DeprecationWarning: `np.bool` is a deprecated alias for the builtin `bool`. To silence this warning, use `bool` by itself. Doing this will not modify any behavior and is safe. If you specifically wanted the numpy scalar type, use `np.bool_` here.\n",
      "Deprecated in NumPy 1.20; for more details and guidance: https://numpy.org/devdocs/release/1.20.0-notes.html#deprecations\n",
      "  test_mask = np.zeros(_num_samples(X), dtype=np.bool)\n",
      "C:\\Users\\slm\\Anaconda3\\lib\\site-packages\\sklearn\\model_selection\\_split.py:113: DeprecationWarning: `np.bool` is a deprecated alias for the builtin `bool`. To silence this warning, use `bool` by itself. Doing this will not modify any behavior and is safe. If you specifically wanted the numpy scalar type, use `np.bool_` here.\n",
      "Deprecated in NumPy 1.20; for more details and guidance: https://numpy.org/devdocs/release/1.20.0-notes.html#deprecations\n",
      "  test_mask = np.zeros(_num_samples(X), dtype=np.bool)\n",
      "C:\\Users\\slm\\Anaconda3\\lib\\site-packages\\sklearn\\model_selection\\_split.py:113: DeprecationWarning: `np.bool` is a deprecated alias for the builtin `bool`. To silence this warning, use `bool` by itself. Doing this will not modify any behavior and is safe. If you specifically wanted the numpy scalar type, use `np.bool_` here.\n",
      "Deprecated in NumPy 1.20; for more details and guidance: https://numpy.org/devdocs/release/1.20.0-notes.html#deprecations\n",
      "  test_mask = np.zeros(_num_samples(X), dtype=np.bool)\n",
      "C:\\Users\\slm\\Anaconda3\\lib\\site-packages\\sklearn\\model_selection\\_split.py:113: DeprecationWarning: `np.bool` is a deprecated alias for the builtin `bool`. To silence this warning, use `bool` by itself. Doing this will not modify any behavior and is safe. If you specifically wanted the numpy scalar type, use `np.bool_` here.\n",
      "Deprecated in NumPy 1.20; for more details and guidance: https://numpy.org/devdocs/release/1.20.0-notes.html#deprecations\n",
      "  test_mask = np.zeros(_num_samples(X), dtype=np.bool)\n",
      "C:\\Users\\slm\\Anaconda3\\lib\\site-packages\\sklearn\\model_selection\\_split.py:113: DeprecationWarning: `np.bool` is a deprecated alias for the builtin `bool`. To silence this warning, use `bool` by itself. Doing this will not modify any behavior and is safe. If you specifically wanted the numpy scalar type, use `np.bool_` here.\n",
      "Deprecated in NumPy 1.20; for more details and guidance: https://numpy.org/devdocs/release/1.20.0-notes.html#deprecations\n",
      "  test_mask = np.zeros(_num_samples(X), dtype=np.bool)\n",
      "C:\\Users\\slm\\Anaconda3\\lib\\site-packages\\sklearn\\model_selection\\_split.py:113: DeprecationWarning: `np.bool` is a deprecated alias for the builtin `bool`. To silence this warning, use `bool` by itself. Doing this will not modify any behavior and is safe. If you specifically wanted the numpy scalar type, use `np.bool_` here.\n",
      "Deprecated in NumPy 1.20; for more details and guidance: https://numpy.org/devdocs/release/1.20.0-notes.html#deprecations\n",
      "  test_mask = np.zeros(_num_samples(X), dtype=np.bool)\n",
      "C:\\Users\\slm\\Anaconda3\\lib\\site-packages\\sklearn\\tree\\tree.py:149: DeprecationWarning: `np.int` is a deprecated alias for the builtin `int`. To silence this warning, use `int` by itself. Doing this will not modify any behavior and is safe. When replacing `np.int`, you may wish to use e.g. `np.int64` or `np.int32` to specify the precision. If you wish to review your current use, check the release note link for additional information.\n",
      "Deprecated in NumPy 1.20; for more details and guidance: https://numpy.org/devdocs/release/1.20.0-notes.html#deprecations\n",
      "  y_encoded = np.zeros(y.shape, dtype=np.int)\n",
      "C:\\Users\\slm\\Anaconda3\\lib\\site-packages\\sklearn\\tree\\tree.py:149: DeprecationWarning: `np.int` is a deprecated alias for the builtin `int`. To silence this warning, use `int` by itself. Doing this will not modify any behavior and is safe. When replacing `np.int`, you may wish to use e.g. `np.int64` or `np.int32` to specify the precision. If you wish to review your current use, check the release note link for additional information.\n",
      "Deprecated in NumPy 1.20; for more details and guidance: https://numpy.org/devdocs/release/1.20.0-notes.html#deprecations\n",
      "  y_encoded = np.zeros(y.shape, dtype=np.int)\n",
      "C:\\Users\\slm\\Anaconda3\\lib\\site-packages\\sklearn\\tree\\tree.py:149: DeprecationWarning: `np.int` is a deprecated alias for the builtin `int`. To silence this warning, use `int` by itself. Doing this will not modify any behavior and is safe. When replacing `np.int`, you may wish to use e.g. `np.int64` or `np.int32` to specify the precision. If you wish to review your current use, check the release note link for additional information.\n",
      "Deprecated in NumPy 1.20; for more details and guidance: https://numpy.org/devdocs/release/1.20.0-notes.html#deprecations\n",
      "  y_encoded = np.zeros(y.shape, dtype=np.int)\n",
      "C:\\Users\\slm\\Anaconda3\\lib\\site-packages\\sklearn\\tree\\tree.py:149: DeprecationWarning: `np.int` is a deprecated alias for the builtin `int`. To silence this warning, use `int` by itself. Doing this will not modify any behavior and is safe. When replacing `np.int`, you may wish to use e.g. `np.int64` or `np.int32` to specify the precision. If you wish to review your current use, check the release note link for additional information.\n",
      "Deprecated in NumPy 1.20; for more details and guidance: https://numpy.org/devdocs/release/1.20.0-notes.html#deprecations\n",
      "  y_encoded = np.zeros(y.shape, dtype=np.int)\n",
      "C:\\Users\\slm\\Anaconda3\\lib\\site-packages\\sklearn\\tree\\tree.py:149: DeprecationWarning: `np.int` is a deprecated alias for the builtin `int`. To silence this warning, use `int` by itself. Doing this will not modify any behavior and is safe. When replacing `np.int`, you may wish to use e.g. `np.int64` or `np.int32` to specify the precision. If you wish to review your current use, check the release note link for additional information.\n",
      "Deprecated in NumPy 1.20; for more details and guidance: https://numpy.org/devdocs/release/1.20.0-notes.html#deprecations\n",
      "  y_encoded = np.zeros(y.shape, dtype=np.int)\n",
      "C:\\Users\\slm\\Anaconda3\\lib\\site-packages\\sklearn\\tree\\tree.py:149: DeprecationWarning: `np.int` is a deprecated alias for the builtin `int`. To silence this warning, use `int` by itself. Doing this will not modify any behavior and is safe. When replacing `np.int`, you may wish to use e.g. `np.int64` or `np.int32` to specify the precision. If you wish to review your current use, check the release note link for additional information.\n",
      "Deprecated in NumPy 1.20; for more details and guidance: https://numpy.org/devdocs/release/1.20.0-notes.html#deprecations\n",
      "  y_encoded = np.zeros(y.shape, dtype=np.int)\n",
      "C:\\Users\\slm\\Anaconda3\\lib\\site-packages\\sklearn\\tree\\tree.py:149: DeprecationWarning: `np.int` is a deprecated alias for the builtin `int`. To silence this warning, use `int` by itself. Doing this will not modify any behavior and is safe. When replacing `np.int`, you may wish to use e.g. `np.int64` or `np.int32` to specify the precision. If you wish to review your current use, check the release note link for additional information.\n",
      "Deprecated in NumPy 1.20; for more details and guidance: https://numpy.org/devdocs/release/1.20.0-notes.html#deprecations\n",
      "  y_encoded = np.zeros(y.shape, dtype=np.int)\n",
      "C:\\Users\\slm\\Anaconda3\\lib\\site-packages\\sklearn\\tree\\tree.py:149: DeprecationWarning: `np.int` is a deprecated alias for the builtin `int`. To silence this warning, use `int` by itself. Doing this will not modify any behavior and is safe. When replacing `np.int`, you may wish to use e.g. `np.int64` or `np.int32` to specify the precision. If you wish to review your current use, check the release note link for additional information.\n",
      "Deprecated in NumPy 1.20; for more details and guidance: https://numpy.org/devdocs/release/1.20.0-notes.html#deprecations\n",
      "  y_encoded = np.zeros(y.shape, dtype=np.int)\n",
      "C:\\Users\\slm\\Anaconda3\\lib\\site-packages\\sklearn\\tree\\tree.py:149: DeprecationWarning: `np.int` is a deprecated alias for the builtin `int`. To silence this warning, use `int` by itself. Doing this will not modify any behavior and is safe. When replacing `np.int`, you may wish to use e.g. `np.int64` or `np.int32` to specify the precision. If you wish to review your current use, check the release note link for additional information.\n",
      "Deprecated in NumPy 1.20; for more details and guidance: https://numpy.org/devdocs/release/1.20.0-notes.html#deprecations\n",
      "  y_encoded = np.zeros(y.shape, dtype=np.int)\n",
      "C:\\Users\\slm\\Anaconda3\\lib\\site-packages\\sklearn\\tree\\tree.py:149: DeprecationWarning: `np.int` is a deprecated alias for the builtin `int`. To silence this warning, use `int` by itself. Doing this will not modify any behavior and is safe. When replacing `np.int`, you may wish to use e.g. `np.int64` or `np.int32` to specify the precision. If you wish to review your current use, check the release note link for additional information.\n",
      "Deprecated in NumPy 1.20; for more details and guidance: https://numpy.org/devdocs/release/1.20.0-notes.html#deprecations\n",
      "  y_encoded = np.zeros(y.shape, dtype=np.int)\n"
     ]
    },
    {
     "data": {
      "text/plain": [
       "array([0.38461538, 0.61538462, 0.69230769, 0.53846154, 0.69230769,\n",
       "       0.66666667, 0.58333333, 0.66666667, 0.5       , 0.75      ])"
      ]
     },
     "execution_count": 767,
     "metadata": {},
     "output_type": "execute_result"
    }
   ],
   "source": [
    "clf = DecisionTreeClassifier(random_state=0)\n",
    "cross_val_score(clf, X_train, y_train, cv=10)"
   ]
  },
  {
   "cell_type": "code",
   "execution_count": 587,
   "metadata": {},
   "outputs": [
    {
     "name": "stderr",
     "output_type": "stream",
     "text": [
      "C:\\Users\\slm\\Anaconda3\\lib\\site-packages\\sklearn\\model_selection\\_split.py:665: DeprecationWarning: `np.int` is a deprecated alias for the builtin `int`. To silence this warning, use `int` by itself. Doing this will not modify any behavior and is safe. When replacing `np.int`, you may wish to use e.g. `np.int64` or `np.int32` to specify the precision. If you wish to review your current use, check the release note link for additional information.\n",
      "Deprecated in NumPy 1.20; for more details and guidance: https://numpy.org/devdocs/release/1.20.0-notes.html#deprecations\n",
      "  test_folds = np.zeros(n_samples, dtype=np.int)\n",
      "C:\\Users\\slm\\Anaconda3\\lib\\site-packages\\sklearn\\model_selection\\_split.py:437: DeprecationWarning: `np.int` is a deprecated alias for the builtin `int`. To silence this warning, use `int` by itself. Doing this will not modify any behavior and is safe. When replacing `np.int`, you may wish to use e.g. `np.int64` or `np.int32` to specify the precision. If you wish to review your current use, check the release note link for additional information.\n",
      "Deprecated in NumPy 1.20; for more details and guidance: https://numpy.org/devdocs/release/1.20.0-notes.html#deprecations\n",
      "  fold_sizes = np.full(n_splits, n_samples // n_splits, dtype=np.int)\n",
      "C:\\Users\\slm\\Anaconda3\\lib\\site-packages\\sklearn\\model_selection\\_split.py:113: DeprecationWarning: `np.bool` is a deprecated alias for the builtin `bool`. To silence this warning, use `bool` by itself. Doing this will not modify any behavior and is safe. If you specifically wanted the numpy scalar type, use `np.bool_` here.\n",
      "Deprecated in NumPy 1.20; for more details and guidance: https://numpy.org/devdocs/release/1.20.0-notes.html#deprecations\n",
      "  test_mask = np.zeros(_num_samples(X), dtype=np.bool)\n",
      "C:\\Users\\slm\\Anaconda3\\lib\\site-packages\\sklearn\\model_selection\\_split.py:437: DeprecationWarning: `np.int` is a deprecated alias for the builtin `int`. To silence this warning, use `int` by itself. Doing this will not modify any behavior and is safe. When replacing `np.int`, you may wish to use e.g. `np.int64` or `np.int32` to specify the precision. If you wish to review your current use, check the release note link for additional information.\n",
      "Deprecated in NumPy 1.20; for more details and guidance: https://numpy.org/devdocs/release/1.20.0-notes.html#deprecations\n",
      "  fold_sizes = np.full(n_splits, n_samples // n_splits, dtype=np.int)\n",
      "C:\\Users\\slm\\Anaconda3\\lib\\site-packages\\sklearn\\model_selection\\_split.py:113: DeprecationWarning: `np.bool` is a deprecated alias for the builtin `bool`. To silence this warning, use `bool` by itself. Doing this will not modify any behavior and is safe. If you specifically wanted the numpy scalar type, use `np.bool_` here.\n",
      "Deprecated in NumPy 1.20; for more details and guidance: https://numpy.org/devdocs/release/1.20.0-notes.html#deprecations\n",
      "  test_mask = np.zeros(_num_samples(X), dtype=np.bool)\n",
      "C:\\Users\\slm\\Anaconda3\\lib\\site-packages\\sklearn\\model_selection\\_split.py:113: DeprecationWarning: `np.bool` is a deprecated alias for the builtin `bool`. To silence this warning, use `bool` by itself. Doing this will not modify any behavior and is safe. If you specifically wanted the numpy scalar type, use `np.bool_` here.\n",
      "Deprecated in NumPy 1.20; for more details and guidance: https://numpy.org/devdocs/release/1.20.0-notes.html#deprecations\n",
      "  test_mask = np.zeros(_num_samples(X), dtype=np.bool)\n",
      "C:\\Users\\slm\\Anaconda3\\lib\\site-packages\\sklearn\\model_selection\\_split.py:113: DeprecationWarning: `np.bool` is a deprecated alias for the builtin `bool`. To silence this warning, use `bool` by itself. Doing this will not modify any behavior and is safe. If you specifically wanted the numpy scalar type, use `np.bool_` here.\n",
      "Deprecated in NumPy 1.20; for more details and guidance: https://numpy.org/devdocs/release/1.20.0-notes.html#deprecations\n",
      "  test_mask = np.zeros(_num_samples(X), dtype=np.bool)\n",
      "C:\\Users\\slm\\Anaconda3\\lib\\site-packages\\sklearn\\model_selection\\_split.py:113: DeprecationWarning: `np.bool` is a deprecated alias for the builtin `bool`. To silence this warning, use `bool` by itself. Doing this will not modify any behavior and is safe. If you specifically wanted the numpy scalar type, use `np.bool_` here.\n",
      "Deprecated in NumPy 1.20; for more details and guidance: https://numpy.org/devdocs/release/1.20.0-notes.html#deprecations\n",
      "  test_mask = np.zeros(_num_samples(X), dtype=np.bool)\n",
      "C:\\Users\\slm\\Anaconda3\\lib\\site-packages\\sklearn\\model_selection\\_split.py:113: DeprecationWarning: `np.bool` is a deprecated alias for the builtin `bool`. To silence this warning, use `bool` by itself. Doing this will not modify any behavior and is safe. If you specifically wanted the numpy scalar type, use `np.bool_` here.\n",
      "Deprecated in NumPy 1.20; for more details and guidance: https://numpy.org/devdocs/release/1.20.0-notes.html#deprecations\n",
      "  test_mask = np.zeros(_num_samples(X), dtype=np.bool)\n",
      "C:\\Users\\slm\\Anaconda3\\lib\\site-packages\\sklearn\\model_selection\\_split.py:113: DeprecationWarning: `np.bool` is a deprecated alias for the builtin `bool`. To silence this warning, use `bool` by itself. Doing this will not modify any behavior and is safe. If you specifically wanted the numpy scalar type, use `np.bool_` here.\n",
      "Deprecated in NumPy 1.20; for more details and guidance: https://numpy.org/devdocs/release/1.20.0-notes.html#deprecations\n",
      "  test_mask = np.zeros(_num_samples(X), dtype=np.bool)\n",
      "C:\\Users\\slm\\Anaconda3\\lib\\site-packages\\sklearn\\model_selection\\_split.py:113: DeprecationWarning: `np.bool` is a deprecated alias for the builtin `bool`. To silence this warning, use `bool` by itself. Doing this will not modify any behavior and is safe. If you specifically wanted the numpy scalar type, use `np.bool_` here.\n",
      "Deprecated in NumPy 1.20; for more details and guidance: https://numpy.org/devdocs/release/1.20.0-notes.html#deprecations\n",
      "  test_mask = np.zeros(_num_samples(X), dtype=np.bool)\n",
      "C:\\Users\\slm\\Anaconda3\\lib\\site-packages\\sklearn\\model_selection\\_split.py:113: DeprecationWarning: `np.bool` is a deprecated alias for the builtin `bool`. To silence this warning, use `bool` by itself. Doing this will not modify any behavior and is safe. If you specifically wanted the numpy scalar type, use `np.bool_` here.\n",
      "Deprecated in NumPy 1.20; for more details and guidance: https://numpy.org/devdocs/release/1.20.0-notes.html#deprecations\n",
      "  test_mask = np.zeros(_num_samples(X), dtype=np.bool)\n",
      "C:\\Users\\slm\\Anaconda3\\lib\\site-packages\\sklearn\\model_selection\\_split.py:113: DeprecationWarning: `np.bool` is a deprecated alias for the builtin `bool`. To silence this warning, use `bool` by itself. Doing this will not modify any behavior and is safe. If you specifically wanted the numpy scalar type, use `np.bool_` here.\n",
      "Deprecated in NumPy 1.20; for more details and guidance: https://numpy.org/devdocs/release/1.20.0-notes.html#deprecations\n",
      "  test_mask = np.zeros(_num_samples(X), dtype=np.bool)\n",
      "C:\\Users\\slm\\Anaconda3\\lib\\site-packages\\sklearn\\model_selection\\_split.py:113: DeprecationWarning: `np.bool` is a deprecated alias for the builtin `bool`. To silence this warning, use `bool` by itself. Doing this will not modify any behavior and is safe. If you specifically wanted the numpy scalar type, use `np.bool_` here.\n",
      "Deprecated in NumPy 1.20; for more details and guidance: https://numpy.org/devdocs/release/1.20.0-notes.html#deprecations\n",
      "  test_mask = np.zeros(_num_samples(X), dtype=np.bool)\n",
      "C:\\Users\\slm\\Anaconda3\\lib\\site-packages\\sklearn\\model_selection\\_split.py:113: DeprecationWarning: `np.bool` is a deprecated alias for the builtin `bool`. To silence this warning, use `bool` by itself. Doing this will not modify any behavior and is safe. If you specifically wanted the numpy scalar type, use `np.bool_` here.\n",
      "Deprecated in NumPy 1.20; for more details and guidance: https://numpy.org/devdocs/release/1.20.0-notes.html#deprecations\n",
      "  test_mask = np.zeros(_num_samples(X), dtype=np.bool)\n",
      "C:\\Users\\slm\\Anaconda3\\lib\\site-packages\\sklearn\\model_selection\\_split.py:113: DeprecationWarning: `np.bool` is a deprecated alias for the builtin `bool`. To silence this warning, use `bool` by itself. Doing this will not modify any behavior and is safe. If you specifically wanted the numpy scalar type, use `np.bool_` here.\n",
      "Deprecated in NumPy 1.20; for more details and guidance: https://numpy.org/devdocs/release/1.20.0-notes.html#deprecations\n",
      "  test_mask = np.zeros(_num_samples(X), dtype=np.bool)\n",
      "C:\\Users\\slm\\Anaconda3\\lib\\site-packages\\sklearn\\model_selection\\_split.py:113: DeprecationWarning: `np.bool` is a deprecated alias for the builtin `bool`. To silence this warning, use `bool` by itself. Doing this will not modify any behavior and is safe. If you specifically wanted the numpy scalar type, use `np.bool_` here.\n",
      "Deprecated in NumPy 1.20; for more details and guidance: https://numpy.org/devdocs/release/1.20.0-notes.html#deprecations\n",
      "  test_mask = np.zeros(_num_samples(X), dtype=np.bool)\n",
      "C:\\Users\\slm\\Anaconda3\\lib\\site-packages\\sklearn\\model_selection\\_split.py:113: DeprecationWarning: `np.bool` is a deprecated alias for the builtin `bool`. To silence this warning, use `bool` by itself. Doing this will not modify any behavior and is safe. If you specifically wanted the numpy scalar type, use `np.bool_` here.\n",
      "Deprecated in NumPy 1.20; for more details and guidance: https://numpy.org/devdocs/release/1.20.0-notes.html#deprecations\n",
      "  test_mask = np.zeros(_num_samples(X), dtype=np.bool)\n",
      "C:\\Users\\slm\\Anaconda3\\lib\\site-packages\\sklearn\\model_selection\\_split.py:113: DeprecationWarning: `np.bool` is a deprecated alias for the builtin `bool`. To silence this warning, use `bool` by itself. Doing this will not modify any behavior and is safe. If you specifically wanted the numpy scalar type, use `np.bool_` here.\n",
      "Deprecated in NumPy 1.20; for more details and guidance: https://numpy.org/devdocs/release/1.20.0-notes.html#deprecations\n",
      "  test_mask = np.zeros(_num_samples(X), dtype=np.bool)\n",
      "C:\\Users\\slm\\Anaconda3\\lib\\site-packages\\sklearn\\model_selection\\_split.py:113: DeprecationWarning: `np.bool` is a deprecated alias for the builtin `bool`. To silence this warning, use `bool` by itself. Doing this will not modify any behavior and is safe. If you specifically wanted the numpy scalar type, use `np.bool_` here.\n",
      "Deprecated in NumPy 1.20; for more details and guidance: https://numpy.org/devdocs/release/1.20.0-notes.html#deprecations\n",
      "  test_mask = np.zeros(_num_samples(X), dtype=np.bool)\n",
      "C:\\Users\\slm\\Anaconda3\\lib\\site-packages\\sklearn\\model_selection\\_split.py:113: DeprecationWarning: `np.bool` is a deprecated alias for the builtin `bool`. To silence this warning, use `bool` by itself. Doing this will not modify any behavior and is safe. If you specifically wanted the numpy scalar type, use `np.bool_` here.\n",
      "Deprecated in NumPy 1.20; for more details and guidance: https://numpy.org/devdocs/release/1.20.0-notes.html#deprecations\n",
      "  test_mask = np.zeros(_num_samples(X), dtype=np.bool)\n",
      "C:\\Users\\slm\\Anaconda3\\lib\\site-packages\\sklearn\\model_selection\\_split.py:113: DeprecationWarning: `np.bool` is a deprecated alias for the builtin `bool`. To silence this warning, use `bool` by itself. Doing this will not modify any behavior and is safe. If you specifically wanted the numpy scalar type, use `np.bool_` here.\n",
      "Deprecated in NumPy 1.20; for more details and guidance: https://numpy.org/devdocs/release/1.20.0-notes.html#deprecations\n",
      "  test_mask = np.zeros(_num_samples(X), dtype=np.bool)\n",
      "C:\\Users\\slm\\Anaconda3\\lib\\site-packages\\sklearn\\model_selection\\_split.py:113: DeprecationWarning: `np.bool` is a deprecated alias for the builtin `bool`. To silence this warning, use `bool` by itself. Doing this will not modify any behavior and is safe. If you specifically wanted the numpy scalar type, use `np.bool_` here.\n",
      "Deprecated in NumPy 1.20; for more details and guidance: https://numpy.org/devdocs/release/1.20.0-notes.html#deprecations\n",
      "  test_mask = np.zeros(_num_samples(X), dtype=np.bool)\n",
      "C:\\Users\\slm\\Anaconda3\\lib\\site-packages\\sklearn\\tree\\tree.py:149: DeprecationWarning: `np.int` is a deprecated alias for the builtin `int`. To silence this warning, use `int` by itself. Doing this will not modify any behavior and is safe. When replacing `np.int`, you may wish to use e.g. `np.int64` or `np.int32` to specify the precision. If you wish to review your current use, check the release note link for additional information.\n",
      "Deprecated in NumPy 1.20; for more details and guidance: https://numpy.org/devdocs/release/1.20.0-notes.html#deprecations\n",
      "  y_encoded = np.zeros(y.shape, dtype=np.int)\n",
      "C:\\Users\\slm\\Anaconda3\\lib\\site-packages\\sklearn\\tree\\tree.py:149: DeprecationWarning: `np.int` is a deprecated alias for the builtin `int`. To silence this warning, use `int` by itself. Doing this will not modify any behavior and is safe. When replacing `np.int`, you may wish to use e.g. `np.int64` or `np.int32` to specify the precision. If you wish to review your current use, check the release note link for additional information.\n",
      "Deprecated in NumPy 1.20; for more details and guidance: https://numpy.org/devdocs/release/1.20.0-notes.html#deprecations\n",
      "  y_encoded = np.zeros(y.shape, dtype=np.int)\n",
      "C:\\Users\\slm\\Anaconda3\\lib\\site-packages\\sklearn\\tree\\tree.py:149: DeprecationWarning: `np.int` is a deprecated alias for the builtin `int`. To silence this warning, use `int` by itself. Doing this will not modify any behavior and is safe. When replacing `np.int`, you may wish to use e.g. `np.int64` or `np.int32` to specify the precision. If you wish to review your current use, check the release note link for additional information.\n",
      "Deprecated in NumPy 1.20; for more details and guidance: https://numpy.org/devdocs/release/1.20.0-notes.html#deprecations\n",
      "  y_encoded = np.zeros(y.shape, dtype=np.int)\n",
      "C:\\Users\\slm\\Anaconda3\\lib\\site-packages\\sklearn\\tree\\tree.py:149: DeprecationWarning: `np.int` is a deprecated alias for the builtin `int`. To silence this warning, use `int` by itself. Doing this will not modify any behavior and is safe. When replacing `np.int`, you may wish to use e.g. `np.int64` or `np.int32` to specify the precision. If you wish to review your current use, check the release note link for additional information.\n",
      "Deprecated in NumPy 1.20; for more details and guidance: https://numpy.org/devdocs/release/1.20.0-notes.html#deprecations\n",
      "  y_encoded = np.zeros(y.shape, dtype=np.int)\n",
      "C:\\Users\\slm\\Anaconda3\\lib\\site-packages\\sklearn\\tree\\tree.py:149: DeprecationWarning: `np.int` is a deprecated alias for the builtin `int`. To silence this warning, use `int` by itself. Doing this will not modify any behavior and is safe. When replacing `np.int`, you may wish to use e.g. `np.int64` or `np.int32` to specify the precision. If you wish to review your current use, check the release note link for additional information.\n",
      "Deprecated in NumPy 1.20; for more details and guidance: https://numpy.org/devdocs/release/1.20.0-notes.html#deprecations\n",
      "  y_encoded = np.zeros(y.shape, dtype=np.int)\n",
      "C:\\Users\\slm\\Anaconda3\\lib\\site-packages\\sklearn\\tree\\tree.py:149: DeprecationWarning: `np.int` is a deprecated alias for the builtin `int`. To silence this warning, use `int` by itself. Doing this will not modify any behavior and is safe. When replacing `np.int`, you may wish to use e.g. `np.int64` or `np.int32` to specify the precision. If you wish to review your current use, check the release note link for additional information.\n",
      "Deprecated in NumPy 1.20; for more details and guidance: https://numpy.org/devdocs/release/1.20.0-notes.html#deprecations\n",
      "  y_encoded = np.zeros(y.shape, dtype=np.int)\n",
      "C:\\Users\\slm\\Anaconda3\\lib\\site-packages\\sklearn\\tree\\tree.py:149: DeprecationWarning: `np.int` is a deprecated alias for the builtin `int`. To silence this warning, use `int` by itself. Doing this will not modify any behavior and is safe. When replacing `np.int`, you may wish to use e.g. `np.int64` or `np.int32` to specify the precision. If you wish to review your current use, check the release note link for additional information.\n",
      "Deprecated in NumPy 1.20; for more details and guidance: https://numpy.org/devdocs/release/1.20.0-notes.html#deprecations\n",
      "  y_encoded = np.zeros(y.shape, dtype=np.int)\n",
      "C:\\Users\\slm\\Anaconda3\\lib\\site-packages\\sklearn\\tree\\tree.py:149: DeprecationWarning: `np.int` is a deprecated alias for the builtin `int`. To silence this warning, use `int` by itself. Doing this will not modify any behavior and is safe. When replacing `np.int`, you may wish to use e.g. `np.int64` or `np.int32` to specify the precision. If you wish to review your current use, check the release note link for additional information.\n",
      "Deprecated in NumPy 1.20; for more details and guidance: https://numpy.org/devdocs/release/1.20.0-notes.html#deprecations\n",
      "  y_encoded = np.zeros(y.shape, dtype=np.int)\n",
      "C:\\Users\\slm\\Anaconda3\\lib\\site-packages\\sklearn\\tree\\tree.py:149: DeprecationWarning: `np.int` is a deprecated alias for the builtin `int`. To silence this warning, use `int` by itself. Doing this will not modify any behavior and is safe. When replacing `np.int`, you may wish to use e.g. `np.int64` or `np.int32` to specify the precision. If you wish to review your current use, check the release note link for additional information.\n",
      "Deprecated in NumPy 1.20; for more details and guidance: https://numpy.org/devdocs/release/1.20.0-notes.html#deprecations\n",
      "  y_encoded = np.zeros(y.shape, dtype=np.int)\n",
      "C:\\Users\\slm\\Anaconda3\\lib\\site-packages\\sklearn\\tree\\tree.py:149: DeprecationWarning: `np.int` is a deprecated alias for the builtin `int`. To silence this warning, use `int` by itself. Doing this will not modify any behavior and is safe. When replacing `np.int`, you may wish to use e.g. `np.int64` or `np.int32` to specify the precision. If you wish to review your current use, check the release note link for additional information.\n",
      "Deprecated in NumPy 1.20; for more details and guidance: https://numpy.org/devdocs/release/1.20.0-notes.html#deprecations\n",
      "  y_encoded = np.zeros(y.shape, dtype=np.int)\n"
     ]
    },
    {
     "data": {
      "text/plain": [
       "array([0.53846154, 0.61538462, 0.61538462, 0.46153846, 0.61538462,\n",
       "       0.33333333, 0.58333333, 0.66666667, 0.66666667, 0.5       ])"
      ]
     },
     "execution_count": 587,
     "metadata": {},
     "output_type": "execute_result"
    }
   ],
   "source": [
    "nclf = DecisionTreeClassifier(random_state=0)\n",
    "cross_val_score(nclf, Xn_train, yn_train, cv=10)"
   ]
  },
  {
   "cell_type": "markdown",
   "metadata": {},
   "source": [
    "### Gaussian Naive Bayes"
   ]
  },
  {
   "cell_type": "code",
   "execution_count": 429,
   "metadata": {},
   "outputs": [
    {
     "name": "stdout",
     "output_type": "stream",
     "text": [
      "Gaussian Naive Bayes Classifier report: \n",
      "\n",
      "               precision    recall  f1-score   support\n",
      "\n",
      "         0.0       0.50      0.43      0.46        14\n",
      "         1.0       0.60      0.67      0.63        18\n",
      "\n",
      "   micro avg       0.56      0.56      0.56        32\n",
      "   macro avg       0.55      0.55      0.55        32\n",
      "weighted avg       0.56      0.56      0.56        32\n",
      "\n"
     ]
    }
   ],
   "source": [
    "gnb = GaussianNB()\n",
    "gnb.fit(X_train, y_train)\n",
    "gnb_p = gnb.predict(X_test)\n",
    "print(\"Gaussian Naive Bayes Classifier report: \\n\\n\", classification_report(y_test, gnb_p))"
   ]
  },
  {
   "cell_type": "code",
   "execution_count": 744,
   "metadata": {},
   "outputs": [
    {
     "name": "stdout",
     "output_type": "stream",
     "text": [
      "Gaussian Naive Bayes Classifier report for selected genes: \n",
      "\n",
      "               precision    recall  f1-score   support\n",
      "\n",
      "         0.0       0.80      0.57      0.67        14\n",
      "         1.0       0.73      0.89      0.80        18\n",
      "\n",
      "   micro avg       0.75      0.75      0.75        32\n",
      "   macro avg       0.76      0.73      0.73        32\n",
      "weighted avg       0.76      0.75      0.74        32\n",
      "\n"
     ]
    }
   ],
   "source": [
    "ngnb = GaussianNB()\n",
    "ngnb.fit(Xn_train, yn_train)\n",
    "ngnb_p = ngnb.predict(Xn_test)\n",
    "print(\"Gaussian Naive Bayes Classifier report for selected genes: \\n\\n\", classification_report(yn_test, ngnb_p))"
   ]
  },
  {
   "cell_type": "markdown",
   "metadata": {},
   "source": [
    "### K-Nearest Neighbor"
   ]
  },
  {
   "cell_type": "code",
   "execution_count": 745,
   "metadata": {},
   "outputs": [
    {
     "name": "stdout",
     "output_type": "stream",
     "text": [
      "K-Nearest Neighbor Classifier report: \n",
      "\n",
      "               precision    recall  f1-score   support\n",
      "\n",
      "         0.0       0.53      0.57      0.55        14\n",
      "         1.0       0.65      0.61      0.63        18\n",
      "\n",
      "   micro avg       0.59      0.59      0.59        32\n",
      "   macro avg       0.59      0.59      0.59        32\n",
      "weighted avg       0.60      0.59      0.59        32\n",
      "\n"
     ]
    },
    {
     "name": "stderr",
     "output_type": "stream",
     "text": [
      "C:\\Users\\slm\\Anaconda3\\lib\\site-packages\\sklearn\\neighbors\\base.py:907: DeprecationWarning: `np.int` is a deprecated alias for the builtin `int`. To silence this warning, use `int` by itself. Doing this will not modify any behavior and is safe. When replacing `np.int`, you may wish to use e.g. `np.int64` or `np.int32` to specify the precision. If you wish to review your current use, check the release note link for additional information.\n",
      "Deprecated in NumPy 1.20; for more details and guidance: https://numpy.org/devdocs/release/1.20.0-notes.html#deprecations\n",
      "  self._y = np.empty(y.shape, dtype=np.int)\n"
     ]
    }
   ],
   "source": [
    "knn = KNeighborsClassifier(13)\n",
    "knn.fit(X_train, y_train)\n",
    "knn_p = knn.predict(X_test)\n",
    "print(\"K-Nearest Neighbor Classifier report: \\n\\n\", classification_report(y_test, knn_p))"
   ]
  },
  {
   "cell_type": "code",
   "execution_count": 746,
   "metadata": {},
   "outputs": [
    {
     "name": "stdout",
     "output_type": "stream",
     "text": [
      "K-Nearest Neighbor Classifier report for selected genes: \n",
      "\n",
      "               precision    recall  f1-score   support\n",
      "\n",
      "         0.0       0.67      0.86      0.75        14\n",
      "         1.0       0.86      0.67      0.75        18\n",
      "\n",
      "   micro avg       0.75      0.75      0.75        32\n",
      "   macro avg       0.76      0.76      0.75        32\n",
      "weighted avg       0.77      0.75      0.75        32\n",
      "\n"
     ]
    },
    {
     "name": "stderr",
     "output_type": "stream",
     "text": [
      "C:\\Users\\slm\\Anaconda3\\lib\\site-packages\\sklearn\\neighbors\\base.py:907: DeprecationWarning: `np.int` is a deprecated alias for the builtin `int`. To silence this warning, use `int` by itself. Doing this will not modify any behavior and is safe. When replacing `np.int`, you may wish to use e.g. `np.int64` or `np.int32` to specify the precision. If you wish to review your current use, check the release note link for additional information.\n",
      "Deprecated in NumPy 1.20; for more details and guidance: https://numpy.org/devdocs/release/1.20.0-notes.html#deprecations\n",
      "  self._y = np.empty(y.shape, dtype=np.int)\n"
     ]
    }
   ],
   "source": [
    "nknn = KNeighborsClassifier(6)\n",
    "nknn.fit(Xn_train, yn_train)\n",
    "nknn_p = nknn.predict(Xn_test)\n",
    "print(\"K-Nearest Neighbor Classifier report for selected genes: \\n\\n\", classification_report(yn_test, nknn_p))"
   ]
  },
  {
   "cell_type": "markdown",
   "metadata": {},
   "source": [
    "### Linear SVC"
   ]
  },
  {
   "cell_type": "code",
   "execution_count": 747,
   "metadata": {},
   "outputs": [
    {
     "name": "stdout",
     "output_type": "stream",
     "text": [
      "Linear SVC report: \n",
      "\n",
      "               precision    recall  f1-score   support\n",
      "\n",
      "         0.0       0.42      0.57      0.48        14\n",
      "         1.0       0.54      0.39      0.45        18\n",
      "\n",
      "   micro avg       0.47      0.47      0.47        32\n",
      "   macro avg       0.48      0.48      0.47        32\n",
      "weighted avg       0.49      0.47      0.47        32\n",
      "\n"
     ]
    },
    {
     "name": "stderr",
     "output_type": "stream",
     "text": [
      "C:\\Users\\slm\\Anaconda3\\lib\\site-packages\\sklearn\\svm\\base.py:931: ConvergenceWarning: Liblinear failed to converge, increase the number of iterations.\n",
      "  \"the number of iterations.\", ConvergenceWarning)\n",
      "C:\\Users\\slm\\Anaconda3\\lib\\site-packages\\sklearn\\linear_model\\base.py:283: DeprecationWarning: `np.int` is a deprecated alias for the builtin `int`. To silence this warning, use `int` by itself. Doing this will not modify any behavior and is safe. When replacing `np.int`, you may wish to use e.g. `np.int64` or `np.int32` to specify the precision. If you wish to review your current use, check the release note link for additional information.\n",
      "Deprecated in NumPy 1.20; for more details and guidance: https://numpy.org/devdocs/release/1.20.0-notes.html#deprecations\n",
      "  indices = (scores > 0).astype(np.int)\n"
     ]
    }
   ],
   "source": [
    "lsvc = LinearSVC(C=0.1, penalty=\"l1\", dual=False)\n",
    "lsvc.fit(X_train, y_train)\n",
    "lsvc_p = lsvc.predict(X_test)\n",
    "print(\"Linear SVC report: \\n\\n\", classification_report(y_test, lsvc_p))"
   ]
  },
  {
   "cell_type": "code",
   "execution_count": 748,
   "metadata": {},
   "outputs": [
    {
     "name": "stdout",
     "output_type": "stream",
     "text": [
      "Linear SVC report for selected genes: \n",
      "\n",
      "               precision    recall  f1-score   support\n",
      "\n",
      "         0.0       0.73      0.57      0.64        14\n",
      "         1.0       0.71      0.83      0.77        18\n",
      "\n",
      "   micro avg       0.72      0.72      0.72        32\n",
      "   macro avg       0.72      0.70      0.70        32\n",
      "weighted avg       0.72      0.72      0.71        32\n",
      "\n"
     ]
    },
    {
     "name": "stderr",
     "output_type": "stream",
     "text": [
      "C:\\Users\\slm\\Anaconda3\\lib\\site-packages\\sklearn\\svm\\base.py:931: ConvergenceWarning: Liblinear failed to converge, increase the number of iterations.\n",
      "  \"the number of iterations.\", ConvergenceWarning)\n",
      "C:\\Users\\slm\\Anaconda3\\lib\\site-packages\\sklearn\\linear_model\\base.py:283: DeprecationWarning: `np.int` is a deprecated alias for the builtin `int`. To silence this warning, use `int` by itself. Doing this will not modify any behavior and is safe. When replacing `np.int`, you may wish to use e.g. `np.int64` or `np.int32` to specify the precision. If you wish to review your current use, check the release note link for additional information.\n",
      "Deprecated in NumPy 1.20; for more details and guidance: https://numpy.org/devdocs/release/1.20.0-notes.html#deprecations\n",
      "  indices = (scores > 0).astype(np.int)\n"
     ]
    }
   ],
   "source": [
    "nlsvc = LinearSVC(C=0.25, penalty=\"l1\", dual=False)\n",
    "nlsvc.fit(Xn_train, yn_train)\n",
    "nlsvc_p = nlsvc.predict(Xn_test)\n",
    "print(\"Linear SVC report for selected genes: \\n\\n\", classification_report(yn_test, nlsvc_p))"
   ]
  },
  {
   "cell_type": "markdown",
   "metadata": {},
   "source": [
    "### RBF kernel SVC"
   ]
  },
  {
   "cell_type": "code",
   "execution_count": 749,
   "metadata": {},
   "outputs": [
    {
     "name": "stdout",
     "output_type": "stream",
     "text": [
      "RBF kernel SVC report: \n",
      "\n",
      "               precision    recall  f1-score   support\n",
      "\n",
      "         0.0       0.44      1.00      0.61        14\n",
      "         1.0       0.00      0.00      0.00        18\n",
      "\n",
      "   micro avg       0.44      0.44      0.44        32\n",
      "   macro avg       0.22      0.50      0.30        32\n",
      "weighted avg       0.19      0.44      0.27        32\n",
      "\n"
     ]
    },
    {
     "name": "stderr",
     "output_type": "stream",
     "text": [
      "C:\\Users\\slm\\Anaconda3\\lib\\site-packages\\sklearn\\metrics\\classification.py:1143: UndefinedMetricWarning: Precision and F-score are ill-defined and being set to 0.0 in labels with no predicted samples.\n",
      "  'precision', 'predicted', average, warn_for)\n",
      "C:\\Users\\slm\\Anaconda3\\lib\\site-packages\\sklearn\\metrics\\classification.py:1143: UndefinedMetricWarning: Precision and F-score are ill-defined and being set to 0.0 in labels with no predicted samples.\n",
      "  'precision', 'predicted', average, warn_for)\n",
      "C:\\Users\\slm\\Anaconda3\\lib\\site-packages\\sklearn\\metrics\\classification.py:1143: UndefinedMetricWarning: Precision and F-score are ill-defined and being set to 0.0 in labels with no predicted samples.\n",
      "  'precision', 'predicted', average, warn_for)\n"
     ]
    }
   ],
   "source": [
    "rsvc = SVC(gamma=0.15, C=1)\n",
    "rsvc.fit(X_train, y_train)\n",
    "rsvc_p = rsvc.predict(X_test)\n",
    "print(\"RBF kernel SVC report: \\n\\n\", classification_report(y_test, rsvc_p))"
   ]
  },
  {
   "cell_type": "code",
   "execution_count": 750,
   "metadata": {},
   "outputs": [
    {
     "name": "stdout",
     "output_type": "stream",
     "text": [
      "RBF kernel SVC report for selected genes: \n",
      "\n",
      "               precision    recall  f1-score   support\n",
      "\n",
      "         0.0       0.83      0.71      0.77        14\n",
      "         1.0       0.80      0.89      0.84        18\n",
      "\n",
      "   micro avg       0.81      0.81      0.81        32\n",
      "   macro avg       0.82      0.80      0.81        32\n",
      "weighted avg       0.81      0.81      0.81        32\n",
      "\n"
     ]
    }
   ],
   "source": [
    "nrsvc = SVC(gamma=8.2, C=1)\n",
    "nrsvc.fit(Xn_train, yn_train)\n",
    "nrsvc_p = nrsvc.predict(Xn_test)\n",
    "print(\"RBF kernel SVC report for selected genes: \\n\\n\", classification_report(yn_test, nrsvc_p))"
   ]
  },
  {
   "cell_type": "markdown",
   "metadata": {},
   "source": [
    "### Simple Dense NN"
   ]
  },
  {
   "cell_type": "code",
   "execution_count": 678,
   "metadata": {},
   "outputs": [
    {
     "name": "stdout",
     "output_type": "stream",
     "text": [
      "Epoch 1/1000\n",
      "125/125 [==============================] - 0s 2ms/sample - loss: 0.7399 - acc: 0.5120\n",
      "Epoch 2/1000\n",
      "125/125 [==============================] - 0s 127us/sample - loss: 0.6983 - acc: 0.4800\n",
      "Epoch 3/1000\n",
      "125/125 [==============================] - 0s 128us/sample - loss: 0.6827 - acc: 0.5520\n",
      "Epoch 4/1000\n",
      "125/125 [==============================] - 0s 168us/sample - loss: 0.6905 - acc: 0.5200\n",
      "Epoch 5/1000\n",
      "125/125 [==============================] - 0s 144us/sample - loss: 0.6928 - acc: 0.4880\n",
      "Epoch 6/1000\n",
      "125/125 [==============================] - 0s 165us/sample - loss: 0.6858 - acc: 0.5360\n",
      "Epoch 7/1000\n",
      "125/125 [==============================] - 0s 135us/sample - loss: 0.6733 - acc: 0.6160\n",
      "Epoch 8/1000\n",
      "125/125 [==============================] - 0s 151us/sample - loss: 0.6823 - acc: 0.5520\n",
      "Epoch 9/1000\n",
      "125/125 [==============================] - 0s 167us/sample - loss: 0.6706 - acc: 0.6320\n",
      "Epoch 10/1000\n",
      "125/125 [==============================] - 0s 144us/sample - loss: 0.6797 - acc: 0.5600\n",
      "Epoch 11/1000\n",
      "125/125 [==============================] - 0s 120us/sample - loss: 0.6759 - acc: 0.5760\n",
      "Epoch 12/1000\n",
      "125/125 [==============================] - 0s 176us/sample - loss: 0.6705 - acc: 0.5680\n",
      "Epoch 13/1000\n",
      "125/125 [==============================] - 0s 135us/sample - loss: 0.6704 - acc: 0.5920\n",
      "Epoch 14/1000\n",
      "125/125 [==============================] - 0s 128us/sample - loss: 0.6683 - acc: 0.6480\n",
      "Epoch 15/1000\n",
      "125/125 [==============================] - 0s 128us/sample - loss: 0.6981 - acc: 0.5200\n",
      "Epoch 16/1000\n",
      "125/125 [==============================] - 0s 128us/sample - loss: 0.6889 - acc: 0.5520\n",
      "Epoch 17/1000\n",
      "125/125 [==============================] - 0s 136us/sample - loss: 0.6753 - acc: 0.5760\n",
      "Epoch 18/1000\n",
      "125/125 [==============================] - 0s 143us/sample - loss: 0.6740 - acc: 0.6080\n",
      "Epoch 19/1000\n",
      "125/125 [==============================] - 0s 151us/sample - loss: 0.6700 - acc: 0.5840\n",
      "Epoch 20/1000\n",
      "125/125 [==============================] - 0s 128us/sample - loss: 0.6818 - acc: 0.5600\n",
      "Epoch 21/1000\n",
      "125/125 [==============================] - 0s 104us/sample - loss: 0.6696 - acc: 0.6000\n",
      "Epoch 22/1000\n",
      "125/125 [==============================] - 0s 118us/sample - loss: 0.6696 - acc: 0.5360\n",
      "Epoch 23/1000\n",
      "125/125 [==============================] - 0s 136us/sample - loss: 0.6691 - acc: 0.5920\n",
      "Epoch 24/1000\n",
      "125/125 [==============================] - 0s 136us/sample - loss: 0.6571 - acc: 0.6080\n",
      "Epoch 25/1000\n",
      "125/125 [==============================] - 0s 152us/sample - loss: 0.6576 - acc: 0.6880\n",
      "Epoch 26/1000\n",
      "125/125 [==============================] - 0s 136us/sample - loss: 0.6544 - acc: 0.5760\n",
      "Epoch 27/1000\n",
      "125/125 [==============================] - 0s 134us/sample - loss: 0.6510 - acc: 0.6400\n",
      "Epoch 28/1000\n",
      "125/125 [==============================] - 0s 112us/sample - loss: 0.6653 - acc: 0.5760\n",
      "Epoch 29/1000\n",
      "125/125 [==============================] - 0s 128us/sample - loss: 0.6895 - acc: 0.5520\n",
      "Epoch 30/1000\n",
      "125/125 [==============================] - 0s 120us/sample - loss: 0.6835 - acc: 0.5200\n",
      "Epoch 31/1000\n",
      "125/125 [==============================] - 0s 128us/sample - loss: 0.6582 - acc: 0.6800\n",
      "Epoch 32/1000\n",
      "125/125 [==============================] - 0s 120us/sample - loss: 0.6602 - acc: 0.5600\n",
      "Epoch 33/1000\n",
      "125/125 [==============================] - 0s 128us/sample - loss: 0.6579 - acc: 0.6480\n",
      "Epoch 34/1000\n",
      "125/125 [==============================] - 0s 136us/sample - loss: 0.6530 - acc: 0.5920\n",
      "Epoch 35/1000\n",
      "125/125 [==============================] - 0s 151us/sample - loss: 0.6593 - acc: 0.6880\n",
      "Epoch 36/1000\n",
      "125/125 [==============================] - 0s 135us/sample - loss: 0.6479 - acc: 0.6320\n",
      "Epoch 37/1000\n",
      "125/125 [==============================] - 0s 120us/sample - loss: 0.6428 - acc: 0.6400\n",
      "Epoch 38/1000\n",
      "125/125 [==============================] - 0s 120us/sample - loss: 0.6486 - acc: 0.6240\n",
      "Epoch 39/1000\n",
      "125/125 [==============================] - 0s 112us/sample - loss: 0.6475 - acc: 0.6080\n",
      "Epoch 40/1000\n",
      "125/125 [==============================] - 0s 128us/sample - loss: 0.6662 - acc: 0.6160\n",
      "Epoch 41/1000\n",
      "125/125 [==============================] - 0s 112us/sample - loss: 0.6542 - acc: 0.6000\n",
      "Epoch 42/1000\n",
      "125/125 [==============================] - 0s 119us/sample - loss: 0.6441 - acc: 0.6640\n",
      "Epoch 43/1000\n",
      "125/125 [==============================] - 0s 120us/sample - loss: 0.6484 - acc: 0.5840\n",
      "Epoch 44/1000\n",
      "125/125 [==============================] - 0s 120us/sample - loss: 0.6432 - acc: 0.6960\n",
      "Epoch 45/1000\n",
      "125/125 [==============================] - 0s 120us/sample - loss: 0.6466 - acc: 0.6480\n",
      "Epoch 46/1000\n",
      "125/125 [==============================] - 0s 128us/sample - loss: 0.6614 - acc: 0.5680\n",
      "Epoch 47/1000\n",
      "125/125 [==============================] - 0s 127us/sample - loss: 0.6574 - acc: 0.5920\n",
      "Epoch 48/1000\n",
      "125/125 [==============================] - 0s 119us/sample - loss: 0.6580 - acc: 0.5840\n",
      "Epoch 49/1000\n",
      "125/125 [==============================] - 0s 143us/sample - loss: 0.6439 - acc: 0.6480\n",
      "Epoch 50/1000\n",
      "125/125 [==============================] - 0s 144us/sample - loss: 0.6661 - acc: 0.5440\n",
      "Epoch 51/1000\n",
      "125/125 [==============================] - 0s 160us/sample - loss: 0.6543 - acc: 0.6080\n",
      "Epoch 52/1000\n",
      "125/125 [==============================] - 0s 152us/sample - loss: 0.6343 - acc: 0.6400\n",
      "Epoch 53/1000\n",
      "125/125 [==============================] - 0s 160us/sample - loss: 0.6369 - acc: 0.6400\n",
      "Epoch 54/1000\n",
      "125/125 [==============================] - 0s 144us/sample - loss: 0.6358 - acc: 0.6880\n",
      "Epoch 55/1000\n",
      "125/125 [==============================] - 0s 191us/sample - loss: 0.6325 - acc: 0.7200\n",
      "Epoch 56/1000\n",
      "125/125 [==============================] - 0s 148us/sample - loss: 0.6298 - acc: 0.6800\n",
      "Epoch 57/1000\n",
      "125/125 [==============================] - 0s 140us/sample - loss: 0.6385 - acc: 0.6480\n",
      "Epoch 58/1000\n",
      "125/125 [==============================] - 0s 144us/sample - loss: 0.6296 - acc: 0.6720\n",
      "Epoch 59/1000\n",
      "125/125 [==============================] - 0s 111us/sample - loss: 0.6265 - acc: 0.6560\n",
      "Epoch 60/1000\n",
      "125/125 [==============================] - 0s 104us/sample - loss: 0.6466 - acc: 0.6320\n",
      "Epoch 61/1000\n",
      "125/125 [==============================] - 0s 112us/sample - loss: 0.6281 - acc: 0.6720\n",
      "Epoch 62/1000\n",
      "125/125 [==============================] - 0s 104us/sample - loss: 0.6256 - acc: 0.6960\n",
      "Epoch 63/1000\n",
      "125/125 [==============================] - 0s 159us/sample - loss: 0.6367 - acc: 0.6400\n",
      "Epoch 64/1000\n",
      "125/125 [==============================] - 0s 120us/sample - loss: 0.6485 - acc: 0.5840\n",
      "Epoch 65/1000\n",
      "125/125 [==============================] - 0s 139us/sample - loss: 0.6269 - acc: 0.6720\n",
      "Epoch 66/1000\n",
      "125/125 [==============================] - 0s 128us/sample - loss: 0.6239 - acc: 0.6320\n",
      "Epoch 67/1000\n",
      "125/125 [==============================] - 0s 128us/sample - loss: 0.6505 - acc: 0.6000\n",
      "Epoch 68/1000\n",
      "125/125 [==============================] - 0s 128us/sample - loss: 0.6427 - acc: 0.6080\n",
      "Epoch 69/1000\n",
      "125/125 [==============================] - 0s 135us/sample - loss: 0.6328 - acc: 0.6640\n",
      "Epoch 70/1000\n",
      "125/125 [==============================] - 0s 112us/sample - loss: 0.6304 - acc: 0.6560\n",
      "Epoch 71/1000\n",
      "125/125 [==============================] - 0s 144us/sample - loss: 0.6292 - acc: 0.6800\n",
      "Epoch 72/1000\n",
      "125/125 [==============================] - 0s 112us/sample - loss: 0.6568 - acc: 0.6240\n",
      "Epoch 73/1000\n",
      "125/125 [==============================] - 0s 160us/sample - loss: 0.6242 - acc: 0.7200\n",
      "Epoch 74/1000\n",
      "125/125 [==============================] - 0s 128us/sample - loss: 0.6496 - acc: 0.6000\n",
      "Epoch 75/1000\n",
      "125/125 [==============================] - 0s 136us/sample - loss: 0.6241 - acc: 0.6960\n",
      "Epoch 76/1000\n",
      "125/125 [==============================] - 0s 168us/sample - loss: 0.6261 - acc: 0.6160\n",
      "Epoch 77/1000\n",
      "125/125 [==============================] - 0s 160us/sample - loss: 0.6512 - acc: 0.6560\n",
      "Epoch 78/1000\n",
      "125/125 [==============================] - 0s 168us/sample - loss: 0.6204 - acc: 0.6160\n",
      "Epoch 79/1000\n",
      "125/125 [==============================] - 0s 152us/sample - loss: 0.6204 - acc: 0.6880\n",
      "Epoch 80/1000\n",
      "125/125 [==============================] - 0s 152us/sample - loss: 0.6300 - acc: 0.6400\n",
      "Epoch 81/1000\n",
      "125/125 [==============================] - 0s 152us/sample - loss: 0.6395 - acc: 0.6080\n",
      "Epoch 82/1000\n",
      "125/125 [==============================] - 0s 136us/sample - loss: 0.6467 - acc: 0.6480\n",
      "Epoch 83/1000\n",
      "125/125 [==============================] - 0s 144us/sample - loss: 0.6475 - acc: 0.5840\n",
      "Epoch 84/1000\n",
      "125/125 [==============================] - 0s 152us/sample - loss: 0.6220 - acc: 0.6880\n",
      "Epoch 85/1000\n",
      "125/125 [==============================] - 0s 136us/sample - loss: 0.6220 - acc: 0.7120\n",
      "Epoch 86/1000\n",
      "125/125 [==============================] - 0s 152us/sample - loss: 0.6213 - acc: 0.6880\n",
      "Epoch 87/1000\n",
      "125/125 [==============================] - 0s 152us/sample - loss: 0.6221 - acc: 0.6640\n",
      "Epoch 88/1000\n",
      "125/125 [==============================] - 0s 176us/sample - loss: 0.6249 - acc: 0.6320\n",
      "Epoch 89/1000\n",
      "125/125 [==============================] - 0s 180us/sample - loss: 0.6143 - acc: 0.6880\n",
      "Epoch 90/1000\n",
      "125/125 [==============================] - 0s 191us/sample - loss: 0.6142 - acc: 0.7040\n",
      "Epoch 91/1000\n",
      "125/125 [==============================] - 0s 168us/sample - loss: 0.6168 - acc: 0.6880\n",
      "Epoch 92/1000\n",
      "125/125 [==============================] - 0s 176us/sample - loss: 0.6167 - acc: 0.6800\n",
      "Epoch 93/1000\n",
      "125/125 [==============================] - 0s 168us/sample - loss: 0.6164 - acc: 0.6480\n",
      "Epoch 94/1000\n",
      "125/125 [==============================] - 0s 175us/sample - loss: 0.6301 - acc: 0.6560\n",
      "Epoch 95/1000\n",
      "125/125 [==============================] - 0s 160us/sample - loss: 0.6096 - acc: 0.6960\n",
      "Epoch 96/1000\n",
      "125/125 [==============================] - 0s 199us/sample - loss: 0.6149 - acc: 0.6480\n",
      "Epoch 97/1000\n",
      "125/125 [==============================] - 0s 176us/sample - loss: 0.6286 - acc: 0.6960\n",
      "Epoch 98/1000\n",
      "125/125 [==============================] - 0s 184us/sample - loss: 0.6113 - acc: 0.6480\n",
      "Epoch 99/1000\n",
      "125/125 [==============================] - 0s 176us/sample - loss: 0.6096 - acc: 0.6640\n",
      "Epoch 100/1000\n",
      "125/125 [==============================] - 0s 127us/sample - loss: 0.6181 - acc: 0.7040\n",
      "Epoch 101/1000\n",
      "125/125 [==============================] - 0s 128us/sample - loss: 0.6057 - acc: 0.6720\n",
      "Epoch 102/1000\n",
      "125/125 [==============================] - 0s 119us/sample - loss: 0.6179 - acc: 0.6880\n",
      "Epoch 103/1000\n",
      "125/125 [==============================] - 0s 144us/sample - loss: 0.6093 - acc: 0.6480\n",
      "Epoch 104/1000\n",
      "125/125 [==============================] - 0s 152us/sample - loss: 0.6147 - acc: 0.6800\n",
      "Epoch 105/1000\n",
      "125/125 [==============================] - 0s 152us/sample - loss: 0.6136 - acc: 0.6400\n",
      "Epoch 106/1000\n",
      "125/125 [==============================] - 0s 144us/sample - loss: 0.6057 - acc: 0.7120\n",
      "Epoch 107/1000\n",
      "125/125 [==============================] - 0s 128us/sample - loss: 0.6069 - acc: 0.6960\n",
      "Epoch 108/1000\n",
      "125/125 [==============================] - 0s 138us/sample - loss: 0.6093 - acc: 0.6800\n",
      "Epoch 109/1000\n",
      "125/125 [==============================] - 0s 127us/sample - loss: 0.6090 - acc: 0.6720\n",
      "Epoch 110/1000\n",
      "125/125 [==============================] - 0s 112us/sample - loss: 0.6083 - acc: 0.6960\n",
      "Epoch 111/1000\n",
      "125/125 [==============================] - 0s 119us/sample - loss: 0.6055 - acc: 0.6720\n",
      "Epoch 112/1000\n",
      "125/125 [==============================] - 0s 128us/sample - loss: 0.6052 - acc: 0.7280\n",
      "Epoch 113/1000\n",
      "125/125 [==============================] - 0s 120us/sample - loss: 0.6016 - acc: 0.6640\n",
      "Epoch 114/1000\n",
      "125/125 [==============================] - 0s 120us/sample - loss: 0.6101 - acc: 0.6640\n",
      "Epoch 115/1000\n",
      "125/125 [==============================] - 0s 119us/sample - loss: 0.6089 - acc: 0.6880\n",
      "Epoch 116/1000\n",
      "125/125 [==============================] - 0s 112us/sample - loss: 0.6183 - acc: 0.6400\n",
      "Epoch 117/1000\n",
      "125/125 [==============================] - 0s 104us/sample - loss: 0.6107 - acc: 0.6800\n",
      "Epoch 118/1000\n",
      "125/125 [==============================] - 0s 127us/sample - loss: 0.6050 - acc: 0.6480\n",
      "Epoch 119/1000\n",
      "125/125 [==============================] - 0s 136us/sample - loss: 0.6114 - acc: 0.6800\n",
      "Epoch 120/1000\n",
      "125/125 [==============================] - 0s 112us/sample - loss: 0.6015 - acc: 0.7120\n",
      "Epoch 121/1000\n",
      "125/125 [==============================] - 0s 136us/sample - loss: 0.6247 - acc: 0.6800\n",
      "Epoch 122/1000\n",
      "125/125 [==============================] - 0s 144us/sample - loss: 0.6108 - acc: 0.6320\n",
      "Epoch 123/1000\n",
      "125/125 [==============================] - 0s 127us/sample - loss: 0.6678 - acc: 0.6000\n",
      "Epoch 124/1000\n",
      "125/125 [==============================] - 0s 127us/sample - loss: 0.6715 - acc: 0.5600\n",
      "Epoch 125/1000\n",
      "125/125 [==============================] - 0s 119us/sample - loss: 0.6160 - acc: 0.6560\n",
      "Epoch 126/1000\n",
      "125/125 [==============================] - 0s 119us/sample - loss: 0.6103 - acc: 0.6480\n",
      "Epoch 127/1000\n",
      "125/125 [==============================] - 0s 128us/sample - loss: 0.6240 - acc: 0.6560\n",
      "Epoch 128/1000\n",
      "125/125 [==============================] - 0s 128us/sample - loss: 0.6115 - acc: 0.6320\n",
      "Epoch 129/1000\n",
      "125/125 [==============================] - 0s 128us/sample - loss: 0.6013 - acc: 0.6960\n",
      "Epoch 130/1000\n",
      "125/125 [==============================] - 0s 128us/sample - loss: 0.6052 - acc: 0.6480\n",
      "Epoch 131/1000\n",
      "125/125 [==============================] - 0s 136us/sample - loss: 0.6060 - acc: 0.6640\n",
      "Epoch 132/1000\n",
      "125/125 [==============================] - 0s 119us/sample - loss: 0.6025 - acc: 0.7200\n",
      "Epoch 133/1000\n",
      "125/125 [==============================] - 0s 112us/sample - loss: 0.6013 - acc: 0.6960\n",
      "Epoch 134/1000\n",
      "125/125 [==============================] - 0s 128us/sample - loss: 0.5978 - acc: 0.7200\n",
      "Epoch 135/1000\n",
      "125/125 [==============================] - 0s 120us/sample - loss: 0.6033 - acc: 0.6880\n",
      "Epoch 136/1000\n",
      "125/125 [==============================] - 0s 127us/sample - loss: 0.6133 - acc: 0.6480\n",
      "Epoch 137/1000\n",
      "125/125 [==============================] - 0s 135us/sample - loss: 0.6064 - acc: 0.6400\n",
      "Epoch 138/1000\n",
      "125/125 [==============================] - 0s 152us/sample - loss: 0.6012 - acc: 0.7040\n",
      "Epoch 139/1000\n",
      "125/125 [==============================] - 0s 112us/sample - loss: 0.6028 - acc: 0.6800\n",
      "Epoch 140/1000\n",
      "125/125 [==============================] - 0s 111us/sample - loss: 0.6038 - acc: 0.6880\n",
      "Epoch 141/1000\n",
      "125/125 [==============================] - 0s 127us/sample - loss: 0.6059 - acc: 0.6560\n",
      "Epoch 142/1000\n",
      "125/125 [==============================] - 0s 120us/sample - loss: 0.5940 - acc: 0.7040\n",
      "Epoch 143/1000\n",
      "125/125 [==============================] - 0s 128us/sample - loss: 0.6043 - acc: 0.6560\n",
      "Epoch 144/1000\n",
      "125/125 [==============================] - 0s 135us/sample - loss: 0.6113 - acc: 0.6640\n",
      "Epoch 145/1000\n",
      "125/125 [==============================] - 0s 135us/sample - loss: 0.6076 - acc: 0.6320\n",
      "Epoch 146/1000\n",
      "125/125 [==============================] - 0s 136us/sample - loss: 0.5969 - acc: 0.6960\n",
      "Epoch 147/1000\n",
      "125/125 [==============================] - 0s 151us/sample - loss: 0.5935 - acc: 0.7040\n",
      "Epoch 148/1000\n",
      "125/125 [==============================] - 0s 143us/sample - loss: 0.6118 - acc: 0.6080\n",
      "Epoch 149/1000\n",
      "125/125 [==============================] - 0s 136us/sample - loss: 0.5990 - acc: 0.6720\n",
      "Epoch 150/1000\n",
      "125/125 [==============================] - 0s 104us/sample - loss: 0.5988 - acc: 0.6800\n",
      "Epoch 151/1000\n",
      "125/125 [==============================] - 0s 120us/sample - loss: 0.6235 - acc: 0.6640\n",
      "Epoch 152/1000\n",
      "125/125 [==============================] - 0s 120us/sample - loss: 0.5972 - acc: 0.6720\n",
      "Epoch 153/1000\n",
      "125/125 [==============================] - 0s 120us/sample - loss: 0.5907 - acc: 0.7120\n",
      "Epoch 154/1000\n",
      "125/125 [==============================] - 0s 136us/sample - loss: 0.5966 - acc: 0.6640\n",
      "Epoch 155/1000\n",
      "125/125 [==============================] - 0s 168us/sample - loss: 0.5959 - acc: 0.6880\n",
      "Epoch 156/1000\n",
      "125/125 [==============================] - 0s 120us/sample - loss: 0.6137 - acc: 0.6560\n",
      "Epoch 157/1000\n",
      "125/125 [==============================] - 0s 128us/sample - loss: 0.6049 - acc: 0.6640\n",
      "Epoch 158/1000\n",
      "125/125 [==============================] - 0s 120us/sample - loss: 0.6108 - acc: 0.6720\n",
      "Epoch 159/1000\n",
      "125/125 [==============================] - 0s 112us/sample - loss: 0.6047 - acc: 0.6480\n",
      "Epoch 160/1000\n",
      "125/125 [==============================] - 0s 112us/sample - loss: 0.6033 - acc: 0.6880\n",
      "Epoch 161/1000\n",
      "125/125 [==============================] - 0s 112us/sample - loss: 0.6020 - acc: 0.6640\n",
      "Epoch 162/1000\n",
      "125/125 [==============================] - 0s 128us/sample - loss: 0.5919 - acc: 0.7200\n",
      "Epoch 163/1000\n",
      "125/125 [==============================] - 0s 120us/sample - loss: 0.5950 - acc: 0.6960\n",
      "Epoch 164/1000\n",
      "125/125 [==============================] - 0s 128us/sample - loss: 0.5990 - acc: 0.6720\n",
      "Epoch 165/1000\n",
      "125/125 [==============================] - 0s 117us/sample - loss: 0.5914 - acc: 0.7120\n",
      "Epoch 166/1000\n",
      "125/125 [==============================] - 0s 128us/sample - loss: 0.6065 - acc: 0.6640\n",
      "Epoch 167/1000\n",
      "125/125 [==============================] - 0s 119us/sample - loss: 0.6117 - acc: 0.6640\n",
      "Epoch 168/1000\n",
      "125/125 [==============================] - 0s 112us/sample - loss: 0.5906 - acc: 0.6960\n",
      "Epoch 169/1000\n",
      "125/125 [==============================] - 0s 120us/sample - loss: 0.5957 - acc: 0.6720\n",
      "Epoch 170/1000\n",
      "125/125 [==============================] - 0s 120us/sample - loss: 0.5909 - acc: 0.7280\n",
      "Epoch 171/1000\n",
      "125/125 [==============================] - 0s 120us/sample - loss: 0.5950 - acc: 0.6560\n",
      "Epoch 172/1000\n",
      "125/125 [==============================] - 0s 128us/sample - loss: 0.6347 - acc: 0.6400\n",
      "Epoch 173/1000\n",
      "125/125 [==============================] - 0s 128us/sample - loss: 0.6112 - acc: 0.6720\n",
      "Epoch 174/1000\n",
      "125/125 [==============================] - 0s 120us/sample - loss: 0.6379 - acc: 0.6080\n",
      "Epoch 175/1000\n",
      "125/125 [==============================] - 0s 120us/sample - loss: 0.6261 - acc: 0.6320\n",
      "Epoch 176/1000\n",
      "125/125 [==============================] - 0s 120us/sample - loss: 0.5907 - acc: 0.6640\n",
      "Epoch 177/1000\n",
      "125/125 [==============================] - 0s 120us/sample - loss: 0.5975 - acc: 0.6720\n",
      "Epoch 178/1000\n",
      "125/125 [==============================] - 0s 199us/sample - loss: 0.6001 - acc: 0.6880\n",
      "Epoch 179/1000\n",
      "125/125 [==============================] - 0s 112us/sample - loss: 0.6121 - acc: 0.6720\n",
      "Epoch 180/1000\n",
      "125/125 [==============================] - 0s 135us/sample - loss: 0.6007 - acc: 0.6480\n",
      "Epoch 181/1000\n",
      "125/125 [==============================] - 0s 144us/sample - loss: 0.6069 - acc: 0.6720\n",
      "Epoch 182/1000\n",
      "125/125 [==============================] - 0s 144us/sample - loss: 0.6043 - acc: 0.6480\n",
      "Epoch 183/1000\n",
      "125/125 [==============================] - 0s 143us/sample - loss: 0.5873 - acc: 0.7120\n",
      "Epoch 184/1000\n",
      "125/125 [==============================] - 0s 144us/sample - loss: 0.5988 - acc: 0.7120\n",
      "Epoch 185/1000\n",
      "125/125 [==============================] - 0s 160us/sample - loss: 0.5900 - acc: 0.7040\n",
      "Epoch 186/1000\n",
      "125/125 [==============================] - 0s 144us/sample - loss: 0.5946 - acc: 0.6800\n",
      "Epoch 187/1000\n",
      "125/125 [==============================] - 0s 144us/sample - loss: 0.5902 - acc: 0.7280\n",
      "Epoch 188/1000\n",
      "125/125 [==============================] - 0s 104us/sample - loss: 0.5850 - acc: 0.7040\n",
      "Epoch 189/1000\n",
      "125/125 [==============================] - 0s 136us/sample - loss: 0.5943 - acc: 0.6880\n",
      "Epoch 190/1000\n",
      "125/125 [==============================] - 0s 152us/sample - loss: 0.6182 - acc: 0.6400\n",
      "Epoch 191/1000\n",
      "125/125 [==============================] - 0s 152us/sample - loss: 0.5898 - acc: 0.7120\n",
      "Epoch 192/1000\n",
      "125/125 [==============================] - 0s 140us/sample - loss: 0.5843 - acc: 0.7040\n",
      "Epoch 193/1000\n",
      "125/125 [==============================] - 0s 168us/sample - loss: 0.5890 - acc: 0.6960\n",
      "Epoch 194/1000\n",
      "125/125 [==============================] - 0s 152us/sample - loss: 0.5893 - acc: 0.6880\n",
      "Epoch 195/1000\n",
      "125/125 [==============================] - 0s 144us/sample - loss: 0.5858 - acc: 0.6960\n",
      "Epoch 196/1000\n",
      "125/125 [==============================] - 0s 152us/sample - loss: 0.5875 - acc: 0.6960\n",
      "Epoch 197/1000\n",
      "125/125 [==============================] - 0s 152us/sample - loss: 0.6037 - acc: 0.6640\n",
      "Epoch 198/1000\n",
      "125/125 [==============================] - 0s 144us/sample - loss: 0.6256 - acc: 0.6800\n",
      "Epoch 199/1000\n",
      "125/125 [==============================] - 0s 136us/sample - loss: 0.5851 - acc: 0.6800\n",
      "Epoch 200/1000\n",
      "125/125 [==============================] - 0s 144us/sample - loss: 0.6018 - acc: 0.6720\n",
      "Epoch 201/1000\n",
      "125/125 [==============================] - 0s 144us/sample - loss: 0.5886 - acc: 0.7120\n",
      "Epoch 202/1000\n",
      "125/125 [==============================] - 0s 166us/sample - loss: 0.5864 - acc: 0.6960\n",
      "Epoch 203/1000\n",
      "125/125 [==============================] - 0s 136us/sample - loss: 0.5975 - acc: 0.6640\n",
      "Epoch 204/1000\n",
      "125/125 [==============================] - 0s 160us/sample - loss: 0.5942 - acc: 0.6960\n",
      "Epoch 205/1000\n",
      "125/125 [==============================] - 0s 192us/sample - loss: 0.5856 - acc: 0.7120\n",
      "Epoch 206/1000\n",
      "125/125 [==============================] - 0s 152us/sample - loss: 0.5849 - acc: 0.7040\n",
      "Epoch 207/1000\n",
      "125/125 [==============================] - 0s 144us/sample - loss: 0.5936 - acc: 0.6960\n",
      "Epoch 208/1000\n",
      "125/125 [==============================] - 0s 128us/sample - loss: 0.5870 - acc: 0.7040\n",
      "Epoch 209/1000\n",
      "125/125 [==============================] - 0s 112us/sample - loss: 0.5823 - acc: 0.7040\n",
      "Epoch 210/1000\n",
      "125/125 [==============================] - 0s 112us/sample - loss: 0.5837 - acc: 0.7040\n",
      "Epoch 211/1000\n",
      "125/125 [==============================] - 0s 120us/sample - loss: 0.5884 - acc: 0.7200\n",
      "Epoch 212/1000\n",
      "125/125 [==============================] - 0s 136us/sample - loss: 0.5975 - acc: 0.7040\n",
      "Epoch 213/1000\n",
      "125/125 [==============================] - 0s 136us/sample - loss: 0.5963 - acc: 0.6560\n",
      "Epoch 214/1000\n",
      "125/125 [==============================] - 0s 128us/sample - loss: 0.5861 - acc: 0.7120\n",
      "Epoch 215/1000\n",
      "125/125 [==============================] - 0s 128us/sample - loss: 0.5845 - acc: 0.6960\n",
      "Epoch 216/1000\n",
      "125/125 [==============================] - 0s 152us/sample - loss: 0.5911 - acc: 0.6960\n",
      "Epoch 217/1000\n",
      "125/125 [==============================] - 0s 128us/sample - loss: 0.5994 - acc: 0.6800\n",
      "Epoch 218/1000\n",
      "125/125 [==============================] - 0s 152us/sample - loss: 0.6398 - acc: 0.6160\n",
      "Epoch 219/1000\n",
      "125/125 [==============================] - 0s 136us/sample - loss: 0.5867 - acc: 0.6640\n",
      "Epoch 220/1000\n",
      "125/125 [==============================] - 0s 136us/sample - loss: 0.5870 - acc: 0.6800\n",
      "Epoch 221/1000\n",
      "125/125 [==============================] - 0s 136us/sample - loss: 0.5881 - acc: 0.7120\n",
      "Epoch 222/1000\n",
      "125/125 [==============================] - 0s 128us/sample - loss: 0.5854 - acc: 0.6880\n",
      "Epoch 223/1000\n",
      "125/125 [==============================] - 0s 128us/sample - loss: 0.5929 - acc: 0.7040\n",
      "Epoch 224/1000\n",
      "125/125 [==============================] - 0s 200us/sample - loss: 0.5867 - acc: 0.6880\n",
      "Epoch 225/1000\n",
      "125/125 [==============================] - 0s 136us/sample - loss: 0.5875 - acc: 0.7040\n",
      "Epoch 226/1000\n",
      "125/125 [==============================] - 0s 136us/sample - loss: 0.5909 - acc: 0.6800\n",
      "Epoch 227/1000\n",
      "125/125 [==============================] - 0s 128us/sample - loss: 0.5948 - acc: 0.6320\n",
      "Epoch 228/1000\n",
      "125/125 [==============================] - 0s 128us/sample - loss: 0.6035 - acc: 0.6480\n",
      "Epoch 229/1000\n",
      "125/125 [==============================] - 0s 128us/sample - loss: 0.5891 - acc: 0.7120\n",
      "Epoch 230/1000\n",
      "125/125 [==============================] - 0s 120us/sample - loss: 0.5868 - acc: 0.6720\n",
      "Epoch 231/1000\n",
      "125/125 [==============================] - 0s 128us/sample - loss: 0.5878 - acc: 0.6560\n",
      "Epoch 232/1000\n",
      "125/125 [==============================] - 0s 127us/sample - loss: 0.6019 - acc: 0.6720\n",
      "Epoch 233/1000\n",
      "125/125 [==============================] - 0s 152us/sample - loss: 0.5838 - acc: 0.7040\n",
      "Epoch 234/1000\n",
      "125/125 [==============================] - 0s 120us/sample - loss: 0.5874 - acc: 0.6800\n",
      "Epoch 235/1000\n",
      "125/125 [==============================] - 0s 127us/sample - loss: 0.5926 - acc: 0.6720\n",
      "Epoch 236/1000\n",
      "125/125 [==============================] - 0s 223us/sample - loss: 0.5934 - acc: 0.6640\n",
      "Epoch 237/1000\n",
      "125/125 [==============================] - 0s 112us/sample - loss: 0.5918 - acc: 0.6880\n",
      "Epoch 238/1000\n",
      "125/125 [==============================] - 0s 120us/sample - loss: 0.5989 - acc: 0.6800\n",
      "Epoch 239/1000\n",
      "125/125 [==============================] - 0s 120us/sample - loss: 0.5967 - acc: 0.6480\n",
      "Epoch 240/1000\n",
      "125/125 [==============================] - 0s 120us/sample - loss: 0.5908 - acc: 0.6800\n",
      "Epoch 241/1000\n",
      "125/125 [==============================] - 0s 224us/sample - loss: 0.5967 - acc: 0.6640\n",
      "Epoch 242/1000\n",
      "125/125 [==============================] - 0s 112us/sample - loss: 0.6131 - acc: 0.6880\n",
      "Epoch 243/1000\n",
      "125/125 [==============================] - 0s 127us/sample - loss: 0.6095 - acc: 0.6880\n",
      "Epoch 244/1000\n",
      "125/125 [==============================] - 0s 135us/sample - loss: 0.5836 - acc: 0.6800\n",
      "Epoch 245/1000\n",
      "125/125 [==============================] - 0s 128us/sample - loss: 0.5818 - acc: 0.7040\n",
      "Epoch 246/1000\n",
      "125/125 [==============================] - 0s 191us/sample - loss: 0.5824 - acc: 0.7200\n",
      "Epoch 247/1000\n",
      "125/125 [==============================] - 0s 112us/sample - loss: 0.5863 - acc: 0.6800\n",
      "Epoch 248/1000\n",
      "125/125 [==============================] - 0s 112us/sample - loss: 0.5854 - acc: 0.6960\n",
      "Epoch 249/1000\n",
      "125/125 [==============================] - 0s 120us/sample - loss: 0.5898 - acc: 0.6960\n",
      "Epoch 250/1000\n",
      "125/125 [==============================] - 0s 128us/sample - loss: 0.5819 - acc: 0.6880\n",
      "Epoch 251/1000\n",
      "125/125 [==============================] - 0s 120us/sample - loss: 0.5843 - acc: 0.6720\n",
      "Epoch 252/1000\n",
      "125/125 [==============================] - 0s 152us/sample - loss: 0.5910 - acc: 0.6880\n",
      "Epoch 253/1000\n",
      "125/125 [==============================] - 0s 120us/sample - loss: 0.5811 - acc: 0.7040\n",
      "Epoch 254/1000\n",
      "125/125 [==============================] - 0s 112us/sample - loss: 0.5814 - acc: 0.7120\n",
      "Epoch 255/1000\n",
      "125/125 [==============================] - 0s 136us/sample - loss: 0.6011 - acc: 0.6880\n",
      "Epoch 256/1000\n",
      "125/125 [==============================] - 0s 128us/sample - loss: 0.6152 - acc: 0.6640\n",
      "Epoch 257/1000\n",
      "125/125 [==============================] - 0s 120us/sample - loss: 0.5825 - acc: 0.6720\n",
      "Epoch 258/1000\n",
      "125/125 [==============================] - 0s 128us/sample - loss: 0.5953 - acc: 0.6800\n",
      "Epoch 259/1000\n",
      "125/125 [==============================] - 0s 153us/sample - loss: 0.6037 - acc: 0.7280\n",
      "Epoch 260/1000\n",
      "125/125 [==============================] - 0s 168us/sample - loss: 0.5871 - acc: 0.6880\n",
      "Epoch 261/1000\n",
      "125/125 [==============================] - 0s 144us/sample - loss: 0.5887 - acc: 0.6880\n",
      "Epoch 262/1000\n",
      "125/125 [==============================] - 0s 159us/sample - loss: 0.5845 - acc: 0.7200\n",
      "Epoch 263/1000\n",
      "125/125 [==============================] - 0s 152us/sample - loss: 0.5836 - acc: 0.6720\n",
      "Epoch 264/1000\n",
      "125/125 [==============================] - 0s 165us/sample - loss: 0.5840 - acc: 0.7040\n",
      "Epoch 265/1000\n",
      "125/125 [==============================] - 0s 160us/sample - loss: 0.5849 - acc: 0.7040\n",
      "Epoch 266/1000\n",
      "125/125 [==============================] - 0s 167us/sample - loss: 0.5952 - acc: 0.6960\n",
      "Epoch 267/1000\n",
      "125/125 [==============================] - 0s 160us/sample - loss: 0.5921 - acc: 0.6720\n",
      "Epoch 268/1000\n",
      "125/125 [==============================] - 0s 160us/sample - loss: 0.6014 - acc: 0.6480\n",
      "Epoch 269/1000\n",
      "125/125 [==============================] - 0s 168us/sample - loss: 0.5876 - acc: 0.6720\n",
      "Epoch 270/1000\n",
      "125/125 [==============================] - 0s 168us/sample - loss: 0.5899 - acc: 0.6800\n",
      "Epoch 271/1000\n",
      "125/125 [==============================] - 0s 223us/sample - loss: 0.5866 - acc: 0.6960\n",
      "Epoch 272/1000\n",
      "125/125 [==============================] - 0s 184us/sample - loss: 0.5866 - acc: 0.6800\n",
      "Epoch 273/1000\n",
      "125/125 [==============================] - 0s 184us/sample - loss: 0.5807 - acc: 0.6960\n",
      "Epoch 274/1000\n",
      "125/125 [==============================] - 0s 136us/sample - loss: 0.5827 - acc: 0.6880\n",
      "Epoch 275/1000\n",
      "125/125 [==============================] - 0s 119us/sample - loss: 0.5909 - acc: 0.6960\n",
      "Epoch 276/1000\n",
      "125/125 [==============================] - 0s 120us/sample - loss: 0.5872 - acc: 0.6960\n",
      "Epoch 277/1000\n",
      "125/125 [==============================] - 0s 119us/sample - loss: 0.5877 - acc: 0.6880\n",
      "Epoch 278/1000\n",
      "125/125 [==============================] - 0s 127us/sample - loss: 0.5867 - acc: 0.7040\n",
      "Epoch 279/1000\n",
      "125/125 [==============================] - 0s 120us/sample - loss: 0.6086 - acc: 0.6720\n",
      "Epoch 280/1000\n",
      "125/125 [==============================] - 0s 112us/sample - loss: 0.6338 - acc: 0.6160\n",
      "Epoch 281/1000\n",
      "125/125 [==============================] - 0s 215us/sample - loss: 0.6077 - acc: 0.6400\n",
      "Epoch 282/1000\n",
      "125/125 [==============================] - 0s 123us/sample - loss: 0.5916 - acc: 0.7040\n",
      "Epoch 283/1000\n",
      "125/125 [==============================] - 0s 119us/sample - loss: 0.5992 - acc: 0.6720\n",
      "Epoch 284/1000\n",
      "125/125 [==============================] - 0s 120us/sample - loss: 0.5876 - acc: 0.7120\n",
      "Epoch 285/1000\n",
      "125/125 [==============================] - 0s 127us/sample - loss: 0.6035 - acc: 0.6880\n",
      "Epoch 286/1000\n",
      "125/125 [==============================] - 0s 119us/sample - loss: 0.5805 - acc: 0.7040\n",
      "Epoch 287/1000\n",
      "125/125 [==============================] - 0s 127us/sample - loss: 0.5807 - acc: 0.7120\n",
      "Epoch 288/1000\n",
      "125/125 [==============================] - 0s 143us/sample - loss: 0.5903 - acc: 0.6640\n",
      "Epoch 289/1000\n",
      "125/125 [==============================] - 0s 111us/sample - loss: 0.5815 - acc: 0.6960\n",
      "Epoch 290/1000\n",
      "125/125 [==============================] - 0s 128us/sample - loss: 0.5938 - acc: 0.6880\n",
      "Epoch 291/1000\n",
      "125/125 [==============================] - 0s 120us/sample - loss: 0.6030 - acc: 0.6960\n",
      "Epoch 292/1000\n",
      "125/125 [==============================] - 0s 120us/sample - loss: 0.6069 - acc: 0.6560\n",
      "Epoch 293/1000\n",
      "125/125 [==============================] - 0s 136us/sample - loss: 0.5856 - acc: 0.7040\n",
      "Epoch 294/1000\n",
      "125/125 [==============================] - 0s 127us/sample - loss: 0.5809 - acc: 0.6880\n",
      "Epoch 295/1000\n",
      "125/125 [==============================] - 0s 160us/sample - loss: 0.5857 - acc: 0.7120\n",
      "Epoch 296/1000\n",
      "125/125 [==============================] - 0s 143us/sample - loss: 0.5899 - acc: 0.6800\n",
      "Epoch 297/1000\n",
      "125/125 [==============================] - 0s 128us/sample - loss: 0.5966 - acc: 0.6960\n",
      "Epoch 298/1000\n",
      "125/125 [==============================] - 0s 135us/sample - loss: 0.5762 - acc: 0.6960\n",
      "Epoch 299/1000\n",
      "125/125 [==============================] - 0s 128us/sample - loss: 0.5835 - acc: 0.7040\n",
      "Epoch 300/1000\n",
      "125/125 [==============================] - 0s 255us/sample - loss: 0.5772 - acc: 0.7120\n",
      "Epoch 301/1000\n",
      "125/125 [==============================] - 0s 127us/sample - loss: 0.5926 - acc: 0.6960\n",
      "Epoch 302/1000\n",
      "125/125 [==============================] - 0s 112us/sample - loss: 0.5941 - acc: 0.6880\n",
      "Epoch 303/1000\n",
      "125/125 [==============================] - 0s 128us/sample - loss: 0.5770 - acc: 0.7200\n",
      "Epoch 304/1000\n",
      "125/125 [==============================] - 0s 112us/sample - loss: 0.6017 - acc: 0.6960\n",
      "Epoch 305/1000\n",
      "125/125 [==============================] - 0s 119us/sample - loss: 0.5995 - acc: 0.6880\n",
      "Epoch 306/1000\n",
      "125/125 [==============================] - 0s 120us/sample - loss: 0.6099 - acc: 0.6720\n",
      "Epoch 307/1000\n",
      "125/125 [==============================] - 0s 160us/sample - loss: 0.5804 - acc: 0.6800\n",
      "Epoch 308/1000\n",
      "125/125 [==============================] - 0s 120us/sample - loss: 0.5986 - acc: 0.7120\n",
      "Epoch 309/1000\n",
      "125/125 [==============================] - 0s 223us/sample - loss: 0.5813 - acc: 0.6720\n",
      "Epoch 310/1000\n",
      "125/125 [==============================] - 0s 168us/sample - loss: 0.5874 - acc: 0.6960\n",
      "Epoch 311/1000\n",
      "125/125 [==============================] - 0s 112us/sample - loss: 0.5806 - acc: 0.6720\n",
      "Epoch 312/1000\n",
      "125/125 [==============================] - 0s 120us/sample - loss: 0.5787 - acc: 0.7120\n",
      "Epoch 313/1000\n",
      "125/125 [==============================] - 0s 120us/sample - loss: 0.5822 - acc: 0.6960\n",
      "Epoch 314/1000\n",
      "125/125 [==============================] - 0s 119us/sample - loss: 0.5834 - acc: 0.6800\n",
      "Epoch 315/1000\n",
      "125/125 [==============================] - 0s 120us/sample - loss: 0.5893 - acc: 0.6880\n",
      "Epoch 316/1000\n",
      "125/125 [==============================] - 0s 223us/sample - loss: 0.5862 - acc: 0.6880\n",
      "Epoch 317/1000\n",
      "125/125 [==============================] - 0s 128us/sample - loss: 0.5847 - acc: 0.7040\n",
      "Epoch 318/1000\n",
      "125/125 [==============================] - 0s 119us/sample - loss: 0.5785 - acc: 0.6880\n",
      "Epoch 319/1000\n",
      "125/125 [==============================] - 0s 119us/sample - loss: 0.5945 - acc: 0.6720\n",
      "Epoch 320/1000\n",
      "125/125 [==============================] - 0s 128us/sample - loss: 0.5851 - acc: 0.7040\n",
      "Epoch 321/1000\n",
      "125/125 [==============================] - 0s 112us/sample - loss: 0.5942 - acc: 0.6720\n",
      "Epoch 322/1000\n",
      "125/125 [==============================] - 0s 119us/sample - loss: 0.5847 - acc: 0.6800\n",
      "Epoch 323/1000\n",
      "125/125 [==============================] - 0s 120us/sample - loss: 0.5946 - acc: 0.6720\n",
      "Epoch 324/1000\n",
      "125/125 [==============================] - 0s 136us/sample - loss: 0.6342 - acc: 0.6320\n",
      "Epoch 325/1000\n",
      "125/125 [==============================] - 0s 136us/sample - loss: 0.5810 - acc: 0.7200\n",
      "Epoch 326/1000\n",
      "125/125 [==============================] - 0s 120us/sample - loss: 0.5948 - acc: 0.6960\n",
      "Epoch 327/1000\n",
      "125/125 [==============================] - 0s 128us/sample - loss: 0.5816 - acc: 0.7280\n",
      "Epoch 328/1000\n",
      "125/125 [==============================] - 0s 120us/sample - loss: 0.5885 - acc: 0.6880\n",
      "Epoch 329/1000\n",
      "125/125 [==============================] - 0s 104us/sample - loss: 0.5771 - acc: 0.7280\n",
      "Epoch 330/1000\n",
      "125/125 [==============================] - 0s 119us/sample - loss: 0.5857 - acc: 0.7040\n",
      "Epoch 331/1000\n",
      "125/125 [==============================] - 0s 112us/sample - loss: 0.5791 - acc: 0.7280\n",
      "Epoch 332/1000\n",
      "125/125 [==============================] - 0s 128us/sample - loss: 0.5933 - acc: 0.6800\n",
      "Epoch 333/1000\n",
      "125/125 [==============================] - 0s 135us/sample - loss: 0.5803 - acc: 0.6960\n",
      "Epoch 334/1000\n",
      "125/125 [==============================] - 0s 120us/sample - loss: 0.5953 - acc: 0.6800\n",
      "Epoch 335/1000\n",
      "125/125 [==============================] - 0s 128us/sample - loss: 0.5862 - acc: 0.7040\n",
      "Epoch 336/1000\n",
      "125/125 [==============================] - 0s 120us/sample - loss: 0.5776 - acc: 0.6960\n",
      "Epoch 337/1000\n",
      "125/125 [==============================] - 0s 119us/sample - loss: 0.5764 - acc: 0.7120\n",
      "Epoch 338/1000\n",
      "125/125 [==============================] - 0s 120us/sample - loss: 0.5808 - acc: 0.6960\n",
      "Epoch 339/1000\n",
      "125/125 [==============================] - 0s 120us/sample - loss: 0.5783 - acc: 0.6800\n",
      "Epoch 340/1000\n",
      "125/125 [==============================] - 0s 128us/sample - loss: 0.5847 - acc: 0.6800\n",
      "Epoch 341/1000\n",
      "125/125 [==============================] - 0s 204us/sample - loss: 0.5939 - acc: 0.6800\n",
      "Epoch 342/1000\n",
      "125/125 [==============================] - 0s 120us/sample - loss: 0.5835 - acc: 0.6960\n",
      "Epoch 343/1000\n",
      "125/125 [==============================] - 0s 104us/sample - loss: 0.5876 - acc: 0.6880\n",
      "Epoch 344/1000\n",
      "125/125 [==============================] - 0s 112us/sample - loss: 0.5856 - acc: 0.7200\n",
      "Epoch 345/1000\n",
      "125/125 [==============================] - 0s 112us/sample - loss: 0.6013 - acc: 0.6880\n",
      "Epoch 346/1000\n",
      "125/125 [==============================] - 0s 119us/sample - loss: 0.5809 - acc: 0.7040\n",
      "Epoch 347/1000\n",
      "125/125 [==============================] - 0s 122us/sample - loss: 0.5908 - acc: 0.6960\n",
      "Epoch 348/1000\n",
      "125/125 [==============================] - 0s 112us/sample - loss: 0.5796 - acc: 0.7040\n",
      "Epoch 349/1000\n",
      "125/125 [==============================] - 0s 120us/sample - loss: 0.5813 - acc: 0.6560\n",
      "Epoch 350/1000\n",
      "125/125 [==============================] - 0s 112us/sample - loss: 0.5857 - acc: 0.6960\n",
      "Epoch 351/1000\n",
      "125/125 [==============================] - 0s 119us/sample - loss: 0.5928 - acc: 0.6720\n",
      "Epoch 352/1000\n",
      "125/125 [==============================] - 0s 128us/sample - loss: 0.5987 - acc: 0.6720\n",
      "Epoch 353/1000\n",
      "125/125 [==============================] - 0s 127us/sample - loss: 0.5918 - acc: 0.6800\n",
      "Epoch 354/1000\n",
      "125/125 [==============================] - 0s 112us/sample - loss: 0.5732 - acc: 0.6960\n",
      "Epoch 355/1000\n",
      "125/125 [==============================] - 0s 125us/sample - loss: 0.5884 - acc: 0.6960\n",
      "Epoch 356/1000\n",
      "125/125 [==============================] - 0s 128us/sample - loss: 0.5736 - acc: 0.7200\n",
      "Epoch 357/1000\n",
      "125/125 [==============================] - 0s 128us/sample - loss: 0.5857 - acc: 0.6880\n",
      "Epoch 358/1000\n",
      "125/125 [==============================] - 0s 239us/sample - loss: 0.6026 - acc: 0.6640\n",
      "Epoch 359/1000\n",
      "125/125 [==============================] - 0s 119us/sample - loss: 0.5931 - acc: 0.6720\n",
      "Epoch 360/1000\n",
      "125/125 [==============================] - 0s 128us/sample - loss: 0.5768 - acc: 0.6800\n",
      "Epoch 361/1000\n",
      "125/125 [==============================] - 0s 120us/sample - loss: 0.5817 - acc: 0.7120\n",
      "Epoch 362/1000\n",
      "125/125 [==============================] - 0s 112us/sample - loss: 0.5780 - acc: 0.6880\n",
      "Epoch 363/1000\n",
      "125/125 [==============================] - 0s 127us/sample - loss: 0.5940 - acc: 0.6880\n",
      "Epoch 364/1000\n",
      "125/125 [==============================] - 0s 120us/sample - loss: 0.5754 - acc: 0.7120\n",
      "Epoch 365/1000\n",
      "125/125 [==============================] - 0s 120us/sample - loss: 0.5767 - acc: 0.7200\n",
      "Epoch 366/1000\n",
      "125/125 [==============================] - 0s 135us/sample - loss: 0.5876 - acc: 0.6800\n",
      "Epoch 367/1000\n",
      "125/125 [==============================] - 0s 144us/sample - loss: 0.5762 - acc: 0.6880\n",
      "Epoch 368/1000\n",
      "125/125 [==============================] - 0s 112us/sample - loss: 0.5786 - acc: 0.6960\n",
      "Epoch 369/1000\n",
      "125/125 [==============================] - 0s 120us/sample - loss: 0.5771 - acc: 0.6960\n",
      "Epoch 370/1000\n",
      "125/125 [==============================] - 0s 124us/sample - loss: 0.5841 - acc: 0.6880\n",
      "Epoch 371/1000\n",
      "125/125 [==============================] - 0s 144us/sample - loss: 0.5802 - acc: 0.6880\n",
      "Epoch 372/1000\n",
      "125/125 [==============================] - 0s 152us/sample - loss: 0.6055 - acc: 0.6560\n",
      "Epoch 373/1000\n",
      "125/125 [==============================] - 0s 136us/sample - loss: 0.5937 - acc: 0.6720\n",
      "Epoch 374/1000\n",
      "125/125 [==============================] - 0s 144us/sample - loss: 0.5776 - acc: 0.6960\n",
      "Epoch 375/1000\n",
      "125/125 [==============================] - 0s 136us/sample - loss: 0.6040 - acc: 0.6800\n",
      "Epoch 376/1000\n",
      "125/125 [==============================] - 0s 152us/sample - loss: 0.5887 - acc: 0.6880\n",
      "Epoch 377/1000\n",
      "125/125 [==============================] - 0s 152us/sample - loss: 0.5833 - acc: 0.6800\n",
      "Epoch 378/1000\n",
      "125/125 [==============================] - 0s 144us/sample - loss: 0.5956 - acc: 0.6480\n",
      "Epoch 379/1000\n",
      "125/125 [==============================] - 0s 136us/sample - loss: 0.6509 - acc: 0.6480\n",
      "Epoch 380/1000\n",
      "125/125 [==============================] - 0s 327us/sample - loss: 0.5999 - acc: 0.6880\n",
      "Epoch 381/1000\n",
      "125/125 [==============================] - 0s 144us/sample - loss: 0.5856 - acc: 0.6880\n",
      "Epoch 382/1000\n",
      "125/125 [==============================] - 0s 136us/sample - loss: 0.5965 - acc: 0.6640\n",
      "Epoch 383/1000\n",
      "125/125 [==============================] - 0s 120us/sample - loss: 0.5778 - acc: 0.7040\n",
      "Epoch 384/1000\n",
      "125/125 [==============================] - 0s 128us/sample - loss: 0.5761 - acc: 0.7120\n",
      "Epoch 385/1000\n",
      "125/125 [==============================] - 0s 132us/sample - loss: 0.5752 - acc: 0.7120\n",
      "Epoch 386/1000\n",
      "125/125 [==============================] - 0s 120us/sample - loss: 0.5835 - acc: 0.6960\n",
      "Epoch 387/1000\n",
      "125/125 [==============================] - 0s 136us/sample - loss: 0.5784 - acc: 0.6800\n",
      "Epoch 388/1000\n",
      "125/125 [==============================] - 0s 136us/sample - loss: 0.5823 - acc: 0.6880\n",
      "Epoch 389/1000\n",
      "125/125 [==============================] - 0s 128us/sample - loss: 0.5778 - acc: 0.7040\n",
      "Epoch 390/1000\n",
      "125/125 [==============================] - 0s 132us/sample - loss: 0.5763 - acc: 0.7040\n",
      "Epoch 391/1000\n",
      "125/125 [==============================] - 0s 120us/sample - loss: 0.5806 - acc: 0.7040\n",
      "Epoch 392/1000\n",
      "125/125 [==============================] - 0s 136us/sample - loss: 0.5876 - acc: 0.6640\n",
      "Epoch 393/1000\n",
      "125/125 [==============================] - 0s 135us/sample - loss: 0.5776 - acc: 0.6880\n",
      "Epoch 394/1000\n",
      "125/125 [==============================] - 0s 160us/sample - loss: 0.5962 - acc: 0.6800\n",
      "Epoch 395/1000\n",
      "125/125 [==============================] - 0s 120us/sample - loss: 0.5813 - acc: 0.7040\n",
      "Epoch 396/1000\n",
      "125/125 [==============================] - 0s 144us/sample - loss: 0.5966 - acc: 0.6480\n",
      "Epoch 397/1000\n",
      "125/125 [==============================] - 0s 128us/sample - loss: 0.5960 - acc: 0.6560\n",
      "Epoch 398/1000\n",
      "125/125 [==============================] - 0s 119us/sample - loss: 0.5900 - acc: 0.7040\n",
      "Epoch 399/1000\n",
      "125/125 [==============================] - 0s 119us/sample - loss: 0.5900 - acc: 0.6640\n",
      "Epoch 400/1000\n",
      "125/125 [==============================] - 0s 111us/sample - loss: 0.5686 - acc: 0.7120\n",
      "Epoch 401/1000\n",
      "125/125 [==============================] - 0s 223us/sample - loss: 0.5793 - acc: 0.7120\n",
      "Epoch 402/1000\n",
      "125/125 [==============================] - 0s 120us/sample - loss: 0.6060 - acc: 0.7040\n",
      "Epoch 403/1000\n",
      "125/125 [==============================] - 0s 263us/sample - loss: 0.5891 - acc: 0.6720\n",
      "Epoch 404/1000\n",
      "125/125 [==============================] - 0s 111us/sample - loss: 0.5851 - acc: 0.6960\n",
      "Epoch 405/1000\n",
      "125/125 [==============================] - 0s 112us/sample - loss: 0.5868 - acc: 0.6800\n",
      "Epoch 406/1000\n",
      "125/125 [==============================] - 0s 112us/sample - loss: 0.6025 - acc: 0.6480\n",
      "Epoch 407/1000\n",
      "125/125 [==============================] - 0s 112us/sample - loss: 0.5911 - acc: 0.7040\n",
      "Epoch 408/1000\n",
      "125/125 [==============================] - 0s 103us/sample - loss: 0.5769 - acc: 0.7200\n",
      "Epoch 409/1000\n",
      "125/125 [==============================] - 0s 111us/sample - loss: 0.5782 - acc: 0.6800\n",
      "Epoch 410/1000\n",
      "125/125 [==============================] - 0s 112us/sample - loss: 0.5815 - acc: 0.6960\n",
      "Epoch 411/1000\n",
      "125/125 [==============================] - 0s 120us/sample - loss: 0.5780 - acc: 0.6960\n",
      "Epoch 412/1000\n",
      "125/125 [==============================] - 0s 239us/sample - loss: 0.5785 - acc: 0.7120\n",
      "Epoch 413/1000\n",
      "125/125 [==============================] - 0s 256us/sample - loss: 0.5786 - acc: 0.6800\n",
      "Epoch 414/1000\n",
      "125/125 [==============================] - 0s 144us/sample - loss: 0.5805 - acc: 0.7120\n",
      "Epoch 415/1000\n",
      "125/125 [==============================] - 0s 120us/sample - loss: 0.5838 - acc: 0.7360\n",
      "Epoch 416/1000\n",
      "125/125 [==============================] - 0s 112us/sample - loss: 0.5763 - acc: 0.7120\n",
      "Epoch 417/1000\n",
      "125/125 [==============================] - 0s 112us/sample - loss: 0.5754 - acc: 0.6800\n",
      "Epoch 418/1000\n",
      "125/125 [==============================] - 0s 135us/sample - loss: 0.5896 - acc: 0.6640\n",
      "Epoch 419/1000\n",
      "125/125 [==============================] - 0s 224us/sample - loss: 0.5782 - acc: 0.6960\n",
      "Epoch 420/1000\n",
      "125/125 [==============================] - 0s 125us/sample - loss: 0.5870 - acc: 0.6880\n",
      "Epoch 421/1000\n",
      "125/125 [==============================] - 0s 128us/sample - loss: 0.5818 - acc: 0.6960\n",
      "Epoch 422/1000\n",
      "125/125 [==============================] - 0s 127us/sample - loss: 0.5862 - acc: 0.6720\n",
      "Epoch 423/1000\n",
      "125/125 [==============================] - 0s 128us/sample - loss: 0.5767 - acc: 0.6960\n",
      "Epoch 424/1000\n",
      "125/125 [==============================] - 0s 144us/sample - loss: 0.5735 - acc: 0.7200\n",
      "Epoch 425/1000\n",
      "125/125 [==============================] - 0s 128us/sample - loss: 0.5787 - acc: 0.6880\n",
      "Epoch 426/1000\n",
      "125/125 [==============================] - 0s 128us/sample - loss: 0.5804 - acc: 0.6960\n",
      "Epoch 427/1000\n",
      "125/125 [==============================] - 0s 128us/sample - loss: 0.5762 - acc: 0.7120\n",
      "Epoch 428/1000\n",
      "125/125 [==============================] - 0s 183us/sample - loss: 0.5757 - acc: 0.7040\n",
      "Epoch 429/1000\n",
      "125/125 [==============================] - 0s 128us/sample - loss: 0.5748 - acc: 0.7200\n",
      "Epoch 430/1000\n",
      "125/125 [==============================] - 0s 136us/sample - loss: 0.6071 - acc: 0.6720\n",
      "Epoch 431/1000\n",
      "125/125 [==============================] - 0s 152us/sample - loss: 0.5837 - acc: 0.6960\n",
      "Epoch 432/1000\n",
      "125/125 [==============================] - 0s 415us/sample - loss: 0.5773 - acc: 0.6800\n",
      "Epoch 433/1000\n",
      "125/125 [==============================] - 0s 176us/sample - loss: 0.5782 - acc: 0.6960\n",
      "Epoch 434/1000\n",
      "125/125 [==============================] - 0s 176us/sample - loss: 0.5813 - acc: 0.7120\n",
      "Epoch 435/1000\n",
      "125/125 [==============================] - 0s 279us/sample - loss: 0.5903 - acc: 0.7200\n",
      "Epoch 436/1000\n",
      "125/125 [==============================] - 0s 160us/sample - loss: 0.5802 - acc: 0.7040\n",
      "Epoch 437/1000\n",
      "125/125 [==============================] - 0s 168us/sample - loss: 0.5855 - acc: 0.7040\n",
      "Epoch 438/1000\n",
      "125/125 [==============================] - 0s 160us/sample - loss: 0.5900 - acc: 0.6800\n",
      "Epoch 439/1000\n",
      "125/125 [==============================] - 0s 152us/sample - loss: 0.5834 - acc: 0.6960\n",
      "Epoch 440/1000\n",
      "125/125 [==============================] - 0s 168us/sample - loss: 0.5993 - acc: 0.6640\n",
      "Epoch 441/1000\n",
      "125/125 [==============================] - 0s 160us/sample - loss: 0.5874 - acc: 0.6960\n",
      "Epoch 442/1000\n",
      "125/125 [==============================] - 0s 146us/sample - loss: 0.5849 - acc: 0.7040\n",
      "Epoch 443/1000\n",
      "125/125 [==============================] - 0s 119us/sample - loss: 0.5824 - acc: 0.6880\n",
      "Epoch 444/1000\n",
      "125/125 [==============================] - 0s 128us/sample - loss: 0.5963 - acc: 0.6880\n",
      "Epoch 445/1000\n",
      "125/125 [==============================] - 0s 231us/sample - loss: 0.6088 - acc: 0.6880\n",
      "Epoch 446/1000\n",
      "125/125 [==============================] - 0s 112us/sample - loss: 0.5931 - acc: 0.6800\n",
      "Epoch 447/1000\n",
      "125/125 [==============================] - 0s 128us/sample - loss: 0.5864 - acc: 0.6800\n",
      "Epoch 448/1000\n",
      "125/125 [==============================] - 0s 120us/sample - loss: 0.5754 - acc: 0.6960\n",
      "Epoch 449/1000\n",
      "125/125 [==============================] - 0s 104us/sample - loss: 0.5789 - acc: 0.6880\n",
      "Epoch 450/1000\n",
      "125/125 [==============================] - 0s 112us/sample - loss: 0.5908 - acc: 0.7040\n",
      "Epoch 451/1000\n",
      "125/125 [==============================] - 0s 96us/sample - loss: 0.5768 - acc: 0.6960\n",
      "Epoch 452/1000\n",
      "125/125 [==============================] - 0s 136us/sample - loss: 0.5762 - acc: 0.7200\n",
      "Epoch 453/1000\n",
      "125/125 [==============================] - 0s 112us/sample - loss: 0.5778 - acc: 0.6720\n",
      "Epoch 454/1000\n",
      "125/125 [==============================] - 0s 104us/sample - loss: 0.5788 - acc: 0.7120\n",
      "Epoch 455/1000\n",
      "125/125 [==============================] - 0s 112us/sample - loss: 0.5834 - acc: 0.6880\n",
      "Epoch 456/1000\n",
      "125/125 [==============================] - 0s 120us/sample - loss: 0.5837 - acc: 0.6800\n",
      "Epoch 457/1000\n",
      "125/125 [==============================] - 0s 111us/sample - loss: 0.5787 - acc: 0.7360\n",
      "Epoch 458/1000\n",
      "125/125 [==============================] - 0s 111us/sample - loss: 0.5836 - acc: 0.7040\n",
      "Epoch 459/1000\n",
      "125/125 [==============================] - 0s 112us/sample - loss: 0.5785 - acc: 0.6880\n",
      "Epoch 460/1000\n",
      "125/125 [==============================] - 0s 127us/sample - loss: 0.5760 - acc: 0.6960\n",
      "Epoch 461/1000\n",
      "125/125 [==============================] - 0s 112us/sample - loss: 0.5870 - acc: 0.6720\n",
      "Epoch 462/1000\n",
      "125/125 [==============================] - 0s 119us/sample - loss: 0.5911 - acc: 0.6720\n",
      "Epoch 463/1000\n",
      "125/125 [==============================] - 0s 120us/sample - loss: 0.5780 - acc: 0.6960\n",
      "Epoch 464/1000\n",
      "125/125 [==============================] - 0s 144us/sample - loss: 0.5805 - acc: 0.7200\n",
      "Epoch 465/1000\n",
      "125/125 [==============================] - 0s 128us/sample - loss: 0.5777 - acc: 0.6960\n",
      "Epoch 466/1000\n",
      "125/125 [==============================] - 0s 104us/sample - loss: 0.5904 - acc: 0.6720\n",
      "Epoch 467/1000\n",
      "125/125 [==============================] - 0s 128us/sample - loss: 0.5934 - acc: 0.6880\n",
      "Epoch 468/1000\n",
      "125/125 [==============================] - 0s 120us/sample - loss: 0.5736 - acc: 0.7040\n",
      "Epoch 469/1000\n",
      "125/125 [==============================] - 0s 128us/sample - loss: 0.5835 - acc: 0.6880\n",
      "Epoch 470/1000\n",
      "125/125 [==============================] - 0s 128us/sample - loss: 0.6148 - acc: 0.6800\n",
      "Epoch 471/1000\n",
      "125/125 [==============================] - 0s 111us/sample - loss: 0.5986 - acc: 0.6800\n",
      "Epoch 472/1000\n",
      "125/125 [==============================] - 0s 116us/sample - loss: 0.5968 - acc: 0.6560\n",
      "Epoch 473/1000\n",
      "125/125 [==============================] - 0s 127us/sample - loss: 0.5786 - acc: 0.7120\n",
      "Epoch 474/1000\n",
      "125/125 [==============================] - 0s 112us/sample - loss: 0.5832 - acc: 0.7040\n",
      "Epoch 475/1000\n",
      "125/125 [==============================] - 0s 112us/sample - loss: 0.5795 - acc: 0.7040\n",
      "Epoch 476/1000\n",
      "125/125 [==============================] - 0s 120us/sample - loss: 0.5710 - acc: 0.7120\n",
      "Epoch 477/1000\n",
      "125/125 [==============================] - 0s 104us/sample - loss: 0.6178 - acc: 0.6480\n",
      "Epoch 478/1000\n",
      "125/125 [==============================] - 0s 116us/sample - loss: 0.5874 - acc: 0.6880\n",
      "Epoch 479/1000\n",
      "125/125 [==============================] - 0s 127us/sample - loss: 0.5745 - acc: 0.7040\n",
      "Epoch 480/1000\n",
      "125/125 [==============================] - 0s 120us/sample - loss: 0.5760 - acc: 0.6880\n",
      "Epoch 481/1000\n",
      "125/125 [==============================] - 0s 120us/sample - loss: 0.5846 - acc: 0.6960\n",
      "Epoch 482/1000\n",
      "125/125 [==============================] - 0s 136us/sample - loss: 0.5820 - acc: 0.7040\n",
      "Epoch 483/1000\n",
      "125/125 [==============================] - 0s 119us/sample - loss: 0.5780 - acc: 0.6960\n",
      "Epoch 484/1000\n",
      "125/125 [==============================] - 0s 132us/sample - loss: 0.5818 - acc: 0.7120\n",
      "Epoch 485/1000\n",
      "125/125 [==============================] - 0s 119us/sample - loss: 0.5894 - acc: 0.6880\n",
      "Epoch 486/1000\n",
      "125/125 [==============================] - 0s 111us/sample - loss: 0.5982 - acc: 0.6560\n",
      "Epoch 487/1000\n",
      "125/125 [==============================] - 0s 128us/sample - loss: 0.5745 - acc: 0.6880\n",
      "Epoch 488/1000\n",
      "125/125 [==============================] - 0s 112us/sample - loss: 0.5882 - acc: 0.6800\n",
      "Epoch 489/1000\n",
      "125/125 [==============================] - 0s 112us/sample - loss: 0.5719 - acc: 0.7120\n",
      "Epoch 490/1000\n",
      "125/125 [==============================] - 0s 135us/sample - loss: 0.5897 - acc: 0.6880\n",
      "Epoch 491/1000\n",
      "125/125 [==============================] - 0s 135us/sample - loss: 0.5753 - acc: 0.6880\n",
      "Epoch 492/1000\n",
      "125/125 [==============================] - 0s 119us/sample - loss: 0.5780 - acc: 0.6960\n",
      "Epoch 493/1000\n",
      "125/125 [==============================] - 0s 119us/sample - loss: 0.5725 - acc: 0.7040\n",
      "Epoch 494/1000\n",
      "125/125 [==============================] - 0s 255us/sample - loss: 0.5746 - acc: 0.7200\n",
      "Epoch 495/1000\n",
      "125/125 [==============================] - 0s 184us/sample - loss: 0.5742 - acc: 0.7200\n",
      "Epoch 496/1000\n",
      "125/125 [==============================] - 0s 263us/sample - loss: 0.5789 - acc: 0.7120\n",
      "Epoch 497/1000\n",
      "125/125 [==============================] - 0s 112us/sample - loss: 0.5834 - acc: 0.6800\n",
      "Epoch 498/1000\n",
      "125/125 [==============================] - 0s 104us/sample - loss: 0.5802 - acc: 0.6560\n",
      "Epoch 499/1000\n",
      "125/125 [==============================] - 0s 104us/sample - loss: 0.6065 - acc: 0.6800\n",
      "Epoch 500/1000\n",
      "125/125 [==============================] - 0s 119us/sample - loss: 0.5858 - acc: 0.7120\n",
      "Epoch 501/1000\n",
      "125/125 [==============================] - 0s 104us/sample - loss: 0.5788 - acc: 0.6800\n",
      "Epoch 502/1000\n",
      "125/125 [==============================] - 0s 112us/sample - loss: 0.5799 - acc: 0.7040\n",
      "Epoch 503/1000\n",
      "125/125 [==============================] - 0s 127us/sample - loss: 0.5840 - acc: 0.7040\n",
      "Epoch 504/1000\n",
      "125/125 [==============================] - 0s 104us/sample - loss: 0.5909 - acc: 0.7040\n",
      "Epoch 505/1000\n",
      "125/125 [==============================] - 0s 112us/sample - loss: 0.5722 - acc: 0.6960\n",
      "Epoch 506/1000\n",
      "125/125 [==============================] - 0s 128us/sample - loss: 0.5865 - acc: 0.6880\n",
      "Epoch 507/1000\n",
      "125/125 [==============================] - 0s 104us/sample - loss: 0.5810 - acc: 0.6960\n",
      "Epoch 508/1000\n",
      "125/125 [==============================] - 0s 112us/sample - loss: 0.5772 - acc: 0.7360\n",
      "Epoch 509/1000\n",
      "125/125 [==============================] - 0s 135us/sample - loss: 0.5924 - acc: 0.6640\n",
      "Epoch 510/1000\n",
      "125/125 [==============================] - 0s 112us/sample - loss: 0.5782 - acc: 0.6960\n",
      "Epoch 511/1000\n",
      "125/125 [==============================] - 0s 111us/sample - loss: 0.5837 - acc: 0.6880\n",
      "Epoch 512/1000\n",
      "125/125 [==============================] - 0s 119us/sample - loss: 0.5893 - acc: 0.6480\n",
      "Epoch 513/1000\n",
      "125/125 [==============================] - 0s 119us/sample - loss: 0.5791 - acc: 0.7040\n",
      "Epoch 514/1000\n",
      "125/125 [==============================] - 0s 120us/sample - loss: 0.5868 - acc: 0.6880\n",
      "Epoch 515/1000\n",
      "125/125 [==============================] - 0s 104us/sample - loss: 0.5786 - acc: 0.7040\n",
      "Epoch 516/1000\n",
      "125/125 [==============================] - 0s 112us/sample - loss: 0.5944 - acc: 0.6800\n",
      "Epoch 517/1000\n",
      "125/125 [==============================] - 0s 120us/sample - loss: 0.6231 - acc: 0.6560\n",
      "Epoch 518/1000\n",
      "125/125 [==============================] - 0s 120us/sample - loss: 0.5898 - acc: 0.7040\n",
      "Epoch 519/1000\n",
      "125/125 [==============================] - 0s 96us/sample - loss: 0.5976 - acc: 0.6720\n",
      "Epoch 520/1000\n",
      "125/125 [==============================] - 0s 112us/sample - loss: 0.5940 - acc: 0.6800\n",
      "Epoch 521/1000\n",
      "125/125 [==============================] - 0s 112us/sample - loss: 0.5757 - acc: 0.7200\n",
      "Epoch 522/1000\n",
      "125/125 [==============================] - 0s 104us/sample - loss: 0.6023 - acc: 0.6720\n",
      "Epoch 523/1000\n",
      "125/125 [==============================] - 0s 136us/sample - loss: 0.5738 - acc: 0.7040\n",
      "Epoch 524/1000\n",
      "125/125 [==============================] - 0s 112us/sample - loss: 0.5784 - acc: 0.7040\n",
      "Epoch 525/1000\n",
      "125/125 [==============================] - 0s 112us/sample - loss: 0.5883 - acc: 0.6960\n",
      "Epoch 526/1000\n",
      "125/125 [==============================] - 0s 111us/sample - loss: 0.5906 - acc: 0.6800\n",
      "Epoch 527/1000\n",
      "125/125 [==============================] - 0s 104us/sample - loss: 0.5787 - acc: 0.7120\n",
      "Epoch 528/1000\n",
      "125/125 [==============================] - 0s 112us/sample - loss: 0.5749 - acc: 0.7120\n",
      "Epoch 529/1000\n",
      "125/125 [==============================] - 0s 112us/sample - loss: 0.5879 - acc: 0.6640\n",
      "Epoch 530/1000\n",
      "125/125 [==============================] - 0s 128us/sample - loss: 0.5824 - acc: 0.7040\n",
      "Epoch 531/1000\n",
      "125/125 [==============================] - 0s 148us/sample - loss: 0.5766 - acc: 0.7040\n",
      "Epoch 532/1000\n",
      "125/125 [==============================] - 0s 144us/sample - loss: 0.5784 - acc: 0.6960\n",
      "Epoch 533/1000\n",
      "125/125 [==============================] - 0s 127us/sample - loss: 0.5787 - acc: 0.6880\n",
      "Epoch 534/1000\n",
      "125/125 [==============================] - 0s 120us/sample - loss: 0.6040 - acc: 0.6400\n",
      "Epoch 535/1000\n",
      "125/125 [==============================] - 0s 120us/sample - loss: 0.5744 - acc: 0.6960\n",
      "Epoch 536/1000\n",
      "125/125 [==============================] - 0s 119us/sample - loss: 0.6019 - acc: 0.6720\n",
      "Epoch 537/1000\n",
      "125/125 [==============================] - 0s 188us/sample - loss: 0.5783 - acc: 0.7120\n",
      "Epoch 538/1000\n",
      "125/125 [==============================] - 0s 119us/sample - loss: 0.5735 - acc: 0.7040\n",
      "Epoch 539/1000\n",
      "125/125 [==============================] - 0s 104us/sample - loss: 0.5749 - acc: 0.6960\n",
      "Epoch 540/1000\n",
      "125/125 [==============================] - 0s 112us/sample - loss: 0.5731 - acc: 0.6720\n",
      "Epoch 541/1000\n",
      "125/125 [==============================] - 0s 127us/sample - loss: 0.5860 - acc: 0.6720\n",
      "Epoch 542/1000\n",
      "125/125 [==============================] - 0s 96us/sample - loss: 0.5894 - acc: 0.6720\n",
      "Epoch 543/1000\n",
      "125/125 [==============================] - 0s 120us/sample - loss: 0.5868 - acc: 0.7120\n",
      "Epoch 544/1000\n",
      "125/125 [==============================] - 0s 112us/sample - loss: 0.5921 - acc: 0.6480\n",
      "Epoch 545/1000\n",
      "125/125 [==============================] - 0s 128us/sample - loss: 0.5774 - acc: 0.7120\n",
      "Epoch 546/1000\n",
      "125/125 [==============================] - 0s 104us/sample - loss: 0.5812 - acc: 0.6640\n",
      "Epoch 547/1000\n",
      "125/125 [==============================] - 0s 112us/sample - loss: 0.5766 - acc: 0.7120\n",
      "Epoch 548/1000\n",
      "125/125 [==============================] - 0s 112us/sample - loss: 0.5857 - acc: 0.7040\n",
      "Epoch 549/1000\n",
      "125/125 [==============================] - 0s 126us/sample - loss: 0.5859 - acc: 0.6720\n",
      "Epoch 550/1000\n",
      "125/125 [==============================] - 0s 112us/sample - loss: 0.5755 - acc: 0.6960\n",
      "Epoch 551/1000\n",
      "125/125 [==============================] - 0s 119us/sample - loss: 0.5801 - acc: 0.6800\n",
      "Epoch 552/1000\n",
      "125/125 [==============================] - 0s 167us/sample - loss: 0.5731 - acc: 0.7040\n",
      "Epoch 553/1000\n",
      "125/125 [==============================] - 0s 128us/sample - loss: 0.6046 - acc: 0.6880\n",
      "Epoch 554/1000\n",
      "125/125 [==============================] - 0s 223us/sample - loss: 0.6043 - acc: 0.6880\n",
      "Epoch 555/1000\n",
      "125/125 [==============================] - 0s 119us/sample - loss: 0.5726 - acc: 0.7120\n",
      "Epoch 556/1000\n",
      "125/125 [==============================] - 0s 112us/sample - loss: 0.5733 - acc: 0.7040\n",
      "Epoch 557/1000\n",
      "125/125 [==============================] - 0s 119us/sample - loss: 0.5804 - acc: 0.7040\n",
      "Epoch 558/1000\n",
      "125/125 [==============================] - 0s 120us/sample - loss: 0.5904 - acc: 0.6720\n",
      "Epoch 559/1000\n",
      "125/125 [==============================] - 0s 112us/sample - loss: 0.5872 - acc: 0.6880\n",
      "Epoch 560/1000\n",
      "125/125 [==============================] - 0s 127us/sample - loss: 0.5812 - acc: 0.6720\n",
      "Epoch 561/1000\n",
      "125/125 [==============================] - 0s 119us/sample - loss: 0.5992 - acc: 0.6720\n",
      "Epoch 562/1000\n",
      "125/125 [==============================] - 0s 120us/sample - loss: 0.6067 - acc: 0.6560\n",
      "Epoch 563/1000\n",
      "125/125 [==============================] - 0s 95us/sample - loss: 0.5849 - acc: 0.7040\n",
      "Epoch 564/1000\n",
      "125/125 [==============================] - 0s 112us/sample - loss: 0.5991 - acc: 0.7200\n",
      "Epoch 565/1000\n",
      "125/125 [==============================] - 0s 152us/sample - loss: 0.5956 - acc: 0.6480\n",
      "Epoch 566/1000\n",
      "125/125 [==============================] - 0s 112us/sample - loss: 0.5968 - acc: 0.6800\n",
      "Epoch 567/1000\n",
      "125/125 [==============================] - 0s 120us/sample - loss: 0.5906 - acc: 0.7040\n",
      "Epoch 568/1000\n",
      "125/125 [==============================] - 0s 111us/sample - loss: 0.5872 - acc: 0.6960\n",
      "Epoch 569/1000\n",
      "125/125 [==============================] - 0s 112us/sample - loss: 0.5728 - acc: 0.6960\n",
      "Epoch 570/1000\n",
      "125/125 [==============================] - 0s 112us/sample - loss: 0.5743 - acc: 0.7120\n",
      "Epoch 571/1000\n",
      "125/125 [==============================] - 0s 96us/sample - loss: 0.5792 - acc: 0.6880\n",
      "Epoch 572/1000\n",
      "125/125 [==============================] - 0s 127us/sample - loss: 0.5882 - acc: 0.6880\n",
      "Epoch 573/1000\n",
      "125/125 [==============================] - 0s 111us/sample - loss: 0.5963 - acc: 0.6640\n",
      "Epoch 574/1000\n",
      "125/125 [==============================] - 0s 112us/sample - loss: 0.5737 - acc: 0.7280\n",
      "Epoch 575/1000\n",
      "125/125 [==============================] - 0s 104us/sample - loss: 0.5814 - acc: 0.7120\n",
      "Epoch 576/1000\n",
      "125/125 [==============================] - 0s 119us/sample - loss: 0.5830 - acc: 0.7120\n",
      "Epoch 577/1000\n",
      "125/125 [==============================] - 0s 104us/sample - loss: 0.5738 - acc: 0.7120\n",
      "Epoch 578/1000\n",
      "125/125 [==============================] - 0s 127us/sample - loss: 0.5754 - acc: 0.7200\n",
      "Epoch 579/1000\n",
      "125/125 [==============================] - 0s 111us/sample - loss: 0.5939 - acc: 0.6640\n",
      "Epoch 580/1000\n",
      "125/125 [==============================] - 0s 112us/sample - loss: 0.5795 - acc: 0.6800\n",
      "Epoch 581/1000\n",
      "125/125 [==============================] - 0s 112us/sample - loss: 0.5827 - acc: 0.6880\n",
      "Epoch 582/1000\n",
      "125/125 [==============================] - 0s 144us/sample - loss: 0.5943 - acc: 0.6800\n",
      "Epoch 583/1000\n",
      "125/125 [==============================] - 0s 104us/sample - loss: 0.5991 - acc: 0.6880\n",
      "Epoch 584/1000\n",
      "125/125 [==============================] - 0s 119us/sample - loss: 0.5685 - acc: 0.7120\n",
      "Epoch 585/1000\n",
      "125/125 [==============================] - 0s 119us/sample - loss: 0.5802 - acc: 0.6880\n",
      "Epoch 586/1000\n",
      "125/125 [==============================] - 0s 144us/sample - loss: 0.5767 - acc: 0.6800\n",
      "Epoch 587/1000\n",
      "125/125 [==============================] - 0s 120us/sample - loss: 0.5914 - acc: 0.6880\n",
      "Epoch 588/1000\n",
      "125/125 [==============================] - 0s 128us/sample - loss: 0.5808 - acc: 0.6880\n",
      "Epoch 589/1000\n",
      "125/125 [==============================] - 0s 136us/sample - loss: 0.5721 - acc: 0.6960\n",
      "Epoch 590/1000\n",
      "125/125 [==============================] - 0s 128us/sample - loss: 0.5864 - acc: 0.6800\n",
      "Epoch 591/1000\n",
      "125/125 [==============================] - 0s 112us/sample - loss: 0.6004 - acc: 0.6880\n",
      "Epoch 592/1000\n",
      "125/125 [==============================] - 0s 128us/sample - loss: 0.5798 - acc: 0.6960\n",
      "Epoch 593/1000\n",
      "125/125 [==============================] - 0s 279us/sample - loss: 0.5838 - acc: 0.6880\n",
      "Epoch 594/1000\n",
      "125/125 [==============================] - 0s 104us/sample - loss: 0.5894 - acc: 0.6720\n",
      "Epoch 595/1000\n",
      "125/125 [==============================] - 0s 128us/sample - loss: 0.5744 - acc: 0.7120\n",
      "Epoch 596/1000\n",
      "125/125 [==============================] - 0s 104us/sample - loss: 0.5863 - acc: 0.6560\n",
      "Epoch 597/1000\n",
      "125/125 [==============================] - 0s 127us/sample - loss: 0.5747 - acc: 0.7120\n",
      "Epoch 598/1000\n",
      "125/125 [==============================] - 0s 112us/sample - loss: 0.5821 - acc: 0.7040\n",
      "Epoch 599/1000\n",
      "125/125 [==============================] - 0s 128us/sample - loss: 0.5800 - acc: 0.6720\n",
      "Epoch 600/1000\n",
      "125/125 [==============================] - 0s 104us/sample - loss: 0.5859 - acc: 0.6880\n",
      "Epoch 601/1000\n",
      "125/125 [==============================] - 0s 128us/sample - loss: 0.5831 - acc: 0.6960\n",
      "Epoch 602/1000\n",
      "125/125 [==============================] - 0s 159us/sample - loss: 0.5754 - acc: 0.7040\n",
      "Epoch 603/1000\n",
      "125/125 [==============================] - 0s 120us/sample - loss: 0.5743 - acc: 0.7040\n",
      "Epoch 604/1000\n",
      "125/125 [==============================] - 0s 136us/sample - loss: 0.5702 - acc: 0.7200\n",
      "Epoch 605/1000\n",
      "125/125 [==============================] - 0s 111us/sample - loss: 0.5811 - acc: 0.6880\n",
      "Epoch 606/1000\n",
      "125/125 [==============================] - 0s 104us/sample - loss: 0.6171 - acc: 0.6800\n",
      "Epoch 607/1000\n",
      "125/125 [==============================] - 0s 128us/sample - loss: 0.5818 - acc: 0.6960\n",
      "Epoch 608/1000\n",
      "125/125 [==============================] - 0s 112us/sample - loss: 0.5808 - acc: 0.6800\n",
      "Epoch 609/1000\n",
      "125/125 [==============================] - 0s 120us/sample - loss: 0.5802 - acc: 0.7120\n",
      "Epoch 610/1000\n",
      "125/125 [==============================] - 0s 104us/sample - loss: 0.5912 - acc: 0.6800\n",
      "Epoch 611/1000\n",
      "125/125 [==============================] - 0s 120us/sample - loss: 0.5872 - acc: 0.6640\n",
      "Epoch 612/1000\n",
      "125/125 [==============================] - 0s 112us/sample - loss: 0.5753 - acc: 0.7040\n",
      "Epoch 613/1000\n",
      "125/125 [==============================] - 0s 104us/sample - loss: 0.5813 - acc: 0.6880\n",
      "Epoch 614/1000\n",
      "125/125 [==============================] - 0s 120us/sample - loss: 0.5772 - acc: 0.7120\n",
      "Epoch 615/1000\n",
      "125/125 [==============================] - 0s 112us/sample - loss: 0.5775 - acc: 0.7120\n",
      "Epoch 616/1000\n",
      "125/125 [==============================] - 0s 119us/sample - loss: 0.5933 - acc: 0.6800\n",
      "Epoch 617/1000\n",
      "125/125 [==============================] - 0s 144us/sample - loss: 0.5926 - acc: 0.6720\n",
      "Epoch 618/1000\n",
      "125/125 [==============================] - 0s 127us/sample - loss: 0.5710 - acc: 0.7120\n",
      "Epoch 619/1000\n",
      "125/125 [==============================] - 0s 127us/sample - loss: 0.5760 - acc: 0.7200\n",
      "Epoch 620/1000\n",
      "125/125 [==============================] - 0s 152us/sample - loss: 0.5793 - acc: 0.6960\n",
      "Epoch 621/1000\n",
      "125/125 [==============================] - 0s 168us/sample - loss: 0.5897 - acc: 0.7120\n",
      "Epoch 622/1000\n",
      "125/125 [==============================] - 0s 168us/sample - loss: 0.5827 - acc: 0.6960\n",
      "Epoch 623/1000\n",
      "125/125 [==============================] - 0s 160us/sample - loss: 0.6049 - acc: 0.6960\n",
      "Epoch 624/1000\n",
      "125/125 [==============================] - 0s 160us/sample - loss: 0.5896 - acc: 0.6800\n",
      "Epoch 625/1000\n",
      "125/125 [==============================] - 0s 160us/sample - loss: 0.5694 - acc: 0.7120\n",
      "Epoch 626/1000\n",
      "125/125 [==============================] - 0s 176us/sample - loss: 0.5745 - acc: 0.6960\n",
      "Epoch 627/1000\n",
      "125/125 [==============================] - 0s 152us/sample - loss: 0.5789 - acc: 0.6880\n",
      "Epoch 628/1000\n",
      "125/125 [==============================] - 0s 152us/sample - loss: 0.5773 - acc: 0.7360\n",
      "Epoch 629/1000\n",
      "125/125 [==============================] - 0s 151us/sample - loss: 0.5716 - acc: 0.6960\n",
      "Epoch 630/1000\n",
      "125/125 [==============================] - 0s 152us/sample - loss: 0.5741 - acc: 0.7200\n",
      "Epoch 631/1000\n",
      "125/125 [==============================] - 0s 168us/sample - loss: 0.5732 - acc: 0.7120\n",
      "Epoch 632/1000\n",
      "125/125 [==============================] - 0s 112us/sample - loss: 0.5707 - acc: 0.7120\n",
      "Epoch 633/1000\n",
      "125/125 [==============================] - 0s 119us/sample - loss: 0.5750 - acc: 0.7200\n",
      "Epoch 634/1000\n",
      "125/125 [==============================] - 0s 112us/sample - loss: 0.5776 - acc: 0.6800\n",
      "Epoch 635/1000\n",
      "125/125 [==============================] - 0s 128us/sample - loss: 0.5643 - acc: 0.7120\n",
      "Epoch 636/1000\n",
      "125/125 [==============================] - 0s 175us/sample - loss: 0.5827 - acc: 0.6720\n",
      "Epoch 637/1000\n",
      "125/125 [==============================] - 0s 128us/sample - loss: 0.6027 - acc: 0.6880\n",
      "Epoch 638/1000\n",
      "125/125 [==============================] - 0s 120us/sample - loss: 0.5955 - acc: 0.7040\n",
      "Epoch 639/1000\n",
      "125/125 [==============================] - 0s 144us/sample - loss: 0.5771 - acc: 0.6800\n",
      "Epoch 640/1000\n",
      "125/125 [==============================] - 0s 160us/sample - loss: 0.5725 - acc: 0.6880\n",
      "Epoch 641/1000\n",
      "125/125 [==============================] - 0s 120us/sample - loss: 0.5949 - acc: 0.6720\n",
      "Epoch 642/1000\n",
      "125/125 [==============================] - 0s 152us/sample - loss: 0.5760 - acc: 0.6800\n",
      "Epoch 643/1000\n",
      "125/125 [==============================] - 0s 144us/sample - loss: 0.5894 - acc: 0.6880\n",
      "Epoch 644/1000\n",
      "125/125 [==============================] - 0s 136us/sample - loss: 0.5791 - acc: 0.6800\n",
      "Epoch 645/1000\n",
      "125/125 [==============================] - 0s 128us/sample - loss: 0.5931 - acc: 0.6640\n",
      "Epoch 646/1000\n",
      "125/125 [==============================] - 0s 136us/sample - loss: 0.5782 - acc: 0.7200\n",
      "Epoch 647/1000\n",
      "125/125 [==============================] - 0s 152us/sample - loss: 0.6075 - acc: 0.6800\n",
      "Epoch 648/1000\n",
      "125/125 [==============================] - 0s 128us/sample - loss: 0.5999 - acc: 0.6880\n",
      "Epoch 649/1000\n",
      "125/125 [==============================] - 0s 120us/sample - loss: 0.5860 - acc: 0.7280\n",
      "Epoch 650/1000\n",
      "125/125 [==============================] - 0s 136us/sample - loss: 0.5908 - acc: 0.6960\n",
      "Epoch 651/1000\n",
      "125/125 [==============================] - 0s 136us/sample - loss: 0.5818 - acc: 0.6720\n",
      "Epoch 652/1000\n",
      "125/125 [==============================] - 0s 128us/sample - loss: 0.5828 - acc: 0.6960\n",
      "Epoch 653/1000\n",
      "125/125 [==============================] - 0s 128us/sample - loss: 0.5824 - acc: 0.6960\n",
      "Epoch 654/1000\n",
      "125/125 [==============================] - 0s 144us/sample - loss: 0.5720 - acc: 0.7120\n",
      "Epoch 655/1000\n",
      "125/125 [==============================] - 0s 120us/sample - loss: 0.5697 - acc: 0.7200\n",
      "Epoch 656/1000\n",
      "125/125 [==============================] - 0s 128us/sample - loss: 0.5876 - acc: 0.6880\n",
      "Epoch 657/1000\n",
      "125/125 [==============================] - 0s 128us/sample - loss: 0.5890 - acc: 0.6720\n",
      "Epoch 658/1000\n",
      "125/125 [==============================] - 0s 152us/sample - loss: 0.5796 - acc: 0.6800\n",
      "Epoch 659/1000\n",
      "125/125 [==============================] - 0s 120us/sample - loss: 0.5832 - acc: 0.6640\n",
      "Epoch 660/1000\n",
      "125/125 [==============================] - 0s 136us/sample - loss: 0.5745 - acc: 0.6880\n",
      "Epoch 661/1000\n",
      "125/125 [==============================] - 0s 120us/sample - loss: 0.5764 - acc: 0.6960\n",
      "Epoch 662/1000\n",
      "125/125 [==============================] - 0s 144us/sample - loss: 0.5748 - acc: 0.7200\n",
      "Epoch 663/1000\n",
      "125/125 [==============================] - 0s 136us/sample - loss: 0.5795 - acc: 0.7040\n",
      "Epoch 664/1000\n",
      "125/125 [==============================] - 0s 144us/sample - loss: 0.5707 - acc: 0.7200\n",
      "Epoch 665/1000\n",
      "125/125 [==============================] - 0s 128us/sample - loss: 0.5804 - acc: 0.7120\n",
      "Epoch 666/1000\n",
      "125/125 [==============================] - 0s 120us/sample - loss: 0.5775 - acc: 0.7120\n",
      "Epoch 667/1000\n",
      "125/125 [==============================] - 0s 111us/sample - loss: 0.5711 - acc: 0.6880\n",
      "Epoch 668/1000\n",
      "125/125 [==============================] - 0s 104us/sample - loss: 0.5780 - acc: 0.6960\n",
      "Epoch 669/1000\n",
      "125/125 [==============================] - 0s 112us/sample - loss: 0.5783 - acc: 0.6960\n",
      "Epoch 670/1000\n",
      "125/125 [==============================] - 0s 111us/sample - loss: 0.5799 - acc: 0.6720\n",
      "Epoch 671/1000\n",
      "125/125 [==============================] - 0s 120us/sample - loss: 0.5816 - acc: 0.7200\n",
      "Epoch 672/1000\n",
      "125/125 [==============================] - 0s 120us/sample - loss: 0.5765 - acc: 0.7120\n",
      "Epoch 673/1000\n",
      "125/125 [==============================] - 0s 120us/sample - loss: 0.5906 - acc: 0.6960\n",
      "Epoch 674/1000\n",
      "125/125 [==============================] - 0s 111us/sample - loss: 0.5779 - acc: 0.6960\n",
      "Epoch 675/1000\n",
      "125/125 [==============================] - 0s 112us/sample - loss: 0.5899 - acc: 0.6800\n",
      "Epoch 676/1000\n",
      "125/125 [==============================] - 0s 127us/sample - loss: 0.5900 - acc: 0.6720\n",
      "Epoch 677/1000\n",
      "125/125 [==============================] - 0s 112us/sample - loss: 0.5854 - acc: 0.6880\n",
      "Epoch 678/1000\n",
      "125/125 [==============================] - 0s 231us/sample - loss: 0.5826 - acc: 0.6960\n",
      "Epoch 679/1000\n",
      "125/125 [==============================] - 0s 119us/sample - loss: 0.5847 - acc: 0.6720\n",
      "Epoch 680/1000\n",
      "125/125 [==============================] - 0s 120us/sample - loss: 0.5739 - acc: 0.6960\n",
      "Epoch 681/1000\n",
      "125/125 [==============================] - 0s 119us/sample - loss: 0.5728 - acc: 0.7120\n",
      "Epoch 682/1000\n",
      "125/125 [==============================] - 0s 111us/sample - loss: 0.5874 - acc: 0.6880\n",
      "Epoch 683/1000\n",
      "125/125 [==============================] - 0s 112us/sample - loss: 0.5825 - acc: 0.6880\n",
      "Epoch 684/1000\n",
      "125/125 [==============================] - 0s 96us/sample - loss: 0.6289 - acc: 0.6960\n",
      "Epoch 685/1000\n",
      "125/125 [==============================] - 0s 119us/sample - loss: 0.6121 - acc: 0.6640\n",
      "Epoch 686/1000\n",
      "125/125 [==============================] - 0s 104us/sample - loss: 0.6116 - acc: 0.6800\n",
      "Epoch 687/1000\n",
      "125/125 [==============================] - 0s 119us/sample - loss: 0.5769 - acc: 0.7040\n",
      "Epoch 688/1000\n",
      "125/125 [==============================] - 0s 111us/sample - loss: 0.5789 - acc: 0.6960\n",
      "Epoch 689/1000\n",
      "125/125 [==============================] - 0s 120us/sample - loss: 0.6045 - acc: 0.6720\n",
      "Epoch 690/1000\n",
      "125/125 [==============================] - 0s 104us/sample - loss: 0.5811 - acc: 0.6720\n",
      "Epoch 691/1000\n",
      "125/125 [==============================] - 0s 112us/sample - loss: 0.5916 - acc: 0.6960\n",
      "Epoch 692/1000\n",
      "125/125 [==============================] - 0s 112us/sample - loss: 0.5848 - acc: 0.6800\n",
      "Epoch 693/1000\n",
      "125/125 [==============================] - 0s 120us/sample - loss: 0.5639 - acc: 0.7600\n",
      "Epoch 694/1000\n",
      "125/125 [==============================] - 0s 136us/sample - loss: 0.5807 - acc: 0.7040\n",
      "Epoch 695/1000\n",
      "125/125 [==============================] - 0s 103us/sample - loss: 0.5781 - acc: 0.7120\n",
      "Epoch 696/1000\n",
      "125/125 [==============================] - 0s 112us/sample - loss: 0.5743 - acc: 0.6960\n",
      "Epoch 697/1000\n",
      "125/125 [==============================] - 0s 104us/sample - loss: 0.5742 - acc: 0.7040\n",
      "Epoch 698/1000\n",
      "125/125 [==============================] - 0s 119us/sample - loss: 0.5735 - acc: 0.7120\n",
      "Epoch 699/1000\n",
      "125/125 [==============================] - 0s 104us/sample - loss: 0.5749 - acc: 0.7120\n",
      "Epoch 700/1000\n",
      "125/125 [==============================] - 0s 104us/sample - loss: 0.5737 - acc: 0.7040\n",
      "Epoch 701/1000\n",
      "125/125 [==============================] - 0s 112us/sample - loss: 0.5932 - acc: 0.6880\n",
      "Epoch 702/1000\n",
      "125/125 [==============================] - 0s 104us/sample - loss: 0.5815 - acc: 0.7040\n",
      "Epoch 703/1000\n",
      "125/125 [==============================] - 0s 136us/sample - loss: 0.5824 - acc: 0.7040\n",
      "Epoch 704/1000\n",
      "125/125 [==============================] - 0s 111us/sample - loss: 0.5988 - acc: 0.6560\n",
      "Epoch 705/1000\n",
      "125/125 [==============================] - 0s 112us/sample - loss: 0.5736 - acc: 0.7040\n",
      "Epoch 706/1000\n",
      "125/125 [==============================] - 0s 112us/sample - loss: 0.5966 - acc: 0.6720\n",
      "Epoch 707/1000\n",
      "125/125 [==============================] - 0s 104us/sample - loss: 0.5932 - acc: 0.6800\n",
      "Epoch 708/1000\n",
      "125/125 [==============================] - 0s 111us/sample - loss: 0.5772 - acc: 0.7120\n",
      "Epoch 709/1000\n",
      "125/125 [==============================] - 0s 112us/sample - loss: 0.5984 - acc: 0.7040\n",
      "Epoch 710/1000\n",
      "125/125 [==============================] - 0s 127us/sample - loss: 0.5882 - acc: 0.6720\n",
      "Epoch 711/1000\n",
      "125/125 [==============================] - 0s 104us/sample - loss: 0.5959 - acc: 0.6560\n",
      "Epoch 712/1000\n",
      "125/125 [==============================] - 0s 112us/sample - loss: 0.5711 - acc: 0.7200\n",
      "Epoch 713/1000\n",
      "125/125 [==============================] - 0s 127us/sample - loss: 0.5819 - acc: 0.6960\n",
      "Epoch 714/1000\n",
      "125/125 [==============================] - 0s 126us/sample - loss: 0.5770 - acc: 0.7040\n",
      "Epoch 715/1000\n",
      "125/125 [==============================] - 0s 112us/sample - loss: 0.5718 - acc: 0.7120\n",
      "Epoch 716/1000\n",
      "125/125 [==============================] - 0s 128us/sample - loss: 0.5739 - acc: 0.6800\n",
      "Epoch 717/1000\n",
      "125/125 [==============================] - 0s 120us/sample - loss: 0.5751 - acc: 0.7040\n",
      "Epoch 718/1000\n",
      "125/125 [==============================] - 0s 112us/sample - loss: 0.6018 - acc: 0.6560\n",
      "Epoch 719/1000\n",
      "125/125 [==============================] - 0s 144us/sample - loss: 0.5879 - acc: 0.6640\n",
      "Epoch 720/1000\n",
      "125/125 [==============================] - 0s 127us/sample - loss: 0.5806 - acc: 0.7040\n",
      "Epoch 721/1000\n",
      "125/125 [==============================] - 0s 112us/sample - loss: 0.5804 - acc: 0.6960\n",
      "Epoch 722/1000\n",
      "125/125 [==============================] - 0s 184us/sample - loss: 0.5769 - acc: 0.7040\n",
      "Epoch 723/1000\n",
      "125/125 [==============================] - 0s 96us/sample - loss: 0.5705 - acc: 0.7040\n",
      "Epoch 724/1000\n",
      "125/125 [==============================] - 0s 119us/sample - loss: 0.5826 - acc: 0.6960\n",
      "Epoch 725/1000\n",
      "125/125 [==============================] - 0s 110us/sample - loss: 0.5888 - acc: 0.6800\n",
      "Epoch 726/1000\n",
      "125/125 [==============================] - 0s 143us/sample - loss: 0.6624 - acc: 0.6240\n",
      "Epoch 727/1000\n",
      "125/125 [==============================] - 0s 120us/sample - loss: 0.6046 - acc: 0.6880\n",
      "Epoch 728/1000\n",
      "125/125 [==============================] - 0s 136us/sample - loss: 0.6052 - acc: 0.6720\n",
      "Epoch 729/1000\n",
      "125/125 [==============================] - 0s 127us/sample - loss: 0.5793 - acc: 0.6960\n",
      "Epoch 730/1000\n",
      "125/125 [==============================] - 0s 104us/sample - loss: 0.5789 - acc: 0.6800\n",
      "Epoch 731/1000\n",
      "125/125 [==============================] - 0s 111us/sample - loss: 0.5781 - acc: 0.7120\n",
      "Epoch 732/1000\n",
      "125/125 [==============================] - 0s 111us/sample - loss: 0.5752 - acc: 0.7360\n",
      "Epoch 733/1000\n",
      "125/125 [==============================] - 0s 120us/sample - loss: 0.5794 - acc: 0.6640\n",
      "Epoch 734/1000\n",
      "125/125 [==============================] - 0s 112us/sample - loss: 0.5869 - acc: 0.6880\n",
      "Epoch 735/1000\n",
      "125/125 [==============================] - 0s 104us/sample - loss: 0.5767 - acc: 0.7200\n",
      "Epoch 736/1000\n",
      "125/125 [==============================] - 0s 128us/sample - loss: 0.5827 - acc: 0.6960\n",
      "Epoch 737/1000\n",
      "125/125 [==============================] - 0s 112us/sample - loss: 0.5813 - acc: 0.7040\n",
      "Epoch 738/1000\n",
      "125/125 [==============================] - 0s 112us/sample - loss: 0.5753 - acc: 0.7120\n",
      "Epoch 739/1000\n",
      "125/125 [==============================] - 0s 112us/sample - loss: 0.5805 - acc: 0.6800\n",
      "Epoch 740/1000\n",
      "125/125 [==============================] - 0s 112us/sample - loss: 0.5863 - acc: 0.6880\n",
      "Epoch 741/1000\n",
      "125/125 [==============================] - 0s 104us/sample - loss: 0.5835 - acc: 0.7200\n",
      "Epoch 742/1000\n",
      "125/125 [==============================] - 0s 112us/sample - loss: 0.5832 - acc: 0.6960\n",
      "Epoch 743/1000\n",
      "125/125 [==============================] - 0s 112us/sample - loss: 0.5960 - acc: 0.6800\n",
      "Epoch 744/1000\n",
      "125/125 [==============================] - 0s 96us/sample - loss: 0.5748 - acc: 0.6800\n",
      "Epoch 745/1000\n",
      "125/125 [==============================] - 0s 119us/sample - loss: 0.5833 - acc: 0.6720\n",
      "Epoch 746/1000\n",
      "125/125 [==============================] - 0s 112us/sample - loss: 0.5843 - acc: 0.6880\n",
      "Epoch 747/1000\n",
      "125/125 [==============================] - 0s 120us/sample - loss: 0.5921 - acc: 0.6560\n",
      "Epoch 748/1000\n",
      "125/125 [==============================] - 0s 104us/sample - loss: 0.5980 - acc: 0.6640\n",
      "Epoch 749/1000\n",
      "125/125 [==============================] - 0s 184us/sample - loss: 0.5692 - acc: 0.7120\n",
      "Epoch 750/1000\n",
      "125/125 [==============================] - 0s 144us/sample - loss: 0.5725 - acc: 0.6960\n",
      "Epoch 751/1000\n",
      "125/125 [==============================] - 0s 119us/sample - loss: 0.5749 - acc: 0.6960\n",
      "Epoch 752/1000\n",
      "125/125 [==============================] - 0s 104us/sample - loss: 0.5900 - acc: 0.7200\n",
      "Epoch 753/1000\n",
      "125/125 [==============================] - 0s 127us/sample - loss: 0.5890 - acc: 0.6800\n",
      "Epoch 754/1000\n",
      "125/125 [==============================] - 0s 112us/sample - loss: 0.6072 - acc: 0.6720\n",
      "Epoch 755/1000\n",
      "125/125 [==============================] - 0s 128us/sample - loss: 0.5760 - acc: 0.6880\n",
      "Epoch 756/1000\n",
      "125/125 [==============================] - 0s 111us/sample - loss: 0.5731 - acc: 0.7040\n",
      "Epoch 757/1000\n",
      "125/125 [==============================] - 0s 127us/sample - loss: 0.5729 - acc: 0.7040\n",
      "Epoch 758/1000\n",
      "125/125 [==============================] - 0s 120us/sample - loss: 0.5870 - acc: 0.6800\n",
      "Epoch 759/1000\n",
      "125/125 [==============================] - 0s 119us/sample - loss: 0.5928 - acc: 0.6720\n",
      "Epoch 760/1000\n",
      "125/125 [==============================] - 0s 112us/sample - loss: 0.5961 - acc: 0.6640\n",
      "Epoch 761/1000\n",
      "125/125 [==============================] - 0s 127us/sample - loss: 0.5702 - acc: 0.6960\n",
      "Epoch 762/1000\n",
      "125/125 [==============================] - 0s 135us/sample - loss: 0.5726 - acc: 0.7120\n",
      "Epoch 763/1000\n",
      "125/125 [==============================] - 0s 104us/sample - loss: 0.5787 - acc: 0.7280\n",
      "Epoch 764/1000\n",
      "125/125 [==============================] - 0s 120us/sample - loss: 0.5740 - acc: 0.7280\n",
      "Epoch 765/1000\n",
      "125/125 [==============================] - 0s 120us/sample - loss: 0.5746 - acc: 0.6960\n",
      "Epoch 766/1000\n",
      "125/125 [==============================] - 0s 111us/sample - loss: 0.5799 - acc: 0.6880\n",
      "Epoch 767/1000\n",
      "125/125 [==============================] - 0s 127us/sample - loss: 0.5974 - acc: 0.6960\n",
      "Epoch 768/1000\n",
      "125/125 [==============================] - 0s 119us/sample - loss: 0.5817 - acc: 0.6880\n",
      "Epoch 769/1000\n",
      "125/125 [==============================] - 0s 128us/sample - loss: 0.5811 - acc: 0.7040\n",
      "Epoch 770/1000\n",
      "125/125 [==============================] - 0s 112us/sample - loss: 0.5741 - acc: 0.7120\n",
      "Epoch 771/1000\n",
      "125/125 [==============================] - 0s 120us/sample - loss: 0.5764 - acc: 0.6800\n",
      "Epoch 772/1000\n",
      "125/125 [==============================] - 0s 111us/sample - loss: 0.5941 - acc: 0.6800\n",
      "Epoch 773/1000\n",
      "125/125 [==============================] - 0s 127us/sample - loss: 0.5802 - acc: 0.6800\n",
      "Epoch 774/1000\n",
      "125/125 [==============================] - 0s 119us/sample - loss: 0.5774 - acc: 0.6960\n",
      "Epoch 775/1000\n",
      "125/125 [==============================] - 0s 104us/sample - loss: 0.5963 - acc: 0.6560\n",
      "Epoch 776/1000\n",
      "125/125 [==============================] - 0s 119us/sample - loss: 0.5724 - acc: 0.7120\n",
      "Epoch 777/1000\n",
      "125/125 [==============================] - 0s 103us/sample - loss: 0.5787 - acc: 0.6720\n",
      "Epoch 778/1000\n",
      "125/125 [==============================] - 0s 136us/sample - loss: 0.5759 - acc: 0.6960\n",
      "Epoch 779/1000\n",
      "125/125 [==============================] - 0s 224us/sample - loss: 0.5775 - acc: 0.6960\n",
      "Epoch 780/1000\n",
      "125/125 [==============================] - 0s 119us/sample - loss: 0.5720 - acc: 0.6960\n",
      "Epoch 781/1000\n",
      "125/125 [==============================] - 0s 112us/sample - loss: 0.5776 - acc: 0.6960\n",
      "Epoch 782/1000\n",
      "125/125 [==============================] - 0s 120us/sample - loss: 0.5762 - acc: 0.6960\n",
      "Epoch 783/1000\n",
      "125/125 [==============================] - 0s 119us/sample - loss: 0.5769 - acc: 0.6960\n",
      "Epoch 784/1000\n",
      "125/125 [==============================] - 0s 128us/sample - loss: 0.5778 - acc: 0.7040\n",
      "Epoch 785/1000\n",
      "125/125 [==============================] - 0s 96us/sample - loss: 0.5847 - acc: 0.6880\n",
      "Epoch 786/1000\n",
      "125/125 [==============================] - 0s 120us/sample - loss: 0.5769 - acc: 0.6720\n",
      "Epoch 787/1000\n",
      "125/125 [==============================] - 0s 112us/sample - loss: 0.5749 - acc: 0.7120\n",
      "Epoch 788/1000\n",
      "125/125 [==============================] - 0s 127us/sample - loss: 0.5765 - acc: 0.6960\n",
      "Epoch 789/1000\n",
      "125/125 [==============================] - 0s 119us/sample - loss: 0.5729 - acc: 0.6880\n",
      "Epoch 790/1000\n",
      "125/125 [==============================] - 0s 112us/sample - loss: 0.5715 - acc: 0.7040\n",
      "Epoch 791/1000\n",
      "125/125 [==============================] - 0s 119us/sample - loss: 0.5779 - acc: 0.6960\n",
      "Epoch 792/1000\n",
      "125/125 [==============================] - 0s 120us/sample - loss: 0.5749 - acc: 0.7200\n",
      "Epoch 793/1000\n",
      "125/125 [==============================] - 0s 120us/sample - loss: 0.5708 - acc: 0.7120\n",
      "Epoch 794/1000\n",
      "125/125 [==============================] - 0s 112us/sample - loss: 0.5986 - acc: 0.6640\n",
      "Epoch 795/1000\n",
      "125/125 [==============================] - 0s 120us/sample - loss: 0.5918 - acc: 0.6640\n",
      "Epoch 796/1000\n",
      "125/125 [==============================] - 0s 112us/sample - loss: 0.5726 - acc: 0.6880\n",
      "Epoch 797/1000\n",
      "125/125 [==============================] - 0s 152us/sample - loss: 0.5960 - acc: 0.6960\n",
      "Epoch 798/1000\n",
      "125/125 [==============================] - 0s 120us/sample - loss: 0.5990 - acc: 0.6960\n",
      "Epoch 799/1000\n",
      "125/125 [==============================] - 0s 120us/sample - loss: 0.5745 - acc: 0.7040\n",
      "Epoch 800/1000\n",
      "125/125 [==============================] - 0s 111us/sample - loss: 0.5909 - acc: 0.6480\n",
      "Epoch 801/1000\n",
      "125/125 [==============================] - 0s 111us/sample - loss: 0.5852 - acc: 0.6560\n",
      "Epoch 802/1000\n",
      "125/125 [==============================] - 0s 127us/sample - loss: 0.5796 - acc: 0.6960\n",
      "Epoch 803/1000\n",
      "125/125 [==============================] - 0s 120us/sample - loss: 0.6124 - acc: 0.6880\n",
      "Epoch 804/1000\n",
      "125/125 [==============================] - 0s 127us/sample - loss: 0.6202 - acc: 0.6480\n",
      "Epoch 805/1000\n",
      "125/125 [==============================] - 0s 120us/sample - loss: 0.5754 - acc: 0.7040\n",
      "Epoch 806/1000\n",
      "125/125 [==============================] - 0s 135us/sample - loss: 0.5815 - acc: 0.6880\n",
      "Epoch 807/1000\n",
      "125/125 [==============================] - 0s 112us/sample - loss: 0.5891 - acc: 0.6960\n",
      "Epoch 808/1000\n",
      "125/125 [==============================] - 0s 192us/sample - loss: 0.5710 - acc: 0.7120\n",
      "Epoch 809/1000\n",
      "125/125 [==============================] - 0s 193us/sample - loss: 0.5758 - acc: 0.7040\n",
      "Epoch 810/1000\n",
      "125/125 [==============================] - 0s 176us/sample - loss: 0.5703 - acc: 0.7120\n",
      "Epoch 811/1000\n",
      "125/125 [==============================] - 0s 176us/sample - loss: 0.5809 - acc: 0.6720\n",
      "Epoch 812/1000\n",
      "125/125 [==============================] - 0s 401us/sample - loss: 0.5738 - acc: 0.6800\n",
      "Epoch 813/1000\n",
      "125/125 [==============================] - 0s 176us/sample - loss: 0.5727 - acc: 0.7120\n",
      "Epoch 814/1000\n",
      "125/125 [==============================] - 0s 159us/sample - loss: 0.5846 - acc: 0.6960\n",
      "Epoch 815/1000\n",
      "125/125 [==============================] - 0s 144us/sample - loss: 0.5825 - acc: 0.6800\n",
      "Epoch 816/1000\n",
      "125/125 [==============================] - 0s 168us/sample - loss: 0.5757 - acc: 0.7040\n",
      "Epoch 817/1000\n",
      "125/125 [==============================] - 0s 160us/sample - loss: 0.5914 - acc: 0.7120\n",
      "Epoch 818/1000\n",
      "125/125 [==============================] - 0s 167us/sample - loss: 0.5933 - acc: 0.6880\n",
      "Epoch 819/1000\n",
      "125/125 [==============================] - 0s 104us/sample - loss: 0.6178 - acc: 0.6640\n",
      "Epoch 820/1000\n",
      "125/125 [==============================] - 0s 120us/sample - loss: 0.5755 - acc: 0.7120\n",
      "Epoch 821/1000\n",
      "125/125 [==============================] - 0s 151us/sample - loss: 0.5697 - acc: 0.7040\n",
      "Epoch 822/1000\n",
      "125/125 [==============================] - 0s 104us/sample - loss: 0.5726 - acc: 0.7040\n",
      "Epoch 823/1000\n",
      "125/125 [==============================] - 0s 128us/sample - loss: 0.5722 - acc: 0.7120\n",
      "Epoch 824/1000\n",
      "125/125 [==============================] - 0s 119us/sample - loss: 0.5877 - acc: 0.6960\n",
      "Epoch 825/1000\n",
      "125/125 [==============================] - 0s 112us/sample - loss: 0.5703 - acc: 0.7200\n",
      "Epoch 826/1000\n",
      "125/125 [==============================] - 0s 96us/sample - loss: 0.5755 - acc: 0.7120\n",
      "Epoch 827/1000\n",
      "125/125 [==============================] - 0s 127us/sample - loss: 0.5866 - acc: 0.6720\n",
      "Epoch 828/1000\n",
      "125/125 [==============================] - 0s 119us/sample - loss: 0.5742 - acc: 0.7280\n",
      "Epoch 829/1000\n",
      "125/125 [==============================] - 0s 112us/sample - loss: 0.5738 - acc: 0.6960\n",
      "Epoch 830/1000\n",
      "125/125 [==============================] - 0s 96us/sample - loss: 0.5759 - acc: 0.6960\n",
      "Epoch 831/1000\n",
      "125/125 [==============================] - 0s 104us/sample - loss: 0.5758 - acc: 0.6960\n",
      "Epoch 832/1000\n",
      "125/125 [==============================] - 0s 112us/sample - loss: 0.5776 - acc: 0.7280\n",
      "Epoch 833/1000\n",
      "125/125 [==============================] - 0s 112us/sample - loss: 0.5714 - acc: 0.7200\n",
      "Epoch 834/1000\n",
      "125/125 [==============================] - 0s 120us/sample - loss: 0.5721 - acc: 0.7040\n",
      "Epoch 835/1000\n",
      "125/125 [==============================] - 0s 104us/sample - loss: 0.5698 - acc: 0.7120\n",
      "Epoch 836/1000\n",
      "125/125 [==============================] - 0s 112us/sample - loss: 0.5716 - acc: 0.7200\n",
      "Epoch 837/1000\n",
      "125/125 [==============================] - 0s 112us/sample - loss: 0.5790 - acc: 0.6960\n",
      "Epoch 838/1000\n",
      "125/125 [==============================] - 0s 160us/sample - loss: 0.5705 - acc: 0.7120\n",
      "Epoch 839/1000\n",
      "125/125 [==============================] - 0s 112us/sample - loss: 0.5757 - acc: 0.7120\n",
      "Epoch 840/1000\n",
      "125/125 [==============================] - 0s 112us/sample - loss: 0.5789 - acc: 0.7040\n",
      "Epoch 841/1000\n",
      "125/125 [==============================] - 0s 111us/sample - loss: 0.5923 - acc: 0.7120\n",
      "Epoch 842/1000\n",
      "125/125 [==============================] - 0s 103us/sample - loss: 0.5813 - acc: 0.6960\n",
      "Epoch 843/1000\n",
      "125/125 [==============================] - 0s 120us/sample - loss: 0.5688 - acc: 0.7120\n",
      "Epoch 844/1000\n",
      "125/125 [==============================] - 0s 112us/sample - loss: 0.5865 - acc: 0.6640\n",
      "Epoch 845/1000\n",
      "125/125 [==============================] - 0s 104us/sample - loss: 0.5853 - acc: 0.6880\n",
      "Epoch 846/1000\n",
      "125/125 [==============================] - 0s 127us/sample - loss: 0.5843 - acc: 0.6800\n",
      "Epoch 847/1000\n",
      "125/125 [==============================] - 0s 120us/sample - loss: 0.5893 - acc: 0.6880\n",
      "Epoch 848/1000\n",
      "125/125 [==============================] - 0s 112us/sample - loss: 0.5916 - acc: 0.6640\n",
      "Epoch 849/1000\n",
      "125/125 [==============================] - 0s 122us/sample - loss: 0.5843 - acc: 0.6720\n",
      "Epoch 850/1000\n",
      "125/125 [==============================] - 0s 120us/sample - loss: 0.5785 - acc: 0.7120\n",
      "Epoch 851/1000\n",
      "125/125 [==============================] - 0s 120us/sample - loss: 0.5762 - acc: 0.7120\n",
      "Epoch 852/1000\n",
      "125/125 [==============================] - 0s 136us/sample - loss: 0.5714 - acc: 0.7120\n",
      "Epoch 853/1000\n",
      "125/125 [==============================] - 0s 120us/sample - loss: 0.5735 - acc: 0.6960\n",
      "Epoch 854/1000\n",
      "125/125 [==============================] - 0s 112us/sample - loss: 0.5778 - acc: 0.7120\n",
      "Epoch 855/1000\n",
      "125/125 [==============================] - 0s 112us/sample - loss: 0.5738 - acc: 0.6960\n",
      "Epoch 856/1000\n",
      "125/125 [==============================] - 0s 120us/sample - loss: 0.5738 - acc: 0.7040\n",
      "Epoch 857/1000\n",
      "125/125 [==============================] - 0s 104us/sample - loss: 0.5712 - acc: 0.6960\n",
      "Epoch 858/1000\n",
      "125/125 [==============================] - 0s 104us/sample - loss: 0.5787 - acc: 0.7040\n",
      "Epoch 859/1000\n",
      "125/125 [==============================] - 0s 112us/sample - loss: 0.5740 - acc: 0.7040\n",
      "Epoch 860/1000\n",
      "125/125 [==============================] - 0s 104us/sample - loss: 0.5767 - acc: 0.6720\n",
      "Epoch 861/1000\n",
      "125/125 [==============================] - 0s 128us/sample - loss: 0.5835 - acc: 0.7120\n",
      "Epoch 862/1000\n",
      "125/125 [==============================] - 0s 120us/sample - loss: 0.5766 - acc: 0.6960\n",
      "Epoch 863/1000\n",
      "125/125 [==============================] - 0s 104us/sample - loss: 0.5995 - acc: 0.6720\n",
      "Epoch 864/1000\n",
      "125/125 [==============================] - 0s 112us/sample - loss: 0.5818 - acc: 0.6800\n",
      "Epoch 865/1000\n",
      "125/125 [==============================] - 0s 120us/sample - loss: 0.5818 - acc: 0.7200\n",
      "Epoch 866/1000\n",
      "125/125 [==============================] - 0s 119us/sample - loss: 0.5727 - acc: 0.7040\n",
      "Epoch 867/1000\n",
      "125/125 [==============================] - 0s 104us/sample - loss: 0.5742 - acc: 0.6960\n",
      "Epoch 868/1000\n",
      "125/125 [==============================] - 0s 136us/sample - loss: 0.5774 - acc: 0.6960\n",
      "Epoch 869/1000\n",
      "125/125 [==============================] - 0s 128us/sample - loss: 0.5914 - acc: 0.6880\n",
      "Epoch 870/1000\n",
      "125/125 [==============================] - 0s 111us/sample - loss: 0.5855 - acc: 0.6880\n",
      "Epoch 871/1000\n",
      "125/125 [==============================] - 0s 104us/sample - loss: 0.5688 - acc: 0.7040\n",
      "Epoch 872/1000\n",
      "125/125 [==============================] - 0s 120us/sample - loss: 0.5916 - acc: 0.6880\n",
      "Epoch 873/1000\n",
      "125/125 [==============================] - 0s 167us/sample - loss: 0.5745 - acc: 0.6960\n",
      "Epoch 874/1000\n",
      "125/125 [==============================] - 0s 112us/sample - loss: 0.5725 - acc: 0.7120\n",
      "Epoch 875/1000\n",
      "125/125 [==============================] - 0s 103us/sample - loss: 0.5835 - acc: 0.6800\n",
      "Epoch 876/1000\n",
      "125/125 [==============================] - 0s 111us/sample - loss: 0.5766 - acc: 0.7120\n",
      "Epoch 877/1000\n",
      "125/125 [==============================] - 0s 112us/sample - loss: 0.5857 - acc: 0.7200\n",
      "Epoch 878/1000\n",
      "125/125 [==============================] - 0s 112us/sample - loss: 0.5757 - acc: 0.7040\n",
      "Epoch 879/1000\n",
      "125/125 [==============================] - 0s 112us/sample - loss: 0.5789 - acc: 0.6960\n",
      "Epoch 880/1000\n",
      "125/125 [==============================] - 0s 119us/sample - loss: 0.5770 - acc: 0.7040\n",
      "Epoch 881/1000\n",
      "125/125 [==============================] - 0s 120us/sample - loss: 0.5763 - acc: 0.7040\n",
      "Epoch 882/1000\n",
      "125/125 [==============================] - 0s 120us/sample - loss: 0.5716 - acc: 0.7200\n",
      "Epoch 883/1000\n",
      "125/125 [==============================] - 0s 112us/sample - loss: 0.5750 - acc: 0.6960\n",
      "Epoch 884/1000\n",
      "125/125 [==============================] - 0s 95us/sample - loss: 0.5797 - acc: 0.6960\n",
      "Epoch 885/1000\n",
      "125/125 [==============================] - 0s 111us/sample - loss: 0.5763 - acc: 0.6880\n",
      "Epoch 886/1000\n",
      "125/125 [==============================] - 0s 96us/sample - loss: 0.5858 - acc: 0.7040\n",
      "Epoch 887/1000\n",
      "125/125 [==============================] - 0s 112us/sample - loss: 0.5859 - acc: 0.6880\n",
      "Epoch 888/1000\n",
      "125/125 [==============================] - 0s 112us/sample - loss: 0.6179 - acc: 0.6960\n",
      "Epoch 889/1000\n",
      "125/125 [==============================] - 0s 112us/sample - loss: 0.5938 - acc: 0.6720\n",
      "Epoch 890/1000\n",
      "125/125 [==============================] - 0s 96us/sample - loss: 0.5786 - acc: 0.6800\n",
      "Epoch 891/1000\n",
      "125/125 [==============================] - 0s 120us/sample - loss: 0.5712 - acc: 0.6960\n",
      "Epoch 892/1000\n",
      "125/125 [==============================] - 0s 136us/sample - loss: 0.5693 - acc: 0.6960\n",
      "Epoch 893/1000\n",
      "125/125 [==============================] - 0s 111us/sample - loss: 0.5706 - acc: 0.7040\n",
      "Epoch 894/1000\n",
      "125/125 [==============================] - 0s 104us/sample - loss: 0.5971 - acc: 0.6880\n",
      "Epoch 895/1000\n",
      "125/125 [==============================] - 0s 119us/sample - loss: 0.5789 - acc: 0.6880\n",
      "Epoch 896/1000\n",
      "125/125 [==============================] - 0s 120us/sample - loss: 0.5705 - acc: 0.7120\n",
      "Epoch 897/1000\n",
      "125/125 [==============================] - 0s 109us/sample - loss: 0.5682 - acc: 0.7200\n",
      "Epoch 898/1000\n",
      "125/125 [==============================] - 0s 96us/sample - loss: 0.5789 - acc: 0.7040\n",
      "Epoch 899/1000\n",
      "125/125 [==============================] - 0s 120us/sample - loss: 0.5671 - acc: 0.7120\n",
      "Epoch 900/1000\n",
      "125/125 [==============================] - 0s 104us/sample - loss: 0.5884 - acc: 0.6960\n",
      "Epoch 901/1000\n",
      "125/125 [==============================] - 0s 112us/sample - loss: 0.5798 - acc: 0.6960\n",
      "Epoch 902/1000\n",
      "125/125 [==============================] - 0s 112us/sample - loss: 0.5799 - acc: 0.6880\n",
      "Epoch 903/1000\n",
      "125/125 [==============================] - 0s 109us/sample - loss: 0.5834 - acc: 0.7280\n",
      "Epoch 904/1000\n",
      "125/125 [==============================] - 0s 104us/sample - loss: 0.5817 - acc: 0.6880\n",
      "Epoch 905/1000\n",
      "125/125 [==============================] - 0s 127us/sample - loss: 0.5897 - acc: 0.6880\n",
      "Epoch 906/1000\n",
      "125/125 [==============================] - 0s 120us/sample - loss: 0.5983 - acc: 0.6960\n",
      "Epoch 907/1000\n",
      "125/125 [==============================] - 0s 120us/sample - loss: 0.5708 - acc: 0.6880\n",
      "Epoch 908/1000\n",
      "125/125 [==============================] - 0s 120us/sample - loss: 0.5752 - acc: 0.6880\n",
      "Epoch 909/1000\n",
      "125/125 [==============================] - 0s 111us/sample - loss: 0.5785 - acc: 0.6960\n",
      "Epoch 910/1000\n",
      "125/125 [==============================] - 0s 115us/sample - loss: 0.5722 - acc: 0.6960\n",
      "Epoch 911/1000\n",
      "125/125 [==============================] - 0s 120us/sample - loss: 0.5804 - acc: 0.6720\n",
      "Epoch 912/1000\n",
      "125/125 [==============================] - 0s 119us/sample - loss: 0.5759 - acc: 0.6800\n",
      "Epoch 913/1000\n",
      "125/125 [==============================] - 0s 100us/sample - loss: 0.5921 - acc: 0.6720\n",
      "Epoch 914/1000\n",
      "125/125 [==============================] - 0s 135us/sample - loss: 0.5879 - acc: 0.6960\n",
      "Epoch 915/1000\n",
      "125/125 [==============================] - 0s 128us/sample - loss: 0.5819 - acc: 0.6960\n",
      "Epoch 916/1000\n",
      "125/125 [==============================] - 0s 113us/sample - loss: 0.5673 - acc: 0.7120\n",
      "Epoch 917/1000\n",
      "125/125 [==============================] - 0s 96us/sample - loss: 0.5671 - acc: 0.6960\n",
      "Epoch 918/1000\n",
      "125/125 [==============================] - 0s 120us/sample - loss: 0.5803 - acc: 0.6960\n",
      "Epoch 919/1000\n",
      "125/125 [==============================] - 0s 127us/sample - loss: 0.5902 - acc: 0.6880\n",
      "Epoch 920/1000\n",
      "125/125 [==============================] - 0s 116us/sample - loss: 0.5725 - acc: 0.6960\n",
      "Epoch 921/1000\n",
      "125/125 [==============================] - 0s 96us/sample - loss: 0.5677 - acc: 0.7120\n",
      "Epoch 922/1000\n",
      "125/125 [==============================] - 0s 119us/sample - loss: 0.5757 - acc: 0.7040\n",
      "Epoch 923/1000\n",
      "125/125 [==============================] - 0s 128us/sample - loss: 0.5888 - acc: 0.7120\n",
      "Epoch 924/1000\n",
      "125/125 [==============================] - 0s 112us/sample - loss: 0.5843 - acc: 0.6800\n",
      "Epoch 925/1000\n",
      "125/125 [==============================] - 0s 112us/sample - loss: 0.5856 - acc: 0.6720\n",
      "Epoch 926/1000\n",
      "125/125 [==============================] - 0s 112us/sample - loss: 0.5893 - acc: 0.7040\n",
      "Epoch 927/1000\n",
      "125/125 [==============================] - 0s 127us/sample - loss: 0.5903 - acc: 0.6960\n",
      "Epoch 928/1000\n",
      "125/125 [==============================] - 0s 128us/sample - loss: 0.5801 - acc: 0.6960\n",
      "Epoch 929/1000\n",
      "125/125 [==============================] - 0s 120us/sample - loss: 0.5794 - acc: 0.7040\n",
      "Epoch 930/1000\n",
      "125/125 [==============================] - 0s 127us/sample - loss: 0.5731 - acc: 0.6800\n",
      "Epoch 931/1000\n",
      "125/125 [==============================] - 0s 120us/sample - loss: 0.5859 - acc: 0.7120\n",
      "Epoch 932/1000\n",
      "125/125 [==============================] - 0s 104us/sample - loss: 0.5826 - acc: 0.6800\n",
      "Epoch 933/1000\n",
      "125/125 [==============================] - 0s 114us/sample - loss: 0.5786 - acc: 0.6800\n",
      "Epoch 934/1000\n",
      "125/125 [==============================] - 0s 128us/sample - loss: 0.6386 - acc: 0.6640\n",
      "Epoch 935/1000\n",
      "125/125 [==============================] - 0s 112us/sample - loss: 0.5787 - acc: 0.6960\n",
      "Epoch 936/1000\n",
      "125/125 [==============================] - 0s 113us/sample - loss: 0.5869 - acc: 0.6960\n",
      "Epoch 937/1000\n",
      "125/125 [==============================] - 0s 104us/sample - loss: 0.5701 - acc: 0.7120\n",
      "Epoch 938/1000\n",
      "125/125 [==============================] - 0s 96us/sample - loss: 0.5746 - acc: 0.6880\n",
      "Epoch 939/1000\n",
      "125/125 [==============================] - 0s 104us/sample - loss: 0.5987 - acc: 0.6800\n",
      "Epoch 940/1000\n",
      "125/125 [==============================] - 0s 104us/sample - loss: 0.5759 - acc: 0.7040\n",
      "Epoch 941/1000\n",
      "125/125 [==============================] - 0s 113us/sample - loss: 0.5683 - acc: 0.7120\n",
      "Epoch 942/1000\n",
      "125/125 [==============================] - 0s 112us/sample - loss: 0.5712 - acc: 0.7040\n",
      "Epoch 943/1000\n",
      "125/125 [==============================] - 0s 127us/sample - loss: 0.5758 - acc: 0.7120\n",
      "Epoch 944/1000\n",
      "125/125 [==============================] - 0s 143us/sample - loss: 0.5701 - acc: 0.7200\n",
      "Epoch 945/1000\n",
      "125/125 [==============================] - 0s 111us/sample - loss: 0.5763 - acc: 0.6720\n",
      "Epoch 946/1000\n",
      "125/125 [==============================] - 0s 128us/sample - loss: 0.5778 - acc: 0.6720\n",
      "Epoch 947/1000\n",
      "125/125 [==============================] - 0s 111us/sample - loss: 0.5697 - acc: 0.7120\n",
      "Epoch 948/1000\n",
      "125/125 [==============================] - 0s 104us/sample - loss: 0.5837 - acc: 0.7040\n",
      "Epoch 949/1000\n",
      "125/125 [==============================] - 0s 120us/sample - loss: 0.5866 - acc: 0.7120\n",
      "Epoch 950/1000\n",
      "125/125 [==============================] - 0s 112us/sample - loss: 0.5776 - acc: 0.6800\n",
      "Epoch 951/1000\n",
      "125/125 [==============================] - 0s 112us/sample - loss: 0.5791 - acc: 0.6800\n",
      "Epoch 952/1000\n",
      "125/125 [==============================] - 0s 104us/sample - loss: 0.5731 - acc: 0.7120\n",
      "Epoch 953/1000\n",
      "125/125 [==============================] - 0s 120us/sample - loss: 0.5767 - acc: 0.7040\n",
      "Epoch 954/1000\n",
      "125/125 [==============================] - 0s 120us/sample - loss: 0.5720 - acc: 0.7200\n",
      "Epoch 955/1000\n",
      "125/125 [==============================] - 0s 120us/sample - loss: 0.5739 - acc: 0.7040\n",
      "Epoch 956/1000\n",
      "125/125 [==============================] - 0s 95us/sample - loss: 0.5729 - acc: 0.6800\n",
      "Epoch 957/1000\n",
      "125/125 [==============================] - 0s 120us/sample - loss: 0.5819 - acc: 0.6880\n",
      "Epoch 958/1000\n",
      "125/125 [==============================] - 0s 127us/sample - loss: 0.5770 - acc: 0.6720\n",
      "Epoch 959/1000\n",
      "125/125 [==============================] - 0s 120us/sample - loss: 0.5779 - acc: 0.7120\n",
      "Epoch 960/1000\n",
      "125/125 [==============================] - 0s 104us/sample - loss: 0.5704 - acc: 0.7280\n",
      "Epoch 961/1000\n",
      "125/125 [==============================] - 0s 119us/sample - loss: 0.5768 - acc: 0.7120\n",
      "Epoch 962/1000\n",
      "125/125 [==============================] - 0s 136us/sample - loss: 0.5772 - acc: 0.6800\n",
      "Epoch 963/1000\n",
      "125/125 [==============================] - 0s 119us/sample - loss: 0.5713 - acc: 0.6880\n",
      "Epoch 964/1000\n",
      "125/125 [==============================] - 0s 103us/sample - loss: 0.5718 - acc: 0.7040\n",
      "Epoch 965/1000\n",
      "125/125 [==============================] - 0s 127us/sample - loss: 0.5729 - acc: 0.7200\n",
      "Epoch 966/1000\n",
      "125/125 [==============================] - 0s 136us/sample - loss: 0.5689 - acc: 0.6960\n",
      "Epoch 967/1000\n",
      "125/125 [==============================] - 0s 119us/sample - loss: 0.5741 - acc: 0.7040\n",
      "Epoch 968/1000\n",
      "125/125 [==============================] - 0s 367us/sample - loss: 0.5753 - acc: 0.7120\n",
      "Epoch 969/1000\n",
      "125/125 [==============================] - 0s 111us/sample - loss: 0.5854 - acc: 0.6640\n",
      "Epoch 970/1000\n",
      "125/125 [==============================] - 0s 127us/sample - loss: 0.5798 - acc: 0.6960\n",
      "Epoch 971/1000\n",
      "125/125 [==============================] - 0s 104us/sample - loss: 0.5702 - acc: 0.7200\n",
      "Epoch 972/1000\n",
      "125/125 [==============================] - 0s 120us/sample - loss: 0.5671 - acc: 0.7120\n",
      "Epoch 973/1000\n",
      "125/125 [==============================] - 0s 128us/sample - loss: 0.5726 - acc: 0.6880\n",
      "Epoch 974/1000\n",
      "125/125 [==============================] - 0s 104us/sample - loss: 0.5768 - acc: 0.7040\n",
      "Epoch 975/1000\n",
      "125/125 [==============================] - 0s 127us/sample - loss: 0.5653 - acc: 0.7120\n",
      "Epoch 976/1000\n",
      "125/125 [==============================] - 0s 119us/sample - loss: 0.5724 - acc: 0.6880\n",
      "Epoch 977/1000\n",
      "125/125 [==============================] - 0s 104us/sample - loss: 0.5744 - acc: 0.6960\n",
      "Epoch 978/1000\n",
      "125/125 [==============================] - 0s 104us/sample - loss: 0.5738 - acc: 0.6960\n",
      "Epoch 979/1000\n",
      "125/125 [==============================] - 0s 119us/sample - loss: 0.5792 - acc: 0.6880\n",
      "Epoch 980/1000\n",
      "125/125 [==============================] - 0s 135us/sample - loss: 0.5720 - acc: 0.6960\n",
      "Epoch 981/1000\n",
      "125/125 [==============================] - 0s 104us/sample - loss: 0.5687 - acc: 0.7120\n",
      "Epoch 982/1000\n",
      "125/125 [==============================] - 0s 95us/sample - loss: 0.5742 - acc: 0.6880\n",
      "Epoch 983/1000\n",
      "125/125 [==============================] - 0s 127us/sample - loss: 0.5874 - acc: 0.6560\n",
      "Epoch 984/1000\n",
      "125/125 [==============================] - 0s 128us/sample - loss: 0.5836 - acc: 0.6800\n",
      "Epoch 985/1000\n",
      "125/125 [==============================] - 0s 120us/sample - loss: 0.5697 - acc: 0.6960\n",
      "Epoch 986/1000\n",
      "125/125 [==============================] - 0s 112us/sample - loss: 0.5673 - acc: 0.6960\n",
      "Epoch 987/1000\n",
      "125/125 [==============================] - 0s 96us/sample - loss: 0.5728 - acc: 0.6960\n",
      "Epoch 988/1000\n",
      "125/125 [==============================] - 0s 114us/sample - loss: 0.5722 - acc: 0.7120\n",
      "Epoch 989/1000\n",
      "125/125 [==============================] - 0s 128us/sample - loss: 0.5783 - acc: 0.6880\n",
      "Epoch 990/1000\n",
      "125/125 [==============================] - 0s 112us/sample - loss: 0.5665 - acc: 0.7120\n",
      "Epoch 991/1000\n",
      "125/125 [==============================] - 0s 120us/sample - loss: 0.5783 - acc: 0.7120\n",
      "Epoch 992/1000\n",
      "125/125 [==============================] - 0s 103us/sample - loss: 0.5742 - acc: 0.7120\n",
      "Epoch 993/1000\n",
      "125/125 [==============================] - 0s 112us/sample - loss: 0.5712 - acc: 0.6960\n",
      "Epoch 994/1000\n",
      "125/125 [==============================] - 0s 104us/sample - loss: 0.5701 - acc: 0.7120\n",
      "Epoch 995/1000\n",
      "125/125 [==============================] - 0s 116us/sample - loss: 0.5727 - acc: 0.6960\n",
      "Epoch 996/1000\n",
      "125/125 [==============================] - 0s 117us/sample - loss: 0.5675 - acc: 0.7120\n",
      "Epoch 997/1000\n",
      "125/125 [==============================] - 0s 104us/sample - loss: 0.5804 - acc: 0.7040\n",
      "Epoch 998/1000\n",
      "125/125 [==============================] - 0s 104us/sample - loss: 0.6002 - acc: 0.6640\n",
      "Epoch 999/1000\n",
      "125/125 [==============================] - 0s 120us/sample - loss: 0.5827 - acc: 0.7040\n",
      "Epoch 1000/1000\n",
      "125/125 [==============================] - 0s 120us/sample - loss: 0.5760 - acc: 0.6640\n",
      "Simple DNN report for selected genes:\n",
      "\n",
      "               precision    recall  f1-score   support\n",
      "\n",
      "         0.0       0.78      0.50      0.61        14\n",
      "         1.0       0.70      0.89      0.78        18\n",
      "\n",
      "   micro avg       0.72      0.72      0.72        32\n",
      "   macro avg       0.74      0.69      0.69        32\n",
      "weighted avg       0.73      0.72      0.71        32\n",
      "\n"
     ]
    }
   ],
   "source": [
    "nn = Sequential()\n",
    "\n",
    "nn.add(Dense(16, activation = 'relu', input_dim=10))\n",
    "nn.add(Dense(8, activation = 'relu'))\n",
    "nn.add(Dense(1, activation = 'sigmoid'))\n",
    "nn.compile(optimizer = 'adam', loss = 'binary_crossentropy', metrics = ['accuracy'])\n",
    "                   \n",
    "nn.fit(Xn_train, yn_train, batch_size = 10, epochs = 1000)\n",
    "\n",
    "yn_pred = nn.predict(Xn_test)\n",
    "yn_pred = (yn_pred > 0.5)\n",
    "print (\"Simple DNN report for selected genes:\\n\\n\",classification_report(yn_test, yn_pred))"
   ]
  },
  {
   "cell_type": "code",
   "execution_count": 683,
   "metadata": {},
   "outputs": [
    {
     "name": "stdout",
     "output_type": "stream",
     "text": [
      "Simple DNN report for selected genes:\n",
      "\n",
      "               precision    recall  f1-score   support\n",
      "\n",
      "         0.0       0.69      0.79      0.73        14\n",
      "         1.0       0.81      0.72      0.76        18\n",
      "\n",
      "   micro avg       0.75      0.75      0.75        32\n",
      "   macro avg       0.75      0.75      0.75        32\n",
      "weighted avg       0.76      0.75      0.75        32\n",
      "\n"
     ]
    }
   ],
   "source": [
    "nn = Sequential()\n",
    "\n",
    "nn.add(Dense(16, activation = 'relu', input_dim=10))\n",
    "nn.add(Dense(8, activation = 'relu'))\n",
    "nn.add(Dense(4, activation = 'relu'))\n",
    "nn.add(Dense(1, activation = 'sigmoid'))\n",
    "nn.compile(optimizer = 'adam', loss = 'binary_crossentropy', metrics = ['accuracy'])\n",
    "                   \n",
    "nn.fit(Xn_train, yn_train, batch_size = 10, epochs = 1000, verbose=0)\n",
    "\n",
    "yn_pred = nn.predict(Xn_test)\n",
    "yn_pred = (yn_pred > 0.5)\n",
    "print (\"Simple DNN report for selected genes:\\n\\n\",classification_report(yn_test, yn_pred))"
   ]
  },
  {
   "cell_type": "code",
   "execution_count": 735,
   "metadata": {},
   "outputs": [
    {
     "name": "stdout",
     "output_type": "stream",
     "text": [
      "Simple DNN report for selected genes:\n",
      "\n",
      "               precision    recall  f1-score   support\n",
      "\n",
      "         0.0       0.82      0.64      0.72        14\n",
      "         1.0       0.76      0.89      0.82        18\n",
      "\n",
      "   micro avg       0.78      0.78      0.78        32\n",
      "   macro avg       0.79      0.77      0.77        32\n",
      "weighted avg       0.79      0.78      0.78        32\n",
      "\n"
     ]
    }
   ],
   "source": [
    "nn22 = Sequential()\n",
    "\n",
    "nn22.add(Dense(16, activation = 'relu', input_dim=10))\n",
    "nn22.add(layers.Dropout(0.2))\n",
    "nn22.add(Dense(8, activation = 'tanh'))\n",
    "nn22.add(Dense(1, activation = 'sigmoid'))\n",
    "nn22.compile(optimizer = 'adam', loss = 'binary_crossentropy', metrics = ['accuracy'])\n",
    "                   \n",
    "nn22.fit(Xn_train, yn_train, batch_size = 10, epochs = 1000, verbose=0)\n",
    "\n",
    "yn_pred = nn22.predict(Xn_test)\n",
    "yn_pred = (yn_pred > 0.5)\n",
    "print (\"Simple DNN report for selected genes:\\n\\n\",classification_report(yn_test, yn_pred))"
   ]
  },
  {
   "cell_type": "markdown",
   "metadata": {},
   "source": [
    "### Logistic Regression"
   ]
  },
  {
   "cell_type": "code",
   "execution_count": 649,
   "metadata": {},
   "outputs": [
    {
     "name": "stderr",
     "output_type": "stream",
     "text": [
      "C:\\Users\\slm\\Anaconda3\\lib\\site-packages\\sklearn\\linear_model\\logistic.py:433: FutureWarning: Default solver will be changed to 'lbfgs' in 0.22. Specify a solver to silence this warning.\n",
      "  FutureWarning)\n"
     ]
    },
    {
     "name": "stdout",
     "output_type": "stream",
     "text": [
      "Logistic Regression report for SFM L1: \n",
      "\n",
      "               precision    recall  f1-score   support\n",
      "\n",
      "         0.0       0.33      0.43      0.38        14\n",
      "         1.0       0.43      0.33      0.38        18\n",
      "\n",
      "   micro avg       0.38      0.38      0.38        32\n",
      "   macro avg       0.38      0.38      0.38        32\n",
      "weighted avg       0.39      0.38      0.38        32\n",
      "\n"
     ]
    },
    {
     "name": "stderr",
     "output_type": "stream",
     "text": [
      "C:\\Users\\slm\\Anaconda3\\lib\\site-packages\\sklearn\\linear_model\\base.py:283: DeprecationWarning: `np.int` is a deprecated alias for the builtin `int`. To silence this warning, use `int` by itself. Doing this will not modify any behavior and is safe. When replacing `np.int`, you may wish to use e.g. `np.int64` or `np.int32` to specify the precision. If you wish to review your current use, check the release note link for additional information.\n",
      "Deprecated in NumPy 1.20; for more details and guidance: https://numpy.org/devdocs/release/1.20.0-notes.html#deprecations\n",
      "  indices = (scores > 0).astype(np.int)\n"
     ]
    }
   ],
   "source": [
    "lr = LogisticRegression(random_state=0).fit(X_train, y_train)\n",
    "lr_p = lr.predict(X_test)\n",
    "print(\"Logistic Regression report: \\n\\n\", classification_report(y_test, lr_p))"
   ]
  },
  {
   "cell_type": "code",
   "execution_count": 751,
   "metadata": {},
   "outputs": [
    {
     "name": "stdout",
     "output_type": "stream",
     "text": [
      "Logistic Regression report for selected genes: \n",
      "\n",
      "               precision    recall  f1-score   support\n",
      "\n",
      "         0.0       0.73      0.57      0.64        14\n",
      "         1.0       0.71      0.83      0.77        18\n",
      "\n",
      "   micro avg       0.72      0.72      0.72        32\n",
      "   macro avg       0.72      0.70      0.70        32\n",
      "weighted avg       0.72      0.72      0.71        32\n",
      "\n"
     ]
    },
    {
     "name": "stderr",
     "output_type": "stream",
     "text": [
      "C:\\Users\\slm\\Anaconda3\\lib\\site-packages\\sklearn\\linear_model\\logistic.py:433: FutureWarning: Default solver will be changed to 'lbfgs' in 0.22. Specify a solver to silence this warning.\n",
      "  FutureWarning)\n",
      "C:\\Users\\slm\\Anaconda3\\lib\\site-packages\\sklearn\\linear_model\\base.py:283: DeprecationWarning: `np.int` is a deprecated alias for the builtin `int`. To silence this warning, use `int` by itself. Doing this will not modify any behavior and is safe. When replacing `np.int`, you may wish to use e.g. `np.int64` or `np.int32` to specify the precision. If you wish to review your current use, check the release note link for additional information.\n",
      "Deprecated in NumPy 1.20; for more details and guidance: https://numpy.org/devdocs/release/1.20.0-notes.html#deprecations\n",
      "  indices = (scores > 0).astype(np.int)\n"
     ]
    }
   ],
   "source": [
    "nlr = LogisticRegression(random_state=0).fit(Xn_train, yn_train)\n",
    "nlr_p = nlr.predict(Xn_test)\n",
    "print(\"Logistic Regression report for selected genes: \\n\\n\", classification_report(yn_test, nlr_p))"
   ]
  },
  {
   "cell_type": "markdown",
   "metadata": {},
   "source": [
    "### Random Forest"
   ]
  },
  {
   "cell_type": "code",
   "execution_count": 752,
   "metadata": {},
   "outputs": [
    {
     "name": "stdout",
     "output_type": "stream",
     "text": [
      "Random Forest Classifier report: \n",
      "\n",
      "               precision    recall  f1-score   support\n",
      "\n",
      "         0.0       0.44      0.57      0.50        14\n",
      "         1.0       0.57      0.44      0.50        18\n",
      "\n",
      "   micro avg       0.50      0.50      0.50        32\n",
      "   macro avg       0.51      0.51      0.50        32\n",
      "weighted avg       0.52      0.50      0.50        32\n",
      "\n"
     ]
    },
    {
     "name": "stderr",
     "output_type": "stream",
     "text": [
      "C:\\Users\\slm\\Anaconda3\\lib\\site-packages\\sklearn\\ensemble\\forest.py:246: FutureWarning: The default value of n_estimators will change from 10 in version 0.20 to 100 in 0.22.\n",
      "  \"10 in version 0.20 to 100 in 0.22.\", FutureWarning)\n",
      "C:\\Users\\slm\\Anaconda3\\lib\\site-packages\\sklearn\\ensemble\\forest.py:487: DeprecationWarning: `np.int` is a deprecated alias for the builtin `int`. To silence this warning, use `int` by itself. Doing this will not modify any behavior and is safe. When replacing `np.int`, you may wish to use e.g. `np.int64` or `np.int32` to specify the precision. If you wish to review your current use, check the release note link for additional information.\n",
      "Deprecated in NumPy 1.20; for more details and guidance: https://numpy.org/devdocs/release/1.20.0-notes.html#deprecations\n",
      "  y_store_unique_indices = np.zeros(y.shape, dtype=np.int)\n",
      "C:\\Users\\slm\\Anaconda3\\lib\\site-packages\\sklearn\\tree\\tree.py:149: DeprecationWarning: `np.int` is a deprecated alias for the builtin `int`. To silence this warning, use `int` by itself. Doing this will not modify any behavior and is safe. When replacing `np.int`, you may wish to use e.g. `np.int64` or `np.int32` to specify the precision. If you wish to review your current use, check the release note link for additional information.\n",
      "Deprecated in NumPy 1.20; for more details and guidance: https://numpy.org/devdocs/release/1.20.0-notes.html#deprecations\n",
      "  y_encoded = np.zeros(y.shape, dtype=np.int)\n",
      "C:\\Users\\slm\\Anaconda3\\lib\\site-packages\\sklearn\\tree\\tree.py:149: DeprecationWarning: `np.int` is a deprecated alias for the builtin `int`. To silence this warning, use `int` by itself. Doing this will not modify any behavior and is safe. When replacing `np.int`, you may wish to use e.g. `np.int64` or `np.int32` to specify the precision. If you wish to review your current use, check the release note link for additional information.\n",
      "Deprecated in NumPy 1.20; for more details and guidance: https://numpy.org/devdocs/release/1.20.0-notes.html#deprecations\n",
      "  y_encoded = np.zeros(y.shape, dtype=np.int)\n",
      "C:\\Users\\slm\\Anaconda3\\lib\\site-packages\\sklearn\\tree\\tree.py:149: DeprecationWarning: `np.int` is a deprecated alias for the builtin `int`. To silence this warning, use `int` by itself. Doing this will not modify any behavior and is safe. When replacing `np.int`, you may wish to use e.g. `np.int64` or `np.int32` to specify the precision. If you wish to review your current use, check the release note link for additional information.\n",
      "Deprecated in NumPy 1.20; for more details and guidance: https://numpy.org/devdocs/release/1.20.0-notes.html#deprecations\n",
      "  y_encoded = np.zeros(y.shape, dtype=np.int)\n",
      "C:\\Users\\slm\\Anaconda3\\lib\\site-packages\\sklearn\\tree\\tree.py:149: DeprecationWarning: `np.int` is a deprecated alias for the builtin `int`. To silence this warning, use `int` by itself. Doing this will not modify any behavior and is safe. When replacing `np.int`, you may wish to use e.g. `np.int64` or `np.int32` to specify the precision. If you wish to review your current use, check the release note link for additional information.\n",
      "Deprecated in NumPy 1.20; for more details and guidance: https://numpy.org/devdocs/release/1.20.0-notes.html#deprecations\n",
      "  y_encoded = np.zeros(y.shape, dtype=np.int)\n",
      "C:\\Users\\slm\\Anaconda3\\lib\\site-packages\\sklearn\\tree\\tree.py:149: DeprecationWarning: `np.int` is a deprecated alias for the builtin `int`. To silence this warning, use `int` by itself. Doing this will not modify any behavior and is safe. When replacing `np.int`, you may wish to use e.g. `np.int64` or `np.int32` to specify the precision. If you wish to review your current use, check the release note link for additional information.\n",
      "Deprecated in NumPy 1.20; for more details and guidance: https://numpy.org/devdocs/release/1.20.0-notes.html#deprecations\n",
      "  y_encoded = np.zeros(y.shape, dtype=np.int)\n",
      "C:\\Users\\slm\\Anaconda3\\lib\\site-packages\\sklearn\\tree\\tree.py:149: DeprecationWarning: `np.int` is a deprecated alias for the builtin `int`. To silence this warning, use `int` by itself. Doing this will not modify any behavior and is safe. When replacing `np.int`, you may wish to use e.g. `np.int64` or `np.int32` to specify the precision. If you wish to review your current use, check the release note link for additional information.\n",
      "Deprecated in NumPy 1.20; for more details and guidance: https://numpy.org/devdocs/release/1.20.0-notes.html#deprecations\n",
      "  y_encoded = np.zeros(y.shape, dtype=np.int)\n",
      "C:\\Users\\slm\\Anaconda3\\lib\\site-packages\\sklearn\\tree\\tree.py:149: DeprecationWarning: `np.int` is a deprecated alias for the builtin `int`. To silence this warning, use `int` by itself. Doing this will not modify any behavior and is safe. When replacing `np.int`, you may wish to use e.g. `np.int64` or `np.int32` to specify the precision. If you wish to review your current use, check the release note link for additional information.\n",
      "Deprecated in NumPy 1.20; for more details and guidance: https://numpy.org/devdocs/release/1.20.0-notes.html#deprecations\n",
      "  y_encoded = np.zeros(y.shape, dtype=np.int)\n",
      "C:\\Users\\slm\\Anaconda3\\lib\\site-packages\\sklearn\\tree\\tree.py:149: DeprecationWarning: `np.int` is a deprecated alias for the builtin `int`. To silence this warning, use `int` by itself. Doing this will not modify any behavior and is safe. When replacing `np.int`, you may wish to use e.g. `np.int64` or `np.int32` to specify the precision. If you wish to review your current use, check the release note link for additional information.\n",
      "Deprecated in NumPy 1.20; for more details and guidance: https://numpy.org/devdocs/release/1.20.0-notes.html#deprecations\n",
      "  y_encoded = np.zeros(y.shape, dtype=np.int)\n",
      "C:\\Users\\slm\\Anaconda3\\lib\\site-packages\\sklearn\\tree\\tree.py:149: DeprecationWarning: `np.int` is a deprecated alias for the builtin `int`. To silence this warning, use `int` by itself. Doing this will not modify any behavior and is safe. When replacing `np.int`, you may wish to use e.g. `np.int64` or `np.int32` to specify the precision. If you wish to review your current use, check the release note link for additional information.\n",
      "Deprecated in NumPy 1.20; for more details and guidance: https://numpy.org/devdocs/release/1.20.0-notes.html#deprecations\n",
      "  y_encoded = np.zeros(y.shape, dtype=np.int)\n",
      "C:\\Users\\slm\\Anaconda3\\lib\\site-packages\\sklearn\\tree\\tree.py:149: DeprecationWarning: `np.int` is a deprecated alias for the builtin `int`. To silence this warning, use `int` by itself. Doing this will not modify any behavior and is safe. When replacing `np.int`, you may wish to use e.g. `np.int64` or `np.int32` to specify the precision. If you wish to review your current use, check the release note link for additional information.\n",
      "Deprecated in NumPy 1.20; for more details and guidance: https://numpy.org/devdocs/release/1.20.0-notes.html#deprecations\n",
      "  y_encoded = np.zeros(y.shape, dtype=np.int)\n",
      "C:\\Users\\slm\\Anaconda3\\lib\\site-packages\\sklearn\\ensemble\\base.py:158: DeprecationWarning: `np.int` is a deprecated alias for the builtin `int`. To silence this warning, use `int` by itself. Doing this will not modify any behavior and is safe. When replacing `np.int`, you may wish to use e.g. `np.int64` or `np.int32` to specify the precision. If you wish to review your current use, check the release note link for additional information.\n",
      "Deprecated in NumPy 1.20; for more details and guidance: https://numpy.org/devdocs/release/1.20.0-notes.html#deprecations\n",
      "  dtype=np.int)\n"
     ]
    }
   ],
   "source": [
    "rfc = RandomForestClassifier().fit(X_train, y_train)\n",
    "rfc_p = rfc.predict(X_test)\n",
    "print(\"Random Forest Classifier report: \\n\\n\", classification_report(y_test, rfc_p))"
   ]
  },
  {
   "cell_type": "code",
   "execution_count": 753,
   "metadata": {},
   "outputs": [
    {
     "name": "stdout",
     "output_type": "stream",
     "text": [
      "Random Forest Classifier report for selected genes: \n",
      "\n",
      "               precision    recall  f1-score   support\n",
      "\n",
      "         0.0       0.61      0.79      0.69        14\n",
      "         1.0       0.79      0.61      0.69        18\n",
      "\n",
      "   micro avg       0.69      0.69      0.69        32\n",
      "   macro avg       0.70      0.70      0.69        32\n",
      "weighted avg       0.71      0.69      0.69        32\n",
      "\n"
     ]
    },
    {
     "name": "stderr",
     "output_type": "stream",
     "text": [
      "C:\\Users\\slm\\Anaconda3\\lib\\site-packages\\sklearn\\ensemble\\forest.py:246: FutureWarning: The default value of n_estimators will change from 10 in version 0.20 to 100 in 0.22.\n",
      "  \"10 in version 0.20 to 100 in 0.22.\", FutureWarning)\n",
      "C:\\Users\\slm\\Anaconda3\\lib\\site-packages\\sklearn\\ensemble\\forest.py:487: DeprecationWarning: `np.int` is a deprecated alias for the builtin `int`. To silence this warning, use `int` by itself. Doing this will not modify any behavior and is safe. When replacing `np.int`, you may wish to use e.g. `np.int64` or `np.int32` to specify the precision. If you wish to review your current use, check the release note link for additional information.\n",
      "Deprecated in NumPy 1.20; for more details and guidance: https://numpy.org/devdocs/release/1.20.0-notes.html#deprecations\n",
      "  y_store_unique_indices = np.zeros(y.shape, dtype=np.int)\n",
      "C:\\Users\\slm\\Anaconda3\\lib\\site-packages\\sklearn\\tree\\tree.py:149: DeprecationWarning: `np.int` is a deprecated alias for the builtin `int`. To silence this warning, use `int` by itself. Doing this will not modify any behavior and is safe. When replacing `np.int`, you may wish to use e.g. `np.int64` or `np.int32` to specify the precision. If you wish to review your current use, check the release note link for additional information.\n",
      "Deprecated in NumPy 1.20; for more details and guidance: https://numpy.org/devdocs/release/1.20.0-notes.html#deprecations\n",
      "  y_encoded = np.zeros(y.shape, dtype=np.int)\n",
      "C:\\Users\\slm\\Anaconda3\\lib\\site-packages\\sklearn\\tree\\tree.py:149: DeprecationWarning: `np.int` is a deprecated alias for the builtin `int`. To silence this warning, use `int` by itself. Doing this will not modify any behavior and is safe. When replacing `np.int`, you may wish to use e.g. `np.int64` or `np.int32` to specify the precision. If you wish to review your current use, check the release note link for additional information.\n",
      "Deprecated in NumPy 1.20; for more details and guidance: https://numpy.org/devdocs/release/1.20.0-notes.html#deprecations\n",
      "  y_encoded = np.zeros(y.shape, dtype=np.int)\n",
      "C:\\Users\\slm\\Anaconda3\\lib\\site-packages\\sklearn\\tree\\tree.py:149: DeprecationWarning: `np.int` is a deprecated alias for the builtin `int`. To silence this warning, use `int` by itself. Doing this will not modify any behavior and is safe. When replacing `np.int`, you may wish to use e.g. `np.int64` or `np.int32` to specify the precision. If you wish to review your current use, check the release note link for additional information.\n",
      "Deprecated in NumPy 1.20; for more details and guidance: https://numpy.org/devdocs/release/1.20.0-notes.html#deprecations\n",
      "  y_encoded = np.zeros(y.shape, dtype=np.int)\n",
      "C:\\Users\\slm\\Anaconda3\\lib\\site-packages\\sklearn\\tree\\tree.py:149: DeprecationWarning: `np.int` is a deprecated alias for the builtin `int`. To silence this warning, use `int` by itself. Doing this will not modify any behavior and is safe. When replacing `np.int`, you may wish to use e.g. `np.int64` or `np.int32` to specify the precision. If you wish to review your current use, check the release note link for additional information.\n",
      "Deprecated in NumPy 1.20; for more details and guidance: https://numpy.org/devdocs/release/1.20.0-notes.html#deprecations\n",
      "  y_encoded = np.zeros(y.shape, dtype=np.int)\n",
      "C:\\Users\\slm\\Anaconda3\\lib\\site-packages\\sklearn\\tree\\tree.py:149: DeprecationWarning: `np.int` is a deprecated alias for the builtin `int`. To silence this warning, use `int` by itself. Doing this will not modify any behavior and is safe. When replacing `np.int`, you may wish to use e.g. `np.int64` or `np.int32` to specify the precision. If you wish to review your current use, check the release note link for additional information.\n",
      "Deprecated in NumPy 1.20; for more details and guidance: https://numpy.org/devdocs/release/1.20.0-notes.html#deprecations\n",
      "  y_encoded = np.zeros(y.shape, dtype=np.int)\n",
      "C:\\Users\\slm\\Anaconda3\\lib\\site-packages\\sklearn\\tree\\tree.py:149: DeprecationWarning: `np.int` is a deprecated alias for the builtin `int`. To silence this warning, use `int` by itself. Doing this will not modify any behavior and is safe. When replacing `np.int`, you may wish to use e.g. `np.int64` or `np.int32` to specify the precision. If you wish to review your current use, check the release note link for additional information.\n",
      "Deprecated in NumPy 1.20; for more details and guidance: https://numpy.org/devdocs/release/1.20.0-notes.html#deprecations\n",
      "  y_encoded = np.zeros(y.shape, dtype=np.int)\n",
      "C:\\Users\\slm\\Anaconda3\\lib\\site-packages\\sklearn\\tree\\tree.py:149: DeprecationWarning: `np.int` is a deprecated alias for the builtin `int`. To silence this warning, use `int` by itself. Doing this will not modify any behavior and is safe. When replacing `np.int`, you may wish to use e.g. `np.int64` or `np.int32` to specify the precision. If you wish to review your current use, check the release note link for additional information.\n",
      "Deprecated in NumPy 1.20; for more details and guidance: https://numpy.org/devdocs/release/1.20.0-notes.html#deprecations\n",
      "  y_encoded = np.zeros(y.shape, dtype=np.int)\n",
      "C:\\Users\\slm\\Anaconda3\\lib\\site-packages\\sklearn\\tree\\tree.py:149: DeprecationWarning: `np.int` is a deprecated alias for the builtin `int`. To silence this warning, use `int` by itself. Doing this will not modify any behavior and is safe. When replacing `np.int`, you may wish to use e.g. `np.int64` or `np.int32` to specify the precision. If you wish to review your current use, check the release note link for additional information.\n",
      "Deprecated in NumPy 1.20; for more details and guidance: https://numpy.org/devdocs/release/1.20.0-notes.html#deprecations\n",
      "  y_encoded = np.zeros(y.shape, dtype=np.int)\n",
      "C:\\Users\\slm\\Anaconda3\\lib\\site-packages\\sklearn\\tree\\tree.py:149: DeprecationWarning: `np.int` is a deprecated alias for the builtin `int`. To silence this warning, use `int` by itself. Doing this will not modify any behavior and is safe. When replacing `np.int`, you may wish to use e.g. `np.int64` or `np.int32` to specify the precision. If you wish to review your current use, check the release note link for additional information.\n",
      "Deprecated in NumPy 1.20; for more details and guidance: https://numpy.org/devdocs/release/1.20.0-notes.html#deprecations\n",
      "  y_encoded = np.zeros(y.shape, dtype=np.int)\n",
      "C:\\Users\\slm\\Anaconda3\\lib\\site-packages\\sklearn\\tree\\tree.py:149: DeprecationWarning: `np.int` is a deprecated alias for the builtin `int`. To silence this warning, use `int` by itself. Doing this will not modify any behavior and is safe. When replacing `np.int`, you may wish to use e.g. `np.int64` or `np.int32` to specify the precision. If you wish to review your current use, check the release note link for additional information.\n",
      "Deprecated in NumPy 1.20; for more details and guidance: https://numpy.org/devdocs/release/1.20.0-notes.html#deprecations\n",
      "  y_encoded = np.zeros(y.shape, dtype=np.int)\n",
      "C:\\Users\\slm\\Anaconda3\\lib\\site-packages\\sklearn\\ensemble\\base.py:158: DeprecationWarning: `np.int` is a deprecated alias for the builtin `int`. To silence this warning, use `int` by itself. Doing this will not modify any behavior and is safe. When replacing `np.int`, you may wish to use e.g. `np.int64` or `np.int32` to specify the precision. If you wish to review your current use, check the release note link for additional information.\n",
      "Deprecated in NumPy 1.20; for more details and guidance: https://numpy.org/devdocs/release/1.20.0-notes.html#deprecations\n",
      "  dtype=np.int)\n"
     ]
    }
   ],
   "source": [
    "nrfc = RandomForestClassifier().fit(Xn_train, yn_train)\n",
    "nrfc_p = nrfc.predict(Xn_test)\n",
    "print(\"Random Forest Classifier report for selected genes: \\n\\n\", classification_report(yn_test, nrfc_p))"
   ]
  },
  {
   "cell_type": "markdown",
   "metadata": {},
   "source": [
    "### AdaBoost"
   ]
  },
  {
   "cell_type": "code",
   "execution_count": 754,
   "metadata": {},
   "outputs": [
    {
     "name": "stderr",
     "output_type": "stream",
     "text": [
      "C:\\Users\\slm\\Anaconda3\\lib\\site-packages\\sklearn\\tree\\tree.py:149: DeprecationWarning: `np.int` is a deprecated alias for the builtin `int`. To silence this warning, use `int` by itself. Doing this will not modify any behavior and is safe. When replacing `np.int`, you may wish to use e.g. `np.int64` or `np.int32` to specify the precision. If you wish to review your current use, check the release note link for additional information.\n",
      "Deprecated in NumPy 1.20; for more details and guidance: https://numpy.org/devdocs/release/1.20.0-notes.html#deprecations\n",
      "  y_encoded = np.zeros(y.shape, dtype=np.int)\n",
      "C:\\Users\\slm\\Anaconda3\\lib\\site-packages\\sklearn\\tree\\tree.py:149: DeprecationWarning: `np.int` is a deprecated alias for the builtin `int`. To silence this warning, use `int` by itself. Doing this will not modify any behavior and is safe. When replacing `np.int`, you may wish to use e.g. `np.int64` or `np.int32` to specify the precision. If you wish to review your current use, check the release note link for additional information.\n",
      "Deprecated in NumPy 1.20; for more details and guidance: https://numpy.org/devdocs/release/1.20.0-notes.html#deprecations\n",
      "  y_encoded = np.zeros(y.shape, dtype=np.int)\n",
      "C:\\Users\\slm\\Anaconda3\\lib\\site-packages\\sklearn\\tree\\tree.py:149: DeprecationWarning: `np.int` is a deprecated alias for the builtin `int`. To silence this warning, use `int` by itself. Doing this will not modify any behavior and is safe. When replacing `np.int`, you may wish to use e.g. `np.int64` or `np.int32` to specify the precision. If you wish to review your current use, check the release note link for additional information.\n",
      "Deprecated in NumPy 1.20; for more details and guidance: https://numpy.org/devdocs/release/1.20.0-notes.html#deprecations\n",
      "  y_encoded = np.zeros(y.shape, dtype=np.int)\n",
      "C:\\Users\\slm\\Anaconda3\\lib\\site-packages\\sklearn\\tree\\tree.py:149: DeprecationWarning: `np.int` is a deprecated alias for the builtin `int`. To silence this warning, use `int` by itself. Doing this will not modify any behavior and is safe. When replacing `np.int`, you may wish to use e.g. `np.int64` or `np.int32` to specify the precision. If you wish to review your current use, check the release note link for additional information.\n",
      "Deprecated in NumPy 1.20; for more details and guidance: https://numpy.org/devdocs/release/1.20.0-notes.html#deprecations\n",
      "  y_encoded = np.zeros(y.shape, dtype=np.int)\n",
      "C:\\Users\\slm\\Anaconda3\\lib\\site-packages\\sklearn\\tree\\tree.py:149: DeprecationWarning: `np.int` is a deprecated alias for the builtin `int`. To silence this warning, use `int` by itself. Doing this will not modify any behavior and is safe. When replacing `np.int`, you may wish to use e.g. `np.int64` or `np.int32` to specify the precision. If you wish to review your current use, check the release note link for additional information.\n",
      "Deprecated in NumPy 1.20; for more details and guidance: https://numpy.org/devdocs/release/1.20.0-notes.html#deprecations\n",
      "  y_encoded = np.zeros(y.shape, dtype=np.int)\n",
      "C:\\Users\\slm\\Anaconda3\\lib\\site-packages\\sklearn\\tree\\tree.py:149: DeprecationWarning: `np.int` is a deprecated alias for the builtin `int`. To silence this warning, use `int` by itself. Doing this will not modify any behavior and is safe. When replacing `np.int`, you may wish to use e.g. `np.int64` or `np.int32` to specify the precision. If you wish to review your current use, check the release note link for additional information.\n",
      "Deprecated in NumPy 1.20; for more details and guidance: https://numpy.org/devdocs/release/1.20.0-notes.html#deprecations\n",
      "  y_encoded = np.zeros(y.shape, dtype=np.int)\n",
      "C:\\Users\\slm\\Anaconda3\\lib\\site-packages\\sklearn\\tree\\tree.py:149: DeprecationWarning: `np.int` is a deprecated alias for the builtin `int`. To silence this warning, use `int` by itself. Doing this will not modify any behavior and is safe. When replacing `np.int`, you may wish to use e.g. `np.int64` or `np.int32` to specify the precision. If you wish to review your current use, check the release note link for additional information.\n",
      "Deprecated in NumPy 1.20; for more details and guidance: https://numpy.org/devdocs/release/1.20.0-notes.html#deprecations\n",
      "  y_encoded = np.zeros(y.shape, dtype=np.int)\n",
      "C:\\Users\\slm\\Anaconda3\\lib\\site-packages\\sklearn\\tree\\tree.py:149: DeprecationWarning: `np.int` is a deprecated alias for the builtin `int`. To silence this warning, use `int` by itself. Doing this will not modify any behavior and is safe. When replacing `np.int`, you may wish to use e.g. `np.int64` or `np.int32` to specify the precision. If you wish to review your current use, check the release note link for additional information.\n",
      "Deprecated in NumPy 1.20; for more details and guidance: https://numpy.org/devdocs/release/1.20.0-notes.html#deprecations\n",
      "  y_encoded = np.zeros(y.shape, dtype=np.int)\n",
      "C:\\Users\\slm\\Anaconda3\\lib\\site-packages\\sklearn\\tree\\tree.py:149: DeprecationWarning: `np.int` is a deprecated alias for the builtin `int`. To silence this warning, use `int` by itself. Doing this will not modify any behavior and is safe. When replacing `np.int`, you may wish to use e.g. `np.int64` or `np.int32` to specify the precision. If you wish to review your current use, check the release note link for additional information.\n",
      "Deprecated in NumPy 1.20; for more details and guidance: https://numpy.org/devdocs/release/1.20.0-notes.html#deprecations\n",
      "  y_encoded = np.zeros(y.shape, dtype=np.int)\n",
      "C:\\Users\\slm\\Anaconda3\\lib\\site-packages\\sklearn\\tree\\tree.py:149: DeprecationWarning: `np.int` is a deprecated alias for the builtin `int`. To silence this warning, use `int` by itself. Doing this will not modify any behavior and is safe. When replacing `np.int`, you may wish to use e.g. `np.int64` or `np.int32` to specify the precision. If you wish to review your current use, check the release note link for additional information.\n",
      "Deprecated in NumPy 1.20; for more details and guidance: https://numpy.org/devdocs/release/1.20.0-notes.html#deprecations\n",
      "  y_encoded = np.zeros(y.shape, dtype=np.int)\n",
      "C:\\Users\\slm\\Anaconda3\\lib\\site-packages\\sklearn\\tree\\tree.py:149: DeprecationWarning: `np.int` is a deprecated alias for the builtin `int`. To silence this warning, use `int` by itself. Doing this will not modify any behavior and is safe. When replacing `np.int`, you may wish to use e.g. `np.int64` or `np.int32` to specify the precision. If you wish to review your current use, check the release note link for additional information.\n",
      "Deprecated in NumPy 1.20; for more details and guidance: https://numpy.org/devdocs/release/1.20.0-notes.html#deprecations\n",
      "  y_encoded = np.zeros(y.shape, dtype=np.int)\n",
      "C:\\Users\\slm\\Anaconda3\\lib\\site-packages\\sklearn\\tree\\tree.py:149: DeprecationWarning: `np.int` is a deprecated alias for the builtin `int`. To silence this warning, use `int` by itself. Doing this will not modify any behavior and is safe. When replacing `np.int`, you may wish to use e.g. `np.int64` or `np.int32` to specify the precision. If you wish to review your current use, check the release note link for additional information.\n",
      "Deprecated in NumPy 1.20; for more details and guidance: https://numpy.org/devdocs/release/1.20.0-notes.html#deprecations\n",
      "  y_encoded = np.zeros(y.shape, dtype=np.int)\n",
      "C:\\Users\\slm\\Anaconda3\\lib\\site-packages\\sklearn\\tree\\tree.py:149: DeprecationWarning: `np.int` is a deprecated alias for the builtin `int`. To silence this warning, use `int` by itself. Doing this will not modify any behavior and is safe. When replacing `np.int`, you may wish to use e.g. `np.int64` or `np.int32` to specify the precision. If you wish to review your current use, check the release note link for additional information.\n",
      "Deprecated in NumPy 1.20; for more details and guidance: https://numpy.org/devdocs/release/1.20.0-notes.html#deprecations\n",
      "  y_encoded = np.zeros(y.shape, dtype=np.int)\n",
      "C:\\Users\\slm\\Anaconda3\\lib\\site-packages\\sklearn\\tree\\tree.py:149: DeprecationWarning: `np.int` is a deprecated alias for the builtin `int`. To silence this warning, use `int` by itself. Doing this will not modify any behavior and is safe. When replacing `np.int`, you may wish to use e.g. `np.int64` or `np.int32` to specify the precision. If you wish to review your current use, check the release note link for additional information.\n",
      "Deprecated in NumPy 1.20; for more details and guidance: https://numpy.org/devdocs/release/1.20.0-notes.html#deprecations\n",
      "  y_encoded = np.zeros(y.shape, dtype=np.int)\n",
      "C:\\Users\\slm\\Anaconda3\\lib\\site-packages\\sklearn\\tree\\tree.py:149: DeprecationWarning: `np.int` is a deprecated alias for the builtin `int`. To silence this warning, use `int` by itself. Doing this will not modify any behavior and is safe. When replacing `np.int`, you may wish to use e.g. `np.int64` or `np.int32` to specify the precision. If you wish to review your current use, check the release note link for additional information.\n",
      "Deprecated in NumPy 1.20; for more details and guidance: https://numpy.org/devdocs/release/1.20.0-notes.html#deprecations\n",
      "  y_encoded = np.zeros(y.shape, dtype=np.int)\n",
      "C:\\Users\\slm\\Anaconda3\\lib\\site-packages\\sklearn\\tree\\tree.py:149: DeprecationWarning: `np.int` is a deprecated alias for the builtin `int`. To silence this warning, use `int` by itself. Doing this will not modify any behavior and is safe. When replacing `np.int`, you may wish to use e.g. `np.int64` or `np.int32` to specify the precision. If you wish to review your current use, check the release note link for additional information.\n",
      "Deprecated in NumPy 1.20; for more details and guidance: https://numpy.org/devdocs/release/1.20.0-notes.html#deprecations\n",
      "  y_encoded = np.zeros(y.shape, dtype=np.int)\n",
      "C:\\Users\\slm\\Anaconda3\\lib\\site-packages\\sklearn\\tree\\tree.py:149: DeprecationWarning: `np.int` is a deprecated alias for the builtin `int`. To silence this warning, use `int` by itself. Doing this will not modify any behavior and is safe. When replacing `np.int`, you may wish to use e.g. `np.int64` or `np.int32` to specify the precision. If you wish to review your current use, check the release note link for additional information.\n",
      "Deprecated in NumPy 1.20; for more details and guidance: https://numpy.org/devdocs/release/1.20.0-notes.html#deprecations\n",
      "  y_encoded = np.zeros(y.shape, dtype=np.int)\n",
      "C:\\Users\\slm\\Anaconda3\\lib\\site-packages\\sklearn\\tree\\tree.py:149: DeprecationWarning: `np.int` is a deprecated alias for the builtin `int`. To silence this warning, use `int` by itself. Doing this will not modify any behavior and is safe. When replacing `np.int`, you may wish to use e.g. `np.int64` or `np.int32` to specify the precision. If you wish to review your current use, check the release note link for additional information.\n",
      "Deprecated in NumPy 1.20; for more details and guidance: https://numpy.org/devdocs/release/1.20.0-notes.html#deprecations\n",
      "  y_encoded = np.zeros(y.shape, dtype=np.int)\n",
      "C:\\Users\\slm\\Anaconda3\\lib\\site-packages\\sklearn\\tree\\tree.py:149: DeprecationWarning: `np.int` is a deprecated alias for the builtin `int`. To silence this warning, use `int` by itself. Doing this will not modify any behavior and is safe. When replacing `np.int`, you may wish to use e.g. `np.int64` or `np.int32` to specify the precision. If you wish to review your current use, check the release note link for additional information.\n",
      "Deprecated in NumPy 1.20; for more details and guidance: https://numpy.org/devdocs/release/1.20.0-notes.html#deprecations\n",
      "  y_encoded = np.zeros(y.shape, dtype=np.int)\n",
      "C:\\Users\\slm\\Anaconda3\\lib\\site-packages\\sklearn\\tree\\tree.py:149: DeprecationWarning: `np.int` is a deprecated alias for the builtin `int`. To silence this warning, use `int` by itself. Doing this will not modify any behavior and is safe. When replacing `np.int`, you may wish to use e.g. `np.int64` or `np.int32` to specify the precision. If you wish to review your current use, check the release note link for additional information.\n",
      "Deprecated in NumPy 1.20; for more details and guidance: https://numpy.org/devdocs/release/1.20.0-notes.html#deprecations\n",
      "  y_encoded = np.zeros(y.shape, dtype=np.int)\n",
      "C:\\Users\\slm\\Anaconda3\\lib\\site-packages\\sklearn\\tree\\tree.py:149: DeprecationWarning: `np.int` is a deprecated alias for the builtin `int`. To silence this warning, use `int` by itself. Doing this will not modify any behavior and is safe. When replacing `np.int`, you may wish to use e.g. `np.int64` or `np.int32` to specify the precision. If you wish to review your current use, check the release note link for additional information.\n",
      "Deprecated in NumPy 1.20; for more details and guidance: https://numpy.org/devdocs/release/1.20.0-notes.html#deprecations\n",
      "  y_encoded = np.zeros(y.shape, dtype=np.int)\n",
      "C:\\Users\\slm\\Anaconda3\\lib\\site-packages\\sklearn\\tree\\tree.py:149: DeprecationWarning: `np.int` is a deprecated alias for the builtin `int`. To silence this warning, use `int` by itself. Doing this will not modify any behavior and is safe. When replacing `np.int`, you may wish to use e.g. `np.int64` or `np.int32` to specify the precision. If you wish to review your current use, check the release note link for additional information.\n",
      "Deprecated in NumPy 1.20; for more details and guidance: https://numpy.org/devdocs/release/1.20.0-notes.html#deprecations\n",
      "  y_encoded = np.zeros(y.shape, dtype=np.int)\n",
      "C:\\Users\\slm\\Anaconda3\\lib\\site-packages\\sklearn\\tree\\tree.py:149: DeprecationWarning: `np.int` is a deprecated alias for the builtin `int`. To silence this warning, use `int` by itself. Doing this will not modify any behavior and is safe. When replacing `np.int`, you may wish to use e.g. `np.int64` or `np.int32` to specify the precision. If you wish to review your current use, check the release note link for additional information.\n",
      "Deprecated in NumPy 1.20; for more details and guidance: https://numpy.org/devdocs/release/1.20.0-notes.html#deprecations\n",
      "  y_encoded = np.zeros(y.shape, dtype=np.int)\n",
      "C:\\Users\\slm\\Anaconda3\\lib\\site-packages\\sklearn\\tree\\tree.py:149: DeprecationWarning: `np.int` is a deprecated alias for the builtin `int`. To silence this warning, use `int` by itself. Doing this will not modify any behavior and is safe. When replacing `np.int`, you may wish to use e.g. `np.int64` or `np.int32` to specify the precision. If you wish to review your current use, check the release note link for additional information.\n",
      "Deprecated in NumPy 1.20; for more details and guidance: https://numpy.org/devdocs/release/1.20.0-notes.html#deprecations\n",
      "  y_encoded = np.zeros(y.shape, dtype=np.int)\n",
      "C:\\Users\\slm\\Anaconda3\\lib\\site-packages\\sklearn\\tree\\tree.py:149: DeprecationWarning: `np.int` is a deprecated alias for the builtin `int`. To silence this warning, use `int` by itself. Doing this will not modify any behavior and is safe. When replacing `np.int`, you may wish to use e.g. `np.int64` or `np.int32` to specify the precision. If you wish to review your current use, check the release note link for additional information.\n",
      "Deprecated in NumPy 1.20; for more details and guidance: https://numpy.org/devdocs/release/1.20.0-notes.html#deprecations\n",
      "  y_encoded = np.zeros(y.shape, dtype=np.int)\n",
      "C:\\Users\\slm\\Anaconda3\\lib\\site-packages\\sklearn\\tree\\tree.py:149: DeprecationWarning: `np.int` is a deprecated alias for the builtin `int`. To silence this warning, use `int` by itself. Doing this will not modify any behavior and is safe. When replacing `np.int`, you may wish to use e.g. `np.int64` or `np.int32` to specify the precision. If you wish to review your current use, check the release note link for additional information.\n",
      "Deprecated in NumPy 1.20; for more details and guidance: https://numpy.org/devdocs/release/1.20.0-notes.html#deprecations\n",
      "  y_encoded = np.zeros(y.shape, dtype=np.int)\n",
      "C:\\Users\\slm\\Anaconda3\\lib\\site-packages\\sklearn\\tree\\tree.py:149: DeprecationWarning: `np.int` is a deprecated alias for the builtin `int`. To silence this warning, use `int` by itself. Doing this will not modify any behavior and is safe. When replacing `np.int`, you may wish to use e.g. `np.int64` or `np.int32` to specify the precision. If you wish to review your current use, check the release note link for additional information.\n",
      "Deprecated in NumPy 1.20; for more details and guidance: https://numpy.org/devdocs/release/1.20.0-notes.html#deprecations\n",
      "  y_encoded = np.zeros(y.shape, dtype=np.int)\n",
      "C:\\Users\\slm\\Anaconda3\\lib\\site-packages\\sklearn\\tree\\tree.py:149: DeprecationWarning: `np.int` is a deprecated alias for the builtin `int`. To silence this warning, use `int` by itself. Doing this will not modify any behavior and is safe. When replacing `np.int`, you may wish to use e.g. `np.int64` or `np.int32` to specify the precision. If you wish to review your current use, check the release note link for additional information.\n",
      "Deprecated in NumPy 1.20; for more details and guidance: https://numpy.org/devdocs/release/1.20.0-notes.html#deprecations\n",
      "  y_encoded = np.zeros(y.shape, dtype=np.int)\n",
      "C:\\Users\\slm\\Anaconda3\\lib\\site-packages\\sklearn\\tree\\tree.py:149: DeprecationWarning: `np.int` is a deprecated alias for the builtin `int`. To silence this warning, use `int` by itself. Doing this will not modify any behavior and is safe. When replacing `np.int`, you may wish to use e.g. `np.int64` or `np.int32` to specify the precision. If you wish to review your current use, check the release note link for additional information.\n",
      "Deprecated in NumPy 1.20; for more details and guidance: https://numpy.org/devdocs/release/1.20.0-notes.html#deprecations\n",
      "  y_encoded = np.zeros(y.shape, dtype=np.int)\n",
      "C:\\Users\\slm\\Anaconda3\\lib\\site-packages\\sklearn\\tree\\tree.py:149: DeprecationWarning: `np.int` is a deprecated alias for the builtin `int`. To silence this warning, use `int` by itself. Doing this will not modify any behavior and is safe. When replacing `np.int`, you may wish to use e.g. `np.int64` or `np.int32` to specify the precision. If you wish to review your current use, check the release note link for additional information.\n",
      "Deprecated in NumPy 1.20; for more details and guidance: https://numpy.org/devdocs/release/1.20.0-notes.html#deprecations\n",
      "  y_encoded = np.zeros(y.shape, dtype=np.int)\n",
      "C:\\Users\\slm\\Anaconda3\\lib\\site-packages\\sklearn\\tree\\tree.py:149: DeprecationWarning: `np.int` is a deprecated alias for the builtin `int`. To silence this warning, use `int` by itself. Doing this will not modify any behavior and is safe. When replacing `np.int`, you may wish to use e.g. `np.int64` or `np.int32` to specify the precision. If you wish to review your current use, check the release note link for additional information.\n",
      "Deprecated in NumPy 1.20; for more details and guidance: https://numpy.org/devdocs/release/1.20.0-notes.html#deprecations\n",
      "  y_encoded = np.zeros(y.shape, dtype=np.int)\n",
      "C:\\Users\\slm\\Anaconda3\\lib\\site-packages\\sklearn\\tree\\tree.py:149: DeprecationWarning: `np.int` is a deprecated alias for the builtin `int`. To silence this warning, use `int` by itself. Doing this will not modify any behavior and is safe. When replacing `np.int`, you may wish to use e.g. `np.int64` or `np.int32` to specify the precision. If you wish to review your current use, check the release note link for additional information.\n",
      "Deprecated in NumPy 1.20; for more details and guidance: https://numpy.org/devdocs/release/1.20.0-notes.html#deprecations\n",
      "  y_encoded = np.zeros(y.shape, dtype=np.int)\n",
      "C:\\Users\\slm\\Anaconda3\\lib\\site-packages\\sklearn\\tree\\tree.py:149: DeprecationWarning: `np.int` is a deprecated alias for the builtin `int`. To silence this warning, use `int` by itself. Doing this will not modify any behavior and is safe. When replacing `np.int`, you may wish to use e.g. `np.int64` or `np.int32` to specify the precision. If you wish to review your current use, check the release note link for additional information.\n",
      "Deprecated in NumPy 1.20; for more details and guidance: https://numpy.org/devdocs/release/1.20.0-notes.html#deprecations\n",
      "  y_encoded = np.zeros(y.shape, dtype=np.int)\n",
      "C:\\Users\\slm\\Anaconda3\\lib\\site-packages\\sklearn\\tree\\tree.py:149: DeprecationWarning: `np.int` is a deprecated alias for the builtin `int`. To silence this warning, use `int` by itself. Doing this will not modify any behavior and is safe. When replacing `np.int`, you may wish to use e.g. `np.int64` or `np.int32` to specify the precision. If you wish to review your current use, check the release note link for additional information.\n",
      "Deprecated in NumPy 1.20; for more details and guidance: https://numpy.org/devdocs/release/1.20.0-notes.html#deprecations\n",
      "  y_encoded = np.zeros(y.shape, dtype=np.int)\n",
      "C:\\Users\\slm\\Anaconda3\\lib\\site-packages\\sklearn\\tree\\tree.py:149: DeprecationWarning: `np.int` is a deprecated alias for the builtin `int`. To silence this warning, use `int` by itself. Doing this will not modify any behavior and is safe. When replacing `np.int`, you may wish to use e.g. `np.int64` or `np.int32` to specify the precision. If you wish to review your current use, check the release note link for additional information.\n",
      "Deprecated in NumPy 1.20; for more details and guidance: https://numpy.org/devdocs/release/1.20.0-notes.html#deprecations\n",
      "  y_encoded = np.zeros(y.shape, dtype=np.int)\n",
      "C:\\Users\\slm\\Anaconda3\\lib\\site-packages\\sklearn\\tree\\tree.py:149: DeprecationWarning: `np.int` is a deprecated alias for the builtin `int`. To silence this warning, use `int` by itself. Doing this will not modify any behavior and is safe. When replacing `np.int`, you may wish to use e.g. `np.int64` or `np.int32` to specify the precision. If you wish to review your current use, check the release note link for additional information.\n",
      "Deprecated in NumPy 1.20; for more details and guidance: https://numpy.org/devdocs/release/1.20.0-notes.html#deprecations\n",
      "  y_encoded = np.zeros(y.shape, dtype=np.int)\n",
      "C:\\Users\\slm\\Anaconda3\\lib\\site-packages\\sklearn\\tree\\tree.py:149: DeprecationWarning: `np.int` is a deprecated alias for the builtin `int`. To silence this warning, use `int` by itself. Doing this will not modify any behavior and is safe. When replacing `np.int`, you may wish to use e.g. `np.int64` or `np.int32` to specify the precision. If you wish to review your current use, check the release note link for additional information.\n",
      "Deprecated in NumPy 1.20; for more details and guidance: https://numpy.org/devdocs/release/1.20.0-notes.html#deprecations\n",
      "  y_encoded = np.zeros(y.shape, dtype=np.int)\n",
      "C:\\Users\\slm\\Anaconda3\\lib\\site-packages\\sklearn\\tree\\tree.py:149: DeprecationWarning: `np.int` is a deprecated alias for the builtin `int`. To silence this warning, use `int` by itself. Doing this will not modify any behavior and is safe. When replacing `np.int`, you may wish to use e.g. `np.int64` or `np.int32` to specify the precision. If you wish to review your current use, check the release note link for additional information.\n",
      "Deprecated in NumPy 1.20; for more details and guidance: https://numpy.org/devdocs/release/1.20.0-notes.html#deprecations\n",
      "  y_encoded = np.zeros(y.shape, dtype=np.int)\n",
      "C:\\Users\\slm\\Anaconda3\\lib\\site-packages\\sklearn\\tree\\tree.py:149: DeprecationWarning: `np.int` is a deprecated alias for the builtin `int`. To silence this warning, use `int` by itself. Doing this will not modify any behavior and is safe. When replacing `np.int`, you may wish to use e.g. `np.int64` or `np.int32` to specify the precision. If you wish to review your current use, check the release note link for additional information.\n",
      "Deprecated in NumPy 1.20; for more details and guidance: https://numpy.org/devdocs/release/1.20.0-notes.html#deprecations\n",
      "  y_encoded = np.zeros(y.shape, dtype=np.int)\n",
      "C:\\Users\\slm\\Anaconda3\\lib\\site-packages\\sklearn\\tree\\tree.py:149: DeprecationWarning: `np.int` is a deprecated alias for the builtin `int`. To silence this warning, use `int` by itself. Doing this will not modify any behavior and is safe. When replacing `np.int`, you may wish to use e.g. `np.int64` or `np.int32` to specify the precision. If you wish to review your current use, check the release note link for additional information.\n",
      "Deprecated in NumPy 1.20; for more details and guidance: https://numpy.org/devdocs/release/1.20.0-notes.html#deprecations\n",
      "  y_encoded = np.zeros(y.shape, dtype=np.int)\n",
      "C:\\Users\\slm\\Anaconda3\\lib\\site-packages\\sklearn\\tree\\tree.py:149: DeprecationWarning: `np.int` is a deprecated alias for the builtin `int`. To silence this warning, use `int` by itself. Doing this will not modify any behavior and is safe. When replacing `np.int`, you may wish to use e.g. `np.int64` or `np.int32` to specify the precision. If you wish to review your current use, check the release note link for additional information.\n",
      "Deprecated in NumPy 1.20; for more details and guidance: https://numpy.org/devdocs/release/1.20.0-notes.html#deprecations\n",
      "  y_encoded = np.zeros(y.shape, dtype=np.int)\n",
      "C:\\Users\\slm\\Anaconda3\\lib\\site-packages\\sklearn\\tree\\tree.py:149: DeprecationWarning: `np.int` is a deprecated alias for the builtin `int`. To silence this warning, use `int` by itself. Doing this will not modify any behavior and is safe. When replacing `np.int`, you may wish to use e.g. `np.int64` or `np.int32` to specify the precision. If you wish to review your current use, check the release note link for additional information.\n",
      "Deprecated in NumPy 1.20; for more details and guidance: https://numpy.org/devdocs/release/1.20.0-notes.html#deprecations\n",
      "  y_encoded = np.zeros(y.shape, dtype=np.int)\n",
      "C:\\Users\\slm\\Anaconda3\\lib\\site-packages\\sklearn\\tree\\tree.py:149: DeprecationWarning: `np.int` is a deprecated alias for the builtin `int`. To silence this warning, use `int` by itself. Doing this will not modify any behavior and is safe. When replacing `np.int`, you may wish to use e.g. `np.int64` or `np.int32` to specify the precision. If you wish to review your current use, check the release note link for additional information.\n",
      "Deprecated in NumPy 1.20; for more details and guidance: https://numpy.org/devdocs/release/1.20.0-notes.html#deprecations\n",
      "  y_encoded = np.zeros(y.shape, dtype=np.int)\n",
      "C:\\Users\\slm\\Anaconda3\\lib\\site-packages\\sklearn\\tree\\tree.py:149: DeprecationWarning: `np.int` is a deprecated alias for the builtin `int`. To silence this warning, use `int` by itself. Doing this will not modify any behavior and is safe. When replacing `np.int`, you may wish to use e.g. `np.int64` or `np.int32` to specify the precision. If you wish to review your current use, check the release note link for additional information.\n",
      "Deprecated in NumPy 1.20; for more details and guidance: https://numpy.org/devdocs/release/1.20.0-notes.html#deprecations\n",
      "  y_encoded = np.zeros(y.shape, dtype=np.int)\n",
      "C:\\Users\\slm\\Anaconda3\\lib\\site-packages\\sklearn\\tree\\tree.py:149: DeprecationWarning: `np.int` is a deprecated alias for the builtin `int`. To silence this warning, use `int` by itself. Doing this will not modify any behavior and is safe. When replacing `np.int`, you may wish to use e.g. `np.int64` or `np.int32` to specify the precision. If you wish to review your current use, check the release note link for additional information.\n",
      "Deprecated in NumPy 1.20; for more details and guidance: https://numpy.org/devdocs/release/1.20.0-notes.html#deprecations\n",
      "  y_encoded = np.zeros(y.shape, dtype=np.int)\n",
      "C:\\Users\\slm\\Anaconda3\\lib\\site-packages\\sklearn\\tree\\tree.py:149: DeprecationWarning: `np.int` is a deprecated alias for the builtin `int`. To silence this warning, use `int` by itself. Doing this will not modify any behavior and is safe. When replacing `np.int`, you may wish to use e.g. `np.int64` or `np.int32` to specify the precision. If you wish to review your current use, check the release note link for additional information.\n",
      "Deprecated in NumPy 1.20; for more details and guidance: https://numpy.org/devdocs/release/1.20.0-notes.html#deprecations\n",
      "  y_encoded = np.zeros(y.shape, dtype=np.int)\n"
     ]
    },
    {
     "name": "stdout",
     "output_type": "stream",
     "text": [
      "AdaBoost Classifier report: \n",
      "\n",
      "               precision    recall  f1-score   support\n",
      "\n",
      "         0.0       0.32      0.43      0.36        14\n",
      "         1.0       0.38      0.28      0.32        18\n",
      "\n",
      "   micro avg       0.34      0.34      0.34        32\n",
      "   macro avg       0.35      0.35      0.34        32\n",
      "weighted avg       0.35      0.34      0.34        32\n",
      "\n"
     ]
    },
    {
     "name": "stderr",
     "output_type": "stream",
     "text": [
      "C:\\Users\\slm\\Anaconda3\\lib\\site-packages\\sklearn\\tree\\tree.py:149: DeprecationWarning: `np.int` is a deprecated alias for the builtin `int`. To silence this warning, use `int` by itself. Doing this will not modify any behavior and is safe. When replacing `np.int`, you may wish to use e.g. `np.int64` or `np.int32` to specify the precision. If you wish to review your current use, check the release note link for additional information.\n",
      "Deprecated in NumPy 1.20; for more details and guidance: https://numpy.org/devdocs/release/1.20.0-notes.html#deprecations\n",
      "  y_encoded = np.zeros(y.shape, dtype=np.int)\n",
      "C:\\Users\\slm\\Anaconda3\\lib\\site-packages\\sklearn\\tree\\tree.py:149: DeprecationWarning: `np.int` is a deprecated alias for the builtin `int`. To silence this warning, use `int` by itself. Doing this will not modify any behavior and is safe. When replacing `np.int`, you may wish to use e.g. `np.int64` or `np.int32` to specify the precision. If you wish to review your current use, check the release note link for additional information.\n",
      "Deprecated in NumPy 1.20; for more details and guidance: https://numpy.org/devdocs/release/1.20.0-notes.html#deprecations\n",
      "  y_encoded = np.zeros(y.shape, dtype=np.int)\n",
      "C:\\Users\\slm\\Anaconda3\\lib\\site-packages\\sklearn\\tree\\tree.py:149: DeprecationWarning: `np.int` is a deprecated alias for the builtin `int`. To silence this warning, use `int` by itself. Doing this will not modify any behavior and is safe. When replacing `np.int`, you may wish to use e.g. `np.int64` or `np.int32` to specify the precision. If you wish to review your current use, check the release note link for additional information.\n",
      "Deprecated in NumPy 1.20; for more details and guidance: https://numpy.org/devdocs/release/1.20.0-notes.html#deprecations\n",
      "  y_encoded = np.zeros(y.shape, dtype=np.int)\n",
      "C:\\Users\\slm\\Anaconda3\\lib\\site-packages\\sklearn\\tree\\tree.py:149: DeprecationWarning: `np.int` is a deprecated alias for the builtin `int`. To silence this warning, use `int` by itself. Doing this will not modify any behavior and is safe. When replacing `np.int`, you may wish to use e.g. `np.int64` or `np.int32` to specify the precision. If you wish to review your current use, check the release note link for additional information.\n",
      "Deprecated in NumPy 1.20; for more details and guidance: https://numpy.org/devdocs/release/1.20.0-notes.html#deprecations\n",
      "  y_encoded = np.zeros(y.shape, dtype=np.int)\n"
     ]
    }
   ],
   "source": [
    "ada = AdaBoostClassifier().fit(X_train, y_train)\n",
    "ada_p = ada.predict(X_test)\n",
    "print(\"AdaBoost Classifier report: \\n\\n\", classification_report(y_test, ada_p))"
   ]
  },
  {
   "cell_type": "code",
   "execution_count": 755,
   "metadata": {},
   "outputs": [
    {
     "name": "stdout",
     "output_type": "stream",
     "text": [
      "AdaBoost Classifier report for selected genes: \n",
      "\n",
      "               precision    recall  f1-score   support\n",
      "\n",
      "         0.0       0.71      0.71      0.71        14\n",
      "         1.0       0.78      0.78      0.78        18\n",
      "\n",
      "   micro avg       0.75      0.75      0.75        32\n",
      "   macro avg       0.75      0.75      0.75        32\n",
      "weighted avg       0.75      0.75      0.75        32\n",
      "\n"
     ]
    },
    {
     "name": "stderr",
     "output_type": "stream",
     "text": [
      "C:\\Users\\slm\\Anaconda3\\lib\\site-packages\\sklearn\\tree\\tree.py:149: DeprecationWarning: `np.int` is a deprecated alias for the builtin `int`. To silence this warning, use `int` by itself. Doing this will not modify any behavior and is safe. When replacing `np.int`, you may wish to use e.g. `np.int64` or `np.int32` to specify the precision. If you wish to review your current use, check the release note link for additional information.\n",
      "Deprecated in NumPy 1.20; for more details and guidance: https://numpy.org/devdocs/release/1.20.0-notes.html#deprecations\n",
      "  y_encoded = np.zeros(y.shape, dtype=np.int)\n",
      "C:\\Users\\slm\\Anaconda3\\lib\\site-packages\\sklearn\\tree\\tree.py:149: DeprecationWarning: `np.int` is a deprecated alias for the builtin `int`. To silence this warning, use `int` by itself. Doing this will not modify any behavior and is safe. When replacing `np.int`, you may wish to use e.g. `np.int64` or `np.int32` to specify the precision. If you wish to review your current use, check the release note link for additional information.\n",
      "Deprecated in NumPy 1.20; for more details and guidance: https://numpy.org/devdocs/release/1.20.0-notes.html#deprecations\n",
      "  y_encoded = np.zeros(y.shape, dtype=np.int)\n",
      "C:\\Users\\slm\\Anaconda3\\lib\\site-packages\\sklearn\\tree\\tree.py:149: DeprecationWarning: `np.int` is a deprecated alias for the builtin `int`. To silence this warning, use `int` by itself. Doing this will not modify any behavior and is safe. When replacing `np.int`, you may wish to use e.g. `np.int64` or `np.int32` to specify the precision. If you wish to review your current use, check the release note link for additional information.\n",
      "Deprecated in NumPy 1.20; for more details and guidance: https://numpy.org/devdocs/release/1.20.0-notes.html#deprecations\n",
      "  y_encoded = np.zeros(y.shape, dtype=np.int)\n",
      "C:\\Users\\slm\\Anaconda3\\lib\\site-packages\\sklearn\\tree\\tree.py:149: DeprecationWarning: `np.int` is a deprecated alias for the builtin `int`. To silence this warning, use `int` by itself. Doing this will not modify any behavior and is safe. When replacing `np.int`, you may wish to use e.g. `np.int64` or `np.int32` to specify the precision. If you wish to review your current use, check the release note link for additional information.\n",
      "Deprecated in NumPy 1.20; for more details and guidance: https://numpy.org/devdocs/release/1.20.0-notes.html#deprecations\n",
      "  y_encoded = np.zeros(y.shape, dtype=np.int)\n",
      "C:\\Users\\slm\\Anaconda3\\lib\\site-packages\\sklearn\\tree\\tree.py:149: DeprecationWarning: `np.int` is a deprecated alias for the builtin `int`. To silence this warning, use `int` by itself. Doing this will not modify any behavior and is safe. When replacing `np.int`, you may wish to use e.g. `np.int64` or `np.int32` to specify the precision. If you wish to review your current use, check the release note link for additional information.\n",
      "Deprecated in NumPy 1.20; for more details and guidance: https://numpy.org/devdocs/release/1.20.0-notes.html#deprecations\n",
      "  y_encoded = np.zeros(y.shape, dtype=np.int)\n",
      "C:\\Users\\slm\\Anaconda3\\lib\\site-packages\\sklearn\\tree\\tree.py:149: DeprecationWarning: `np.int` is a deprecated alias for the builtin `int`. To silence this warning, use `int` by itself. Doing this will not modify any behavior and is safe. When replacing `np.int`, you may wish to use e.g. `np.int64` or `np.int32` to specify the precision. If you wish to review your current use, check the release note link for additional information.\n",
      "Deprecated in NumPy 1.20; for more details and guidance: https://numpy.org/devdocs/release/1.20.0-notes.html#deprecations\n",
      "  y_encoded = np.zeros(y.shape, dtype=np.int)\n",
      "C:\\Users\\slm\\Anaconda3\\lib\\site-packages\\sklearn\\tree\\tree.py:149: DeprecationWarning: `np.int` is a deprecated alias for the builtin `int`. To silence this warning, use `int` by itself. Doing this will not modify any behavior and is safe. When replacing `np.int`, you may wish to use e.g. `np.int64` or `np.int32` to specify the precision. If you wish to review your current use, check the release note link for additional information.\n",
      "Deprecated in NumPy 1.20; for more details and guidance: https://numpy.org/devdocs/release/1.20.0-notes.html#deprecations\n",
      "  y_encoded = np.zeros(y.shape, dtype=np.int)\n",
      "C:\\Users\\slm\\Anaconda3\\lib\\site-packages\\sklearn\\tree\\tree.py:149: DeprecationWarning: `np.int` is a deprecated alias for the builtin `int`. To silence this warning, use `int` by itself. Doing this will not modify any behavior and is safe. When replacing `np.int`, you may wish to use e.g. `np.int64` or `np.int32` to specify the precision. If you wish to review your current use, check the release note link for additional information.\n",
      "Deprecated in NumPy 1.20; for more details and guidance: https://numpy.org/devdocs/release/1.20.0-notes.html#deprecations\n",
      "  y_encoded = np.zeros(y.shape, dtype=np.int)\n",
      "C:\\Users\\slm\\Anaconda3\\lib\\site-packages\\sklearn\\tree\\tree.py:149: DeprecationWarning: `np.int` is a deprecated alias for the builtin `int`. To silence this warning, use `int` by itself. Doing this will not modify any behavior and is safe. When replacing `np.int`, you may wish to use e.g. `np.int64` or `np.int32` to specify the precision. If you wish to review your current use, check the release note link for additional information.\n",
      "Deprecated in NumPy 1.20; for more details and guidance: https://numpy.org/devdocs/release/1.20.0-notes.html#deprecations\n",
      "  y_encoded = np.zeros(y.shape, dtype=np.int)\n",
      "C:\\Users\\slm\\Anaconda3\\lib\\site-packages\\sklearn\\tree\\tree.py:149: DeprecationWarning: `np.int` is a deprecated alias for the builtin `int`. To silence this warning, use `int` by itself. Doing this will not modify any behavior and is safe. When replacing `np.int`, you may wish to use e.g. `np.int64` or `np.int32` to specify the precision. If you wish to review your current use, check the release note link for additional information.\n",
      "Deprecated in NumPy 1.20; for more details and guidance: https://numpy.org/devdocs/release/1.20.0-notes.html#deprecations\n",
      "  y_encoded = np.zeros(y.shape, dtype=np.int)\n",
      "C:\\Users\\slm\\Anaconda3\\lib\\site-packages\\sklearn\\tree\\tree.py:149: DeprecationWarning: `np.int` is a deprecated alias for the builtin `int`. To silence this warning, use `int` by itself. Doing this will not modify any behavior and is safe. When replacing `np.int`, you may wish to use e.g. `np.int64` or `np.int32` to specify the precision. If you wish to review your current use, check the release note link for additional information.\n",
      "Deprecated in NumPy 1.20; for more details and guidance: https://numpy.org/devdocs/release/1.20.0-notes.html#deprecations\n",
      "  y_encoded = np.zeros(y.shape, dtype=np.int)\n",
      "C:\\Users\\slm\\Anaconda3\\lib\\site-packages\\sklearn\\tree\\tree.py:149: DeprecationWarning: `np.int` is a deprecated alias for the builtin `int`. To silence this warning, use `int` by itself. Doing this will not modify any behavior and is safe. When replacing `np.int`, you may wish to use e.g. `np.int64` or `np.int32` to specify the precision. If you wish to review your current use, check the release note link for additional information.\n",
      "Deprecated in NumPy 1.20; for more details and guidance: https://numpy.org/devdocs/release/1.20.0-notes.html#deprecations\n",
      "  y_encoded = np.zeros(y.shape, dtype=np.int)\n",
      "C:\\Users\\slm\\Anaconda3\\lib\\site-packages\\sklearn\\tree\\tree.py:149: DeprecationWarning: `np.int` is a deprecated alias for the builtin `int`. To silence this warning, use `int` by itself. Doing this will not modify any behavior and is safe. When replacing `np.int`, you may wish to use e.g. `np.int64` or `np.int32` to specify the precision. If you wish to review your current use, check the release note link for additional information.\n",
      "Deprecated in NumPy 1.20; for more details and guidance: https://numpy.org/devdocs/release/1.20.0-notes.html#deprecations\n",
      "  y_encoded = np.zeros(y.shape, dtype=np.int)\n",
      "C:\\Users\\slm\\Anaconda3\\lib\\site-packages\\sklearn\\tree\\tree.py:149: DeprecationWarning: `np.int` is a deprecated alias for the builtin `int`. To silence this warning, use `int` by itself. Doing this will not modify any behavior and is safe. When replacing `np.int`, you may wish to use e.g. `np.int64` or `np.int32` to specify the precision. If you wish to review your current use, check the release note link for additional information.\n",
      "Deprecated in NumPy 1.20; for more details and guidance: https://numpy.org/devdocs/release/1.20.0-notes.html#deprecations\n",
      "  y_encoded = np.zeros(y.shape, dtype=np.int)\n",
      "C:\\Users\\slm\\Anaconda3\\lib\\site-packages\\sklearn\\tree\\tree.py:149: DeprecationWarning: `np.int` is a deprecated alias for the builtin `int`. To silence this warning, use `int` by itself. Doing this will not modify any behavior and is safe. When replacing `np.int`, you may wish to use e.g. `np.int64` or `np.int32` to specify the precision. If you wish to review your current use, check the release note link for additional information.\n",
      "Deprecated in NumPy 1.20; for more details and guidance: https://numpy.org/devdocs/release/1.20.0-notes.html#deprecations\n",
      "  y_encoded = np.zeros(y.shape, dtype=np.int)\n",
      "C:\\Users\\slm\\Anaconda3\\lib\\site-packages\\sklearn\\tree\\tree.py:149: DeprecationWarning: `np.int` is a deprecated alias for the builtin `int`. To silence this warning, use `int` by itself. Doing this will not modify any behavior and is safe. When replacing `np.int`, you may wish to use e.g. `np.int64` or `np.int32` to specify the precision. If you wish to review your current use, check the release note link for additional information.\n",
      "Deprecated in NumPy 1.20; for more details and guidance: https://numpy.org/devdocs/release/1.20.0-notes.html#deprecations\n",
      "  y_encoded = np.zeros(y.shape, dtype=np.int)\n",
      "C:\\Users\\slm\\Anaconda3\\lib\\site-packages\\sklearn\\tree\\tree.py:149: DeprecationWarning: `np.int` is a deprecated alias for the builtin `int`. To silence this warning, use `int` by itself. Doing this will not modify any behavior and is safe. When replacing `np.int`, you may wish to use e.g. `np.int64` or `np.int32` to specify the precision. If you wish to review your current use, check the release note link for additional information.\n",
      "Deprecated in NumPy 1.20; for more details and guidance: https://numpy.org/devdocs/release/1.20.0-notes.html#deprecations\n",
      "  y_encoded = np.zeros(y.shape, dtype=np.int)\n",
      "C:\\Users\\slm\\Anaconda3\\lib\\site-packages\\sklearn\\tree\\tree.py:149: DeprecationWarning: `np.int` is a deprecated alias for the builtin `int`. To silence this warning, use `int` by itself. Doing this will not modify any behavior and is safe. When replacing `np.int`, you may wish to use e.g. `np.int64` or `np.int32` to specify the precision. If you wish to review your current use, check the release note link for additional information.\n",
      "Deprecated in NumPy 1.20; for more details and guidance: https://numpy.org/devdocs/release/1.20.0-notes.html#deprecations\n",
      "  y_encoded = np.zeros(y.shape, dtype=np.int)\n",
      "C:\\Users\\slm\\Anaconda3\\lib\\site-packages\\sklearn\\tree\\tree.py:149: DeprecationWarning: `np.int` is a deprecated alias for the builtin `int`. To silence this warning, use `int` by itself. Doing this will not modify any behavior and is safe. When replacing `np.int`, you may wish to use e.g. `np.int64` or `np.int32` to specify the precision. If you wish to review your current use, check the release note link for additional information.\n",
      "Deprecated in NumPy 1.20; for more details and guidance: https://numpy.org/devdocs/release/1.20.0-notes.html#deprecations\n",
      "  y_encoded = np.zeros(y.shape, dtype=np.int)\n",
      "C:\\Users\\slm\\Anaconda3\\lib\\site-packages\\sklearn\\tree\\tree.py:149: DeprecationWarning: `np.int` is a deprecated alias for the builtin `int`. To silence this warning, use `int` by itself. Doing this will not modify any behavior and is safe. When replacing `np.int`, you may wish to use e.g. `np.int64` or `np.int32` to specify the precision. If you wish to review your current use, check the release note link for additional information.\n",
      "Deprecated in NumPy 1.20; for more details and guidance: https://numpy.org/devdocs/release/1.20.0-notes.html#deprecations\n",
      "  y_encoded = np.zeros(y.shape, dtype=np.int)\n",
      "C:\\Users\\slm\\Anaconda3\\lib\\site-packages\\sklearn\\tree\\tree.py:149: DeprecationWarning: `np.int` is a deprecated alias for the builtin `int`. To silence this warning, use `int` by itself. Doing this will not modify any behavior and is safe. When replacing `np.int`, you may wish to use e.g. `np.int64` or `np.int32` to specify the precision. If you wish to review your current use, check the release note link for additional information.\n",
      "Deprecated in NumPy 1.20; for more details and guidance: https://numpy.org/devdocs/release/1.20.0-notes.html#deprecations\n",
      "  y_encoded = np.zeros(y.shape, dtype=np.int)\n",
      "C:\\Users\\slm\\Anaconda3\\lib\\site-packages\\sklearn\\tree\\tree.py:149: DeprecationWarning: `np.int` is a deprecated alias for the builtin `int`. To silence this warning, use `int` by itself. Doing this will not modify any behavior and is safe. When replacing `np.int`, you may wish to use e.g. `np.int64` or `np.int32` to specify the precision. If you wish to review your current use, check the release note link for additional information.\n",
      "Deprecated in NumPy 1.20; for more details and guidance: https://numpy.org/devdocs/release/1.20.0-notes.html#deprecations\n",
      "  y_encoded = np.zeros(y.shape, dtype=np.int)\n",
      "C:\\Users\\slm\\Anaconda3\\lib\\site-packages\\sklearn\\tree\\tree.py:149: DeprecationWarning: `np.int` is a deprecated alias for the builtin `int`. To silence this warning, use `int` by itself. Doing this will not modify any behavior and is safe. When replacing `np.int`, you may wish to use e.g. `np.int64` or `np.int32` to specify the precision. If you wish to review your current use, check the release note link for additional information.\n",
      "Deprecated in NumPy 1.20; for more details and guidance: https://numpy.org/devdocs/release/1.20.0-notes.html#deprecations\n",
      "  y_encoded = np.zeros(y.shape, dtype=np.int)\n",
      "C:\\Users\\slm\\Anaconda3\\lib\\site-packages\\sklearn\\tree\\tree.py:149: DeprecationWarning: `np.int` is a deprecated alias for the builtin `int`. To silence this warning, use `int` by itself. Doing this will not modify any behavior and is safe. When replacing `np.int`, you may wish to use e.g. `np.int64` or `np.int32` to specify the precision. If you wish to review your current use, check the release note link for additional information.\n",
      "Deprecated in NumPy 1.20; for more details and guidance: https://numpy.org/devdocs/release/1.20.0-notes.html#deprecations\n",
      "  y_encoded = np.zeros(y.shape, dtype=np.int)\n",
      "C:\\Users\\slm\\Anaconda3\\lib\\site-packages\\sklearn\\tree\\tree.py:149: DeprecationWarning: `np.int` is a deprecated alias for the builtin `int`. To silence this warning, use `int` by itself. Doing this will not modify any behavior and is safe. When replacing `np.int`, you may wish to use e.g. `np.int64` or `np.int32` to specify the precision. If you wish to review your current use, check the release note link for additional information.\n",
      "Deprecated in NumPy 1.20; for more details and guidance: https://numpy.org/devdocs/release/1.20.0-notes.html#deprecations\n",
      "  y_encoded = np.zeros(y.shape, dtype=np.int)\n",
      "C:\\Users\\slm\\Anaconda3\\lib\\site-packages\\sklearn\\tree\\tree.py:149: DeprecationWarning: `np.int` is a deprecated alias for the builtin `int`. To silence this warning, use `int` by itself. Doing this will not modify any behavior and is safe. When replacing `np.int`, you may wish to use e.g. `np.int64` or `np.int32` to specify the precision. If you wish to review your current use, check the release note link for additional information.\n",
      "Deprecated in NumPy 1.20; for more details and guidance: https://numpy.org/devdocs/release/1.20.0-notes.html#deprecations\n",
      "  y_encoded = np.zeros(y.shape, dtype=np.int)\n",
      "C:\\Users\\slm\\Anaconda3\\lib\\site-packages\\sklearn\\tree\\tree.py:149: DeprecationWarning: `np.int` is a deprecated alias for the builtin `int`. To silence this warning, use `int` by itself. Doing this will not modify any behavior and is safe. When replacing `np.int`, you may wish to use e.g. `np.int64` or `np.int32` to specify the precision. If you wish to review your current use, check the release note link for additional information.\n",
      "Deprecated in NumPy 1.20; for more details and guidance: https://numpy.org/devdocs/release/1.20.0-notes.html#deprecations\n",
      "  y_encoded = np.zeros(y.shape, dtype=np.int)\n",
      "C:\\Users\\slm\\Anaconda3\\lib\\site-packages\\sklearn\\tree\\tree.py:149: DeprecationWarning: `np.int` is a deprecated alias for the builtin `int`. To silence this warning, use `int` by itself. Doing this will not modify any behavior and is safe. When replacing `np.int`, you may wish to use e.g. `np.int64` or `np.int32` to specify the precision. If you wish to review your current use, check the release note link for additional information.\n",
      "Deprecated in NumPy 1.20; for more details and guidance: https://numpy.org/devdocs/release/1.20.0-notes.html#deprecations\n",
      "  y_encoded = np.zeros(y.shape, dtype=np.int)\n",
      "C:\\Users\\slm\\Anaconda3\\lib\\site-packages\\sklearn\\tree\\tree.py:149: DeprecationWarning: `np.int` is a deprecated alias for the builtin `int`. To silence this warning, use `int` by itself. Doing this will not modify any behavior and is safe. When replacing `np.int`, you may wish to use e.g. `np.int64` or `np.int32` to specify the precision. If you wish to review your current use, check the release note link for additional information.\n",
      "Deprecated in NumPy 1.20; for more details and guidance: https://numpy.org/devdocs/release/1.20.0-notes.html#deprecations\n",
      "  y_encoded = np.zeros(y.shape, dtype=np.int)\n",
      "C:\\Users\\slm\\Anaconda3\\lib\\site-packages\\sklearn\\tree\\tree.py:149: DeprecationWarning: `np.int` is a deprecated alias for the builtin `int`. To silence this warning, use `int` by itself. Doing this will not modify any behavior and is safe. When replacing `np.int`, you may wish to use e.g. `np.int64` or `np.int32` to specify the precision. If you wish to review your current use, check the release note link for additional information.\n",
      "Deprecated in NumPy 1.20; for more details and guidance: https://numpy.org/devdocs/release/1.20.0-notes.html#deprecations\n",
      "  y_encoded = np.zeros(y.shape, dtype=np.int)\n",
      "C:\\Users\\slm\\Anaconda3\\lib\\site-packages\\sklearn\\tree\\tree.py:149: DeprecationWarning: `np.int` is a deprecated alias for the builtin `int`. To silence this warning, use `int` by itself. Doing this will not modify any behavior and is safe. When replacing `np.int`, you may wish to use e.g. `np.int64` or `np.int32` to specify the precision. If you wish to review your current use, check the release note link for additional information.\n",
      "Deprecated in NumPy 1.20; for more details and guidance: https://numpy.org/devdocs/release/1.20.0-notes.html#deprecations\n",
      "  y_encoded = np.zeros(y.shape, dtype=np.int)\n",
      "C:\\Users\\slm\\Anaconda3\\lib\\site-packages\\sklearn\\tree\\tree.py:149: DeprecationWarning: `np.int` is a deprecated alias for the builtin `int`. To silence this warning, use `int` by itself. Doing this will not modify any behavior and is safe. When replacing `np.int`, you may wish to use e.g. `np.int64` or `np.int32` to specify the precision. If you wish to review your current use, check the release note link for additional information.\n",
      "Deprecated in NumPy 1.20; for more details and guidance: https://numpy.org/devdocs/release/1.20.0-notes.html#deprecations\n",
      "  y_encoded = np.zeros(y.shape, dtype=np.int)\n",
      "C:\\Users\\slm\\Anaconda3\\lib\\site-packages\\sklearn\\tree\\tree.py:149: DeprecationWarning: `np.int` is a deprecated alias for the builtin `int`. To silence this warning, use `int` by itself. Doing this will not modify any behavior and is safe. When replacing `np.int`, you may wish to use e.g. `np.int64` or `np.int32` to specify the precision. If you wish to review your current use, check the release note link for additional information.\n",
      "Deprecated in NumPy 1.20; for more details and guidance: https://numpy.org/devdocs/release/1.20.0-notes.html#deprecations\n",
      "  y_encoded = np.zeros(y.shape, dtype=np.int)\n",
      "C:\\Users\\slm\\Anaconda3\\lib\\site-packages\\sklearn\\tree\\tree.py:149: DeprecationWarning: `np.int` is a deprecated alias for the builtin `int`. To silence this warning, use `int` by itself. Doing this will not modify any behavior and is safe. When replacing `np.int`, you may wish to use e.g. `np.int64` or `np.int32` to specify the precision. If you wish to review your current use, check the release note link for additional information.\n",
      "Deprecated in NumPy 1.20; for more details and guidance: https://numpy.org/devdocs/release/1.20.0-notes.html#deprecations\n",
      "  y_encoded = np.zeros(y.shape, dtype=np.int)\n",
      "C:\\Users\\slm\\Anaconda3\\lib\\site-packages\\sklearn\\tree\\tree.py:149: DeprecationWarning: `np.int` is a deprecated alias for the builtin `int`. To silence this warning, use `int` by itself. Doing this will not modify any behavior and is safe. When replacing `np.int`, you may wish to use e.g. `np.int64` or `np.int32` to specify the precision. If you wish to review your current use, check the release note link for additional information.\n",
      "Deprecated in NumPy 1.20; for more details and guidance: https://numpy.org/devdocs/release/1.20.0-notes.html#deprecations\n",
      "  y_encoded = np.zeros(y.shape, dtype=np.int)\n",
      "C:\\Users\\slm\\Anaconda3\\lib\\site-packages\\sklearn\\tree\\tree.py:149: DeprecationWarning: `np.int` is a deprecated alias for the builtin `int`. To silence this warning, use `int` by itself. Doing this will not modify any behavior and is safe. When replacing `np.int`, you may wish to use e.g. `np.int64` or `np.int32` to specify the precision. If you wish to review your current use, check the release note link for additional information.\n",
      "Deprecated in NumPy 1.20; for more details and guidance: https://numpy.org/devdocs/release/1.20.0-notes.html#deprecations\n",
      "  y_encoded = np.zeros(y.shape, dtype=np.int)\n",
      "C:\\Users\\slm\\Anaconda3\\lib\\site-packages\\sklearn\\tree\\tree.py:149: DeprecationWarning: `np.int` is a deprecated alias for the builtin `int`. To silence this warning, use `int` by itself. Doing this will not modify any behavior and is safe. When replacing `np.int`, you may wish to use e.g. `np.int64` or `np.int32` to specify the precision. If you wish to review your current use, check the release note link for additional information.\n",
      "Deprecated in NumPy 1.20; for more details and guidance: https://numpy.org/devdocs/release/1.20.0-notes.html#deprecations\n",
      "  y_encoded = np.zeros(y.shape, dtype=np.int)\n",
      "C:\\Users\\slm\\Anaconda3\\lib\\site-packages\\sklearn\\tree\\tree.py:149: DeprecationWarning: `np.int` is a deprecated alias for the builtin `int`. To silence this warning, use `int` by itself. Doing this will not modify any behavior and is safe. When replacing `np.int`, you may wish to use e.g. `np.int64` or `np.int32` to specify the precision. If you wish to review your current use, check the release note link for additional information.\n",
      "Deprecated in NumPy 1.20; for more details and guidance: https://numpy.org/devdocs/release/1.20.0-notes.html#deprecations\n",
      "  y_encoded = np.zeros(y.shape, dtype=np.int)\n",
      "C:\\Users\\slm\\Anaconda3\\lib\\site-packages\\sklearn\\tree\\tree.py:149: DeprecationWarning: `np.int` is a deprecated alias for the builtin `int`. To silence this warning, use `int` by itself. Doing this will not modify any behavior and is safe. When replacing `np.int`, you may wish to use e.g. `np.int64` or `np.int32` to specify the precision. If you wish to review your current use, check the release note link for additional information.\n",
      "Deprecated in NumPy 1.20; for more details and guidance: https://numpy.org/devdocs/release/1.20.0-notes.html#deprecations\n",
      "  y_encoded = np.zeros(y.shape, dtype=np.int)\n",
      "C:\\Users\\slm\\Anaconda3\\lib\\site-packages\\sklearn\\tree\\tree.py:149: DeprecationWarning: `np.int` is a deprecated alias for the builtin `int`. To silence this warning, use `int` by itself. Doing this will not modify any behavior and is safe. When replacing `np.int`, you may wish to use e.g. `np.int64` or `np.int32` to specify the precision. If you wish to review your current use, check the release note link for additional information.\n",
      "Deprecated in NumPy 1.20; for more details and guidance: https://numpy.org/devdocs/release/1.20.0-notes.html#deprecations\n",
      "  y_encoded = np.zeros(y.shape, dtype=np.int)\n",
      "C:\\Users\\slm\\Anaconda3\\lib\\site-packages\\sklearn\\tree\\tree.py:149: DeprecationWarning: `np.int` is a deprecated alias for the builtin `int`. To silence this warning, use `int` by itself. Doing this will not modify any behavior and is safe. When replacing `np.int`, you may wish to use e.g. `np.int64` or `np.int32` to specify the precision. If you wish to review your current use, check the release note link for additional information.\n",
      "Deprecated in NumPy 1.20; for more details and guidance: https://numpy.org/devdocs/release/1.20.0-notes.html#deprecations\n",
      "  y_encoded = np.zeros(y.shape, dtype=np.int)\n",
      "C:\\Users\\slm\\Anaconda3\\lib\\site-packages\\sklearn\\tree\\tree.py:149: DeprecationWarning: `np.int` is a deprecated alias for the builtin `int`. To silence this warning, use `int` by itself. Doing this will not modify any behavior and is safe. When replacing `np.int`, you may wish to use e.g. `np.int64` or `np.int32` to specify the precision. If you wish to review your current use, check the release note link for additional information.\n",
      "Deprecated in NumPy 1.20; for more details and guidance: https://numpy.org/devdocs/release/1.20.0-notes.html#deprecations\n",
      "  y_encoded = np.zeros(y.shape, dtype=np.int)\n",
      "C:\\Users\\slm\\Anaconda3\\lib\\site-packages\\sklearn\\tree\\tree.py:149: DeprecationWarning: `np.int` is a deprecated alias for the builtin `int`. To silence this warning, use `int` by itself. Doing this will not modify any behavior and is safe. When replacing `np.int`, you may wish to use e.g. `np.int64` or `np.int32` to specify the precision. If you wish to review your current use, check the release note link for additional information.\n",
      "Deprecated in NumPy 1.20; for more details and guidance: https://numpy.org/devdocs/release/1.20.0-notes.html#deprecations\n",
      "  y_encoded = np.zeros(y.shape, dtype=np.int)\n",
      "C:\\Users\\slm\\Anaconda3\\lib\\site-packages\\sklearn\\tree\\tree.py:149: DeprecationWarning: `np.int` is a deprecated alias for the builtin `int`. To silence this warning, use `int` by itself. Doing this will not modify any behavior and is safe. When replacing `np.int`, you may wish to use e.g. `np.int64` or `np.int32` to specify the precision. If you wish to review your current use, check the release note link for additional information.\n",
      "Deprecated in NumPy 1.20; for more details and guidance: https://numpy.org/devdocs/release/1.20.0-notes.html#deprecations\n",
      "  y_encoded = np.zeros(y.shape, dtype=np.int)\n",
      "C:\\Users\\slm\\Anaconda3\\lib\\site-packages\\sklearn\\tree\\tree.py:149: DeprecationWarning: `np.int` is a deprecated alias for the builtin `int`. To silence this warning, use `int` by itself. Doing this will not modify any behavior and is safe. When replacing `np.int`, you may wish to use e.g. `np.int64` or `np.int32` to specify the precision. If you wish to review your current use, check the release note link for additional information.\n",
      "Deprecated in NumPy 1.20; for more details and guidance: https://numpy.org/devdocs/release/1.20.0-notes.html#deprecations\n",
      "  y_encoded = np.zeros(y.shape, dtype=np.int)\n",
      "C:\\Users\\slm\\Anaconda3\\lib\\site-packages\\sklearn\\tree\\tree.py:149: DeprecationWarning: `np.int` is a deprecated alias for the builtin `int`. To silence this warning, use `int` by itself. Doing this will not modify any behavior and is safe. When replacing `np.int`, you may wish to use e.g. `np.int64` or `np.int32` to specify the precision. If you wish to review your current use, check the release note link for additional information.\n",
      "Deprecated in NumPy 1.20; for more details and guidance: https://numpy.org/devdocs/release/1.20.0-notes.html#deprecations\n",
      "  y_encoded = np.zeros(y.shape, dtype=np.int)\n",
      "C:\\Users\\slm\\Anaconda3\\lib\\site-packages\\sklearn\\tree\\tree.py:149: DeprecationWarning: `np.int` is a deprecated alias for the builtin `int`. To silence this warning, use `int` by itself. Doing this will not modify any behavior and is safe. When replacing `np.int`, you may wish to use e.g. `np.int64` or `np.int32` to specify the precision. If you wish to review your current use, check the release note link for additional information.\n",
      "Deprecated in NumPy 1.20; for more details and guidance: https://numpy.org/devdocs/release/1.20.0-notes.html#deprecations\n",
      "  y_encoded = np.zeros(y.shape, dtype=np.int)\n",
      "C:\\Users\\slm\\Anaconda3\\lib\\site-packages\\sklearn\\tree\\tree.py:149: DeprecationWarning: `np.int` is a deprecated alias for the builtin `int`. To silence this warning, use `int` by itself. Doing this will not modify any behavior and is safe. When replacing `np.int`, you may wish to use e.g. `np.int64` or `np.int32` to specify the precision. If you wish to review your current use, check the release note link for additional information.\n",
      "Deprecated in NumPy 1.20; for more details and guidance: https://numpy.org/devdocs/release/1.20.0-notes.html#deprecations\n",
      "  y_encoded = np.zeros(y.shape, dtype=np.int)\n",
      "C:\\Users\\slm\\Anaconda3\\lib\\site-packages\\sklearn\\tree\\tree.py:149: DeprecationWarning: `np.int` is a deprecated alias for the builtin `int`. To silence this warning, use `int` by itself. Doing this will not modify any behavior and is safe. When replacing `np.int`, you may wish to use e.g. `np.int64` or `np.int32` to specify the precision. If you wish to review your current use, check the release note link for additional information.\n",
      "Deprecated in NumPy 1.20; for more details and guidance: https://numpy.org/devdocs/release/1.20.0-notes.html#deprecations\n",
      "  y_encoded = np.zeros(y.shape, dtype=np.int)\n",
      "C:\\Users\\slm\\Anaconda3\\lib\\site-packages\\sklearn\\tree\\tree.py:149: DeprecationWarning: `np.int` is a deprecated alias for the builtin `int`. To silence this warning, use `int` by itself. Doing this will not modify any behavior and is safe. When replacing `np.int`, you may wish to use e.g. `np.int64` or `np.int32` to specify the precision. If you wish to review your current use, check the release note link for additional information.\n",
      "Deprecated in NumPy 1.20; for more details and guidance: https://numpy.org/devdocs/release/1.20.0-notes.html#deprecations\n",
      "  y_encoded = np.zeros(y.shape, dtype=np.int)\n"
     ]
    }
   ],
   "source": [
    "nada = AdaBoostClassifier().fit(Xn_train, yn_train)\n",
    "nada_p = nada.predict(Xn_test)\n",
    "print(\"AdaBoost Classifier report for selected genes: \\n\\n\", classification_report(yn_test, nada_p))"
   ]
  },
  {
   "cell_type": "markdown",
   "metadata": {},
   "source": [
    "### Quadratic Discriminant Analysis (QDA)"
   ]
  },
  {
   "cell_type": "code",
   "execution_count": 756,
   "metadata": {},
   "outputs": [
    {
     "name": "stdout",
     "output_type": "stream",
     "text": [
      "QDA report: \n",
      "\n",
      "               precision    recall  f1-score   support\n",
      "\n",
      "         0.0       0.33      0.36      0.34        14\n",
      "         1.0       0.47      0.44      0.46        18\n",
      "\n",
      "   micro avg       0.41      0.41      0.41        32\n",
      "   macro avg       0.40      0.40      0.40        32\n",
      "weighted avg       0.41      0.41      0.41        32\n",
      "\n"
     ]
    },
    {
     "name": "stderr",
     "output_type": "stream",
     "text": [
      "C:\\Users\\slm\\Anaconda3\\lib\\site-packages\\sklearn\\discriminant_analysis.py:692: UserWarning: Variables are collinear\n",
      "  warnings.warn(\"Variables are collinear\")\n",
      "C:\\Users\\slm\\Anaconda3\\lib\\site-packages\\sklearn\\discriminant_analysis.py:692: UserWarning: Variables are collinear\n",
      "  warnings.warn(\"Variables are collinear\")\n"
     ]
    }
   ],
   "source": [
    "qda = QuadraticDiscriminantAnalysis().fit(X_train, y_train)\n",
    "qda_p = qda.predict(X_test)\n",
    "print(\"QDA report: \\n\\n\", classification_report(y_test, qda_p))"
   ]
  },
  {
   "cell_type": "code",
   "execution_count": 757,
   "metadata": {},
   "outputs": [
    {
     "name": "stdout",
     "output_type": "stream",
     "text": [
      "QDA report for selected genes: \n",
      "\n",
      "               precision    recall  f1-score   support\n",
      "\n",
      "         0.0       0.53      0.71      0.61        14\n",
      "         1.0       0.69      0.50      0.58        18\n",
      "\n",
      "   micro avg       0.59      0.59      0.59        32\n",
      "   macro avg       0.61      0.61      0.59        32\n",
      "weighted avg       0.62      0.59      0.59        32\n",
      "\n"
     ]
    }
   ],
   "source": [
    "nqda = QuadraticDiscriminantAnalysis().fit(Xn_train, yn_train)\n",
    "nqda_p = nqda.predict(Xn_test)\n",
    "print(\"QDA report for selected genes: \\n\\n\", classification_report(yn_test, nqda_p))"
   ]
  },
  {
   "cell_type": "code",
   "execution_count": null,
   "metadata": {},
   "outputs": [],
   "source": []
  }
 ],
 "metadata": {
  "kernelspec": {
   "display_name": "Python 3",
   "language": "python",
   "name": "python3"
  },
  "language_info": {
   "codemirror_mode": {
    "name": "ipython",
    "version": 3
   },
   "file_extension": ".py",
   "mimetype": "text/x-python",
   "name": "python",
   "nbconvert_exporter": "python",
   "pygments_lexer": "ipython3",
   "version": "3.7.3"
  }
 },
 "nbformat": 4,
 "nbformat_minor": 2
}
